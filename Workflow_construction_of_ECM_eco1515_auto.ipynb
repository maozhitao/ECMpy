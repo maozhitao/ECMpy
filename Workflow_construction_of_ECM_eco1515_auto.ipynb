{
 "cells": [
  {
   "cell_type": "markdown",
   "metadata": {},
   "source": [
    "# Import related pacakages"
   ]
  },
  {
   "cell_type": "code",
   "execution_count": 1,
   "metadata": {},
   "outputs": [],
   "source": [
    "import cobra\n",
    "import sys\n",
    "sys.path.append(r'./code/')\n",
    "from cobrapy_ec_model_function import *"
   ]
  },
  {
   "cell_type": "markdown",
   "metadata": {},
   "source": [
    "# Inputing files"
   ]
  },
  {
   "cell_type": "code",
   "execution_count": 2,
   "metadata": {},
   "outputs": [],
   "source": [
    "# The genome-scale metabolic model for constructing the enzyme-constrained model\n",
    "model_name = './data/iML1515.xml' \n",
    "\n",
    "# Reaction-kcat file.#s-1\n",
    "# eg. AADDGT,49389.2889\n",
    "reaction_kcat_file = \"./data/reaction_kappori.csv\"\n",
    "\n",
    "# Gene-abundance file. \n",
    "# eg. b0789,1.1\n",
    "gene_abundance_file = \"./data/gene_abundance.csv\"\n",
    "\n",
    "# Gene-molecular_weight file. \n",
    "# eg. b0001,thrL,2.13846\n",
    "gene_molecular_weight_file = \"./data/gene_molecular_weight.csv\"\n"
   ]
  },
  {
   "cell_type": "markdown",
   "metadata": {},
   "source": [
    "# Step1: Preprocessing of model"
   ]
  },
  {
   "cell_type": "markdown",
   "metadata": {},
   "source": [
    "The reversible reactions in the GEM model are divided into two irreversible reactions. The input is iML1515 with 2712 reactions. The output is a model with 3375 irreversible reactions."
   ]
  },
  {
   "cell_type": "code",
   "execution_count": 3,
   "metadata": {},
   "outputs": [
    {
     "output_type": "execute_result",
     "data": {
      "text/plain": [
       "<Model iML1515 at 0x1ac5a207940>"
      ],
      "text/html": "\n        <table>\n            <tr>\n                <td><strong>Name</strong></td>\n                <td>iML1515</td>\n            </tr><tr>\n                <td><strong>Memory address</strong></td>\n                <td>0x01ac5a207940</td>\n            </tr><tr>\n                <td><strong>Number of metabolites</strong></td>\n                <td>1877</td>\n            </tr><tr>\n                <td><strong>Number of reactions</strong></td>\n                <td>3375</td>\n            </tr><tr>\n                <td><strong>Number of groups</strong></td>\n                <td>38</td>\n            </tr><tr>\n                <td><strong>Objective expression</strong></td>\n                <td>1.0*BIOMASS_Ec_iML1515_core_75p37M - 1.0*BIOMASS_Ec_iML1515_core_75p37M_reverse_35685</td>\n            </tr><tr>\n                <td><strong>Compartments</strong></td>\n                <td>cytosol, extracellular space, periplasm</td>\n            </tr>\n          </table>"
     },
     "metadata": {},
     "execution_count": 3
    }
   ],
   "source": [
    "model = cobra.io.read_sbml_model(model_name)\n",
    "convert_to_irreversible(model)\n",
    "model"
   ]
  },
  {
   "cell_type": "markdown",
   "metadata": {},
   "source": [
    "# Step2: Retrieving enzyme kinetics and proteomics data"
   ]
  },
  {
   "cell_type": "markdown",
   "metadata": {},
   "source": [
    "The inputs are GEM model. The outputs are 'genes' and 'gpr_relationship' data in the iML1515."
   ]
  },
  {
   "cell_type": "code",
   "execution_count": 4,
   "metadata": {},
   "outputs": [],
   "source": [
    "[genes,gpr_relationship] = get_genes_and_gpr(model)"
   ]
  },
  {
   "cell_type": "markdown",
   "metadata": {},
   "source": [
    "Get the molecular weight of the enzyme (MW) according to the file of all_reaction_GPR.csv, which obtained from the previous step (gpr_relationship, ./analysis/all_reaction_GPR.csv). We need to manually correct the error of the gene_reaction_rule of a small amount of reactions in iML1515 (See Supplementary Table S1 for details), and also need to manually get the subunit of each protein from EcoCyc."
   ]
  },
  {
   "cell_type": "code",
   "execution_count": 5,
   "metadata": {},
   "outputs": [],
   "source": [
    "# reaction-gene-subunit-MW file. \n",
    "# eg. ALATA_D2,D-alanine transaminase,b2551 or b0870,45.31659 or 36.49471 ,2 or 4 \n",
    "reaction_gene_subunit_MW = \"./data/reaction_gene_subunit_MW.csv\"\n",
    "reaction_mw = calculate_reaction_mw(reaction_gene_subunit_MW)"
   ]
  },
  {
   "cell_type": "markdown",
   "metadata": {},
   "source": [
    "Calculate kcat/MW. The inputs are 'reaction_kcat' and 'reaction_MW' data for calculating the kcat/MW (When the reaction is catalyzed by several isozymes, the maximum is retained)."
   ]
  },
  {
   "cell_type": "code",
   "execution_count": 6,
   "metadata": {},
   "outputs": [],
   "source": [
    "save_file=\"./analysis/reaction_kcat_mw.csv\"\n",
    "reaction_kcat_mw = calculate_reaction_kcat_mw(reaction_kcat_file, reaction_mw, save_file)"
   ]
  },
  {
   "cell_type": "markdown",
   "metadata": {},
   "source": [
    "Calculate f. The input is 'genes' data, 'gene_abundance.csv' and 'gene_molecular_weight.csv'."
   ]
  },
  {
   "cell_type": "code",
   "execution_count": 7,
   "metadata": {
    "tags": []
   },
   "outputs": [
    {
     "output_type": "execute_result",
     "data": {
      "text/plain": [
       "0.4059986079578236"
      ]
     },
     "metadata": {},
     "execution_count": 7
    }
   ],
   "source": [
    "f = calculate_f(genes, gene_abundance_file, gene_molecular_weight_file)\n",
    "f"
   ]
  },
  {
   "cell_type": "markdown",
   "metadata": {},
   "source": [
    "# Step3: Save enzyme concentration constraint model as json file."
   ]
  },
  {
   "cell_type": "code",
   "execution_count": 22,
   "metadata": {},
   "outputs": [],
   "source": [
    "model_file = './data/iML1515.xml' \n",
    "reaction_kcat_mw_file=\"./analysis/reaction_kcat_mw.csv\"\n",
    "json_output_file=\"./model/iML1515_irr_enz_constraint_kapp.json\"\n",
    "#The enzyme mass fraction \n",
    "f = 0.406\n",
    "# The total protein fraction in cell.\n",
    "ptot = 0.56 \n",
    "# The approximated average saturation of enzyme.\n",
    "#sigma = 0.5 \n",
    "sigma = 1 #kapp data sigma is 1\n",
    "# Lowerbound  of enzyme concentration constraint. \n",
    "lowerbound = 0   \n",
    "upperbound = round(ptot * f * sigma, 3)\n",
    "\n",
    "trans_model2enz_json_model(model_file, reaction_kcat_mw_file, f, ptot, sigma, lowerbound, upperbound, json_output_file)"
   ]
  },
  {
   "source": [
    "# Step4: Calibration parameters"
   ],
   "cell_type": "markdown",
   "metadata": {}
  },
  {
   "source": [
    "Compare with C13 data"
   ],
   "cell_type": "markdown",
   "metadata": {}
  },
  {
   "cell_type": "code",
   "execution_count": 23,
   "metadata": {},
   "outputs": [
    {
     "output_type": "stream",
     "name": "stdout",
     "text": [
      "0.4191429334139575\n"
     ]
    }
   ],
   "source": [
    "json_model_path = \"./model/iML1515_irr_enz_constraint_kapp.json\"\n",
    "fluxes_outfile = './analysis/ECMpy_kappori_solution_df_pfba.csv'\n",
    "enz_model=get_enzyme_constraint_model(json_model_path)\n",
    "enz_model_pfba_solution = get_fluxes_detail_in_model(enz_model,fluxes_outfile)\n",
    "print(enz_model_pfba_solution.fluxes['BIOMASS_Ec_iML1515_core_75p37M'])\n"
   ]
  },
  {
   "cell_type": "code",
   "execution_count": 24,
   "metadata": {},
   "outputs": [
    {
     "output_type": "stream",
     "name": "stdout",
     "text": [
      "['ICL', 'PTAr', 'AKGDH', 'MALS', 'PDH', 'ME2', 'SUCOAS_reverse', 'ACKr_reverse', 'SUCDi']\n"
     ]
    }
   ],
   "source": [
    "c13reaction_file = './data/C13reaction.csv' \n",
    "c13reaction = pd.read_csv(c13reaction_file, index_col=0)\n",
    "c13reaction = list(c13reaction.index)\n",
    "\n",
    "enz_model_pfba_solution_select = enz_model_pfba_solution[enz_model_pfba_solution['fluxes']>0]\n",
    "enz_model_pfba_solution_select_id = list(enz_model_pfba_solution_select.index)\n",
    "c13reaction_2_enz_model_diff=list(set(c13reaction).difference(set(enz_model_pfba_solution_select_id)))\n",
    "print (c13reaction_2_enz_model_diff)"
   ]
  },
  {
   "source": [
    "Calibration kcat according Enzyme usage "
   ],
   "cell_type": "markdown",
   "metadata": {}
  },
  {
   "cell_type": "code",
   "execution_count": 27,
   "metadata": {},
   "outputs": [
    {
     "output_type": "execute_result",
     "data": {
      "text/plain": [
       "38"
      ]
     },
     "metadata": {},
     "execution_count": 27
    }
   ],
   "source": [
    "len(c13reaction)"
   ]
  },
  {
   "cell_type": "code",
   "execution_count": 30,
   "metadata": {},
   "outputs": [
    {
     "output_type": "stream",
     "name": "stdout",
     "text": [
      "model original biomass :\n",
      "0.4191429334139575\n",
      "['ICL', 'PTAr', 'AKGDH', 'MALS', 'PDH', 'ME2', 'SUCOAS_reverse', 'ACKr_reverse', 'SUCDi']\n",
      "1\n",
      "PGI\n",
      "0.4247972025156424\n",
      "C13 reaction diff :\n",
      "['ICL', 'AKGDH', 'MALS', 'PDH', 'ME2', 'SUCOAS_reverse', 'SUCDi']\n",
      "changed reaction list :\n",
      "['PGI']\n",
      "2\n",
      "PFK\n",
      "0.4247972025156424\n",
      "C13 reaction diff :\n",
      "['ICL', 'AKGDH', 'MALS', 'PDH', 'ME2', 'SUCOAS_reverse', 'SUCDi']\n",
      "changed reaction list :\n",
      "['PGI', 'PFK']\n",
      "3\n",
      "FBA\n",
      "0.4398888585784848\n",
      "C13 reaction diff :\n",
      "['ICL', 'AKGDH', 'MALS', 'PDH', 'ME2', 'SUCOAS_reverse', 'SUCDi']\n",
      "changed reaction list :\n",
      "['PGI', 'PFK', 'FBA']\n",
      "4\n",
      "TPI\n",
      "0.44287829290112285\n",
      "C13 reaction diff :\n",
      "['ICL', 'AKGDH', 'MALS', 'PDH', 'ME2', 'SUCOAS_reverse', 'SUCDi']\n",
      "changed reaction list :\n",
      "['PGI', 'PFK', 'FBA', 'TPI']\n",
      "5\n",
      "GAPD\n",
      "0.47834528435815915\n",
      "C13 reaction diff :\n",
      "['ICL', 'AKGDH', 'MALS', 'PDH', 'ME2', 'SUCOAS_reverse', 'SUCDi']\n",
      "changed reaction list :\n",
      "['PGI', 'PFK', 'FBA', 'TPI', 'GAPD']\n",
      "6\n",
      "PGK_reverse\n",
      "0.4861574416120893\n",
      "C13 reaction diff :\n",
      "['ICL', 'AKGDH', 'MALS', 'PDH', 'ME2', 'SUCOAS_reverse', 'SUCDi']\n",
      "changed reaction list :\n",
      "['PGI', 'PFK', 'FBA', 'TPI', 'GAPD', 'PGK_reverse']\n",
      "7\n",
      "PGM_reverse\n",
      "0.4911136574007817\n",
      "C13 reaction diff :\n",
      "['ICL', 'AKGDH', 'MALS', 'PDH', 'ME2', 'SUCOAS_reverse', 'SUCDi']\n",
      "changed reaction list :\n",
      "['PGI', 'PFK', 'FBA', 'TPI', 'GAPD', 'PGK_reverse', 'PGM_reverse']\n",
      "8\n",
      "ENO\n",
      "0.5114104450479892\n",
      "C13 reaction diff :\n",
      "['ICL', 'AKGDH', 'MALS', 'PDH', 'ME2', 'SUCOAS_reverse', 'SUCDi']\n",
      "changed reaction list :\n",
      "['PGI', 'PFK', 'FBA', 'TPI', 'GAPD', 'PGK_reverse', 'PGM_reverse', 'ENO']\n",
      "9\n",
      "PYK\n",
      "0.5145688690080664\n",
      "C13 reaction diff :\n",
      "['ICL', 'AKGDH', 'MALS', 'PDH', 'ME2', 'SUCOAS_reverse', 'SUCDi']\n",
      "changed reaction list :\n",
      "['PGI', 'PFK', 'FBA', 'TPI', 'GAPD', 'PGK_reverse', 'PGM_reverse', 'ENO', 'PYK']\n",
      "10\n",
      "G6PDH2r\n",
      "0.5149272746304638\n",
      "C13 reaction diff :\n",
      "['ICL', 'AKGDH', 'MALS', 'PDH', 'ME2', 'SUCOAS_reverse', 'SUCDi']\n",
      "changed reaction list :\n",
      "['PGI', 'PFK', 'FBA', 'TPI', 'GAPD', 'PGK_reverse', 'PGM_reverse', 'ENO', 'PYK', 'G6PDH2r']\n",
      "11\n",
      "PGL\n",
      "0.5149272746304638\n",
      "C13 reaction diff :\n",
      "['ICL', 'AKGDH', 'MALS', 'PDH', 'ME2', 'SUCOAS_reverse', 'SUCDi']\n",
      "changed reaction list :\n",
      "['PGI', 'PFK', 'FBA', 'TPI', 'GAPD', 'PGK_reverse', 'PGM_reverse', 'ENO', 'PYK', 'G6PDH2r', 'PGL']\n",
      "12\n",
      "GND\n",
      "0.5209697656679454\n",
      "C13 reaction diff :\n",
      "['ICL', 'AKGDH', 'MALS', 'PDH', 'ME2', 'SUCOAS_reverse', 'SUCDi']\n",
      "changed reaction list :\n",
      "['PGI', 'PFK', 'FBA', 'TPI', 'GAPD', 'PGK_reverse', 'PGM_reverse', 'ENO', 'PYK', 'G6PDH2r', 'PGL', 'GND']\n",
      "13\n",
      "RPE\n",
      "0.5219127314391493\n",
      "C13 reaction diff :\n",
      "['ICL', 'AKGDH', 'MALS', 'PDH', 'ME2', 'SUCOAS_reverse', 'SUCDi']\n",
      "changed reaction list :\n",
      "['PGI', 'PFK', 'FBA', 'TPI', 'GAPD', 'PGK_reverse', 'PGM_reverse', 'ENO', 'PYK', 'G6PDH2r', 'PGL', 'GND', 'RPE']\n",
      "14\n",
      "RPI_reverse\n",
      "0.5237799967411505\n",
      "C13 reaction diff :\n",
      "['ICL', 'AKGDH', 'MALS', 'PDH', 'ME2', 'SUCOAS_reverse', 'SUCDi']\n",
      "changed reaction list :\n",
      "['PGI', 'PFK', 'FBA', 'TPI', 'GAPD', 'PGK_reverse', 'PGM_reverse', 'ENO', 'PYK', 'G6PDH2r', 'PGL', 'GND', 'RPE', 'RPI_reverse']\n",
      "15\n",
      "TKT1\n",
      "0.5255904746737095\n",
      "C13 reaction diff :\n",
      "['ICL', 'AKGDH', 'MALS', 'PDH', 'ME2', 'SUCOAS_reverse', 'SUCDi']\n",
      "changed reaction list :\n",
      "['PGI', 'PFK', 'FBA', 'TPI', 'GAPD', 'PGK_reverse', 'PGM_reverse', 'ENO', 'PYK', 'G6PDH2r', 'PGL', 'GND', 'RPE', 'RPI_reverse', 'TKT1']\n",
      "16\n",
      "TKT2\n",
      "0.5255904746737095\n",
      "C13 reaction diff :\n",
      "['ICL', 'AKGDH', 'MALS', 'PDH', 'ME2', 'SUCOAS_reverse', 'SUCDi']\n",
      "changed reaction list :\n",
      "['PGI', 'PFK', 'FBA', 'TPI', 'GAPD', 'PGK_reverse', 'PGM_reverse', 'ENO', 'PYK', 'G6PDH2r', 'PGL', 'GND', 'RPE', 'RPI_reverse', 'TKT1', 'TKT2']\n",
      "17\n",
      "PDH\n",
      "0.5614168030152327\n",
      "C13 reaction diff :\n",
      "['ICL', 'AKGDH', 'MALS', 'ME2', 'SUCOAS_reverse', 'SUCDi', 'MDH']\n",
      "changed reaction list :\n",
      "['PGI', 'PFK', 'FBA', 'TPI', 'GAPD', 'PGK_reverse', 'PGM_reverse', 'ENO', 'PYK', 'G6PDH2r', 'PGL', 'GND', 'RPE', 'RPI_reverse', 'TKT1', 'TKT2', 'PDH']\n",
      "18\n",
      "PFL\n",
      "0.5614168030152327\n",
      "C13 reaction diff :\n",
      "['ICL', 'AKGDH', 'MALS', 'ME2', 'SUCOAS_reverse', 'SUCDi', 'MDH']\n",
      "changed reaction list :\n",
      "['PGI', 'PFK', 'FBA', 'TPI', 'GAPD', 'PGK_reverse', 'PGM_reverse', 'ENO', 'PYK', 'G6PDH2r', 'PGL', 'GND', 'RPE', 'RPI_reverse', 'TKT1', 'TKT2', 'PDH', 'PFL']\n",
      "19\n",
      "PTAr\n",
      "0.5625864921951735\n",
      "C13 reaction diff :\n",
      "['ICL', 'AKGDH', 'MALS', 'ME2', 'SUCOAS_reverse', 'SUCDi', 'MDH']\n",
      "changed reaction list :\n",
      "['PGI', 'PFK', 'FBA', 'TPI', 'GAPD', 'PGK_reverse', 'PGM_reverse', 'ENO', 'PYK', 'G6PDH2r', 'PGL', 'GND', 'RPE', 'RPI_reverse', 'TKT1', 'TKT2', 'PDH', 'PFL', 'PTAr']\n",
      "20\n",
      "ACKr_reverse\n",
      "0.564849039073612\n",
      "C13 reaction diff :\n",
      "['ICL', 'AKGDH', 'MALS', 'ME2', 'SUCOAS_reverse', 'SUCDi', 'MDH']\n",
      "changed reaction list :\n",
      "['PGI', 'PFK', 'FBA', 'TPI', 'GAPD', 'PGK_reverse', 'PGM_reverse', 'ENO', 'PYK', 'G6PDH2r', 'PGL', 'GND', 'RPE', 'RPI_reverse', 'TKT1', 'TKT2', 'PDH', 'PFL', 'PTAr', 'ACKr_reverse']\n",
      "21\n",
      "CS\n",
      "0.5673454764240271\n",
      "C13 reaction diff :\n",
      "['ICL', 'AKGDH', 'MALS', 'ME2', 'SUCOAS_reverse', 'SUCDi', 'MDH']\n",
      "changed reaction list :\n",
      "['PGI', 'PFK', 'FBA', 'TPI', 'GAPD', 'PGK_reverse', 'PGM_reverse', 'ENO', 'PYK', 'G6PDH2r', 'PGL', 'GND', 'RPE', 'RPI_reverse', 'TKT1', 'TKT2', 'PDH', 'PFL', 'PTAr', 'ACKr_reverse', 'CS']\n",
      "22\n",
      "ACONTa\n",
      "0.5703135658970975\n",
      "C13 reaction diff :\n",
      "['ICL', 'AKGDH', 'MALS', 'ME2', 'SUCOAS_reverse', 'SUCDi', 'MDH']\n",
      "changed reaction list :\n",
      "['PGI', 'PFK', 'FBA', 'TPI', 'GAPD', 'PGK_reverse', 'PGM_reverse', 'ENO', 'PYK', 'G6PDH2r', 'PGL', 'GND', 'RPE', 'RPI_reverse', 'TKT1', 'TKT2', 'PDH', 'PFL', 'PTAr', 'ACKr_reverse', 'CS', 'ACONTa']\n",
      "23\n",
      "ACONTb\n",
      "0.5725486620139122\n",
      "C13 reaction diff :\n",
      "['ICL', 'AKGDH', 'MALS', 'ME2', 'SUCOAS_reverse', 'SUCDi', 'MDH']\n",
      "changed reaction list :\n",
      "['PGI', 'PFK', 'FBA', 'TPI', 'GAPD', 'PGK_reverse', 'PGM_reverse', 'ENO', 'PYK', 'G6PDH2r', 'PGL', 'GND', 'RPE', 'RPI_reverse', 'TKT1', 'TKT2', 'PDH', 'PFL', 'PTAr', 'ACKr_reverse', 'CS', 'ACONTa', 'ACONTb']\n",
      "24\n",
      "ICDHyr\n",
      "0.575520345481632\n",
      "C13 reaction diff :\n",
      "['ICL', 'AKGDH', 'MALS', 'ME2', 'SUCOAS_reverse', 'SUCDi', 'MDH']\n",
      "changed reaction list :\n",
      "['PGI', 'PFK', 'FBA', 'TPI', 'GAPD', 'PGK_reverse', 'PGM_reverse', 'ENO', 'PYK', 'G6PDH2r', 'PGL', 'GND', 'RPE', 'RPI_reverse', 'TKT1', 'TKT2', 'PDH', 'PFL', 'PTAr', 'ACKr_reverse', 'CS', 'ACONTa', 'ACONTb', 'ICDHyr']\n",
      "25\n",
      "AKGDH\n",
      "0.5783510882257488\n",
      "C13 reaction diff :\n",
      "['ICL', 'MALS', 'ME2', 'SUCOAS_reverse', 'MDH']\n",
      "changed reaction list :\n",
      "['PGI', 'PFK', 'FBA', 'TPI', 'GAPD', 'PGK_reverse', 'PGM_reverse', 'ENO', 'PYK', 'G6PDH2r', 'PGL', 'GND', 'RPE', 'RPI_reverse', 'TKT1', 'TKT2', 'PDH', 'PFL', 'PTAr', 'ACKr_reverse', 'CS', 'ACONTa', 'ACONTb', 'ICDHyr', 'AKGDH']\n",
      "26\n",
      "SUCOAS_reverse\n",
      "0.5783510882257228\n",
      "C13 reaction diff :\n",
      "['ICL', 'MALS', 'ME2', 'SUCOAS_reverse', 'MDH']\n",
      "changed reaction list :\n",
      "['PGI', 'PFK', 'FBA', 'TPI', 'GAPD', 'PGK_reverse', 'PGM_reverse', 'ENO', 'PYK', 'G6PDH2r', 'PGL', 'GND', 'RPE', 'RPI_reverse', 'TKT1', 'TKT2', 'PDH', 'PFL', 'PTAr', 'ACKr_reverse', 'CS', 'ACONTa', 'ACONTb', 'ICDHyr', 'AKGDH', 'SUCOAS_reverse']\n",
      "27\n",
      "SUCDi\n",
      "0.5787284612860084\n",
      "C13 reaction diff :\n",
      "['ICL', 'MALS', 'ME2', 'SUCOAS_reverse', 'MDH']\n",
      "changed reaction list :\n",
      "['PGI', 'PFK', 'FBA', 'TPI', 'GAPD', 'PGK_reverse', 'PGM_reverse', 'ENO', 'PYK', 'G6PDH2r', 'PGL', 'GND', 'RPE', 'RPI_reverse', 'TKT1', 'TKT2', 'PDH', 'PFL', 'PTAr', 'ACKr_reverse', 'CS', 'ACONTa', 'ACONTb', 'ICDHyr', 'AKGDH', 'SUCOAS_reverse', 'SUCDi']\n",
      "28\n",
      "FUM\n",
      "0.5835692678216569\n",
      "C13 reaction diff :\n",
      "['ICL', 'PTAr', 'MALS', 'ME2', 'ACKr_reverse', 'MDH']\n",
      "changed reaction list :\n",
      "['PGI', 'PFK', 'FBA', 'TPI', 'GAPD', 'PGK_reverse', 'PGM_reverse', 'ENO', 'PYK', 'G6PDH2r', 'PGL', 'GND', 'RPE', 'RPI_reverse', 'TKT1', 'TKT2', 'PDH', 'PFL', 'PTAr', 'ACKr_reverse', 'CS', 'ACONTa', 'ACONTb', 'ICDHyr', 'AKGDH', 'SUCOAS_reverse', 'SUCDi', 'FUM']\n",
      "29\n",
      "MDH\n",
      "0.5951507945049701\n",
      "C13 reaction diff :\n",
      "['ICL', 'PTAr', 'MALS', 'PDH', 'ME2', 'ACKr_reverse']\n",
      "changed reaction list :\n",
      "['PGI', 'PFK', 'FBA', 'TPI', 'GAPD', 'PGK_reverse', 'PGM_reverse', 'ENO', 'PYK', 'G6PDH2r', 'PGL', 'GND', 'RPE', 'RPI_reverse', 'TKT1', 'TKT2', 'PDH', 'PFL', 'PTAr', 'ACKr_reverse', 'CS', 'ACONTa', 'ACONTb', 'ICDHyr', 'AKGDH', 'SUCOAS_reverse', 'SUCDi', 'FUM', 'MDH']\n",
      "30\n",
      "ICL\n",
      "0.5973166546369328\n",
      "C13 reaction diff :\n",
      "['PTAr', 'PPC', 'PDH', 'ME2', 'ACKr_reverse']\n",
      "changed reaction list :\n",
      "['PGI', 'PFK', 'FBA', 'TPI', 'GAPD', 'PGK_reverse', 'PGM_reverse', 'ENO', 'PYK', 'G6PDH2r', 'PGL', 'GND', 'RPE', 'RPI_reverse', 'TKT1', 'TKT2', 'PDH', 'PFL', 'PTAr', 'ACKr_reverse', 'CS', 'ACONTa', 'ACONTb', 'ICDHyr', 'AKGDH', 'SUCOAS_reverse', 'SUCDi', 'FUM', 'MDH', 'ICL']\n",
      "31\n",
      "MALS\n",
      "0.6001117923829421\n",
      "C13 reaction diff :\n",
      "['PTAr', 'PPC', 'PDH', 'ME2', 'ACKr_reverse']\n",
      "changed reaction list :\n",
      "['PGI', 'PFK', 'FBA', 'TPI', 'GAPD', 'PGK_reverse', 'PGM_reverse', 'ENO', 'PYK', 'G6PDH2r', 'PGL', 'GND', 'RPE', 'RPI_reverse', 'TKT1', 'TKT2', 'PDH', 'PFL', 'PTAr', 'ACKr_reverse', 'CS', 'ACONTa', 'ACONTb', 'ICDHyr', 'AKGDH', 'SUCOAS_reverse', 'SUCDi', 'FUM', 'MDH', 'ICL', 'MALS']\n",
      "32\n",
      "PPC\n",
      "0.602166539598465\n",
      "C13 reaction diff :\n",
      "['ICL', 'PTAr', 'MALS', 'ME2', 'ACKr_reverse']\n",
      "changed reaction list :\n",
      "['PGI', 'PFK', 'FBA', 'TPI', 'GAPD', 'PGK_reverse', 'PGM_reverse', 'ENO', 'PYK', 'G6PDH2r', 'PGL', 'GND', 'RPE', 'RPI_reverse', 'TKT1', 'TKT2', 'PDH', 'PFL', 'PTAr', 'ACKr_reverse', 'CS', 'ACONTa', 'ACONTb', 'ICDHyr', 'AKGDH', 'SUCOAS_reverse', 'SUCDi', 'FUM', 'MDH', 'ICL', 'MALS', 'PPC']\n",
      "33\n",
      "ME2\n",
      "0.6021665395984765\n",
      "C13 reaction diff :\n",
      "['ICL', 'PTAr', 'MALS', 'ME2', 'ACKr_reverse']\n",
      "changed reaction list :\n",
      "['PGI', 'PFK', 'FBA', 'TPI', 'GAPD', 'PGK_reverse', 'PGM_reverse', 'ENO', 'PYK', 'G6PDH2r', 'PGL', 'GND', 'RPE', 'RPI_reverse', 'TKT1', 'TKT2', 'PDH', 'PFL', 'PTAr', 'ACKr_reverse', 'CS', 'ACONTa', 'ACONTb', 'ICDHyr', 'AKGDH', 'SUCOAS_reverse', 'SUCDi', 'FUM', 'MDH', 'ICL', 'MALS', 'PPC', 'ME2']\n",
      "34\n",
      "TALA\n",
      "0.6029421182505841\n",
      "C13 reaction diff :\n",
      "['ICL', 'PTAr', 'MALS', 'ME2', 'ACKr_reverse']\n",
      "changed reaction list :\n",
      "['PGI', 'PFK', 'FBA', 'TPI', 'GAPD', 'PGK_reverse', 'PGM_reverse', 'ENO', 'PYK', 'G6PDH2r', 'PGL', 'GND', 'RPE', 'RPI_reverse', 'TKT1', 'TKT2', 'PDH', 'PFL', 'PTAr', 'ACKr_reverse', 'CS', 'ACONTa', 'ACONTb', 'ICDHyr', 'AKGDH', 'SUCOAS_reverse', 'SUCDi', 'FUM', 'MDH', 'ICL', 'MALS', 'PPC', 'ME2', 'TALA']\n",
      "35\n",
      "PGCD\n",
      "0.6088858205337897\n",
      "C13 reaction diff :\n",
      "['ICL', 'PTAr', 'MALS', 'PDH', 'ME2', 'ACKr_reverse']\n",
      "changed reaction list :\n",
      "['PGI', 'PFK', 'FBA', 'TPI', 'GAPD', 'PGK_reverse', 'PGM_reverse', 'ENO', 'PYK', 'G6PDH2r', 'PGL', 'GND', 'RPE', 'RPI_reverse', 'TKT1', 'TKT2', 'PDH', 'PFL', 'PTAr', 'ACKr_reverse', 'CS', 'ACONTa', 'ACONTb', 'ICDHyr', 'AKGDH', 'SUCOAS_reverse', 'SUCDi', 'FUM', 'MDH', 'ICL', 'MALS', 'PPC', 'ME2', 'TALA', 'PGCD']\n",
      "36\n",
      "PSERT\n",
      "0.6088858205337897\n",
      "C13 reaction diff :\n",
      "['ICL', 'PTAr', 'MALS', 'PDH', 'ME2', 'ACKr_reverse']\n",
      "changed reaction list :\n",
      "['PGI', 'PFK', 'FBA', 'TPI', 'GAPD', 'PGK_reverse', 'PGM_reverse', 'ENO', 'PYK', 'G6PDH2r', 'PGL', 'GND', 'RPE', 'RPI_reverse', 'TKT1', 'TKT2', 'PDH', 'PFL', 'PTAr', 'ACKr_reverse', 'CS', 'ACONTa', 'ACONTb', 'ICDHyr', 'AKGDH', 'SUCOAS_reverse', 'SUCDi', 'FUM', 'MDH', 'ICL', 'MALS', 'PPC', 'ME2', 'TALA', 'PGCD', 'PSERT']\n",
      "37\n",
      "PSP_L\n",
      "0.6088858205337897\n",
      "C13 reaction diff :\n",
      "['ICL', 'PTAr', 'MALS', 'PDH', 'ME2', 'ACKr_reverse']\n",
      "changed reaction list :\n",
      "['PGI', 'PFK', 'FBA', 'TPI', 'GAPD', 'PGK_reverse', 'PGM_reverse', 'ENO', 'PYK', 'G6PDH2r', 'PGL', 'GND', 'RPE', 'RPI_reverse', 'TKT1', 'TKT2', 'PDH', 'PFL', 'PTAr', 'ACKr_reverse', 'CS', 'ACONTa', 'ACONTb', 'ICDHyr', 'AKGDH', 'SUCOAS_reverse', 'SUCDi', 'FUM', 'MDH', 'ICL', 'MALS', 'PPC', 'ME2', 'TALA', 'PGCD', 'PSERT', 'PSP_L']\n"
     ]
    }
   ],
   "source": [
    "round_num = 1\n",
    "f = 0.406\n",
    "ptot = 0.56 \n",
    "sigma = 1\n",
    "enz_total = round(ptot * f * sigma, 3)\n",
    "json_model_path = \"./model/iML1515_irr_enz_constraint_kapp.json\"\n",
    "reaction_flux_file = './analysis/ECMpy_kapp_adj_solution_df_pfba.csv'\n",
    "enz_model=get_enzyme_constraint_model(json_model_path)\n",
    "enz_model_pfba_solution = get_fluxes_detail_in_model(enz_model,reaction_flux_file)\n",
    "print('model original biomass :')\n",
    "print(enz_model_pfba_solution.fluxes['BIOMASS_Ec_iML1515_core_75p37M'])\n",
    "\n",
    "c13reaction_file = './data/C13reaction.csv' \n",
    "c13reaction = pd.read_csv(c13reaction_file, index_col=0)\n",
    "c13reaction = list(c13reaction.index)\n",
    "enz_model_pfba_solution_select = enz_model_pfba_solution[enz_model_pfba_solution['fluxes']>0]\n",
    "enz_model_pfba_solution_select_id = list(enz_model_pfba_solution_select.index)\n",
    "c13reaction_2_enz_model_diff=list(set(c13reaction).difference(set(enz_model_pfba_solution_select_id)))\n",
    "print (c13reaction_2_enz_model_diff)\n",
    "\n",
    "save_file=\"./analysis/reaction_kapp_change_c13_enz_usage.csv\"\n",
    "reaction_kcat_mw = calculate_reaction_kcat_mw(reaction_kcat_file, reaction_mw, save_file)\n",
    "reaction_flux_file = './analysis/ECMpy_kapp_adj_solution_df_pfba.csv'\n",
    "reaction_kcat_mw_file = \"./analysis/reaction_kapp_change_c13_enz_usage.csv\" \n",
    "reaction_enz_usage_file = './analysis/ECMpy_kapp_adj_reaction_enz_usage_df.csv'\n",
    "model_file = './data/iML1515.xml' \n",
    "json_model_file=\"./model/iML1515_irr_enz_constraint_adj.json\"\n",
    "lowerbound = 0 \n",
    "\n",
    "change_reaction_list =[]\n",
    "\n",
    "while(len(c13reaction_2_enz_model_diff)>2 and len(c13reaction)>round_num):\n",
    "    print(round_num)\n",
    "\n",
    "    for eachreaction in c13reaction:\n",
    "        if eachreaction in change_reaction_list:\n",
    "            pass\n",
    "        else:\n",
    "            print(eachreaction)\n",
    "            select_reaction = [eachreaction]\n",
    "            change_reaction_list.append(eachreaction)\n",
    "            break\n",
    "\n",
    "    change_reaction_kcat_by_autopacmen(select_reaction,reaction_kcat_mw_file,reaction_kcat_mw_file)\n",
    "    trans_model2enz_json_model(model_file, reaction_kcat_mw_file, f, ptot, sigma, lowerbound, enz_total, json_model_file)\n",
    "\n",
    "    enz_model=get_enzyme_constraint_model(json_model_file)\n",
    "    enz_model_pfba_solution = get_fluxes_detail_in_model(enz_model,reaction_flux_file)\n",
    "    print(enz_model_pfba_solution.fluxes['BIOMASS_Ec_iML1515_core_75p37M'])\n",
    "\n",
    "    enz_model_pfba_solution_select = enz_model_pfba_solution[enz_model_pfba_solution['fluxes']>0]\n",
    "    enz_model_pfba_solution_select_id = list(enz_model_pfba_solution_select.index)\n",
    "    c13reaction_2_enz_model_diff=list(set(c13reaction).difference(set(enz_model_pfba_solution_select_id)))\n",
    "    print('C13 reaction diff :')\n",
    "    print (c13reaction_2_enz_model_diff)  \n",
    "    round_num = round_num+1\n",
    "    print('changed reaction list :')\n",
    "    print(change_reaction_list)"
   ]
  },
  {
   "cell_type": "code",
   "execution_count": 26,
   "metadata": {
    "tags": []
   },
   "outputs": [
    {
     "output_type": "stream",
     "name": "stdout",
     "text": [
      "model original biomass :\n",
      "0.4191429334139575\n",
      "['ICL', 'PTAr', 'AKGDH', 'MALS', 'PDH', 'ME2', 'SUCOAS_reverse', 'ACKr_reverse', 'SUCDi']\n",
      "1\n",
      "              kcat_mw       flux  enz useage  enz ratio\n",
      "GAPD       734.538803  17.921312    0.024398   0.107480\n",
      "ENO        946.228175  17.224202    0.018203   0.080189\n",
      "FBA        478.270272   8.565138    0.017909   0.078892\n",
      "NADH16pp  1295.628496  17.522567    0.013524   0.059579\n",
      "RBFSa        0.037137   0.000374    0.010068   0.044350\n",
      "GAPD\n",
      "0.45504524963917803\n",
      "C13 reaction diff :\n",
      "['ICL', 'AKGDH', 'MALS', 'PDH', 'ME2', 'SUCOAS_reverse', 'SUCDi']\n",
      "changed reaction list :\n",
      "['GAPD']\n",
      "2\n",
      "              kcat_mw       flux  enz useage  enz ratio\n",
      "ENO        946.228175  17.212136    0.018190   0.080133\n",
      "FBA        478.270272   8.667931    0.018124   0.079839\n",
      "PFL        580.563567   8.720638    0.015021   0.066172\n",
      "NADH16pp  1295.628496  17.536057    0.013535   0.059625\n",
      "RBFSa        0.037137   0.000406    0.010930   0.048149\n",
      "ENO\n",
      "0.47950285543969334\n",
      "C13 reaction diff :\n",
      "['ICL', 'AKGDH', 'MALS', 'PDH', 'ME2', 'SUCOAS_reverse', 'SUCDi']\n",
      "changed reaction list :\n",
      "['GAPD', 'ENO']\n",
      "3\n",
      "              kcat_mw       flux  enz useage  enz ratio\n",
      "PFL        580.563567  12.639233    0.021771   0.095906\n",
      "FBA        478.270272   8.596336    0.017974   0.079180\n",
      "NADH16pp  1295.628496  17.403626    0.013433   0.059174\n",
      "RBFSa        0.037137   0.000428    0.011517   0.050737\n",
      "KARA2       12.484042   0.139309    0.011159   0.049159\n",
      "PFL\n",
      "0.47950285543969334\n",
      "C13 reaction diff :\n",
      "['ICL', 'AKGDH', 'MALS', 'PDH', 'ME2', 'SUCOAS_reverse', 'SUCDi']\n",
      "changed reaction list :\n",
      "['GAPD', 'ENO', 'PFL']\n",
      "4\n",
      "              kcat_mw       flux  enz useage  enz ratio\n",
      "PFL        580.563567  12.639233    0.021771   0.095906\n",
      "FBA        478.270272   8.596336    0.017974   0.079180\n",
      "NADH16pp  1295.628496  17.403626    0.013433   0.059174\n",
      "RBFSa        0.037137   0.000428    0.011517   0.050737\n",
      "KARA2       12.484042   0.139309    0.011159   0.049159\n",
      "FBA\n",
      "0.49303001119813916\n",
      "C13 reaction diff :\n",
      "['ICL', 'AKGDH', 'MALS', 'PDH', 'ME2', 'SUCOAS_reverse', 'SUCDi']\n",
      "changed reaction list :\n",
      "['GAPD', 'ENO', 'PFL', 'FBA']\n",
      "5\n",
      "                   kcat_mw       flux  enz useage  enz ratio\n",
      "PFL             580.563567  13.710781    0.023616   0.104037\n",
      "NADH16pp       1295.628496  17.330381    0.013376   0.058925\n",
      "RBFSa             0.037137   0.000440    0.011842   0.052169\n",
      "KARA2            12.484042   0.143240    0.011474   0.050545\n",
      "KARA1_reverse    38.284397   0.431089    0.011260   0.049604\n",
      "NADH16pp\n",
      "0.5031148244879762\n",
      "C13 reaction diff :\n",
      "['ICL', 'AKGDH', 'MALS', 'PDH', 'ME2', 'SUCOAS_reverse', 'SUCDi']\n",
      "changed reaction list :\n",
      "['GAPD', 'ENO', 'PFL', 'FBA', 'NADH16pp']\n",
      "6\n",
      "                  kcat_mw       flux  enz useage  enz ratio\n",
      "PFL            580.563567  13.582136    0.023395   0.103061\n",
      "RBFSa            0.037137   0.000449    0.012084   0.053236\n",
      "KARA2           12.484042   0.146169    0.011709   0.051579\n",
      "KARA1_reverse   38.284397   0.439907    0.011491   0.050619\n",
      "FBA            945.905164   8.527216    0.009015   0.039713\n",
      "RBFSa\n",
      "0.5202734082110252\n",
      "C13 reaction diff :\n",
      "['ICL', 'AKGDH', 'MALS', 'PDH', 'ME2', 'SUCOAS_reverse', 'SUCDi']\n",
      "changed reaction list :\n",
      "['GAPD', 'ENO', 'PFL', 'FBA', 'NADH16pp', 'RBFSa']\n",
      "7\n",
      "                  kcat_mw       flux  enz useage  enz ratio\n",
      "PFL            580.563567  13.363257    0.023018   0.101400\n",
      "FDH4pp         193.138268   2.904115    0.015036   0.066240\n",
      "KARA2           12.484042   0.151155    0.012108   0.053338\n",
      "KARA1_reverse   38.284397   0.454910    0.011882   0.052345\n",
      "FBA            945.905164   8.476987    0.008962   0.039479\n",
      "FDH4pp\n",
      "0.5202734082110252\n",
      "C13 reaction diff :\n",
      "['ICL', 'AKGDH', 'MALS', 'PDH', 'ME2', 'SUCOAS_reverse', 'SUCDi']\n",
      "changed reaction list :\n",
      "['GAPD', 'ENO', 'PFL', 'FBA', 'NADH16pp', 'RBFSa', 'FDH4pp']\n",
      "8\n",
      "                  kcat_mw       flux  enz useage  enz ratio\n",
      "PFL            580.563567  13.363257    0.023018   0.101400\n",
      "FDH4pp         193.138268   2.904115    0.015036   0.066240\n",
      "KARA2           12.484042   0.151155    0.012108   0.053338\n",
      "KARA1_reverse   38.284397   0.454910    0.011882   0.052345\n",
      "FBA            945.905164   8.476987    0.008962   0.039479\n",
      "KARA2\n",
      "0.5356298738431399\n",
      "C13 reaction diff :\n",
      "['ICL', 'AKGDH', 'MALS', 'PDH', 'ME2', 'SUCOAS_reverse', 'SUCDi']\n",
      "changed reaction list :\n",
      "['GAPD', 'ENO', 'PFL', 'FBA', 'NADH16pp', 'RBFSa', 'FDH4pp', 'KARA2']\n",
      "9\n",
      "                  kcat_mw       flux  enz useage  enz ratio\n",
      "PFL            580.563567  13.167366    0.022680   0.099913\n",
      "FDH4pp         193.138268   4.232266    0.021913   0.096534\n",
      "KARA1_reverse   38.284397   0.468337    0.012233   0.053890\n",
      "FBA            945.905164   8.432034    0.008914   0.039270\n",
      "METS            13.180039   0.082679    0.006273   0.027635\n",
      "KARA1_reverse\n",
      "0.5392478396972434\n",
      "C13 reaction diff :\n",
      "['ICL', 'AKGDH', 'MALS', 'PDH', 'ME2', 'SUCOAS_reverse', 'SUCDi']\n",
      "changed reaction list :\n",
      "['GAPD', 'ENO', 'PFL', 'FBA', 'NADH16pp', 'RBFSa', 'FDH4pp', 'KARA2', 'KARA1_reverse']\n",
      "10\n",
      "                  kcat_mw       flux  enz useage  enz ratio\n",
      "FDH4pp         193.138268   4.545177    0.023533   0.103671\n",
      "PFL            580.563567  13.121214    0.022601   0.099563\n",
      "KARA1_reverse   47.698611   0.471501    0.009885   0.043546\n",
      "FBA            945.905164   8.421443    0.008903   0.039220\n",
      "METS            13.180039   0.083238    0.006315   0.027821\n",
      "METS\n",
      "0.5488700068361307\n",
      "C13 reaction diff :\n",
      "['ICL', 'AKGDH', 'MALS', 'PDH', 'ME2', 'SUCOAS_reverse', 'SUCDi']\n",
      "changed reaction list :\n",
      "['GAPD', 'ENO', 'PFL', 'FBA', 'NADH16pp', 'RBFSa', 'FDH4pp', 'KARA2', 'KARA1_reverse', 'METS']\n",
      "11\n",
      "                   kcat_mw       flux  enz useage  enz ratio\n",
      "FDH4pp          193.138268   5.377380    0.027842   0.122653\n",
      "PFL             580.563567  12.998471    0.022389   0.098632\n",
      "KARA1_reverse    47.698611   0.479914    0.010061   0.044323\n",
      "FBA             945.905164   8.393275    0.008873   0.039089\n",
      "NADH16pp       2812.165989  17.028023    0.006055   0.026675\n",
      "PGK_reverse\n",
      "0.5559611486280697\n",
      "C13 reaction diff :\n",
      "['ICL', 'AKGDH', 'MALS', 'PDH', 'ME2', 'SUCOAS_reverse', 'SUCDi']\n",
      "changed reaction list :\n",
      "['GAPD', 'ENO', 'PFL', 'FBA', 'NADH16pp', 'RBFSa', 'FDH4pp', 'KARA2', 'KARA1_reverse', 'METS', 'PGK_reverse']\n",
      "12\n",
      "                   kcat_mw       flux  enz useage  enz ratio\n",
      "FDH4pp          193.138268   5.990679    0.031018   0.136641\n",
      "PFL             580.563567  12.908015    0.022234   0.097945\n",
      "KARA1_reverse    47.698611   0.486114    0.010191   0.044896\n",
      "FBA             945.905164   8.372517    0.008851   0.038993\n",
      "NADH16pp       2812.165989  16.989626    0.006041   0.026614\n",
      "GHMT2r\n",
      "0.5629288564179081\n",
      "C13 reaction diff :\n",
      "['ICL', 'AKGDH', 'MALS', 'PDH', 'ME2', 'SUCOAS_reverse', 'SUCDi']\n",
      "changed reaction list :\n",
      "['GAPD', 'ENO', 'PFL', 'FBA', 'NADH16pp', 'RBFSa', 'FDH4pp', 'KARA2', 'KARA1_reverse', 'METS', 'PGK_reverse', 'GHMT2r']\n",
      "13\n",
      "                   kcat_mw       flux  enz useage  enz ratio\n",
      "FDH4pp          193.138268   6.593303    0.034138   0.150386\n",
      "PFL             580.563567  12.819133    0.022080   0.097271\n",
      "KARA1_reverse    47.698611   0.492206    0.010319   0.045459\n",
      "FBA             945.905164   8.352120    0.008830   0.038898\n",
      "NADH16pp       2812.165989  16.951898    0.006028   0.026555\n",
      "GLNS\n",
      "0.5691980221378855\n",
      "C13 reaction diff :\n",
      "['ICL', 'AKGDH', 'MALS', 'PDH', 'ME2', 'SUCOAS_reverse', 'SUCDi']\n",
      "changed reaction list :\n",
      "['GAPD', 'ENO', 'PFL', 'FBA', 'NADH16pp', 'RBFSa', 'FDH4pp', 'KARA2', 'KARA1_reverse', 'METS', 'PGK_reverse', 'GHMT2r', 'GLNS']\n",
      "14\n",
      "                   kcat_mw       flux  enz useage  enz ratio\n",
      "FDH4pp          193.138268   7.135511    0.036945   0.162754\n",
      "PFL             580.563567  12.739162    0.021943   0.096664\n",
      "KARA1_reverse    47.698611   0.497688    0.010434   0.045965\n",
      "FBA             945.905164   8.333768    0.008810   0.038812\n",
      "NADH16pp       2812.165989  16.917952    0.006016   0.026502\n",
      "GND\n",
      "0.582304512830309\n",
      "C13 reaction diff :\n",
      "['ICL', 'PGI', 'AKGDH', 'MALS', 'PDH', 'ME2', 'SUCOAS_reverse', 'SUCDi']\n",
      "changed reaction list :\n",
      "['GAPD', 'ENO', 'PFL', 'FBA', 'NADH16pp', 'RBFSa', 'FDH4pp', 'KARA2', 'KARA1_reverse', 'METS', 'PGK_reverse', 'GHMT2r', 'GLNS', 'GND']\n",
      "15\n",
      "                  kcat_mw       flux  enz useage  enz ratio\n",
      "FDH4pp         193.138268   4.709882    0.024386   0.107428\n",
      "NADPHQR2       633.163807  12.813061    0.020237   0.089148\n",
      "PFL            580.563567  10.436462    0.017976   0.079191\n",
      "KARA1_reverse   47.698611   0.509148    0.010674   0.047023\n",
      "FBA            945.905164   6.159891    0.006512   0.028688\n",
      "NADPHQR2\n",
      "0.582304512830309\n",
      "C13 reaction diff :\n",
      "['ICL', 'PGI', 'AKGDH', 'MALS', 'PDH', 'ME2', 'SUCOAS_reverse', 'SUCDi']\n",
      "changed reaction list :\n",
      "['GAPD', 'ENO', 'PFL', 'FBA', 'NADH16pp', 'RBFSa', 'FDH4pp', 'KARA2', 'KARA1_reverse', 'METS', 'PGK_reverse', 'GHMT2r', 'GLNS', 'GND', 'NADPHQR2']\n",
      "16\n",
      "                  kcat_mw       flux  enz useage  enz ratio\n",
      "FDH4pp         193.138268   4.709882    0.024386   0.107428\n",
      "NADPHQR2       633.163807  12.813061    0.020237   0.089148\n",
      "PFL            580.563567  10.436462    0.017976   0.079191\n",
      "KARA1_reverse   47.698611   0.509148    0.010674   0.047023\n",
      "FBA            945.905164   6.159891    0.006512   0.028688\n",
      "PPC\n",
      "0.5867660472019149\n",
      "C13 reaction diff :\n",
      "['ICL', 'PGI', 'AKGDH', 'MALS', 'PDH', 'ME2', 'SUCOAS_reverse', 'SUCDi']\n",
      "changed reaction list :\n",
      "['GAPD', 'ENO', 'PFL', 'FBA', 'NADH16pp', 'RBFSa', 'FDH4pp', 'KARA2', 'KARA1_reverse', 'METS', 'PGK_reverse', 'GHMT2r', 'GLNS', 'GND', 'NADPHQR2', 'PPC']\n",
      "17\n",
      "                  kcat_mw       flux  enz useage  enz ratio\n",
      "FDH4pp         193.138268   5.111048    0.026463   0.116578\n",
      "NADPHQR2       633.163807  12.757996    0.020150   0.088765\n",
      "PFL            580.563567  10.388727    0.017894   0.078829\n",
      "KARA1_reverse   47.698611   0.513049    0.010756   0.047384\n",
      "FBA            945.905164   6.156008    0.006508   0.028670\n",
      "METAT\n",
      "0.5932815004230098\n",
      "C13 reaction diff :\n",
      "['ICL', 'PGI', 'AKGDH', 'MALS', 'PDH', 'ME2', 'SUCOAS_reverse', 'SUCDi']\n",
      "changed reaction list :\n",
      "['GAPD', 'ENO', 'PFL', 'FBA', 'NADH16pp', 'RBFSa', 'FDH4pp', 'KARA2', 'KARA1_reverse', 'METS', 'PGK_reverse', 'GHMT2r', 'GLNS', 'GND', 'NADPHQR2', 'PPC', 'METAT']\n",
      "18\n",
      "                  kcat_mw       flux  enz useage  enz ratio\n",
      "FDH4pp         193.138268   5.696894    0.029496   0.129940\n",
      "NADPHQR2       633.163807  12.677581    0.020023   0.088205\n",
      "PFL            580.563567  10.319017    0.017774   0.078300\n",
      "KARA1_reverse   47.698611   0.518746    0.010875   0.047910\n",
      "FBA            945.905164   6.150338    0.006502   0.028643\n",
      "ARGSS\n",
      "0.5932815004230098\n",
      "C13 reaction diff :\n",
      "['ICL', 'PGI', 'AKGDH', 'MALS', 'PDH', 'ME2', 'SUCOAS_reverse', 'SUCDi']\n",
      "changed reaction list :\n",
      "['GAPD', 'ENO', 'PFL', 'FBA', 'NADH16pp', 'RBFSa', 'FDH4pp', 'KARA2', 'KARA1_reverse', 'METS', 'PGK_reverse', 'GHMT2r', 'GLNS', 'GND', 'NADPHQR2', 'PPC', 'METAT', 'ARGSS']\n",
      "19\n",
      "                  kcat_mw       flux  enz useage  enz ratio\n",
      "FDH4pp         193.138268   5.696894    0.029496   0.129940\n",
      "NADPHQR2       633.163807  12.677581    0.020023   0.088205\n",
      "PFL            580.563567  10.319017    0.017774   0.078300\n",
      "KARA1_reverse   47.698611   0.518746    0.010875   0.047910\n",
      "FBA            945.905164   6.150338    0.006502   0.028643\n",
      "GTPCI\n",
      "0.5987871546693162\n",
      "C13 reaction diff :\n",
      "['ICL', 'PGI', 'AKGDH', 'MALS', 'PDH', 'ME2', 'SUCOAS_reverse', 'SUCDi']\n",
      "changed reaction list :\n",
      "['GAPD', 'ENO', 'PFL', 'FBA', 'NADH16pp', 'RBFSa', 'FDH4pp', 'KARA2', 'KARA1_reverse', 'METS', 'PGK_reverse', 'GHMT2r', 'GLNS', 'GND', 'NADPHQR2', 'PPC', 'METAT', 'ARGSS', 'GTPCI']\n",
      "20\n",
      "                  kcat_mw       flux  enz useage  enz ratio\n",
      "FDH4pp         193.138268   6.191943    0.032060   0.141232\n",
      "NADPHQR2       633.163807  12.609629    0.019915   0.087732\n",
      "PFL            580.563567  10.260111    0.017673   0.077853\n",
      "KARA1_reverse   47.698611   0.523560    0.010976   0.048354\n",
      "FBA            945.905164   6.145546    0.006497   0.028621\n",
      "ATPS4rpp\n"
     ]
    },
    {
     "output_type": "error",
     "ename": "SystemError",
     "evalue": "<built-in function delete_intPtr> returned a result with an error set",
     "traceback": [
      "\u001b[1;31m---------------------------------------------------------------------------\u001b[0m",
      "\u001b[1;31mKeyError\u001b[0m                                  Traceback (most recent call last)",
      "\u001b[1;32mD:\\Anaconda3\\envs\\enzyme_python\\lib\\site-packages\\cplex\\_internal\\_aux_functions.py\u001b[0m in \u001b[0;36m_cachelookup\u001b[1;34m(item, getindexfunc, cache)\u001b[0m\n\u001b[0;32m    277\u001b[0m     \u001b[1;32mtry\u001b[0m\u001b[1;33m:\u001b[0m\u001b[1;33m\u001b[0m\u001b[1;33m\u001b[0m\u001b[0m\n\u001b[1;32m--> 278\u001b[1;33m         \u001b[0midx\u001b[0m \u001b[1;33m=\u001b[0m \u001b[0mcache\u001b[0m\u001b[1;33m[\u001b[0m\u001b[0mitem\u001b[0m\u001b[1;33m]\u001b[0m\u001b[1;33m\u001b[0m\u001b[1;33m\u001b[0m\u001b[0m\n\u001b[0m\u001b[0;32m    279\u001b[0m     \u001b[1;32mexcept\u001b[0m \u001b[0mKeyError\u001b[0m\u001b[1;33m:\u001b[0m\u001b[1;33m\u001b[0m\u001b[1;33m\u001b[0m\u001b[0m\n",
      "\u001b[1;31mKeyError\u001b[0m: 'ACACT4r_reverse_reverse_20936'",
      "\nDuring handling of the above exception, another exception occurred:\n",
      "\u001b[1;31mKeyboardInterrupt\u001b[0m                         Traceback (most recent call last)",
      "\u001b[1;32mD:\\Anaconda3\\envs\\enzyme_python\\lib\\site-packages\\cplex\\_internal\\_pycplex.py\u001b[0m in \u001b[0;36m__init__\u001b[1;34m(self)\u001b[0m\n\u001b[0;32m   3009\u001b[0m     \u001b[1;32mdef\u001b[0m \u001b[0m__init__\u001b[0m\u001b[1;33m(\u001b[0m\u001b[0mself\u001b[0m\u001b[1;33m)\u001b[0m\u001b[1;33m:\u001b[0m\u001b[1;33m\u001b[0m\u001b[1;33m\u001b[0m\u001b[0m\n\u001b[1;32m-> 3010\u001b[1;33m         \u001b[0mthis\u001b[0m \u001b[1;33m=\u001b[0m \u001b[0m_pycplex_platform\u001b[0m\u001b[1;33m.\u001b[0m\u001b[0mnew_intPtr\u001b[0m\u001b[1;33m(\u001b[0m\u001b[1;33m)\u001b[0m\u001b[1;33m\u001b[0m\u001b[1;33m\u001b[0m\u001b[0m\n\u001b[0m\u001b[0;32m   3011\u001b[0m         \u001b[1;32mtry\u001b[0m\u001b[1;33m:\u001b[0m \u001b[0mself\u001b[0m\u001b[1;33m.\u001b[0m\u001b[0mthis\u001b[0m\u001b[1;33m.\u001b[0m\u001b[0mappend\u001b[0m\u001b[1;33m(\u001b[0m\u001b[0mthis\u001b[0m\u001b[1;33m)\u001b[0m\u001b[1;33m\u001b[0m\u001b[1;33m\u001b[0m\u001b[0m\n",
      "\u001b[1;31mKeyboardInterrupt\u001b[0m: ",
      "\nThe above exception was the direct cause of the following exception:\n",
      "\u001b[1;31mSystemError\u001b[0m                               Traceback (most recent call last)",
      "\u001b[1;32m<ipython-input-26-104dff233391>\u001b[0m in \u001b[0;36m<module>\u001b[1;34m\u001b[0m\n\u001b[0;32m     45\u001b[0m \u001b[1;33m\u001b[0m\u001b[0m\n\u001b[0;32m     46\u001b[0m     \u001b[0mchange_reaction_kcat_by_autopacmen\u001b[0m\u001b[1;33m(\u001b[0m\u001b[0mselect_reaction\u001b[0m\u001b[1;33m,\u001b[0m\u001b[0mreaction_kcat_mw_file\u001b[0m\u001b[1;33m,\u001b[0m\u001b[0mreaction_kcat_mw_file\u001b[0m\u001b[1;33m)\u001b[0m\u001b[1;33m\u001b[0m\u001b[1;33m\u001b[0m\u001b[0m\n\u001b[1;32m---> 47\u001b[1;33m     \u001b[0mtrans_model2enz_json_model\u001b[0m\u001b[1;33m(\u001b[0m\u001b[0mmodel_file\u001b[0m\u001b[1;33m,\u001b[0m \u001b[0mreaction_kcat_mw_file\u001b[0m\u001b[1;33m,\u001b[0m \u001b[0mf\u001b[0m\u001b[1;33m,\u001b[0m \u001b[0mptot\u001b[0m\u001b[1;33m,\u001b[0m \u001b[0msigma\u001b[0m\u001b[1;33m,\u001b[0m \u001b[0mlowerbound\u001b[0m\u001b[1;33m,\u001b[0m \u001b[0menz_total\u001b[0m\u001b[1;33m,\u001b[0m \u001b[0mjson_model_file\u001b[0m\u001b[1;33m)\u001b[0m\u001b[1;33m\u001b[0m\u001b[1;33m\u001b[0m\u001b[0m\n\u001b[0m\u001b[0;32m     48\u001b[0m \u001b[1;33m\u001b[0m\u001b[0m\n\u001b[0;32m     49\u001b[0m     \u001b[0menz_model\u001b[0m\u001b[1;33m=\u001b[0m\u001b[0mget_enzyme_constraint_model\u001b[0m\u001b[1;33m(\u001b[0m\u001b[0mjson_model_file\u001b[0m\u001b[1;33m)\u001b[0m\u001b[1;33m\u001b[0m\u001b[1;33m\u001b[0m\u001b[0m\n",
      "\u001b[1;32me:\\20191218\\My_Code\\ECMpy\\code\\cobrapy_ec_model_function.py\u001b[0m in \u001b[0;36mtrans_model2enz_json_model\u001b[1;34m(model_file, reaction_kcat_mw_file, f, ptot, sigma, lowerbound, upperbound, json_output_file)\u001b[0m\n\u001b[0;32m    273\u001b[0m \u001b[1;33m\u001b[0m\u001b[0m\n\u001b[0;32m    274\u001b[0m     \u001b[0mmodel\u001b[0m \u001b[1;33m=\u001b[0m \u001b[0mcobra\u001b[0m\u001b[1;33m.\u001b[0m\u001b[0mio\u001b[0m\u001b[1;33m.\u001b[0m\u001b[0mread_sbml_model\u001b[0m\u001b[1;33m(\u001b[0m\u001b[0mmodel_file\u001b[0m\u001b[1;33m)\u001b[0m\u001b[1;33m\u001b[0m\u001b[1;33m\u001b[0m\u001b[0m\n\u001b[1;32m--> 275\u001b[1;33m     \u001b[0mconvert_to_irreversible\u001b[0m\u001b[1;33m(\u001b[0m\u001b[0mmodel\u001b[0m\u001b[1;33m)\u001b[0m\u001b[1;33m\u001b[0m\u001b[1;33m\u001b[0m\u001b[0m\n\u001b[0m\u001b[0;32m    276\u001b[0m     \u001b[0mmodel_name\u001b[0m\u001b[1;33m=\u001b[0m\u001b[0mmodel_file\u001b[0m\u001b[1;33m.\u001b[0m\u001b[0msplit\u001b[0m\u001b[1;33m(\u001b[0m\u001b[1;34m'/'\u001b[0m\u001b[1;33m)\u001b[0m\u001b[1;33m[\u001b[0m\u001b[1;33m-\u001b[0m\u001b[1;36m1\u001b[0m\u001b[1;33m]\u001b[0m\u001b[1;33m.\u001b[0m\u001b[0msplit\u001b[0m\u001b[1;33m(\u001b[0m\u001b[1;34m'.'\u001b[0m\u001b[1;33m)\u001b[0m\u001b[1;33m[\u001b[0m\u001b[1;36m0\u001b[0m\u001b[1;33m]\u001b[0m\u001b[1;33m\u001b[0m\u001b[1;33m\u001b[0m\u001b[0m\n\u001b[0;32m    277\u001b[0m     \u001b[0mjson_path\u001b[0m\u001b[1;33m=\u001b[0m\u001b[1;34m\"./model/%s_irreversible.json\"\u001b[0m\u001b[1;33m%\u001b[0m\u001b[0mmodel_name\u001b[0m\u001b[1;33m\u001b[0m\u001b[1;33m\u001b[0m\u001b[0m\n",
      "\u001b[1;32me:\\20191218\\My_Code\\ECMpy\\code\\cobrapy_ec_model_function.py\u001b[0m in \u001b[0;36mconvert_to_irreversible\u001b[1;34m(model)\u001b[0m\n\u001b[0;32m     54\u001b[0m             \u001b[0mreverse_reaction\u001b[0m\u001b[1;33m.\u001b[0m\u001b[0m_gene_reaction_rule\u001b[0m \u001b[1;33m=\u001b[0m \u001b[0mreaction\u001b[0m\u001b[1;33m.\u001b[0m\u001b[0m_gene_reaction_rule\u001b[0m\u001b[1;33m\u001b[0m\u001b[1;33m\u001b[0m\u001b[0m\n\u001b[0;32m     55\u001b[0m             \u001b[0mreactions_to_add\u001b[0m\u001b[1;33m.\u001b[0m\u001b[0mappend\u001b[0m\u001b[1;33m(\u001b[0m\u001b[0mreverse_reaction\u001b[0m\u001b[1;33m)\u001b[0m\u001b[1;33m\u001b[0m\u001b[1;33m\u001b[0m\u001b[0m\n\u001b[1;32m---> 56\u001b[1;33m     \u001b[0mmodel\u001b[0m\u001b[1;33m.\u001b[0m\u001b[0madd_reactions\u001b[0m\u001b[1;33m(\u001b[0m\u001b[0mreactions_to_add\u001b[0m\u001b[1;33m)\u001b[0m\u001b[1;33m\u001b[0m\u001b[1;33m\u001b[0m\u001b[0m\n\u001b[0m\u001b[0;32m     57\u001b[0m     \u001b[0mset_objective\u001b[0m\u001b[1;33m(\u001b[0m\u001b[0mmodel\u001b[0m\u001b[1;33m,\u001b[0m \u001b[0mcoefficients\u001b[0m\u001b[1;33m,\u001b[0m \u001b[0madditive\u001b[0m\u001b[1;33m=\u001b[0m\u001b[1;32mTrue\u001b[0m\u001b[1;33m)\u001b[0m\u001b[1;33m\u001b[0m\u001b[1;33m\u001b[0m\u001b[0m\n\u001b[0;32m     58\u001b[0m \u001b[1;33m\u001b[0m\u001b[0m\n",
      "\u001b[1;32mD:\\Anaconda3\\envs\\enzyme_python\\lib\\site-packages\\cobra\\core\\model.py\u001b[0m in \u001b[0;36madd_reactions\u001b[1;34m(self, reaction_list)\u001b[0m\n\u001b[0;32m    697\u001b[0m \u001b[1;33m\u001b[0m\u001b[0m\n\u001b[0;32m    698\u001b[0m         \u001b[1;31m# from cameo ...\u001b[0m\u001b[1;33m\u001b[0m\u001b[1;33m\u001b[0m\u001b[1;33m\u001b[0m\u001b[0m\n\u001b[1;32m--> 699\u001b[1;33m         \u001b[0mself\u001b[0m\u001b[1;33m.\u001b[0m\u001b[0m_populate_solver\u001b[0m\u001b[1;33m(\u001b[0m\u001b[0mpruned\u001b[0m\u001b[1;33m)\u001b[0m\u001b[1;33m\u001b[0m\u001b[1;33m\u001b[0m\u001b[0m\n\u001b[0m\u001b[0;32m    700\u001b[0m \u001b[1;33m\u001b[0m\u001b[0m\n\u001b[0;32m    701\u001b[0m     \u001b[1;32mdef\u001b[0m \u001b[0mremove_reactions\u001b[0m\u001b[1;33m(\u001b[0m\u001b[0mself\u001b[0m\u001b[1;33m,\u001b[0m \u001b[0mreactions\u001b[0m\u001b[1;33m,\u001b[0m \u001b[0mremove_orphans\u001b[0m\u001b[1;33m=\u001b[0m\u001b[1;32mFalse\u001b[0m\u001b[1;33m)\u001b[0m\u001b[1;33m:\u001b[0m\u001b[1;33m\u001b[0m\u001b[1;33m\u001b[0m\u001b[0m\n",
      "\u001b[1;32mD:\\Anaconda3\\envs\\enzyme_python\\lib\\site-packages\\cobra\\core\\model.py\u001b[0m in \u001b[0;36m_populate_solver\u001b[1;34m(self, reaction_list, metabolite_list)\u001b[0m\n\u001b[0;32m   1016\u001b[0m             \u001b[0mreaction\u001b[0m\u001b[1;33m.\u001b[0m\u001b[0mupdate_variable_bounds\u001b[0m\u001b[1;33m(\u001b[0m\u001b[1;33m)\u001b[0m\u001b[1;33m\u001b[0m\u001b[1;33m\u001b[0m\u001b[0m\n\u001b[0;32m   1017\u001b[0m         \u001b[1;32mfor\u001b[0m \u001b[0mconstraint\u001b[0m\u001b[1;33m,\u001b[0m \u001b[0mterms\u001b[0m \u001b[1;32min\u001b[0m \u001b[0msix\u001b[0m\u001b[1;33m.\u001b[0m\u001b[0miteritems\u001b[0m\u001b[1;33m(\u001b[0m\u001b[0mconstraint_terms\u001b[0m\u001b[1;33m)\u001b[0m\u001b[1;33m:\u001b[0m\u001b[1;33m\u001b[0m\u001b[1;33m\u001b[0m\u001b[0m\n\u001b[1;32m-> 1018\u001b[1;33m             \u001b[0mconstraint\u001b[0m\u001b[1;33m.\u001b[0m\u001b[0mset_linear_coefficients\u001b[0m\u001b[1;33m(\u001b[0m\u001b[0mterms\u001b[0m\u001b[1;33m)\u001b[0m\u001b[1;33m\u001b[0m\u001b[1;33m\u001b[0m\u001b[0m\n\u001b[0m\u001b[0;32m   1019\u001b[0m \u001b[1;33m\u001b[0m\u001b[0m\n\u001b[0;32m   1020\u001b[0m     \u001b[1;32mdef\u001b[0m \u001b[0mslim_optimize\u001b[0m\u001b[1;33m(\u001b[0m\u001b[0mself\u001b[0m\u001b[1;33m,\u001b[0m \u001b[0merror_value\u001b[0m\u001b[1;33m=\u001b[0m\u001b[0mfloat\u001b[0m\u001b[1;33m(\u001b[0m\u001b[1;34m'nan'\u001b[0m\u001b[1;33m)\u001b[0m\u001b[1;33m,\u001b[0m \u001b[0mmessage\u001b[0m\u001b[1;33m=\u001b[0m\u001b[1;32mNone\u001b[0m\u001b[1;33m)\u001b[0m\u001b[1;33m:\u001b[0m\u001b[1;33m\u001b[0m\u001b[1;33m\u001b[0m\u001b[0m\n",
      "\u001b[1;32mD:\\Anaconda3\\envs\\enzyme_python\\lib\\site-packages\\optlang\\cplex_interface.py\u001b[0m in \u001b[0;36mset_linear_coefficients\u001b[1;34m(self, coefficients)\u001b[0m\n\u001b[0;32m    223\u001b[0m             \u001b[0mself\u001b[0m\u001b[1;33m.\u001b[0m\u001b[0mproblem\u001b[0m\u001b[1;33m.\u001b[0m\u001b[0mupdate\u001b[0m\u001b[1;33m(\u001b[0m\u001b[1;33m)\u001b[0m\u001b[1;33m\u001b[0m\u001b[1;33m\u001b[0m\u001b[0m\n\u001b[0;32m    224\u001b[0m             \u001b[0mtriplets\u001b[0m \u001b[1;33m=\u001b[0m \u001b[1;33m[\u001b[0m\u001b[1;33m(\u001b[0m\u001b[0mself\u001b[0m\u001b[1;33m.\u001b[0m\u001b[0mname\u001b[0m\u001b[1;33m,\u001b[0m \u001b[0mvar\u001b[0m\u001b[1;33m.\u001b[0m\u001b[0mname\u001b[0m\u001b[1;33m,\u001b[0m \u001b[0mfloat\u001b[0m\u001b[1;33m(\u001b[0m\u001b[0mcoeff\u001b[0m\u001b[1;33m)\u001b[0m\u001b[1;33m)\u001b[0m \u001b[1;32mfor\u001b[0m \u001b[0mvar\u001b[0m\u001b[1;33m,\u001b[0m \u001b[0mcoeff\u001b[0m \u001b[1;32min\u001b[0m \u001b[0msix\u001b[0m\u001b[1;33m.\u001b[0m\u001b[0miteritems\u001b[0m\u001b[1;33m(\u001b[0m\u001b[0mcoefficients\u001b[0m\u001b[1;33m)\u001b[0m\u001b[1;33m]\u001b[0m\u001b[1;33m\u001b[0m\u001b[1;33m\u001b[0m\u001b[0m\n\u001b[1;32m--> 225\u001b[1;33m             \u001b[0mself\u001b[0m\u001b[1;33m.\u001b[0m\u001b[0mproblem\u001b[0m\u001b[1;33m.\u001b[0m\u001b[0mproblem\u001b[0m\u001b[1;33m.\u001b[0m\u001b[0mlinear_constraints\u001b[0m\u001b[1;33m.\u001b[0m\u001b[0mset_coefficients\u001b[0m\u001b[1;33m(\u001b[0m\u001b[0mtriplets\u001b[0m\u001b[1;33m)\u001b[0m\u001b[1;33m\u001b[0m\u001b[1;33m\u001b[0m\u001b[0m\n\u001b[0m\u001b[0;32m    226\u001b[0m         \u001b[1;32melse\u001b[0m\u001b[1;33m:\u001b[0m\u001b[1;33m\u001b[0m\u001b[1;33m\u001b[0m\u001b[0m\n\u001b[0;32m    227\u001b[0m             \u001b[1;32mraise\u001b[0m \u001b[0mException\u001b[0m\u001b[1;33m(\u001b[0m\u001b[1;34m\"Can't change coefficients if constraint is not associated with a model.\"\u001b[0m\u001b[1;33m)\u001b[0m\u001b[1;33m\u001b[0m\u001b[1;33m\u001b[0m\u001b[0m\n",
      "\u001b[1;32mD:\\Anaconda3\\envs\\enzyme_python\\lib\\site-packages\\cplex\\_internal\\_subinterfaces.py\u001b[0m in \u001b[0;36mset_coefficients\u001b[1;34m(self, *args)\u001b[0m\n\u001b[0;32m   1623\u001b[0m             \u001b[0mself\u001b[0m\u001b[1;33m.\u001b[0m\u001b[0m_env\u001b[0m\u001b[1;33m.\u001b[0m\u001b[0m_e\u001b[0m\u001b[1;33m,\u001b[0m \u001b[0mself\u001b[0m\u001b[1;33m.\u001b[0m\u001b[0m_cplex\u001b[0m\u001b[1;33m.\u001b[0m\u001b[0m_lp\u001b[0m\u001b[1;33m,\u001b[0m\u001b[1;33m\u001b[0m\u001b[1;33m\u001b[0m\u001b[0m\n\u001b[0;32m   1624\u001b[0m             \u001b[0mself\u001b[0m\u001b[1;33m.\u001b[0m\u001b[0m_conv\u001b[0m\u001b[1;33m(\u001b[0m\u001b[0marg_list\u001b[0m\u001b[1;33m[\u001b[0m\u001b[1;36m0\u001b[0m\u001b[1;33m]\u001b[0m\u001b[1;33m)\u001b[0m\u001b[1;33m,\u001b[0m\u001b[1;33m\u001b[0m\u001b[1;33m\u001b[0m\u001b[0m\n\u001b[1;32m-> 1625\u001b[1;33m             \u001b[0mself\u001b[0m\u001b[1;33m.\u001b[0m\u001b[0m_cplex\u001b[0m\u001b[1;33m.\u001b[0m\u001b[0mvariables\u001b[0m\u001b[1;33m.\u001b[0m\u001b[0m_conv\u001b[0m\u001b[1;33m(\u001b[0m\u001b[0marg_list\u001b[0m\u001b[1;33m[\u001b[0m\u001b[1;36m1\u001b[0m\u001b[1;33m]\u001b[0m\u001b[1;33m)\u001b[0m\u001b[1;33m,\u001b[0m\u001b[1;33m\u001b[0m\u001b[1;33m\u001b[0m\u001b[0m\n\u001b[0m\u001b[0;32m   1626\u001b[0m             arg_list[2])\n\u001b[0;32m   1627\u001b[0m \u001b[1;33m\u001b[0m\u001b[0m\n",
      "\u001b[1;32mD:\\Anaconda3\\envs\\enzyme_python\\lib\\site-packages\\cplex\\_internal\\_subinterfaces.py\u001b[0m in \u001b[0;36m_conv\u001b[1;34m(self, name, cache)\u001b[0m\n\u001b[0;32m    133\u001b[0m     \u001b[1;32mdef\u001b[0m \u001b[0m_conv\u001b[0m\u001b[1;33m(\u001b[0m\u001b[0mself\u001b[0m\u001b[1;33m,\u001b[0m \u001b[0mname\u001b[0m\u001b[1;33m,\u001b[0m \u001b[0mcache\u001b[0m\u001b[1;33m=\u001b[0m\u001b[1;32mNone\u001b[0m\u001b[1;33m)\u001b[0m\u001b[1;33m:\u001b[0m\u001b[1;33m\u001b[0m\u001b[1;33m\u001b[0m\u001b[0m\n\u001b[0;32m    134\u001b[0m         \u001b[1;34m\"\"\"Converts from names to indices as necessary.\"\"\"\u001b[0m\u001b[1;33m\u001b[0m\u001b[1;33m\u001b[0m\u001b[0m\n\u001b[1;32m--> 135\u001b[1;33m         \u001b[1;32mreturn\u001b[0m \u001b[0mconvert\u001b[0m\u001b[1;33m(\u001b[0m\u001b[0mname\u001b[0m\u001b[1;33m,\u001b[0m \u001b[0mself\u001b[0m\u001b[1;33m.\u001b[0m\u001b[0m_get_index\u001b[0m\u001b[1;33m,\u001b[0m \u001b[0mcache\u001b[0m\u001b[1;33m)\u001b[0m\u001b[1;33m\u001b[0m\u001b[1;33m\u001b[0m\u001b[0m\n\u001b[0m\u001b[0;32m    136\u001b[0m \u001b[1;33m\u001b[0m\u001b[0m\n\u001b[0;32m    137\u001b[0m     \u001b[1;33m@\u001b[0m\u001b[0mstaticmethod\u001b[0m\u001b[1;33m\u001b[0m\u001b[1;33m\u001b[0m\u001b[0m\n",
      "\u001b[1;32mD:\\Anaconda3\\envs\\enzyme_python\\lib\\site-packages\\cplex\\_internal\\_aux_functions.py\u001b[0m in \u001b[0;36mconvert\u001b[1;34m(name, getindexfunc, cache)\u001b[0m\n\u001b[0;32m    319\u001b[0m         \u001b[1;31m# no names). This is due to the fact that we end up doing the\u001b[0m\u001b[1;33m\u001b[0m\u001b[1;33m\u001b[0m\u001b[1;33m\u001b[0m\u001b[0m\n\u001b[0;32m    320\u001b[0m         \u001b[1;31m# extra check for sequence types over and over (above).\u001b[0m\u001b[1;33m\u001b[0m\u001b[1;33m\u001b[0m\u001b[1;33m\u001b[0m\u001b[0m\n\u001b[1;32m--> 321\u001b[1;33m         \u001b[1;32mreturn\u001b[0m \u001b[0m_convert_sequence\u001b[0m\u001b[1;33m(\u001b[0m\u001b[0mname\u001b[0m\u001b[1;33m,\u001b[0m \u001b[0mgetindexfunc\u001b[0m\u001b[1;33m,\u001b[0m \u001b[0mcache\u001b[0m\u001b[1;33m)\u001b[0m\u001b[1;33m\u001b[0m\u001b[1;33m\u001b[0m\u001b[0m\n\u001b[0m\u001b[0;32m    322\u001b[0m     \u001b[1;32melse\u001b[0m\u001b[1;33m:\u001b[0m\u001b[1;33m\u001b[0m\u001b[1;33m\u001b[0m\u001b[0m\n\u001b[0;32m    323\u001b[0m         \u001b[1;32mreturn\u001b[0m \u001b[0mname\u001b[0m\u001b[1;33m\u001b[0m\u001b[1;33m\u001b[0m\u001b[0m\n",
      "\u001b[1;32mD:\\Anaconda3\\envs\\enzyme_python\\lib\\site-packages\\cplex\\_internal\\_aux_functions.py\u001b[0m in \u001b[0;36m_convert_sequence\u001b[1;34m(seq, getindexfunc, cache)\u001b[0m\n\u001b[0;32m    287\u001b[0m     \u001b[1;32mfor\u001b[0m \u001b[0mitem\u001b[0m \u001b[1;32min\u001b[0m \u001b[0mseq\u001b[0m\u001b[1;33m:\u001b[0m\u001b[1;33m\u001b[0m\u001b[1;33m\u001b[0m\u001b[0m\n\u001b[0;32m    288\u001b[0m         \u001b[1;32mif\u001b[0m \u001b[0misinstance\u001b[0m\u001b[1;33m(\u001b[0m\u001b[0mitem\u001b[0m\u001b[1;33m,\u001b[0m \u001b[0msix\u001b[0m\u001b[1;33m.\u001b[0m\u001b[0mstring_types\u001b[0m\u001b[1;33m)\u001b[0m\u001b[1;33m:\u001b[0m\u001b[1;33m\u001b[0m\u001b[1;33m\u001b[0m\u001b[0m\n\u001b[1;32m--> 289\u001b[1;33m             \u001b[0midx\u001b[0m \u001b[1;33m=\u001b[0m \u001b[0m_cachelookup\u001b[0m\u001b[1;33m(\u001b[0m\u001b[0mitem\u001b[0m\u001b[1;33m,\u001b[0m \u001b[0mgetindexfunc\u001b[0m\u001b[1;33m,\u001b[0m \u001b[0mcache\u001b[0m\u001b[1;33m)\u001b[0m\u001b[1;33m\u001b[0m\u001b[1;33m\u001b[0m\u001b[0m\n\u001b[0m\u001b[0;32m    290\u001b[0m             \u001b[0mresults\u001b[0m\u001b[1;33m.\u001b[0m\u001b[0mappend\u001b[0m\u001b[1;33m(\u001b[0m\u001b[0midx\u001b[0m\u001b[1;33m)\u001b[0m\u001b[1;33m\u001b[0m\u001b[1;33m\u001b[0m\u001b[0m\n\u001b[0;32m    291\u001b[0m         \u001b[1;32melse\u001b[0m\u001b[1;33m:\u001b[0m\u001b[1;33m\u001b[0m\u001b[1;33m\u001b[0m\u001b[0m\n",
      "\u001b[1;32mD:\\Anaconda3\\envs\\enzyme_python\\lib\\site-packages\\cplex\\_internal\\_aux_functions.py\u001b[0m in \u001b[0;36m_cachelookup\u001b[1;34m(item, getindexfunc, cache)\u001b[0m\n\u001b[0;32m    278\u001b[0m         \u001b[0midx\u001b[0m \u001b[1;33m=\u001b[0m \u001b[0mcache\u001b[0m\u001b[1;33m[\u001b[0m\u001b[0mitem\u001b[0m\u001b[1;33m]\u001b[0m\u001b[1;33m\u001b[0m\u001b[1;33m\u001b[0m\u001b[0m\n\u001b[0;32m    279\u001b[0m     \u001b[1;32mexcept\u001b[0m \u001b[0mKeyError\u001b[0m\u001b[1;33m:\u001b[0m\u001b[1;33m\u001b[0m\u001b[1;33m\u001b[0m\u001b[0m\n\u001b[1;32m--> 280\u001b[1;33m         \u001b[0midx\u001b[0m \u001b[1;33m=\u001b[0m \u001b[0mgetindexfunc\u001b[0m\u001b[1;33m(\u001b[0m\u001b[0mitem\u001b[0m\u001b[1;33m)\u001b[0m\u001b[1;33m\u001b[0m\u001b[1;33m\u001b[0m\u001b[0m\n\u001b[0m\u001b[0;32m    281\u001b[0m         \u001b[0mcache\u001b[0m\u001b[1;33m[\u001b[0m\u001b[0mitem\u001b[0m\u001b[1;33m]\u001b[0m \u001b[1;33m=\u001b[0m \u001b[0midx\u001b[0m\u001b[1;33m\u001b[0m\u001b[1;33m\u001b[0m\u001b[0m\n\u001b[0;32m    282\u001b[0m     \u001b[1;32mreturn\u001b[0m \u001b[0midx\u001b[0m\u001b[1;33m\u001b[0m\u001b[1;33m\u001b[0m\u001b[0m\n",
      "\u001b[1;32mD:\\Anaconda3\\envs\\enzyme_python\\lib\\site-packages\\cplex\\_internal\\_subinterfaces.py\u001b[0m in \u001b[0;36m_get_index\u001b[1;34m(self, name)\u001b[0m\n\u001b[0;32m    151\u001b[0m         return self._get_index_function(\n\u001b[0;32m    152\u001b[0m             \u001b[0mself\u001b[0m\u001b[1;33m.\u001b[0m\u001b[0m_env\u001b[0m\u001b[1;33m.\u001b[0m\u001b[0m_e\u001b[0m\u001b[1;33m,\u001b[0m \u001b[0mself\u001b[0m\u001b[1;33m.\u001b[0m\u001b[0m_cplex\u001b[0m\u001b[1;33m.\u001b[0m\u001b[0m_lp\u001b[0m\u001b[1;33m,\u001b[0m \u001b[0mname\u001b[0m\u001b[1;33m,\u001b[0m\u001b[1;33m\u001b[0m\u001b[1;33m\u001b[0m\u001b[0m\n\u001b[1;32m--> 153\u001b[1;33m             self._env._apienc)\n\u001b[0m\u001b[0;32m    154\u001b[0m \u001b[1;33m\u001b[0m\u001b[0m\n\u001b[0;32m    155\u001b[0m     \u001b[1;32mdef\u001b[0m \u001b[0mget_indices\u001b[0m\u001b[1;33m(\u001b[0m\u001b[0mself\u001b[0m\u001b[1;33m,\u001b[0m \u001b[0mname\u001b[0m\u001b[1;33m)\u001b[0m\u001b[1;33m:\u001b[0m\u001b[1;33m\u001b[0m\u001b[1;33m\u001b[0m\u001b[0m\n",
      "\u001b[1;32mD:\\Anaconda3\\envs\\enzyme_python\\lib\\site-packages\\cplex\\_internal\\_procedural.py\u001b[0m in \u001b[0;36mgetcolindex\u001b[1;34m(env, lp, colname, enc)\u001b[0m\n\u001b[0;32m    956\u001b[0m \u001b[1;33m\u001b[0m\u001b[0m\n\u001b[0;32m    957\u001b[0m \u001b[1;32mdef\u001b[0m \u001b[0mgetcolindex\u001b[0m\u001b[1;33m(\u001b[0m\u001b[0menv\u001b[0m\u001b[1;33m,\u001b[0m \u001b[0mlp\u001b[0m\u001b[1;33m,\u001b[0m \u001b[0mcolname\u001b[0m\u001b[1;33m,\u001b[0m \u001b[0menc\u001b[0m\u001b[1;33m=\u001b[0m\u001b[0mdefault_encoding\u001b[0m\u001b[1;33m)\u001b[0m\u001b[1;33m:\u001b[0m\u001b[1;33m\u001b[0m\u001b[1;33m\u001b[0m\u001b[0m\n\u001b[1;32m--> 958\u001b[1;33m     \u001b[0mindex\u001b[0m \u001b[1;33m=\u001b[0m \u001b[0mCR\u001b[0m\u001b[1;33m.\u001b[0m\u001b[0mintPtr\u001b[0m\u001b[1;33m(\u001b[0m\u001b[1;33m)\u001b[0m\u001b[1;33m\u001b[0m\u001b[1;33m\u001b[0m\u001b[0m\n\u001b[0m\u001b[0;32m    959\u001b[0m     status = CR.CPXXgetcolindex(env, lp, cpx_decode_noop3(colname, enc),\n\u001b[0;32m    960\u001b[0m                                 index)\n",
      "\u001b[1;31mSystemError\u001b[0m: <built-in function delete_intPtr> returned a result with an error set"
     ]
    }
   ],
   "source": [
    "round_num = 1\n",
    "f = 0.406\n",
    "ptot = 0.56 \n",
    "sigma = 1\n",
    "enz_total = round(ptot * f * sigma, 3)\n",
    "json_model_path = \"./model/iML1515_irr_enz_constraint_kapp.json\"\n",
    "reaction_flux_file = './analysis/ECMpy_kapp_adj_solution_df_pfba.csv'\n",
    "enz_model=get_enzyme_constraint_model(json_model_path)\n",
    "enz_model_pfba_solution = get_fluxes_detail_in_model(enz_model,reaction_flux_file)\n",
    "print('model original biomass :')\n",
    "print(enz_model_pfba_solution.fluxes['BIOMASS_Ec_iML1515_core_75p37M'])\n",
    "\n",
    "c13reaction_file = './data/C13reaction.csv' \n",
    "c13reaction = pd.read_csv(c13reaction_file, index_col=0)\n",
    "c13reaction = list(c13reaction.index)\n",
    "enz_model_pfba_solution_select = enz_model_pfba_solution[enz_model_pfba_solution['fluxes']>0]\n",
    "enz_model_pfba_solution_select_id = list(enz_model_pfba_solution_select.index)\n",
    "c13reaction_2_enz_model_diff=list(set(c13reaction).difference(set(enz_model_pfba_solution_select_id)))\n",
    "print (c13reaction_2_enz_model_diff)\n",
    "\n",
    "save_file=\"./analysis/reaction_kapp_change_c13_enz_usage.csv\"\n",
    "reaction_kcat_mw = calculate_reaction_kcat_mw(reaction_kcat_file, reaction_mw, save_file)\n",
    "reaction_flux_file = './analysis/ECMpy_kapp_adj_solution_df_pfba.csv'\n",
    "reaction_kcat_mw_file = \"./analysis/reaction_kapp_change_c13_enz_usage.csv\" \n",
    "reaction_enz_usage_file = './analysis/ECMpy_kapp_adj_reaction_enz_usage_df.csv'\n",
    "model_file = './data/iML1515.xml' \n",
    "json_model_file=\"./model/iML1515_irr_enz_constraint_adj.json\"\n",
    "lowerbound = 0 \n",
    "\n",
    "change_reaction_list =[]\n",
    "\n",
    "while(len(c13reaction_2_enz_model_diff)>2 and len(reaction_kcat_mw.index)>round_num):\n",
    "    print(round_num)\n",
    "    reaction_enz_usage_df = get_enzyme_usage(enz_total,reaction_flux_file,reaction_kcat_mw_file,reaction_enz_usage_file)\n",
    "    print(reaction_enz_usage_df.head(5))\n",
    "\n",
    "    for eachreaction in reaction_enz_usage_df.index:\n",
    "        if eachreaction in change_reaction_list:\n",
    "            pass\n",
    "        else:\n",
    "            print(eachreaction)\n",
    "            select_reaction = [eachreaction]\n",
    "            change_reaction_list.append(eachreaction)\n",
    "            break\n",
    "\n",
    "    change_reaction_kcat_by_autopacmen(select_reaction,reaction_kcat_mw_file,reaction_kcat_mw_file)\n",
    "    trans_model2enz_json_model(model_file, reaction_kcat_mw_file, f, ptot, sigma, lowerbound, enz_total, json_model_file)\n",
    "\n",
    "    enz_model=get_enzyme_constraint_model(json_model_file)\n",
    "    enz_model_pfba_solution = get_fluxes_detail_in_model(enz_model,reaction_flux_file)\n",
    "    print(enz_model_pfba_solution.fluxes['BIOMASS_Ec_iML1515_core_75p37M'])\n",
    "\n",
    "    enz_model_pfba_solution_select = enz_model_pfba_solution[enz_model_pfba_solution['fluxes']>0]\n",
    "    enz_model_pfba_solution_select_id = list(enz_model_pfba_solution_select.index)\n",
    "    c13reaction_2_enz_model_diff=list(set(c13reaction).difference(set(enz_model_pfba_solution_select_id)))\n",
    "    print('C13 reaction diff :')\n",
    "    print (c13reaction_2_enz_model_diff)  \n",
    "    round_num = round_num+1\n",
    "    print('changed reaction list :')\n",
    "    print(change_reaction_list)"
   ]
  },
  {
   "cell_type": "code",
   "execution_count": null,
   "metadata": {},
   "outputs": [],
   "source": []
  },
  {
   "cell_type": "code",
   "execution_count": 43,
   "metadata": {},
   "outputs": [
    {
     "output_type": "stream",
     "name": "stdout",
     "text": [
      "['PDH', 'GAPD', 'NADH16pp', 'ENO', 'RBFSa', 'KARA2', 'KARA1_reverse', 'FBA', 'METS', 'GHMT2r', 'GLNS', 'GND', 'PGK_reverse', 'PGI', 'PPC', 'METAT', 'ATPS4rpp', 'ARGSS', 'GTPCI', 'PGM_reverse', 'MOHMT']\n['PDH', 'GAPD', 'NADH16pp', 'ENO', 'RBFSa', 'KARA2', 'KARA1_reverse', 'FBA', 'METS', 'GHMT2r', 'GLNS', 'GND', 'PGK_reverse', 'PGI', 'PPC', 'METAT', 'GTPCI', 'PGM_reverse', 'MOHMT']\n"
     ]
    }
   ],
   "source": [
    "select_reaction = list(reaction_enz_usage_df[reaction_enz_usage_df['enz ratio']>0.01].index)#more than 1%\n",
    "print(select_reaction)\n",
    "reaction_kcat_mw_file = \"./analysis/reaction_kapp_change_c13.csv\"\n",
    "reaction_kapp_change_file = \"./analysis/reaction_kapp_change_c13_enzuse.csv\"\n",
    "\n",
    "change_reaction_list=change_reaction_kcat_by_autopacmen(select_reaction,reaction_kcat_mw_file,reaction_kapp_change_file)\n",
    "print(change_reaction_list)"
   ]
  },
  {
   "cell_type": "code",
   "execution_count": 44,
   "metadata": {},
   "outputs": [],
   "source": [
    "model_file = './data/iML1515.xml' \n",
    "reaction_kcat_mw_file=\"./analysis/reaction_kapp_change_c13_enzuse.csv\"\n",
    "json_output_file=\"./model/iML1515_irr_enz_constraint_adj_round2.json\"\n",
    "f = 0.406\n",
    "ptot = 0.56 \n",
    "sigma = 1\n",
    "lowerbound = 0   \n",
    "upperbound = round(ptot * f * sigma, 3)\n",
    "\n",
    "trans_model2enz_json_model(model_file, reaction_kcat_mw_file, f, ptot, sigma, lowerbound, upperbound, json_output_file)"
   ]
  },
  {
   "cell_type": "code",
   "execution_count": 45,
   "metadata": {},
   "outputs": [
    {
     "output_type": "stream",
     "name": "stdout",
     "text": [
      "0.7041020384688522\n"
     ]
    }
   ],
   "source": [
    "json_model_path = \"./model/iML1515_irr_enz_constraint_adj_round2.json\"\n",
    "fluxes_outfile = './analysis/ECMpy_kapp_adj_round2_solution_df_pfba.csv'\n",
    "enz_model=get_enzyme_constraint_model(json_model_path)\n",
    "enz_model_pfba_solution = get_fluxes_detail_in_model(enz_model,fluxes_outfile)\n",
    "print(enz_model_pfba_solution.fluxes['BIOMASS_Ec_iML1515_core_75p37M'])"
   ]
  },
  {
   "cell_type": "code",
   "execution_count": 46,
   "metadata": {},
   "outputs": [
    {
     "output_type": "stream",
     "name": "stdout",
     "text": [
      "['ME2', 'PFL', 'SUCOAS_reverse']\n"
     ]
    }
   ],
   "source": [
    "c13reaction_file = './data/C13reaction.csv' \n",
    "c13reaction = pd.read_csv(c13reaction_file, index_col=0)\n",
    "c13reaction = list(c13reaction.index)\n",
    "\n",
    "enz_model_pfba_solution_select = enz_model_pfba_solution[enz_model_pfba_solution['fluxes']>0]\n",
    "enz_model_pfba_solution_select_id = list(enz_model_pfba_solution_select.index)\n",
    "c13reaction_2_enz_model_diff=list(set(c13reaction).difference(set(enz_model_pfba_solution_select_id)))\n",
    "print (c13reaction_2_enz_model_diff)"
   ]
  },
  {
   "source": [
    "# Step4: Solveing enzyme concentration constraint by COBRApy."
   ],
   "cell_type": "markdown",
   "metadata": {}
  },
  {
   "cell_type": "code",
   "execution_count": 21,
   "metadata": {},
   "outputs": [
    {
     "output_type": "execute_result",
     "data": {
      "text/plain": [
       "0.7901116510198356"
      ]
     },
     "metadata": {},
     "execution_count": 21
    }
   ],
   "source": [
    "#run enzyme constraint metabolic model\n",
    "json_model_path=\"./model/iML1515_irr_enz_constraint_adj_round2.json\"\n",
    "enz_model=get_enzyme_constraint_model(json_model_path)\n",
    "pfba_solution = cobra.flux_analysis.pfba(enz_model)\n",
    "pfba_solution_df = pfba_solution.to_frame()\n",
    "#pfba_solution_df.to_csv('./analysis/ECMpy_solution_df_pfba.csv')\n",
    "pfba_solution.fluxes['BIOMASS_Ec_iML1515_core_75p37M']"
   ]
  },
  {
   "cell_type": "code",
   "execution_count": 22,
   "metadata": {},
   "outputs": [
    {
     "output_type": "execute_result",
     "data": {
      "text/plain": [
       "0.8769972144269698"
      ]
     },
     "metadata": {},
     "execution_count": 22
    }
   ],
   "source": [
    "#run genome-scale metabolic model\n",
    "norm_model=cobra.io.json.load_json_model(json_model_path)\n",
    "pfba_solution = cobra.flux_analysis.pfba(norm_model)\n",
    "pfba_solution_df = pfba_solution.to_frame()\n",
    "#pfba_solution_df.to_csv('./analysis/Orimodel_solution_df_pfba.csv')\n",
    "pfba_solution.fluxes['BIOMASS_Ec_iML1515_core_75p37M']\n"
   ]
  },
  {
   "cell_type": "code",
   "execution_count": null,
   "metadata": {},
   "outputs": [],
   "source": []
  }
 ],
 "metadata": {
  "kernelspec": {
   "name": "Python 3.6.9 64-bit ('enzyme_python': conda)",
   "display_name": "Python 3.6.9 64-bit ('enzyme_python': conda)",
   "metadata": {
    "interpreter": {
     "hash": "f09aca8c570770933bc8e36ab92e2e40def5319b75eec09cb13378d4d93d76ce"
    }
   }
  },
  "language_info": {
   "codemirror_mode": {
    "name": "ipython",
    "version": 3
   },
   "file_extension": ".py",
   "mimetype": "text/x-python",
   "name": "python",
   "nbconvert_exporter": "python",
   "pygments_lexer": "ipython3",
   "version": "3.6.9-final"
  }
 },
 "nbformat": 4,
 "nbformat_minor": 2
}