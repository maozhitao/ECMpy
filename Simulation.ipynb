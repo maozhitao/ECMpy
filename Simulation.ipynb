{
 "cells": [
  {
   "cell_type": "markdown",
   "metadata": {},
   "source": [
    "# Import related pacakages"
   ]
  },
  {
   "cell_type": "code",
   "execution_count": 1,
   "metadata": {},
   "outputs": [],
   "source": [
    "import cobra\n",
    "import sys\n",
    "sys.path.append(r'./code/')\n",
    "from cobrapy_ec_model_function import *"
   ]
  },
  {
   "cell_type": "markdown",
   "metadata": {},
   "source": [
    "# Inputing files"
   ]
  },
  {
   "cell_type": "code",
   "execution_count": 2,
   "metadata": {},
   "outputs": [],
   "source": [
    "json_model_path=\"./model/iML1515_irr_enz_constraint_adj_manual.json\"\n",
    "model=get_enzyme_constraint_model(json_model_path)"
   ]
  },
  {
   "cell_type": "markdown",
   "metadata": {},
   "source": [
    "# Simulating overflow metabolism of E. coli"
   ]
  },
  {
   "cell_type": "code",
   "execution_count": 17,
   "metadata": {},
   "outputs": [],
   "source": [
    "#growth_rate from 0.1 to 0.7 (1/h)\n",
    "overflow_result = pd.DataFrame()\n",
    "growth_rate = 0.1\n",
    "while growth_rate <= 0.9:\n",
    "    with model as overflow_model:\n",
    "        #overflow_model.reactions.get_by_id('EX_glc__D_e_reverse').bounds = (0.0, 100)\n",
    "        overflow_model.reactions.get_by_id('EX_glc__D_e').bounds = (-1000.0, 0.0)\n",
    "        overflow_model.reactions.get_by_id('BIOMASS_Ec_iML1515_core_75p37M').bounds = (growth_rate, growth_rate)\n",
    "        \n",
    "        overflow_model.objective = 'EX_glc__D_e'\n",
    "        pfba_solution = cobra.flux_analysis.pfba(overflow_model)\n",
    "        #overflow_result.loc[growth_rate, 'glucose'] = -pfba_solution.fluxes['EX_glc__D_e']\n",
    "        overflow_result.loc[growth_rate, 'glucose'] = pfba_solution.fluxes['EX_glc__D_e_reverse']\n",
    "        overflow_result.loc[growth_rate, 'ac'] = pfba_solution.fluxes['EX_ac_e']\n",
    "        overflow_result.loc[growth_rate, 'o2_reverse'] = pfba_solution.fluxes['EX_o2_e_reverse']\n",
    "        growth_rate = growth_rate + 0.05\n",
    "overflow_result.to_csv(\"./analysis/pfba_overflow_result.csv\")\n",
    "\n",
    "pfba_solution_df = pfba_solution.to_frame()\n",
    "pfba_solution_df.to_csv('./analysis/ECMpy_solution_df_pfba.csv')"
   ]
  },
  {
   "cell_type": "code",
   "execution_count": 10,
   "metadata": {},
   "outputs": [],
   "source": [
    "#growth_rate from 0.1 to 0.7 (1/h)\n",
    "overflow_result = pd.DataFrame()\n",
    "growth_rate = 0.1\n",
    "while growth_rate <= 1.2:\n",
    "    with model as overflow_model:\n",
    "        overflow_model.reactions.get_by_id('EX_glc__D_e_reverse').bounds = (0.0, 0.0)\n",
    "        overflow_model.reactions.get_by_id('EX_glc__D_e').bounds = (-1000.0, 0.0)\n",
    "        overflow_model.reactions.get_by_id('BIOMASS_Ec_iML1515_core_75p37M').bounds = (growth_rate, growth_rate)\n",
    "        \n",
    "        overflow_model.objective = 'EX_glc__D_e'\n",
    "        pfba_solution = cobra.flux_analysis.pfba(overflow_model)\n",
    "        overflow_result.loc[growth_rate, 'glucose'] = -pfba_solution.fluxes['EX_glc__D_e']\n",
    "        overflow_result.loc[growth_rate, 'ac'] = pfba_solution.fluxes['EX_ac_e']\n",
    "        overflow_result.loc[growth_rate, 'o2_reverse'] = pfba_solution.fluxes['EX_o2_e_reverse']\n",
    "        growth_rate = growth_rate + 0.05\n",
    "overflow_result.to_csv(\"./analysis/pfba_overflow_result.csv\")"
   ]
  },
  {
   "cell_type": "code",
   "execution_count": 15,
   "metadata": {},
   "outputs": [],
   "source": [
    "pfba_solution_df = pfba_solution.to_frame()\n",
    "pfba_solution_df.to_csv('./analysis/ECMpy_solution_df_pfba.csv')"
   ]
  },
  {
   "cell_type": "markdown",
   "metadata": {},
   "source": [
    "# Predicting E. coli’s maximum growth rate using different carbon sources"
   ]
  },
  {
   "cell_type": "code",
   "execution_count": 4,
   "metadata": {},
   "outputs": [],
   "source": [
    "substrates = ['EX_acgam_e', 'EX_ac_e', 'EX_akg_e', 'EX_ala__L_e', 'EX_fru_e', \n",
    "        'EX_fum_e', 'EX_g6p_e', 'EX_gal_e', 'EX_gam_e', 'EX_glcn_e', \n",
    "        'EX_glc__D_e', 'EX_glyc_e', 'EX_gsn_e', 'EX_lac__L_e', 'EX_malt_e', \n",
    "        'EX_mal__L_e', 'EX_man_e', 'EX_mnl_e', 'EX_pyr_e', 'EX_rib__D_e', \n",
    "        'EX_sbt__D_e', 'EX_succ_e', 'EX_tre_e', 'EX_xyl__D_e']\n",
    "growth = pd.DataFrame()\n",
    "for substrate in substrates:\n",
    "    with model as growth_model: \n",
    "        growth_model.reactions.get_by_id('EX_dha_e').bounds = (0.0, 0.0) \n",
    "        growth_model.reactions.get_by_id('EX_pyr_e').bounds = (0.0, 0.0) \n",
    "        growth_model.reactions.get_by_id('EX_5dglcn_e').bounds = (0.0, 0.0) \n",
    "        growth_model.reactions.get_by_id('EX_xan_e').bounds = (0.0, 0.0) \n",
    "        growth_model.reactions.get_by_id('EX_fum_e').bounds = (0.0, 0.0) \n",
    "        growth_model.reactions.get_by_id('EX_succ_e').bounds = (0.0, 0.0)\n",
    "        growth_model.reactions.get_by_id('EX_for_e').bounds = (0.0, 0.0)\n",
    "        growth_model.reactions.get_by_id('EX_glcn_e').bounds = (0.0, 0.0)\n",
    "        growth_model.reactions.get_by_id('EX_glc__D_e_reverse').bounds =(0.0, 0.0) \n",
    "        growth_model.reactions.get_by_id(substrate).bounds = (-1000.0, 0.0)\n",
    "        pfba_solution = cobra.flux_analysis.pfba(growth_model)\n",
    "        growth.loc[substrate, 'pfba_flux'] = pfba_solution.fluxes['BIOMASS_Ec_iML1515_core_75p37M']\n",
    "        growth.loc[substrate, 'sub_flux'] = pfba_solution.fluxes[substrate]\n",
    "growth.to_csv(\"./analysis/growth_pfba.csv\")"
   ]
  },
  {
   "cell_type": "code",
   "execution_count": null,
   "metadata": {},
   "outputs": [],
   "source": []
  }
 ],
 "metadata": {
  "kernelspec": {
   "name": "python3",
   "display_name": "Python 3.6.9 64-bit ('enzyme_python': conda)",
   "metadata": {
    "interpreter": {
     "hash": "f09aca8c570770933bc8e36ab92e2e40def5319b75eec09cb13378d4d93d76ce"
    }
   }
  },
  "language_info": {
   "codemirror_mode": {
    "name": "ipython",
    "version": 3
   },
   "file_extension": ".py",
   "mimetype": "text/x-python",
   "name": "python",
   "nbconvert_exporter": "python",
   "pygments_lexer": "ipython3",
   "version": "3.6.9-final"
  }
 },
 "nbformat": 4,
 "nbformat_minor": 2
}