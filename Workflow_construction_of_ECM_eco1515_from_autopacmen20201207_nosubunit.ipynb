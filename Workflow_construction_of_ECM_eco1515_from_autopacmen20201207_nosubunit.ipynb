{
 "cells": [
  {
   "cell_type": "markdown",
   "metadata": {},
   "source": [
    "# Import related pacakages"
   ]
  },
  {
   "cell_type": "code",
   "execution_count": 1,
   "metadata": {},
   "outputs": [],
   "source": [
    "import cobra\n",
    "import sys\n",
    "sys.path.append(r'./code/')\n",
    "from cobrapy_ec_model_function import *"
   ]
  },
  {
   "cell_type": "markdown",
   "metadata": {},
   "source": [
    "# Inputing files"
   ]
  },
  {
   "cell_type": "code",
   "execution_count": 11,
   "metadata": {},
   "outputs": [],
   "source": [
    "# The genome-scale metabolic model for constructing the enzyme-constrained model\n",
    "model_name = './model/iML1515_new.xml' \n",
    "#model_name = './data/iML1515.xml' \n",
    "\n",
    "# Reaction-kcat file.#s-1\n",
    "# eg. AADDGT,\"forward\": 1.30037482842091\n",
    "#reaction_kcat_file = \"./data/autopacmen/iml1515_new_median_reactions_kcat_mapping_combined.json\"\n",
    "reaction_kcat_file = \"./data/autopacmen/iml1515_new_mean_reactions_kcat_mapping_combined.json\"\n",
    "\n",
    "# Gene-abundance file. \n",
    "# eg. b0789,1.1\n",
    "gene_abundance_file = \"./data/gene_abundance.csv\"\n",
    "\n",
    "# Gene-molecular_weight file. \n",
    "# eg. b3500,48771.94 #Da需要除以1000为kDa\n",
    "gene_molecular_weight_file = \"./data/gene_molecular_weight.csv\"\n",
    "#protein_molecular_weight_file = \"./data/autopacmen/iml1515_new_median_protein_id_mass_mapping.json\"\n",
    "protein_molecular_weight_file = \"./data/autopacmen/iml1515_new_mean_protein_id_mass_mapping.json\"\n",
    "\n",
    "gene_outfile = \"./analysis/genes.csv\"\n",
    "gpr_outfile = \"./analysis/all_reaction_GPR.csv\"\n",
    "reaction_gene_subunit_file = \"./data/reaction_gene_subunit_20201201.csv\"\n",
    "reaction_gene_subunit_MW_file = \"./analysis/reaction_gene_subunit_MW.csv\"\n",
    "reaction_MW_file = \"./analysis/reaction_MW.csv\"\n",
    "reaction_kcat_MW_file = \"./analysis/reaction_kcat_MW.csv\""
   ]
  },
  {
   "cell_type": "markdown",
   "metadata": {},
   "source": [
    "# Step1: Preprocessing of model"
   ]
  },
  {
   "cell_type": "markdown",
   "metadata": {},
   "source": [
    "The reversible reactions in the GEM model are divided into two irreversible reactions and splited isoenzyme. The input is iML1515 with 2712 reactions. The output is a model with 3375 irreversible reactions."
   ]
  },
  {
   "cell_type": "code",
   "execution_count": 12,
   "metadata": {
    "tags": []
   },
   "outputs": [
    {
     "output_type": "execute_result",
     "data": {
      "text/plain": [
       "<Model iML1515 at 0x1f954b7deb8>"
      ],
      "text/html": "\n        <table>\n            <tr>\n                <td><strong>Name</strong></td>\n                <td>iML1515</td>\n            </tr><tr>\n                <td><strong>Memory address</strong></td>\n                <td>0x01f954b7deb8</td>\n            </tr><tr>\n                <td><strong>Number of metabolites</strong></td>\n                <td>1877</td>\n            </tr><tr>\n                <td><strong>Number of reactions</strong></td>\n                <td>5883</td>\n            </tr><tr>\n                <td><strong>Number of groups</strong></td>\n                <td>38</td>\n            </tr><tr>\n                <td><strong>Objective expression</strong></td>\n                <td>1.0*BIOMASS_Ec_iML1515_core_75p37M - 1.0*BIOMASS_Ec_iML1515_core_75p37M_reverse_35685</td>\n            </tr><tr>\n                <td><strong>Compartments</strong></td>\n                <td>cytosol, extracellular space, periplasm</td>\n            </tr>\n          </table>"
     },
     "metadata": {},
     "execution_count": 12
    }
   ],
   "source": [
    "model = cobra.io.read_sbml_model(model_name)\n",
    "convert_to_irreversible(model)\n",
    "#split isoenzyme\n",
    "model = isoenzyme_split(model)\n",
    "model"
   ]
  },
  {
   "cell_type": "markdown",
   "metadata": {},
   "source": [
    "# Step2: Retrieving enzyme kinetics and proteomics data"
   ]
  },
  {
   "cell_type": "markdown",
   "metadata": {},
   "source": [
    "The inputs are GEM model. The outputs are 'genes' and 'gpr_relationship' data in the iML1515."
   ]
  },
  {
   "cell_type": "code",
   "execution_count": 13,
   "metadata": {},
   "outputs": [],
   "source": [
    "[genes,gpr_relationship] = get_genes_and_gpr(model,gene_outfile,gpr_outfile)"
   ]
  },
  {
   "cell_type": "markdown",
   "metadata": {},
   "source": [
    "Get the molecular weight of the enzyme (MW) according to the file of all_reaction_GPR.csv, which obtained from the previous step (gpr_relationship, ./analysis/all_reaction_GPR.csv). We need to manually correct the error of the gene_reaction_rule of a small amount of reactions in iML1515 (See Supplementary Table S1 for details), and also need to manually get the subunit of each protein from EcoCyc."
   ]
  },
  {
   "cell_type": "code",
   "execution_count": 14,
   "metadata": {},
   "outputs": [
    {
     "output_type": "execute_result",
     "data": {
      "text/plain": [
       "                                                   name gene_reaction_rule  \\\n",
       "ALATA_D2_num1                    D-alanine transaminase              b2551   \n",
       "ALATA_D2_num2                    D-alanine transaminase              b0870   \n",
       "SHCHD2             Sirohydrochlorin dehydrogenase (NAD)              b3368   \n",
       "CPPPGO         Coproporphyrinogen oxidase (O2 required)              b2436   \n",
       "GTHOr                        Glutathione oxidoreductase              b3500   \n",
       "\n",
       "              subunit_num subunit_mw  \n",
       "ALATA_D2_num1           2    45.3161  \n",
       "ALATA_D2_num2          4     36.4943  \n",
       "SHCHD2                  2    49.9508  \n",
       "CPPPGO                  2    34.3222  \n",
       "GTHOr                   2    48.7719  "
      ],
      "text/html": "<div>\n<style scoped>\n    .dataframe tbody tr th:only-of-type {\n        vertical-align: middle;\n    }\n\n    .dataframe tbody tr th {\n        vertical-align: top;\n    }\n\n    .dataframe thead th {\n        text-align: right;\n    }\n</style>\n<table border=\"1\" class=\"dataframe\">\n  <thead>\n    <tr style=\"text-align: right;\">\n      <th></th>\n      <th>name</th>\n      <th>gene_reaction_rule</th>\n      <th>subunit_num</th>\n      <th>subunit_mw</th>\n    </tr>\n  </thead>\n  <tbody>\n    <tr>\n      <th>ALATA_D2_num1</th>\n      <td>D-alanine transaminase</td>\n      <td>b2551</td>\n      <td>2</td>\n      <td>45.3161</td>\n    </tr>\n    <tr>\n      <th>ALATA_D2_num2</th>\n      <td>D-alanine transaminase</td>\n      <td>b0870</td>\n      <td>4</td>\n      <td>36.4943</td>\n    </tr>\n    <tr>\n      <th>SHCHD2</th>\n      <td>Sirohydrochlorin dehydrogenase (NAD)</td>\n      <td>b3368</td>\n      <td>2</td>\n      <td>49.9508</td>\n    </tr>\n    <tr>\n      <th>CPPPGO</th>\n      <td>Coproporphyrinogen oxidase (O2 required)</td>\n      <td>b2436</td>\n      <td>2</td>\n      <td>34.3222</td>\n    </tr>\n    <tr>\n      <th>GTHOr</th>\n      <td>Glutathione oxidoreductase</td>\n      <td>b3500</td>\n      <td>2</td>\n      <td>48.7719</td>\n    </tr>\n  </tbody>\n</table>\n</div>"
     },
     "metadata": {},
     "execution_count": 14
    }
   ],
   "source": [
    "reaction_gene_subunit_MW = get_reaction_gene_subunit_MW(reaction_gene_subunit_file,protein_molecular_weight_file,reaction_gene_subunit_MW_file)\n",
    "reaction_gene_subunit_MW.head(5)"
   ]
  },
  {
   "cell_type": "code",
   "execution_count": 15,
   "metadata": {},
   "outputs": [
    {
     "output_type": "execute_result",
     "data": {
      "text/plain": [
       "                    MW\n",
       "ALATA_D2_num1  45.3161\n",
       "ALATA_D2_num2  36.4943\n",
       "SHCHD2         49.9508\n",
       "CPPPGO         34.3222\n",
       "GTHOr          48.7719"
      ],
      "text/html": "<div>\n<style scoped>\n    .dataframe tbody tr th:only-of-type {\n        vertical-align: middle;\n    }\n\n    .dataframe tbody tr th {\n        vertical-align: top;\n    }\n\n    .dataframe thead th {\n        text-align: right;\n    }\n</style>\n<table border=\"1\" class=\"dataframe\">\n  <thead>\n    <tr style=\"text-align: right;\">\n      <th></th>\n      <th>MW</th>\n    </tr>\n  </thead>\n  <tbody>\n    <tr>\n      <th>ALATA_D2_num1</th>\n      <td>45.3161</td>\n    </tr>\n    <tr>\n      <th>ALATA_D2_num2</th>\n      <td>36.4943</td>\n    </tr>\n    <tr>\n      <th>SHCHD2</th>\n      <td>49.9508</td>\n    </tr>\n    <tr>\n      <th>CPPPGO</th>\n      <td>34.3222</td>\n    </tr>\n    <tr>\n      <th>GTHOr</th>\n      <td>48.7719</td>\n    </tr>\n  </tbody>\n</table>\n</div>"
     },
     "metadata": {},
     "execution_count": 15
    }
   ],
   "source": [
    "# reaction-gene-subunit-MW file. \n",
    "# eg. ALATA_D2,D-alanine transaminase,b2551 or b0870,45.31659 or 36.49471 ,2 or 4 \n",
    "reaction_MW = calculate_reaction_mw_not_consider_subunit(reaction_gene_subunit_MW_file,reaction_MW_file)\n",
    "reaction_MW.head(5)"
   ]
  },
  {
   "cell_type": "markdown",
   "metadata": {},
   "source": [
    "Calculate kcat/MW. The inputs are 'reaction_kcat' and 'reaction_MW' data for calculating the kcat/MW (When the reaction is catalyzed by several isozymes, the maximum is retained)."
   ]
  },
  {
   "cell_type": "code",
   "execution_count": 16,
   "metadata": {},
   "outputs": [
    {
     "output_type": "execute_result",
     "data": {
      "text/plain": [
       "                    MW          kcat       kcat_MW\n",
       "ALATA_D2_num1  45.3161  4.681349e+03    103.304331\n",
       "ALATA_D2_num2  36.4943  4.681349e+03    128.276180\n",
       "CPPPGO         34.3222  2.750765e+03     80.145348\n",
       "GTHOr          48.7719  1.168425e+06  23956.924528\n",
       "DHORD5         36.7741  1.598654e+05   4347.227550"
      ],
      "text/html": "<div>\n<style scoped>\n    .dataframe tbody tr th:only-of-type {\n        vertical-align: middle;\n    }\n\n    .dataframe tbody tr th {\n        vertical-align: top;\n    }\n\n    .dataframe thead th {\n        text-align: right;\n    }\n</style>\n<table border=\"1\" class=\"dataframe\">\n  <thead>\n    <tr style=\"text-align: right;\">\n      <th></th>\n      <th>MW</th>\n      <th>kcat</th>\n      <th>kcat_MW</th>\n    </tr>\n  </thead>\n  <tbody>\n    <tr>\n      <th>ALATA_D2_num1</th>\n      <td>45.3161</td>\n      <td>4.681349e+03</td>\n      <td>103.304331</td>\n    </tr>\n    <tr>\n      <th>ALATA_D2_num2</th>\n      <td>36.4943</td>\n      <td>4.681349e+03</td>\n      <td>128.276180</td>\n    </tr>\n    <tr>\n      <th>CPPPGO</th>\n      <td>34.3222</td>\n      <td>2.750765e+03</td>\n      <td>80.145348</td>\n    </tr>\n    <tr>\n      <th>GTHOr</th>\n      <td>48.7719</td>\n      <td>1.168425e+06</td>\n      <td>23956.924528</td>\n    </tr>\n    <tr>\n      <th>DHORD5</th>\n      <td>36.7741</td>\n      <td>1.598654e+05</td>\n      <td>4347.227550</td>\n    </tr>\n  </tbody>\n</table>\n</div>"
     },
     "metadata": {},
     "execution_count": 16
    }
   ],
   "source": [
    "reaction_kcat_mw = calculate_reaction_kcat_mw(reaction_kcat_file, reaction_MW_file, reaction_kcat_MW_file)\n",
    "reaction_kcat_mw.head(5)"
   ]
  },
  {
   "cell_type": "markdown",
   "metadata": {},
   "source": [
    "Calculate f. The input is 'genes' data, 'gene_abundance.csv' and 'gene_molecular_weight.csv'."
   ]
  },
  {
   "cell_type": "code",
   "execution_count": 17,
   "metadata": {
    "tags": []
   },
   "outputs": [
    {
     "output_type": "execute_result",
     "data": {
      "text/plain": [
       "0.4059986079578236"
      ]
     },
     "metadata": {},
     "execution_count": 17
    }
   ],
   "source": [
    "f = calculate_f(genes, gene_abundance_file, gene_molecular_weight_file)\n",
    "f"
   ]
  },
  {
   "cell_type": "markdown",
   "metadata": {},
   "source": [
    "# Step3: Save enzyme concentration constraint model as json file."
   ]
  },
  {
   "cell_type": "code",
   "execution_count": 18,
   "metadata": {},
   "outputs": [],
   "source": [
    "#*2\n",
    "#PDH,1459824,608.26,2400\n",
    "#SUCOAS_reverse,1447200,142.3403,10167.1839\n",
    "reaction_kcat_mw_file=\"./analysis/reaction_kcat_MW.csv\"\n",
    "json_output_file=\"./model/iML1515_irr_enz_constraint_autopacmen.json\"\n",
    "#The enzyme mass fraction \n",
    "f = 0.406\n",
    "# The total protein fraction in cell.\n",
    "ptot = 0.56 \n",
    "# The approximated average saturation of enzyme.\n",
    "#sigma = 0.5 \n",
    "sigma = 1 #kapp data sigma is 1\n",
    "# Lowerbound  of enzyme concentration constraint. \n",
    "lowerbound = 0   \n",
    "upperbound = round(ptot * f * sigma, 3)\n",
    "\n",
    "trans_model2enz_json_model_split_isoenzyme(model_name, reaction_kcat_mw_file, f, ptot, sigma, lowerbound, upperbound, json_output_file)"
   ]
  },
  {
   "cell_type": "code",
   "execution_count": 19,
   "metadata": {},
   "outputs": [
    {
     "output_type": "stream",
     "name": "stdout",
     "text": [
      "0.8697726420320155\n",
      "0.869772642032012\n"
     ]
    }
   ],
   "source": [
    "json_model_path = \"./model/iML1515_irr_enz_constraint_autopacmen.json\"\n",
    "fluxes_outfile = './analysis/ECMpy_ori_solution_df_pfba.csv'\n",
    "reaction_kcat_mw_file=\"./analysis/reaction_kcat_MW.csv\"\n",
    "enz_model=get_enzyme_constraint_model(json_model_path)\n",
    "enz_model_pfba_solution = get_fluxes_detail_in_model(enz_model,fluxes_outfile,reaction_kcat_mw_file)\n",
    "print(enz_model_pfba_solution.fluxes['BIOMASS_Ec_iML1515_core_75p37M'])\n",
    "\n",
    "norm_model = cobra.io.json.load_json_model(json_model_path)\n",
    "norm_model_pfba_solution = cobra.flux_analysis.pfba(norm_model)\n",
    "norm_model_pfba_solution_df = norm_model_pfba_solution.to_frame()\n",
    "norm_model_pfba_solution_df.to_csv('./analysis/Orimodel_solution_df_pfba.csv')\n",
    "print(norm_model_pfba_solution_df.fluxes['BIOMASS_Ec_iML1515_core_75p37M'])"
   ]
  },
  {
   "cell_type": "code",
   "execution_count": null,
   "metadata": {},
   "outputs": [],
   "source": []
  }
 ],
 "metadata": {
  "kernelspec": {
   "name": "python3",
   "display_name": "Python 3.6.9 64-bit ('enzyme_python': conda)",
   "metadata": {
    "interpreter": {
     "hash": "f09aca8c570770933bc8e36ab92e2e40def5319b75eec09cb13378d4d93d76ce"
    }
   }
  },
  "language_info": {
   "codemirror_mode": {
    "name": "ipython",
    "version": 3
   },
   "file_extension": ".py",
   "mimetype": "text/x-python",
   "name": "python",
   "nbconvert_exporter": "python",
   "pygments_lexer": "ipython3",
   "version": "3.6.9-final"
  }
 },
 "nbformat": 4,
 "nbformat_minor": 2
}