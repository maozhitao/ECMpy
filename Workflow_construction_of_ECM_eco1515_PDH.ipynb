{
 "cells": [
  {
   "cell_type": "markdown",
   "metadata": {},
   "source": [
    "# Import related pacakages"
   ]
  },
  {
   "cell_type": "code",
   "execution_count": 1,
   "metadata": {},
   "outputs": [],
   "source": [
    "import cobra\n",
    "import sys\n",
    "sys.path.append(r'./code/')\n",
    "from cobrapy_ec_model_function import *"
   ]
  },
  {
   "cell_type": "markdown",
   "metadata": {},
   "source": [
    "# Inputing files"
   ]
  },
  {
   "cell_type": "code",
   "execution_count": 2,
   "metadata": {},
   "outputs": [],
   "source": [
    "# The genome-scale metabolic model for constructing the enzyme-constrained model\n",
    "model_name = './data/iML1515.xml' \n",
    "\n",
    "# Reaction-kcat file.#s-1\n",
    "# eg. AADDGT,49389.2889\n",
    "reaction_kcat_file = \"./data/reaction_autopacmen_ori_noadj.csv\"\n",
    "#reaction_kcat_file = \"./data/reaction_kappori.csv\"\n",
    "#reaction_kcat_file = \"./data/reaction_autopacmen_ori_adj.csv\"\n",
    "\n",
    "# Gene-abundance file. \n",
    "# eg. b0789,1.1\n",
    "gene_abundance_file = \"./data/gene_abundance.csv\"\n",
    "\n",
    "# Gene-molecular_weight file. \n",
    "# eg. b0001,thrL,2.13846\n",
    "gene_molecular_weight_file = \"./data/gene_molecular_weight.csv\"\n"
   ]
  },
  {
   "cell_type": "markdown",
   "metadata": {},
   "source": [
    "# Step1: Preprocessing of model"
   ]
  },
  {
   "cell_type": "markdown",
   "metadata": {},
   "source": [
    "The reversible reactions in the GEM model are divided into two irreversible reactions and splited isoenzyme. The input is iML1515 with 2712 reactions. The output is a model with 3375 irreversible reactions."
   ]
  },
  {
   "cell_type": "code",
   "execution_count": 3,
   "metadata": {
    "tags": []
   },
   "outputs": [
    {
     "output_type": "execute_result",
     "data": {
      "text/plain": [
       "<Model iML1515 at 0x155155316a0>"
      ],
      "text/html": "\n        <table>\n            <tr>\n                <td><strong>Name</strong></td>\n                <td>iML1515</td>\n            </tr><tr>\n                <td><strong>Memory address</strong></td>\n                <td>0x0155155316a0</td>\n            </tr><tr>\n                <td><strong>Number of metabolites</strong></td>\n                <td>1877</td>\n            </tr><tr>\n                <td><strong>Number of reactions</strong></td>\n                <td>3377</td>\n            </tr><tr>\n                <td><strong>Number of groups</strong></td>\n                <td>38</td>\n            </tr><tr>\n                <td><strong>Objective expression</strong></td>\n                <td>1.0*BIOMASS_Ec_iML1515_core_75p37M - 1.0*BIOMASS_Ec_iML1515_core_75p37M_reverse_35685</td>\n            </tr><tr>\n                <td><strong>Compartments</strong></td>\n                <td>cytosol, extracellular space, periplasm</td>\n            </tr>\n          </table>"
     },
     "metadata": {},
     "execution_count": 3
    }
   ],
   "source": [
    "model = cobra.io.read_sbml_model(model_name)\n",
    "convert_to_irreversible(model)\n",
    "#split isoenzyme\n",
    "model = isoenzyme_split_PDH(model)\n",
    "model"
   ]
  },
  {
   "cell_type": "markdown",
   "metadata": {},
   "source": [
    "# Step2: Retrieving enzyme kinetics and proteomics data"
   ]
  },
  {
   "cell_type": "markdown",
   "metadata": {},
   "source": [
    "The inputs are GEM model. The outputs are 'genes' and 'gpr_relationship' data in the iML1515."
   ]
  },
  {
   "cell_type": "code",
   "execution_count": 4,
   "metadata": {},
   "outputs": [],
   "source": [
    "[genes,gpr_relationship] = get_genes_and_gpr(model)"
   ]
  },
  {
   "cell_type": "markdown",
   "metadata": {},
   "source": [
    "Get the molecular weight of the enzyme (MW) according to the file of all_reaction_GPR.csv, which obtained from the previous step (gpr_relationship, ./analysis/all_reaction_GPR.csv). We need to manually correct the error of the gene_reaction_rule of a small amount of reactions in iML1515 (See Supplementary Table S1 for details), and also need to manually get the subunit of each protein from EcoCyc."
   ]
  },
  {
   "cell_type": "code",
   "execution_count": 5,
   "metadata": {},
   "outputs": [],
   "source": [
    "reaction_gene_subunit_MW = pd.read_csv(\"./data/reaction_gene_subunit_MW_old.csv\", index_col=0)\n",
    "reaction_gene_subunit_MW_split_PDH(reaction_gene_subunit_MW)"
   ]
  },
  {
   "cell_type": "code",
   "execution_count": 6,
   "metadata": {},
   "outputs": [],
   "source": [
    "# reaction-gene-subunit-MW file. \n",
    "# eg. ALATA_D2,D-alanine transaminase,b2551 or b0870,45.31659 or 36.49471 ,2 or 4 \n",
    "reaction_gene_subunit_MW = \"./data/reaction_gene_subunit_MW.csv\"\n",
    "reaction_mw = calculate_reaction_mw(reaction_gene_subunit_MW)"
   ]
  },
  {
   "cell_type": "markdown",
   "metadata": {},
   "source": [
    "Calculate kcat/MW. The inputs are 'reaction_kcat' and 'reaction_MW' data for calculating the kcat/MW (When the reaction is catalyzed by several isozymes, the maximum is retained)."
   ]
  },
  {
   "cell_type": "code",
   "execution_count": 7,
   "metadata": {},
   "outputs": [],
   "source": [
    "save_file=\"./analysis/reaction_kcat_mw.csv\"\n",
    "reaction_kcat_mw = calculate_reaction_kcat_mw(reaction_kcat_file, reaction_mw, save_file)"
   ]
  },
  {
   "cell_type": "markdown",
   "metadata": {},
   "source": [
    "Calculate f. The input is 'genes' data, 'gene_abundance.csv' and 'gene_molecular_weight.csv'."
   ]
  },
  {
   "cell_type": "code",
   "execution_count": 8,
   "metadata": {
    "tags": []
   },
   "outputs": [
    {
     "output_type": "execute_result",
     "data": {
      "text/plain": [
       "0.4059986079578236"
      ]
     },
     "metadata": {},
     "execution_count": 8
    }
   ],
   "source": [
    "f = calculate_f(genes, gene_abundance_file, gene_molecular_weight_file)\n",
    "f"
   ]
  },
  {
   "cell_type": "markdown",
   "metadata": {},
   "source": [
    "# Step3: Save enzyme concentration constraint model as json file."
   ]
  },
  {
   "cell_type": "code",
   "execution_count": 11,
   "metadata": {},
   "outputs": [],
   "source": [
    "model_file = './data/iML1515.xml' \n",
    "reaction_kcat_mw_file=\"./analysis/reaction_kcat_mw.csv\"\n",
    "json_output_file=\"./model/iML1515_irr_enz_constraint_kapp.json\"\n",
    "#The enzyme mass fraction \n",
    "f = 0.406\n",
    "# The total protein fraction in cell.\n",
    "ptot = 0.56 \n",
    "# The approximated average saturation of enzyme.\n",
    "sigma = 0.5 \n",
    "#sigma = 1 #kapp data sigma is 1\n",
    "# Lowerbound  of enzyme concentration constraint. \n",
    "lowerbound = 0   \n",
    "upperbound = round(ptot * f * sigma, 3)\n",
    "\n",
    "trans_model2enz_json_model_PDH(model_file, reaction_kcat_mw_file, f, ptot, sigma, lowerbound, upperbound, json_output_file)"
   ]
  },
  {
   "cell_type": "code",
   "execution_count": 12,
   "metadata": {},
   "outputs": [
    {
     "output_type": "stream",
     "name": "stdout",
     "text": [
      "0.32876008417419045\n",
      "0.8769972144269705\n"
     ]
    }
   ],
   "source": [
    "json_model_path = \"./model/iML1515_irr_enz_constraint_kapp.json\"\n",
    "fluxes_outfile = './analysis/ECMpy_kappori_solution_df_pfba.csv'\n",
    "reaction_kcat_mw_file=\"./analysis/reaction_kcat_mw.csv\"\n",
    "enz_model=get_enzyme_constraint_model(json_model_path)\n",
    "enz_model_pfba_solution = get_fluxes_detail_in_model(enz_model,fluxes_outfile,reaction_kcat_mw_file)\n",
    "print(enz_model_pfba_solution.fluxes['BIOMASS_Ec_iML1515_core_75p37M'])\n",
    "\n",
    "norm_model = cobra.io.json.load_json_model(json_model_path)\n",
    "norm_model_pfba_solution = cobra.flux_analysis.pfba(norm_model)\n",
    "norm_model_pfba_solution_df = norm_model_pfba_solution.to_frame()\n",
    "norm_model_pfba_solution_df.to_csv('./analysis/Orimodel_solution_df_pfba.csv')\n",
    "print(norm_model_pfba_solution_df.fluxes['BIOMASS_Ec_iML1515_core_75p37M'])"
   ]
  },
  {
   "source": [
    "# Step4: Calibration parameters"
   ],
   "cell_type": "markdown",
   "metadata": {}
  },
  {
   "source": [
    "Compare with C13 data"
   ],
   "cell_type": "markdown",
   "metadata": {}
  },
  {
   "cell_type": "code",
   "execution_count": 13,
   "metadata": {},
   "outputs": [
    {
     "output_type": "stream",
     "name": "stdout",
     "text": [
      "['TKT1', 'GHMT2r', 'TALA', 'AKGDH', 'ME2', 'PSERT', 'PYK', 'TKT2', 'SUCOAS_reverse', 'FBA', 'ICL', 'RPE', 'GND', 'TPI', 'PGCD', 'MDH', 'PFK', 'PSP_L']\n"
     ]
    }
   ],
   "source": [
    "import re\n",
    "c13reaction_file = './data/C13reaction.csv' \n",
    "c13reaction = pd.read_csv(c13reaction_file, index_col=0)\n",
    "c13reaction = list(c13reaction.index)\n",
    "\n",
    "enz_model_pfba_solution_select = enz_model_pfba_solution[enz_model_pfba_solution['fluxes']>0]\n",
    "enz_model_pfba_solution_select_id = []\n",
    "for eachreaction in enz_model_pfba_solution_select.index:\n",
    "    if re.search('_num',eachreaction):\n",
    "        enz_model_pfba_solution_select_id.append(eachreaction.split('_num')[0])\n",
    "    else:\n",
    "        enz_model_pfba_solution_select_id.append(eachreaction)\n",
    "\n",
    "c13reaction_2_enz_model_diff=list(set(c13reaction).difference(set(enz_model_pfba_solution_select_id)))\n",
    "print (c13reaction_2_enz_model_diff)"
   ]
  },
  {
   "source": [
    "Select calibration reaction accrording biomass diff"
   ],
   "cell_type": "markdown",
   "metadata": {}
  },
  {
   "cell_type": "code",
   "execution_count": 14,
   "metadata": {},
   "outputs": [
    {
     "output_type": "execute_result",
     "data": {
      "text/plain": [
       "               biomass_enz  biomass_orimodel  biomass_diff  biomass_diff_ratio\n",
       "CHORS             0.302070          0.876997      0.574928            0.655564\n",
       "KARA1_reverse     0.304700          0.876997      0.572297            0.652565\n",
       "ATPS4rpp          0.356426          0.876997      0.520571            0.593583"
      ],
      "text/html": "<div>\n<style scoped>\n    .dataframe tbody tr th:only-of-type {\n        vertical-align: middle;\n    }\n\n    .dataframe tbody tr th {\n        vertical-align: top;\n    }\n\n    .dataframe thead th {\n        text-align: right;\n    }\n</style>\n<table border=\"1\" class=\"dataframe\">\n  <thead>\n    <tr style=\"text-align: right;\">\n      <th></th>\n      <th>biomass_enz</th>\n      <th>biomass_orimodel</th>\n      <th>biomass_diff</th>\n      <th>biomass_diff_ratio</th>\n    </tr>\n  </thead>\n  <tbody>\n    <tr>\n      <th>CHORS</th>\n      <td>0.302070</td>\n      <td>0.876997</td>\n      <td>0.574928</td>\n      <td>0.655564</td>\n    </tr>\n    <tr>\n      <th>KARA1_reverse</th>\n      <td>0.304700</td>\n      <td>0.876997</td>\n      <td>0.572297</td>\n      <td>0.652565</td>\n    </tr>\n    <tr>\n      <th>ATPS4rpp</th>\n      <td>0.356426</td>\n      <td>0.876997</td>\n      <td>0.520571</td>\n      <td>0.593583</td>\n    </tr>\n  </tbody>\n</table>\n</div>"
     },
     "metadata": {},
     "execution_count": 14
    }
   ],
   "source": [
    "reaction_kcat_mw_file = \"./analysis/reaction_kcat_mw.csv\"\n",
    "json_model_path = \"./model/iML1515_irr_enz_constraint_kapp.json\"\n",
    "enzyme_amount = upperbound\n",
    "percentage = 0.1#10%\n",
    "reaction_biomass_outfile = './analysis/reaction_biomass.csv'\n",
    "select_percentage = 0.8\n",
    "df_reaction_select = select_calibration_reaction_by_biomass(reaction_kcat_mw_file, json_model_path, enzyme_amount, percentage, reaction_biomass_outfile, select_percentage)\n",
    "df_reaction_select"
   ]
  },
  {
   "cell_type": "code",
   "execution_count": 15,
   "metadata": {},
   "outputs": [
    {
     "output_type": "stream",
     "name": "stdout",
     "text": [
      "['CHORS', 'KARA1_reverse', 'ATPS4rpp']\n"
     ]
    }
   ],
   "source": [
    "need_change_reaction=list(df_reaction_select.index)\n",
    "reaction_kcat_mw_file = \"./analysis/reaction_kcat_mw.csv\"\n",
    "reaction_kapp_change_file = \"./analysis/reaction_kapp_change.csv\"\n",
    "kcat_data_colect_file=\"./analysis/reaction_max_df.csv\"\n",
    "change_reaction_list_round1=change_reaction_kcat_by_database_g(need_change_reaction,kcat_data_colect_file,reaction_kcat_mw_file,reaction_kapp_change_file)\n",
    "print(change_reaction_list_round1)"
   ]
  },
  {
   "cell_type": "code",
   "execution_count": 16,
   "metadata": {},
   "outputs": [],
   "source": [
    "model_file = './data/iML1515.xml' \n",
    "reaction_kcat_mw_file=\"./analysis/reaction_kapp_change.csv\"\n",
    "json_output_file=\"./model/iML1515_irr_enz_constraint_adj_round1.json\"\n",
    "#The enzyme mass fraction \n",
    "f = 0.406\n",
    "# The total protein fraction in cell.\n",
    "ptot = 0.56 \n",
    "# The approximated average saturation of enzyme.\n",
    "sigma = 0.5 \n",
    "#sigma = 1#kcapp数据，饱和度为1\n",
    "# Lowerbound  of enzyme concentration constraint. \n",
    "lowerbound = 0   \n",
    "upperbound = round(ptot * f * sigma, 3)\n",
    "\n",
    "trans_model2enz_json_model_PDH(model_file, reaction_kcat_mw_file, f, ptot, sigma, lowerbound, upperbound, json_output_file)"
   ]
  },
  {
   "cell_type": "code",
   "execution_count": 28,
   "metadata": {},
   "outputs": [
    {
     "output_type": "stream",
     "name": "stdout",
     "text": [
      "0.4888892000160815\n"
     ]
    }
   ],
   "source": [
    "json_model_path = \"./model/iML1515_irr_enz_constraint_adj_round1.json\"\n",
    "fluxes_outfile= './analysis/ECMpy_kapp_adj_round1_solution_df_pfba.csv'\n",
    "reaction_kcat_mw_file=\"./analysis/reaction_kapp_change.csv\"\n",
    "enz_model=get_enzyme_constraint_model(json_model_path)\n",
    "enz_model_pfba_solution = get_fluxes_detail_in_model(enz_model,fluxes_outfile,reaction_kcat_mw_file)\n",
    "print(enz_model_pfba_solution.fluxes['BIOMASS_Ec_iML1515_core_75p37M'])"
   ]
  },
  {
   "cell_type": "code",
   "execution_count": 29,
   "metadata": {},
   "outputs": [
    {
     "output_type": "stream",
     "name": "stdout",
     "text": [
      "['GHMT2r', 'PDH', 'AKGDH', 'ME2', 'PSERT', 'FBA', 'PGCD', 'TPI', 'SUCOAS_reverse', 'MDH', 'PFK', 'PSP_L', 'PGI']\n"
     ]
    }
   ],
   "source": [
    "import re\n",
    "c13reaction_file = './data/C13reaction.csv' \n",
    "c13reaction = pd.read_csv(c13reaction_file, index_col=0)\n",
    "c13reaction = list(c13reaction.index)\n",
    "\n",
    "enz_model_pfba_solution_select = enz_model_pfba_solution[enz_model_pfba_solution['fluxes']>0]\n",
    "enz_model_pfba_solution_select_id = []\n",
    "for eachreaction in enz_model_pfba_solution_select.index:\n",
    "    if re.search('_numECMpy_kapp_adj_round2_solution_df_pfba',eachreaction):\n",
    "        enz_model_pfba_solution_select_id.append(eachreaction.split('_num')[0])\n",
    "    else:\n",
    "        enz_model_pfba_solution_select_id.append(eachreaction)\n",
    "\n",
    "c13reaction_2_enz_model_diff=list(set(c13reaction).difference(set(enz_model_pfba_solution_select_id)))\n",
    "print (c13reaction_2_enz_model_diff)"
   ]
  },
  {
   "source": [
    "Calibration kcat according c13 reaction list"
   ],
   "cell_type": "markdown",
   "metadata": {}
  },
  {
   "cell_type": "code",
   "execution_count": 30,
   "metadata": {},
   "outputs": [
    {
     "output_type": "stream",
     "name": "stdout",
     "text": [
      "['FBA', 'ENO', 'CS', 'AKGDH', 'PPC', 'PSERT', 'PFL']\n"
     ]
    }
   ],
   "source": [
    "c13reaction_file = './data/C13reaction.csv' \n",
    "reaction_kcat_mw_file = \"./analysis/reaction_kcat_mw.csv\"\n",
    "f = 0.406\n",
    "ptot = 0.56 \n",
    "sigma = 0.5 \n",
    "enzyme_amount = round(ptot * f * sigma, 3)\n",
    "\n",
    "c13reaction_selecet=select_calibration_reaction_by_c13(reaction_kcat_mw_file, c13reaction_file, enzyme_amount, 0.1, sigma)\n",
    "print(c13reaction_selecet)"
   ]
  },
  {
   "cell_type": "code",
   "execution_count": 31,
   "metadata": {},
   "outputs": [
    {
     "output_type": "stream",
     "name": "stdout",
     "text": [
      "['FBA', 'ENO', 'CS', 'AKGDH', 'PPC', 'PSERT', 'PFL']\n"
     ]
    }
   ],
   "source": [
    "reaction_kcat_mw_file = \"./analysis/reaction_kapp_change.csv\"\n",
    "reaction_kapp_change_file = \"./analysis/reaction_kapp_change_c13.csv\"\n",
    "#c13reaction_selecet=['CS','ACONTa','ACONTb','ICDHyr','MALS', 'MDH', 'ICL', 'SUCOAS_reverse', 'SUCDi', 'AKGDH']\n",
    "kcat_data_colect_file=\"./analysis/reaction_max_df.csv\"\n",
    "change_reaction_list_round1=change_reaction_kcat_by_database_g(c13reaction_selecet,kcat_data_colect_file,reaction_kcat_mw_file,reaction_kapp_change_file)\n",
    "print(change_reaction_list_round1)"
   ]
  },
  {
   "cell_type": "code",
   "execution_count": 32,
   "metadata": {},
   "outputs": [],
   "source": [
    "model_file = './data/iML1515.xml' \n",
    "reaction_kcat_mw_file=\"./analysis/reaction_kapp_change_c13.csv\"\n",
    "json_output_file=\"./model/iML1515_irr_enz_constraint_adj_round2.json\"\n",
    "f = 0.406\n",
    "ptot = 0.56 \n",
    "sigma = 0.5\n",
    "lowerbound = 0   \n",
    "upperbound = round(ptot * f * sigma, 3)\n",
    "\n",
    "trans_model2enz_json_model_PDH(model_file, reaction_kcat_mw_file, f, ptot, sigma, lowerbound, upperbound, json_output_file)"
   ]
  },
  {
   "cell_type": "code",
   "execution_count": 33,
   "metadata": {},
   "outputs": [
    {
     "output_type": "stream",
     "name": "stdout",
     "text": [
      "0.5859456716810563\n"
     ]
    }
   ],
   "source": [
    "json_model_path = \"./model/iML1515_irr_enz_constraint_adj_round2.json\"\n",
    "fluxes_outfile = './analysis/ECMpy_kapp_adj_round2_solution_df_pfba.csv'\n",
    "reaction_kcat_mw_file=\"./analysis/reaction_kapp_change_c13.csv\"\n",
    "enz_model=get_enzyme_constraint_model(json_model_path)\n",
    "enz_model_pfba_solution = get_fluxes_detail_in_model(enz_model,fluxes_outfile,reaction_kcat_mw_file)\n",
    "print(enz_model_pfba_solution.fluxes['BIOMASS_Ec_iML1515_core_75p37M'])"
   ]
  },
  {
   "cell_type": "code",
   "execution_count": 34,
   "metadata": {},
   "outputs": [
    {
     "output_type": "stream",
     "name": "stdout",
     "text": [
      "['ME2', 'PTAr', 'TKT2', 'ICL', 'RPE', 'ACKr_reverse', 'MDH']\n"
     ]
    }
   ],
   "source": [
    "import re\n",
    "c13reaction_file = './data/C13reaction.csv' \n",
    "c13reaction = pd.read_csv(c13reaction_file, index_col=0)\n",
    "c13reaction = list(c13reaction.index)\n",
    "\n",
    "enz_model_pfba_solution_select = enz_model_pfba_solution[enz_model_pfba_solution['fluxes']>0]\n",
    "enz_model_pfba_solution_select_id = []\n",
    "for eachreaction in enz_model_pfba_solution_select.index:\n",
    "    if re.search('_num',eachreaction):\n",
    "        enz_model_pfba_solution_select_id.append(eachreaction.split('_num')[0])\n",
    "    else:\n",
    "        enz_model_pfba_solution_select_id.append(eachreaction)\n",
    "\n",
    "c13reaction_2_enz_model_diff=list(set(c13reaction).difference(set(enz_model_pfba_solution_select_id)))\n",
    "print (c13reaction_2_enz_model_diff)"
   ]
  },
  {
   "source": [
    "Calibration kcat according Enzyme usage "
   ],
   "cell_type": "markdown",
   "metadata": {}
  },
  {
   "cell_type": "code",
   "execution_count": 35,
   "metadata": {},
   "outputs": [
    {
     "output_type": "execute_result",
     "data": {
      "text/plain": [
       "                    kcat_mw       flux  enz useage  enz ratio\n",
       "ATPS4rpp        2648.993128  49.410034    0.018652   0.163617\n",
       "CHORS             20.006413   0.223315    0.011162   0.097914\n",
       "PSERT            112.660337   0.974533    0.008650   0.075879\n",
       "ACGS              26.831895   0.173318    0.006459   0.056661\n",
       "GAPD            3172.042496  18.426631    0.005809   0.050957\n",
       "PAPSR2            33.787531   0.145011    0.004292   0.037648\n",
       "KARA2             42.855538   0.170234    0.003972   0.034845\n",
       "SUCOAS_reverse  1888.819962   6.103173    0.003231   0.028344\n",
       "CS              2442.987415   7.040774    0.002882   0.025281\n",
       "FBA             4000.280990   9.326412    0.002331   0.020451\n",
       "SADT2             62.202556   0.145011    0.002331   0.020450\n",
       "PFK             4097.495070   9.326412    0.002276   0.019966\n",
       "ADSS              82.144087   0.175376    0.002135   0.018728\n",
       "ENO             9068.020007  17.452097    0.001925   0.016882\n",
       "ACOTA_reverse     95.374152   0.173318    0.001817   0.015941\n",
       "ACONTb          3903.865426   7.040774    0.001804   0.015821\n",
       "ACONTa          3903.865426   7.040774    0.001804   0.015821\n",
       "IPPMIa_reverse   159.183521   0.263987    0.001658   0.014547\n",
       "IPPMIb_reverse   159.183521   0.263987    0.001658   0.014547\n",
       "ASNS2             99.354580   0.141245    0.001422   0.012470\n",
       "IPPS             190.360903   0.263987    0.001387   0.012165\n",
       "CTPS2             69.098963   0.094059    0.001361   0.011941"
      ],
      "text/html": "<div>\n<style scoped>\n    .dataframe tbody tr th:only-of-type {\n        vertical-align: middle;\n    }\n\n    .dataframe tbody tr th {\n        vertical-align: top;\n    }\n\n    .dataframe thead th {\n        text-align: right;\n    }\n</style>\n<table border=\"1\" class=\"dataframe\">\n  <thead>\n    <tr style=\"text-align: right;\">\n      <th></th>\n      <th>kcat_mw</th>\n      <th>flux</th>\n      <th>enz useage</th>\n      <th>enz ratio</th>\n    </tr>\n  </thead>\n  <tbody>\n    <tr>\n      <th>ATPS4rpp</th>\n      <td>2648.993128</td>\n      <td>49.410034</td>\n      <td>0.018652</td>\n      <td>0.163617</td>\n    </tr>\n    <tr>\n      <th>CHORS</th>\n      <td>20.006413</td>\n      <td>0.223315</td>\n      <td>0.011162</td>\n      <td>0.097914</td>\n    </tr>\n    <tr>\n      <th>PSERT</th>\n      <td>112.660337</td>\n      <td>0.974533</td>\n      <td>0.008650</td>\n      <td>0.075879</td>\n    </tr>\n    <tr>\n      <th>ACGS</th>\n      <td>26.831895</td>\n      <td>0.173318</td>\n      <td>0.006459</td>\n      <td>0.056661</td>\n    </tr>\n    <tr>\n      <th>GAPD</th>\n      <td>3172.042496</td>\n      <td>18.426631</td>\n      <td>0.005809</td>\n      <td>0.050957</td>\n    </tr>\n    <tr>\n      <th>PAPSR2</th>\n      <td>33.787531</td>\n      <td>0.145011</td>\n      <td>0.004292</td>\n      <td>0.037648</td>\n    </tr>\n    <tr>\n      <th>KARA2</th>\n      <td>42.855538</td>\n      <td>0.170234</td>\n      <td>0.003972</td>\n      <td>0.034845</td>\n    </tr>\n    <tr>\n      <th>SUCOAS_reverse</th>\n      <td>1888.819962</td>\n      <td>6.103173</td>\n      <td>0.003231</td>\n      <td>0.028344</td>\n    </tr>\n    <tr>\n      <th>CS</th>\n      <td>2442.987415</td>\n      <td>7.040774</td>\n      <td>0.002882</td>\n      <td>0.025281</td>\n    </tr>\n    <tr>\n      <th>FBA</th>\n      <td>4000.280990</td>\n      <td>9.326412</td>\n      <td>0.002331</td>\n      <td>0.020451</td>\n    </tr>\n    <tr>\n      <th>SADT2</th>\n      <td>62.202556</td>\n      <td>0.145011</td>\n      <td>0.002331</td>\n      <td>0.020450</td>\n    </tr>\n    <tr>\n      <th>PFK</th>\n      <td>4097.495070</td>\n      <td>9.326412</td>\n      <td>0.002276</td>\n      <td>0.019966</td>\n    </tr>\n    <tr>\n      <th>ADSS</th>\n      <td>82.144087</td>\n      <td>0.175376</td>\n      <td>0.002135</td>\n      <td>0.018728</td>\n    </tr>\n    <tr>\n      <th>ENO</th>\n      <td>9068.020007</td>\n      <td>17.452097</td>\n      <td>0.001925</td>\n      <td>0.016882</td>\n    </tr>\n    <tr>\n      <th>ACOTA_reverse</th>\n      <td>95.374152</td>\n      <td>0.173318</td>\n      <td>0.001817</td>\n      <td>0.015941</td>\n    </tr>\n    <tr>\n      <th>ACONTb</th>\n      <td>3903.865426</td>\n      <td>7.040774</td>\n      <td>0.001804</td>\n      <td>0.015821</td>\n    </tr>\n    <tr>\n      <th>ACONTa</th>\n      <td>3903.865426</td>\n      <td>7.040774</td>\n      <td>0.001804</td>\n      <td>0.015821</td>\n    </tr>\n    <tr>\n      <th>IPPMIa_reverse</th>\n      <td>159.183521</td>\n      <td>0.263987</td>\n      <td>0.001658</td>\n      <td>0.014547</td>\n    </tr>\n    <tr>\n      <th>IPPMIb_reverse</th>\n      <td>159.183521</td>\n      <td>0.263987</td>\n      <td>0.001658</td>\n      <td>0.014547</td>\n    </tr>\n    <tr>\n      <th>ASNS2</th>\n      <td>99.354580</td>\n      <td>0.141245</td>\n      <td>0.001422</td>\n      <td>0.012470</td>\n    </tr>\n    <tr>\n      <th>IPPS</th>\n      <td>190.360903</td>\n      <td>0.263987</td>\n      <td>0.001387</td>\n      <td>0.012165</td>\n    </tr>\n    <tr>\n      <th>CTPS2</th>\n      <td>69.098963</td>\n      <td>0.094059</td>\n      <td>0.001361</td>\n      <td>0.011941</td>\n    </tr>\n  </tbody>\n</table>\n</div>"
     },
     "metadata": {},
     "execution_count": 35
    }
   ],
   "source": [
    "f = 0.406\n",
    "ptot = 0.56 \n",
    "sigma = 0.5\n",
    "enz_total = round(ptot * f * sigma, 3)\n",
    "reaction_flux_file = './analysis/ECMpy_kapp_adj_round2_solution_df_pfba.csv' \n",
    "reaction_kcat_mw_file = \"./analysis/reaction_kapp_change_c13.csv\"\n",
    "reaction_enz_usage_file = './analysis/ECMpy_kapp_adj_round2_reaction_enz_usage_df.csv'\n",
    "\n",
    "reaction_enz_usage_df = get_enzyme_usage(enz_total,reaction_flux_file,reaction_kcat_mw_file,reaction_enz_usage_file)\n",
    "reaction_enz_usage_df.head(22)"
   ]
  },
  {
   "cell_type": "code",
   "execution_count": 36,
   "metadata": {},
   "outputs": [
    {
     "output_type": "stream",
     "name": "stdout",
     "text": [
      "['ATPS4rpp', 'CHORS', 'PSERT', 'ACGS', 'GAPD', 'PAPSR2', 'KARA2', 'SUCOAS_reverse', 'CS', 'FBA', 'SADT2', 'PFK', 'ADSS', 'ENO', 'ACOTA_reverse', 'ACONTb', 'ACONTa', 'IPPMIa_reverse', 'IPPMIb_reverse', 'ASNS2', 'IPPS', 'CTPS2', 'ICDHyr', 'DHAD1', 'ACCOAC']\n['ACGS', 'PAPSR2', 'KARA2', 'SUCOAS_reverse', 'SADT2', 'PFK', 'ADSS', 'ACOTA_reverse', 'ACONTb', 'ACONTa', 'IPPMIa_reverse', 'IPPMIb_reverse', 'ASNS2', 'IPPS', 'CTPS2', 'ICDHyr', 'DHAD1', 'ACCOAC']\n"
     ]
    }
   ],
   "source": [
    "select_reaction = list(reaction_enz_usage_df[reaction_enz_usage_df['enz ratio']>0.01].index)#more than 1%\n",
    "print(select_reaction)\n",
    "reaction_kcat_mw_file = \"./analysis/reaction_kapp_change_c13.csv\"\n",
    "reaction_kapp_change_file = \"./analysis/reaction_kapp_change_c13_enzuse.csv\"\n",
    "kcat_data_colect_file=\"./analysis/reaction_max_df.csv\"\n",
    "\n",
    "change_reaction_list_round1=change_reaction_kcat_by_database_g(select_reaction,kcat_data_colect_file,reaction_kcat_mw_file,reaction_kapp_change_file)\n",
    "print(change_reaction_list_round1)"
   ]
  },
  {
   "cell_type": "code",
   "execution_count": 37,
   "metadata": {},
   "outputs": [],
   "source": [
    "model_file = './data/iML1515.xml' \n",
    "reaction_kcat_mw_file=\"./analysis/reaction_kapp_change_c13_enzuse.csv\"\n",
    "json_output_file=\"./model/iML1515_irr_enz_constraint_adj_round3.json\"\n",
    "f = 0.406\n",
    "ptot = 0.56 \n",
    "sigma = 0.5\n",
    "lowerbound = 0   \n",
    "upperbound = round(ptot * f * sigma, 3)\n",
    "\n",
    "trans_model2enz_json_model_PDH(model_file, reaction_kcat_mw_file, f, ptot, sigma, lowerbound, upperbound, json_output_file)"
   ]
  },
  {
   "cell_type": "code",
   "execution_count": 38,
   "metadata": {},
   "outputs": [
    {
     "output_type": "stream",
     "name": "stdout",
     "text": [
      "0.7675157109617465\n"
     ]
    }
   ],
   "source": [
    "json_model_path = \"./model/iML1515_irr_enz_constraint_adj_round3.json\"\n",
    "fluxes_outfile = './analysis/ECMpy_kapp_adj_round3_solution_df_pfba.csv'\n",
    "reaction_kcat_mw_file=\"./analysis/reaction_kapp_change_c13_enzuse.csv\"\n",
    "enz_model=get_enzyme_constraint_model(json_model_path)\n",
    "enz_model_pfba_solution = get_fluxes_detail_in_model(enz_model,fluxes_outfile,reaction_kcat_mw_file)\n",
    "print(enz_model_pfba_solution.fluxes['BIOMASS_Ec_iML1515_core_75p37M'])"
   ]
  },
  {
   "cell_type": "code",
   "execution_count": 39,
   "metadata": {},
   "outputs": [
    {
     "output_type": "stream",
     "name": "stdout",
     "text": [
      "['TKT1', 'TALA', 'ME2', 'PTAr', 'TKT2', 'ICL', 'RPE', 'ACKr_reverse', 'MDH']\n"
     ]
    }
   ],
   "source": [
    "import re\n",
    "c13reaction_file = './data/C13reaction.csv' \n",
    "c13reaction = pd.read_csv(c13reaction_file, index_col=0)\n",
    "c13reaction = list(c13reaction.index)\n",
    "\n",
    "enz_model_pfba_solution_select = enz_model_pfba_solution[enz_model_pfba_solution['fluxes']>0]\n",
    "enz_model_pfba_solution_select_id = []\n",
    "for eachreaction in enz_model_pfba_solution_select.index:\n",
    "    if re.search('_num',eachreaction):\n",
    "        enz_model_pfba_solution_select_id.append(eachreaction.split('_num')[0])\n",
    "    else:\n",
    "        enz_model_pfba_solution_select_id.append(eachreaction)\n",
    "\n",
    "c13reaction_2_enz_model_diff=list(set(c13reaction).difference(set(enz_model_pfba_solution_select_id)))\n",
    "print (c13reaction_2_enz_model_diff)"
   ]
  },
  {
   "cell_type": "code",
   "execution_count": null,
   "metadata": {},
   "outputs": [],
   "source": []
  },
  {
   "cell_type": "code",
   "execution_count": null,
   "metadata": {},
   "outputs": [],
   "source": []
  },
  {
   "cell_type": "code",
   "execution_count": 35,
   "metadata": {},
   "outputs": [
    {
     "output_type": "stream",
     "name": "stdout",
     "text": [
      "['PDH_no1']\n",
      "0.6316626911075551\n",
      "['PSERT', 'PGL', 'MDH', 'PDH', 'GHMT2r', 'PGI', 'PSP_L', 'ME2', 'G6PDH2r', 'SUCOAS_reverse', 'PPC', 'AKGDH', 'PGCD']\n"
     ]
    }
   ],
   "source": [
    "#reaction_kcat_mw_file = \"./analysis/reaction_kapp_change_c13_enzuse.csv\"\n",
    "reaction_kcat_mw_file=\"./analysis/reaction_kcat_mw.csv\"\n",
    "reaction_kapp_change_file = \"./analysis/reaction_kapp_change_c13_enzuse_manual.csv\"\n",
    "select_reaction=['PDH_no1']\n",
    "#c13reaction_selecet=['CS','ACONTa','ACONTb','ICDHyr','MALS', 'MDH', 'ICL', 'SUCOAS_reverse', 'SUCDi', 'AKGDH']\n",
    "change_fold=[10]\n",
    "change_reaction_list_round1=change_reaction_kcat_by_foldlist(select_reaction,change_fold,reaction_kcat_mw_file,reaction_kapp_change_file)\n",
    "print(change_reaction_list_round1)\n",
    "\n",
    "model_file = './data/iML1515.xml' \n",
    "reaction_kcat_mw_file=\"./analysis/reaction_kapp_change_c13_enzuse_manual.csv\"\n",
    "json_output_file=\"./model/iML1515_irr_enz_constraint_adj_manual.json\"\n",
    "#The enzyme mass fraction \n",
    "f = 0.406\n",
    "# The total protein fraction in cell.\n",
    "ptot = 0.56 \n",
    "# The approximated average saturation of enzyme.\n",
    "sigma = 0.5#0.5 \n",
    "# Lowerbound  of enzyme concentration constraint. \n",
    "lowerbound = 0   \n",
    "upperbound = round(ptot * f * sigma, 3)\n",
    "\n",
    "trans_model2enz_json_model_PDH(model_file, reaction_kcat_mw_file, f, ptot, sigma, lowerbound, upperbound, json_output_file)\n",
    "\n",
    "json_model_path = \"./model/iML1515_irr_enz_constraint_adj_manual.json\"\n",
    "fluxes_outfile = './analysis/ECMpy_kapp_adj_manual_solution_df_pfba.csv'\n",
    "reaction_kcat_mw_file=\"./analysis/reaction_kapp_change_c13_enzuse_manual.csv\"\n",
    "enz_model=get_enzyme_constraint_model(json_model_path)\n",
    "#rglcex=enz_model.reactions.get_by_id(\"GLCDpp_no1\")\n",
    "#rglcex.bounds=(0, 0)\n",
    "\n",
    "enz_model_pfba_solution = get_fluxes_detail_in_model(enz_model,fluxes_outfile,reaction_kcat_mw_file)\n",
    "print(enz_model_pfba_solution.fluxes['BIOMASS_Ec_iML1515_core_75p37M'])\n",
    "\n",
    "c13reaction_file = './data/C13reaction.csv' \n",
    "c13reaction = pd.read_csv(c13reaction_file, index_col=0)\n",
    "c13reaction = list(c13reaction.index)\n",
    "\n",
    "enz_model_pfba_solution_select = enz_model_pfba_solution[enz_model_pfba_solution['fluxes']>0]\n",
    "enz_model_pfba_solution_select_id = list(enz_model_pfba_solution_select.index)\n",
    "c13reaction_2_enz_model_diff=list(set(c13reaction).difference(set(enz_model_pfba_solution_select_id)))\n",
    "print (c13reaction_2_enz_model_diff)"
   ]
  },
  {
   "source": [
    "# Step4: Solveing enzyme concentration constraint by COBRApy."
   ],
   "cell_type": "markdown",
   "metadata": {}
  },
  {
   "cell_type": "code",
   "execution_count": 21,
   "metadata": {},
   "outputs": [
    {
     "output_type": "execute_result",
     "data": {
      "text/plain": [
       "0.7901116510198356"
      ]
     },
     "metadata": {},
     "execution_count": 21
    }
   ],
   "source": [
    "#run enzyme constraint metabolic model\n",
    "json_model_path=\"./model/iML1515_irr_enz_constraint_adj_round2.json\"\n",
    "enz_model=get_enzyme_constraint_model(json_model_path)\n",
    "pfba_solution = cobra.flux_analysis.pfba(enz_model)\n",
    "pfba_solution_df = pfba_solution.to_frame()\n",
    "#pfba_solution_df.to_csv('./analysis/ECMpy_solution_df_pfba.csv')\n",
    "pfba_solution.fluxes['BIOMASS_Ec_iML1515_core_75p37M']"
   ]
  },
  {
   "cell_type": "code",
   "execution_count": 22,
   "metadata": {},
   "outputs": [
    {
     "output_type": "execute_result",
     "data": {
      "text/plain": [
       "0.8769972144269698"
      ]
     },
     "metadata": {},
     "execution_count": 22
    }
   ],
   "source": [
    "#run genome-scale metabolic model\n",
    "norm_model=cobra.io.json.load_json_model(json_model_path)\n",
    "pfba_solution = cobra.flux_analysis.pfba(norm_model)\n",
    "pfba_solution_df = pfba_solution.to_frame()\n",
    "#pfba_solution_df.to_csv('./analysis/Orimodel_solution_df_pfba.csv')\n",
    "pfba_solution.fluxes['BIOMASS_Ec_iML1515_core_75p37M']\n"
   ]
  },
  {
   "cell_type": "code",
   "execution_count": null,
   "metadata": {},
   "outputs": [],
   "source": []
  }
 ],
 "metadata": {
  "kernelspec": {
   "name": "python3",
   "display_name": "Python 3.6.9 64-bit ('enzyme_python': conda)",
   "metadata": {
    "interpreter": {
     "hash": "f09aca8c570770933bc8e36ab92e2e40def5319b75eec09cb13378d4d93d76ce"
    }
   }
  },
  "language_info": {
   "codemirror_mode": {
    "name": "ipython",
    "version": 3
   },
   "file_extension": ".py",
   "mimetype": "text/x-python",
   "name": "python",
   "nbconvert_exporter": "python",
   "pygments_lexer": "ipython3",
   "version": "3.6.9-final"
  }
 },
 "nbformat": 4,
 "nbformat_minor": 2
}