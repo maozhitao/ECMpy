{
 "cells": [
  {
   "cell_type": "markdown",
   "metadata": {},
   "source": [
    "# Import related pacakages"
   ]
  },
  {
   "cell_type": "code",
   "execution_count": 1,
   "metadata": {},
   "outputs": [],
   "source": [
    "pip install wget\n",
    "pip install goatools"
   ]
  },
  {
   "cell_type": "markdown",
   "metadata": {},
   "source": [
    "# Download data"
   ]
  },
  {
   "cell_type": "code",
   "execution_count": null,
   "metadata": {},
   "outputs": [],
   "source": [
    "from goatools.obo_parser import GODag\n",
    "import wget\n",
    "\n",
    "go_fn = wget.download('http://geneontology.org/ontology/go-basic.obo')\n",
    "go = GODag(go_fn, optional_attrs=['relationship'])"
   ]
  },
  {
   "cell_type": "code",
   "execution_count": 1,
   "metadata": {},
   "outputs": [
    {
     "output_type": "stream",
     "name": "stdout",
     "text": [
      "./data/go-basic.obo: fmt(1.2) rel(2020-10-09) 47,313 GO Terms\nDep <-Depth Counts->  <-Level Counts->\nLev   BP    MF    CC    BP    MF    CC\n--- ----  ----  ----  ----  ----  ----\n00     1     1     1     1     1     1\n01    28    19     5    28    19     5\n02   240   128   926   404   151   928\n03  1176   578   681  2217   896   779\n04  2327  1551   889  4824  2021  1041\n05  3623  4808   674  6854  5061   644\n06  4537  1888   474  6890  2012   436\n07  4713  1106   310  4729   750   228\n08  4286   538   158  2052   197   107\n09  3509   307    59   634    47    25\n10  2217   158    18   215     6     1\n11  1288    85     1    42    17     1\n12   655    11     0     0     0     0\n13   228     0     0     0     0     0\n14    49     0     0     0     0     0\n15     9     0     0     0     0     0\n16     4     0     0     0     0     0\n"
     ]
    }
   ],
   "source": [
    "from goatools.rpt.rpt_lev_depth import RptLevDepth\n",
    "from goatools.obo_parser import GODag\n",
    "obodag = GODag(\"./data/go-basic.obo\")\n",
    "rptobj = RptLevDepth(obodag)\n",
    "rptobj.write_summary_cnts_all()"
   ]
  },
  {
   "cell_type": "code",
   "execution_count": 5,
   "metadata": {},
   "outputs": [],
   "source": [
    "\n",
    "#GO_level_ano\n",
    "import pandas as pd\n",
    "GO_level_space_out=pd.DataFrame()\n",
    "i=0\n",
    "for eachgo in obodag:\n",
    "    eg_term = obodag[eachgo]  \n",
    "    GO_level_space_out.loc[i,'GO']=eachgo\n",
    "    GO_level_space_out.loc[i,'name']=eg_term.name   \n",
    "    GO_level_space_out.loc[i,'level']=eg_term.level\n",
    "    GO_level_space_out.loc[i,'namespace']=eg_term.namespace   \n",
    "    i=i+1\n",
    "GO_level_space_out.to_csv('./analysis/GO_level_space_out.csv', header=True, index=False)"
   ]
  },
  {
   "cell_type": "code",
   "execution_count": 9,
   "metadata": {},
   "outputs": [
    {
     "output_type": "stream",
     "name": "stdout",
     "text": [
      "uniEC数目:4264\nuniGO数目:4488\n"
     ]
    }
   ],
   "source": [
    "#ec2go\n",
    "#http://current.geneontology.org/ontology/external2go/ec2go\n",
    "\n",
    "import re\n",
    "import pandas as pd\n",
    "import numpy as np\n",
    "\n",
    "outFile=open('./analysis/GO_ec.csv','w')\n",
    "outFile.write('GO,ec\\n')\n",
    "for eachdata in open('./data/ec2go.txt'):\n",
    "    if re.search('!',eachdata):\n",
    "        pass\n",
    "    else:\n",
    "        data=eachdata.split(' > ')\n",
    "        ec=data[0].split('EC:')[1]\n",
    "        GO=data[1].split('; ')[1].split('\\n')[0]\n",
    "        spec=ec.split('.')\n",
    "        if len(spec)>3:\n",
    "            outstr=GO+','+ec+'\\n'\n",
    "            outFile.write(outstr)\n",
    "outFile.close()\n",
    "GO_ec=pd.read_csv('./analysis/GO_ec.csv')#\n",
    "print('uniEC数目:'+str(len(np.unique(GO_ec['ec']))))\n",
    "print('uniGO数目:'+str(len(np.unique(GO_ec['GO']))))"
   ]
  },
  {
   "cell_type": "code",
   "execution_count": 17,
   "metadata": {},
   "outputs": [
    {
     "output_type": "execute_result",
     "data": {
      "text/plain": [
       "           GO         ec    kcat\n",
       "0  GO:0004022    1.1.1.1  4808.0\n",
       "3  GO:0004316  1.1.1.100   344.7\n",
       "4  GO:0102131  1.1.1.100   344.7\n",
       "5  GO:0102132  1.1.1.100   344.7\n",
       "9  GO:0008743  1.1.1.103   551.7"
      ],
      "text/html": "<div>\n<style scoped>\n    .dataframe tbody tr th:only-of-type {\n        vertical-align: middle;\n    }\n\n    .dataframe tbody tr th {\n        vertical-align: top;\n    }\n\n    .dataframe thead th {\n        text-align: right;\n    }\n</style>\n<table border=\"1\" class=\"dataframe\">\n  <thead>\n    <tr style=\"text-align: right;\">\n      <th></th>\n      <th>GO</th>\n      <th>ec</th>\n      <th>kcat</th>\n    </tr>\n  </thead>\n  <tbody>\n    <tr>\n      <th>0</th>\n      <td>GO:0004022</td>\n      <td>1.1.1.1</td>\n      <td>4808.0</td>\n    </tr>\n    <tr>\n      <th>3</th>\n      <td>GO:0004316</td>\n      <td>1.1.1.100</td>\n      <td>344.7</td>\n    </tr>\n    <tr>\n      <th>4</th>\n      <td>GO:0102131</td>\n      <td>1.1.1.100</td>\n      <td>344.7</td>\n    </tr>\n    <tr>\n      <th>5</th>\n      <td>GO:0102132</td>\n      <td>1.1.1.100</td>\n      <td>344.7</td>\n    </tr>\n    <tr>\n      <th>9</th>\n      <td>GO:0008743</td>\n      <td>1.1.1.103</td>\n      <td>551.7</td>\n    </tr>\n  </tbody>\n</table>\n</div>"
     },
     "metadata": {},
     "execution_count": 17
    }
   ],
   "source": [
    "GO_ec = pd.read_csv('./analysis/GO_ec.csv')\n",
    "ec_max_df = pd.read_csv('./analysis/ec_max_df.csv', index_col=0)\n",
    "GO_ec_kcat = pd.DataFrame()\n",
    "for index, row in GO_ec.iterrows():\n",
    "    if row['ec'] in ec_max_df.index:\n",
    "        GO_ec_kcat.loc[index,'GO'] = row['GO']\n",
    "        GO_ec_kcat.loc[index,'ec'] = row['ec']\n",
    "        GO_ec_kcat.loc[index,'kcat'] = ec_max_df.loc[row['ec'],'kcat']\n",
    "GO_ec_kcat.to_csv('./analysis/GO_ec_kcat.csv', header=True, index=False)\n",
    "GO_ec_kcat.head(5)"
   ]
  },
  {
   "cell_type": "code",
   "execution_count": 18,
   "metadata": {},
   "outputs": [
    {
     "output_type": "execute_result",
     "data": {
      "text/plain": [
       "                                                         name  level  \\\n",
       "GO                                                                     \n",
       "GO:0000001                          mitochondrion inheritance    6.0   \n",
       "GO:0000002                   mitochondrial genome maintenance    6.0   \n",
       "GO:0000003                                       reproduction    1.0   \n",
       "GO:0000006  high-affinity zinc transmembrane transporter a...    7.0   \n",
       "GO:0000007  low-affinity zinc ion transmembrane transporte...    7.0   \n",
       "\n",
       "                     namespace  \n",
       "GO                              \n",
       "GO:0000001  biological_process  \n",
       "GO:0000002  biological_process  \n",
       "GO:0000003  biological_process  \n",
       "GO:0000006  molecular_function  \n",
       "GO:0000007  molecular_function  "
      ],
      "text/html": "<div>\n<style scoped>\n    .dataframe tbody tr th:only-of-type {\n        vertical-align: middle;\n    }\n\n    .dataframe tbody tr th {\n        vertical-align: top;\n    }\n\n    .dataframe thead th {\n        text-align: right;\n    }\n</style>\n<table border=\"1\" class=\"dataframe\">\n  <thead>\n    <tr style=\"text-align: right;\">\n      <th></th>\n      <th>name</th>\n      <th>level</th>\n      <th>namespace</th>\n    </tr>\n    <tr>\n      <th>GO</th>\n      <th></th>\n      <th></th>\n      <th></th>\n    </tr>\n  </thead>\n  <tbody>\n    <tr>\n      <th>GO:0000001</th>\n      <td>mitochondrion inheritance</td>\n      <td>6.0</td>\n      <td>biological_process</td>\n    </tr>\n    <tr>\n      <th>GO:0000002</th>\n      <td>mitochondrial genome maintenance</td>\n      <td>6.0</td>\n      <td>biological_process</td>\n    </tr>\n    <tr>\n      <th>GO:0000003</th>\n      <td>reproduction</td>\n      <td>1.0</td>\n      <td>biological_process</td>\n    </tr>\n    <tr>\n      <th>GO:0000006</th>\n      <td>high-affinity zinc transmembrane transporter a...</td>\n      <td>7.0</td>\n      <td>molecular_function</td>\n    </tr>\n    <tr>\n      <th>GO:0000007</th>\n      <td>low-affinity zinc ion transmembrane transporte...</td>\n      <td>7.0</td>\n      <td>molecular_function</td>\n    </tr>\n  </tbody>\n</table>\n</div>"
     },
     "metadata": {},
     "execution_count": 18
    }
   ],
   "source": [
    "GO_level_space_out = pd.read_csv('./analysis/GO_level_space_out.csv', index_col=0)\n",
    "GO_level_space_out.head(5)"
   ]
  },
  {
   "cell_type": "code",
   "execution_count": 33,
   "metadata": {
    "tags": []
   },
   "outputs": [
    {
     "output_type": "stream",
     "name": "stdout",
     "text": [
      "['GO:0004316', 'GO:0102131', 'GO:0102132']\n"
     ]
    },
    {
     "output_type": "execute_result",
     "data": {
      "text/plain": [
       "57500000.0"
      ]
     },
     "metadata": {},
     "execution_count": 33
    }
   ],
   "source": [
    "import numpy as np\n",
    "\n",
    "ec='1.1.1.100'\n",
    "GO_ec_kcat = pd.read_csv('./analysis/GO_ec_kcat.csv')\n",
    "GO_list = list(GO_ec_kcat[GO_ec_kcat['ec']==ec]['GO'])\n",
    "print(GO_list)\n",
    "same_level_GO_df = pd.DataFrame()\n",
    "for eachgo in GO_list:\n",
    "    go_level=GO_level_space_out.loc[eachgo,'level']\n",
    "    go_type=GO_level_space_out.loc[eachgo,'namespace']\n",
    "    tmp1=GO_level_space_out[GO_level_space_out['namespace']==go_type]\n",
    "    tmp2=tmp1[tmp1['level']==go_level]\n",
    "    kcat_list=[]\n",
    "    for eachgo2 in tmp2.index:\n",
    "        if eachgo2 in list(GO_ec_kcat['GO']):\n",
    "            kcat_list.append(np.max(GO_ec_kcat[GO_ec_kcat['GO']==eachgo2]['kcat']))\n",
    "    if len(kcat_list)>1:\n",
    "        same_level_GO_df.loc[eachgo,'kcat']=np.max(kcat_list)\n",
    "np.max(same_level_GO_df['kcat'])"
   ]
  },
  {
   "cell_type": "code",
   "execution_count": 4,
   "metadata": {},
   "outputs": [
    {
     "output_type": "stream",
     "name": "stdout",
     "text": [
      "b1858\nb1859\nb1857\n"
     ]
    }
   ],
   "source": [
    "import numpy as np\n",
    "import cobra\n",
    "import sys\n",
    "sys.path.append(r'./code/')\n",
    "from cobrapy_ec_model_function import *\n",
    "import re\n",
    "\n",
    "json_model_path = \"./model/iML1515_irr_enz_constraint_kapp.json\"\n",
    "enz_model=get_enzyme_constraint_model(json_model_path)\n",
    "\n"
   ]
  },
  {
   "cell_type": "code",
   "execution_count": 13,
   "metadata": {},
   "outputs": [],
   "source": [
    "gene_GO = pd.read_csv('./data/gene_go.csv')\n",
    "GO_level_space_out = pd.read_csv('./analysis/GO_level_space_out.csv', index_col=0)\n",
    "GO_ec_kcat = pd.read_csv('./analysis/GO_ec_kcat.csv')"
   ]
  },
  {
   "cell_type": "code",
   "execution_count": 17,
   "metadata": {},
   "outputs": [
    {
     "output_type": "stream",
     "name": "stdout",
     "text": [
      "57500000.0\n"
     ]
    }
   ],
   "source": [
    "reaction = enz_model.reactions.get_by_id('ACGAptspp')\n",
    "gpr_list = reaction.gene_reaction_rule.split(' ')\n",
    "gene_list=[]\n",
    "gene_kcat_list=[]\n",
    "for eachdata in gpr_list:\n",
    "    if len(eachdata)>4:\n",
    "        if eachdata not in gene_list:\n",
    "            gene_list.append(eachdata)\n",
    "            GO_list=list(gene_GO[gene_GO['gene']==eachdata]['GO'])\n",
    "            same_level_GO_df = pd.DataFrame()\n",
    "            for eachgo in GO_list:\n",
    "                if eachgo in GO_level_space_out.index:\n",
    "                    go_level=GO_level_space_out.loc[eachgo,'level']\n",
    "                    go_type=GO_level_space_out.loc[eachgo,'namespace']\n",
    "                    tmp1=GO_level_space_out[GO_level_space_out['namespace']==go_type]\n",
    "                    tmp2=tmp1[tmp1['level']==go_level]\n",
    "                    kcat_list=[]\n",
    "                    for eachgo2 in tmp2.index:\n",
    "                        if eachgo2 in list(GO_ec_kcat['GO']):\n",
    "                            kcat_list.append(np.max(GO_ec_kcat[GO_ec_kcat['GO']==eachgo2]['kcat']))\n",
    "                    if len(kcat_list)>1:\n",
    "                        same_level_GO_df.loc[eachgo,'kcat']=np.max(kcat_list)\n",
    "            gene_kcat_list.append(np.max(same_level_GO_df['kcat'])) \n",
    "\n",
    "     \n",
    "print(np.max(gene_kcat_list))"
   ]
  },
  {
   "cell_type": "code",
   "execution_count": null,
   "metadata": {},
   "outputs": [],
   "source": [
    "same_level_GO_df = pd.DataFrame()\n",
    "for eachgo in GO_list:\n",
    "    go_level=GO_level_space_out.loc[eachgo,'level']\n",
    "    go_type=GO_level_space_out.loc[eachgo,'namespace']\n",
    "    tmp1=GO_level_space_out[GO_level_space_out['namespace']==go_type]\n",
    "    tmp2=tmp1[tmp1['level']==go_level]\n",
    "    kcat_list=[]\n",
    "    for eachgo2 in tmp2.index:\n",
    "        if eachgo2 in list(GO_ec_kcat['GO']):\n",
    "            kcat_list.append(np.max(GO_ec_kcat[GO_ec_kcat['GO']==eachgo2]['kcat']))\n",
    "    if len(kcat_list)>1:\n",
    "        same_level_GO_df.loc[eachgo,'kcat']=np.max(kcat_list)\n",
    "np.max(same_level_GO_df['kcat'])"
   ]
  }
 ],
 "metadata": {
  "kernelspec": {
   "name": "python3",
   "display_name": "Python 3.6.9 64-bit ('enzyme_python': conda)",
   "metadata": {
    "interpreter": {
     "hash": "f09aca8c570770933bc8e36ab92e2e40def5319b75eec09cb13378d4d93d76ce"
    }
   }
  },
  "language_info": {
   "codemirror_mode": {
    "name": "ipython",
    "version": 3
   },
   "file_extension": ".py",
   "mimetype": "text/x-python",
   "name": "python",
   "nbconvert_exporter": "python",
   "pygments_lexer": "ipython3",
   "version": "3.6.9-final"
  }
 },
 "nbformat": 4,
 "nbformat_minor": 2
}