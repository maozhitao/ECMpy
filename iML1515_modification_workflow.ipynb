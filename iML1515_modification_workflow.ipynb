{
 "cells": [
  {
   "cell_type": "markdown",
   "metadata": {},
   "source": [
    "# iML1515修改"
   ]
  },
  {
   "cell_type": "code",
   "execution_count": 1,
   "metadata": {},
   "outputs": [],
   "source": [
    "import cobra \n",
    "from cobra import Model, Reaction, Metabolite\n",
    "import pandas as pd   \n",
    "\n",
    "model = cobra.io.read_sbml_model('data/iML1515.xml')"
   ]
  },
  {
   "cell_type": "markdown",
   "metadata": {},
   "source": [
    "## 1、修改错误GPR关系"
   ]
  },
  {
   "cell_type": "code",
   "execution_count": 2,
   "metadata": {},
   "outputs": [
    {
     "output_type": "stream",
     "name": "stdout",
     "text": [
      "14\nFMNRx2: fmn_c + h_c + nadph_c --> fmnh2_c + nadp_c b0937 or b3844 or b2764\nARGabcpp: arg__L_p + atp_c + h2o_c --> adp_c + arg__L_c + h_c + pi_c ( b2310 and b2308 and b2306 and b2307 ) or ( b0862 and b0860 and b0864 and b0861 ) or ( b0862 and b0864 and b0863 and b0861 )\nECAP1pp: 2.0 unagamuf_p --> eca2und_p + h_p + udcpdp_p b3785 and b3793 and b3792\nECAP2pp: eca2und_p + unagamuf_p --> eca3und_p + h_p + udcpdp_p b3785 and b3793 and b3792\n3NTD4pp: 3cmp_p + h2o_p --> cytd_p + pi_p b0383 or b4213 or b2744\nGLUDy: glu__L_c + h2o_c + nadp_c <=> akg_c + h_c + nadph_c + nh4_c b1761\nFADRx2: fad_c + h_c + nadph_c --> fadh2_c + nadp_c b2764\nECAP3pp: eca3und_p + unagamuf_p --> eca4und_p + h_p + udcpdp_p b3785 and b3793 and b3792\nBWCOGDS1: bwco_c + gtp_c + h_c --> bwco1gdp_c + ppi_c b3857\nBWCOGDS2: bwco1gdp_c + gtp_c + h_c --> bwcogdp_c + ppi_c b3857\nTHZPSN3: atp_c + dhgly_c + dxyl5p_c + h_c + iscssh_c + nadph_c --> 4mpetz_c + amp_c + co2_c + 2.0 h2o_c + iscs_c + nadp_c + ppi_c b3992 and b3990 and b0423 and b2530 and b4407 and b3991\nBMOGDS1: bmoco_c + gtp_c + h_c --> bmoco1gdp_c + ppi_c b3857\nBMOGDS2: bmoco1gdp_c + gtp_c + h_c --> bmocogdp_c + ppi_c b3857\nMOGDS: gtp_c + h_c + moco_c --> mocogdp_c + ppi_c b3857\n"
     ]
    }
   ],
   "source": [
    "gpr_df = pd.read_csv('data/iML1515-modify_gpr.csv',index_col='id')\n",
    "\n",
    "change_rxn_gpr_list = list(gpr_df.index[0:14])\n",
    "print(len(change_rxn_gpr_list))\n",
    "\n",
    "for r in model.reactions:\n",
    "    if r.id in change_rxn_gpr_list:\n",
    "        r.gene_reaction_rule = gpr_df.loc[r.id]['Modified genes ']\n",
    "        print(r,r.gene_reaction_rule)"
   ]
  },
  {
   "cell_type": "markdown",
   "metadata": {},
   "source": [
    "## 2、修改反应方向"
   ]
  },
  {
   "cell_type": "code",
   "execution_count": 3,
   "metadata": {},
   "outputs": [],
   "source": [
    "change_direction_df = pd.read_csv('data/iML1515_direction_change-58.csv',index_col='id')\n",
    "\n",
    "for r in model.reactions:\n",
    "    for i in change_direction_df.index:\n",
    "        if r.id==i:\n",
    "            if change_direction_df.loc[i]['改后']=='正向':\n",
    "                r.bounds=(0,1000)\n",
    "            if change_direction_df.loc[i]['改后']=='反向':\n",
    "                r.bounds=(-1000,0)"
   ]
  },
  {
   "cell_type": "markdown",
   "metadata": {},
   "source": [
    "## 3、反应拆分\n",
    "SHK3Dr 3dhsk_c + h_c + nadph_c <=> nadp_c + skm_c  \n",
    "不同的方向由不同的酶催化 ecocyc SHIKIMATE-5-DEHYDROGENASE-RXN"
   ]
  },
  {
   "cell_type": "code",
   "execution_count": 4,
   "metadata": {},
   "outputs": [],
   "source": [
    "model.reactions.get_by_id('SHK3Dr').bounds = (0,1000)\n",
    "model.reactions.get_by_id('SHK3Dr').id = 'SHK3Dr'\n",
    "model.reactions.get_by_id('SHK3Dr').gene_reaction_rule = 'b3281'\n",
    "\n",
    "reaction = Reaction('SHK3Dr_reverse')\n",
    "model.add_reaction(reaction)\n",
    "reaction.build_reaction_from_string('3dhsk_c + h_c + nadph_c <-- nadp_c + skm_c')\n",
    "model.reactions.get_by_id('SHK3Dr_reverse').gene_reaction_rule = 'b1692'"
   ]
  },
  {
   "source": [
    "## 4、 EC号修改"
   ],
   "cell_type": "markdown",
   "metadata": {}
  },
  {
   "cell_type": "code",
   "execution_count": 5,
   "metadata": {},
   "outputs": [
    {
     "output_type": "stream",
     "name": "stdout",
     "text": [
      "MDH3 1.1.5.4\nMDH2 1.1.5.4\n"
     ]
    }
   ],
   "source": [
    "reaction_ec_adj_df = pd.read_csv('data/reaction_ec_adj.csv',index_col='reaction')\n",
    "for r in model.reactions:\n",
    "    if r.id in reaction_ec_adj_df.index:\n",
    "        r.annotation[\"ec-code\"] = reaction_ec_adj_df.loc[r.id,'ec']\n",
    "        print(r.id,r.annotation[\"ec-code\"])"
   ]
  },
  {
   "cell_type": "code",
   "execution_count": 6,
   "metadata": {},
   "outputs": [],
   "source": [
    "cobra.io.write_sbml_model(model, \"./model/iML1515_new.xml\")"
   ]
  },
  {
   "cell_type": "code",
   "execution_count": 7,
   "metadata": {},
   "outputs": [],
   "source": [
    "cobra.io.save_json_model(model, \"./model/iML151_new.json\")"
   ]
  },
  {
   "cell_type": "code",
   "execution_count": null,
   "metadata": {},
   "outputs": [],
   "source": []
  }
 ],
 "metadata": {
  "kernelspec": {
   "name": "python3",
   "display_name": "Python 3.6.9 64-bit ('enzyme_python': conda)",
   "metadata": {
    "interpreter": {
     "hash": "f09aca8c570770933bc8e36ab92e2e40def5319b75eec09cb13378d4d93d76ce"
    }
   }
  },
  "language_info": {
   "codemirror_mode": {
    "name": "ipython",
    "version": 3
   },
   "file_extension": ".py",
   "mimetype": "text/x-python",
   "name": "python",
   "nbconvert_exporter": "python",
   "pygments_lexer": "ipython3",
   "version": "3.6.9-final"
  }
 },
 "nbformat": 4,
 "nbformat_minor": 2
}