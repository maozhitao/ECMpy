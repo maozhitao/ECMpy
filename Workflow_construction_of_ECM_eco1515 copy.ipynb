{
 "cells": [
  {
   "cell_type": "markdown",
   "metadata": {},
   "source": [
    "# Import related pacakages"
   ]
  },
  {
   "cell_type": "code",
   "execution_count": 1,
   "metadata": {},
   "outputs": [],
   "source": [
    "import cobra\n",
    "import sys\n",
    "sys.path.append(r'./code/')\n",
    "from cobrapy_ec_model_function import *"
   ]
  },
  {
   "cell_type": "markdown",
   "metadata": {},
   "source": [
    "# Inputing files"
   ]
  },
  {
   "cell_type": "code",
   "execution_count": 2,
   "metadata": {},
   "outputs": [],
   "source": [
    "# The genome-scale metabolic model for constructing the enzyme-constrained model\n",
    "model_name = './data/iML1515.xml' \n",
    "\n",
    "# Reaction-kcat file.#s-1\n",
    "# eg. AADDGT,49389.2889\n",
    "reaction_kcat_file = \"./data/reaction_kappori.csv\"\n",
    "\n",
    "# Gene-abundance file. \n",
    "# eg. b0789,1.1\n",
    "gene_abundance_file = \"./data/gene_abundance.csv\"\n",
    "\n",
    "# Gene-molecular_weight file. \n",
    "# eg. b0001,thrL,2.13846\n",
    "gene_molecular_weight_file = \"./data/gene_molecular_weight.csv\"\n"
   ]
  },
  {
   "cell_type": "markdown",
   "metadata": {},
   "source": [
    "# Step1: Preprocessing of model"
   ]
  },
  {
   "cell_type": "markdown",
   "metadata": {},
   "source": [
    "The reversible reactions in the GEM model are divided into two irreversible reactions. The input is iML1515 with 2712 reactions. The output is a model with 3375 irreversible reactions."
   ]
  },
  {
   "cell_type": "code",
   "execution_count": 3,
   "metadata": {},
   "outputs": [
    {
     "output_type": "execute_result",
     "data": {
      "text/plain": [
       "<Model iML1515 at 0x1b63ca42320>"
      ],
      "text/html": "\n        <table>\n            <tr>\n                <td><strong>Name</strong></td>\n                <td>iML1515</td>\n            </tr><tr>\n                <td><strong>Memory address</strong></td>\n                <td>0x01b63ca42320</td>\n            </tr><tr>\n                <td><strong>Number of metabolites</strong></td>\n                <td>1877</td>\n            </tr><tr>\n                <td><strong>Number of reactions</strong></td>\n                <td>3375</td>\n            </tr><tr>\n                <td><strong>Number of groups</strong></td>\n                <td>38</td>\n            </tr><tr>\n                <td><strong>Objective expression</strong></td>\n                <td>1.0*BIOMASS_Ec_iML1515_core_75p37M - 1.0*BIOMASS_Ec_iML1515_core_75p37M_reverse_35685</td>\n            </tr><tr>\n                <td><strong>Compartments</strong></td>\n                <td>cytosol, extracellular space, periplasm</td>\n            </tr>\n          </table>"
     },
     "metadata": {},
     "execution_count": 3
    }
   ],
   "source": [
    "model = cobra.io.read_sbml_model(model_name)\n",
    "convert_to_irreversible(model)\n",
    "model"
   ]
  },
  {
   "cell_type": "markdown",
   "metadata": {},
   "source": [
    "# Step2: Retrieving enzyme kinetics and proteomics data"
   ]
  },
  {
   "cell_type": "markdown",
   "metadata": {},
   "source": [
    "The inputs are GEM model. The outputs are 'genes' and 'gpr_relationship' data in the iML1515."
   ]
  },
  {
   "cell_type": "code",
   "execution_count": 4,
   "metadata": {},
   "outputs": [],
   "source": [
    "[genes,gpr_relationship] = get_genes_and_gpr(model)"
   ]
  },
  {
   "cell_type": "markdown",
   "metadata": {},
   "source": [
    "Get the molecular weight of the enzyme (MW) according to the file of all_reaction_GPR.csv, which obtained from the previous step (gpr_relationship, ./analysis/all_reaction_GPR.csv). We need to manually correct the error of the gene_reaction_rule of a small amount of reactions in iML1515 (See Supplementary Table S1 for details), and also need to manually get the subunit of each protein from EcoCyc."
   ]
  },
  {
   "cell_type": "code",
   "execution_count": 5,
   "metadata": {},
   "outputs": [],
   "source": [
    "# reaction-gene-subunit-MW file. \n",
    "# eg. ALATA_D2,D-alanine transaminase,b2551 or b0870,45.31659 or 36.49471 ,2 or 4 \n",
    "reaction_gene_subunit_MW = \"./data/reaction_gene_subunit_MW.csv\"\n",
    "reaction_mw = calculate_reaction_mw(reaction_gene_subunit_MW)"
   ]
  },
  {
   "cell_type": "markdown",
   "metadata": {},
   "source": [
    "Calculate kcat/MW. The inputs are 'reaction_kcat' and 'reaction_MW' data for calculating the kcat/MW (When the reaction is catalyzed by several isozymes, the maximum is retained)."
   ]
  },
  {
   "cell_type": "code",
   "execution_count": 6,
   "metadata": {},
   "outputs": [],
   "source": [
    "save_file=\"./analysis/reaction_kcat_mw.csv\"\n",
    "reaction_kcat_mw = calculate_reaction_kcat_mw(reaction_kcat_file, reaction_mw, save_file)"
   ]
  },
  {
   "cell_type": "markdown",
   "metadata": {},
   "source": [
    "Calculate f. The input is 'genes' data, 'gene_abundance.csv' and 'gene_molecular_weight.csv'."
   ]
  },
  {
   "cell_type": "code",
   "execution_count": 7,
   "metadata": {
    "tags": []
   },
   "outputs": [
    {
     "output_type": "execute_result",
     "data": {
      "text/plain": [
       "0.4059986079578236"
      ]
     },
     "metadata": {},
     "execution_count": 7
    }
   ],
   "source": [
    "f = calculate_f(genes, gene_abundance_file, gene_molecular_weight_file)\n",
    "f"
   ]
  },
  {
   "cell_type": "markdown",
   "metadata": {},
   "source": [
    "# Step3: Save enzyme concentration constraint model as json file."
   ]
  },
  {
   "cell_type": "code",
   "execution_count": 8,
   "metadata": {},
   "outputs": [],
   "source": [
    "model_file = './data/iML1515.xml' \n",
    "reaction_kcat_mw_file=\"./analysis/reaction_kcat_mw.csv\"\n",
    "json_output_file=\"./model/iML1515_irr_enz_constraint_kapp.json\"\n",
    "#The enzyme mass fraction \n",
    "f = 0.406\n",
    "# The total protein fraction in cell.\n",
    "ptot = 0.56 \n",
    "# The approximated average saturation of enzyme.\n",
    "#sigma = 0.5 \n",
    "sigma = 1 #kapp data sigma is 1\n",
    "# Lowerbound  of enzyme concentration constraint. \n",
    "lowerbound = 0   \n",
    "upperbound = round(ptot * f * sigma, 3)\n",
    "\n",
    "trans_model2enz_json_model(model_file, reaction_kcat_mw_file, f, ptot, sigma, lowerbound, upperbound, json_output_file)"
   ]
  },
  {
   "source": [
    "# Step4: Calibration parameters"
   ],
   "cell_type": "markdown",
   "metadata": {}
  },
  {
   "source": [
    "Compare with C13 data"
   ],
   "cell_type": "markdown",
   "metadata": {}
  },
  {
   "cell_type": "code",
   "execution_count": 9,
   "metadata": {},
   "outputs": [
    {
     "output_type": "stream",
     "name": "stdout",
     "text": [
      "0.4191429334139575\n"
     ]
    }
   ],
   "source": [
    "json_model_path = \"./model/iML1515_irr_enz_constraint_kapp.json\"\n",
    "fluxes_outfile = './analysis/ECMpy_kappori_solution_df_pfba.csv'\n",
    "enz_model=get_enzyme_constraint_model(json_model_path)\n",
    "enz_model_pfba_solution = get_fluxes_detail_in_model(enz_model,fluxes_outfile)\n",
    "print(enz_model_pfba_solution.fluxes['BIOMASS_Ec_iML1515_core_75p37M'])\n"
   ]
  },
  {
   "cell_type": "code",
   "execution_count": 10,
   "metadata": {},
   "outputs": [
    {
     "output_type": "stream",
     "name": "stdout",
     "text": [
      "['PDH', 'ACKr_reverse', 'AKGDH', 'ICL', 'ME2', 'MALS', 'SUCDi', 'SUCOAS_reverse', 'PTAr']\n"
     ]
    }
   ],
   "source": [
    "c13reaction_file = './data/C13reaction.csv' \n",
    "c13reaction = pd.read_csv(c13reaction_file, index_col=0)\n",
    "c13reaction = list(c13reaction.index)\n",
    "\n",
    "enz_model_pfba_solution_select = enz_model_pfba_solution[enz_model_pfba_solution['fluxes']>0]\n",
    "enz_model_pfba_solution_select_id = list(enz_model_pfba_solution_select.index)\n",
    "c13reaction_2_enz_model_diff=list(set(c13reaction).difference(set(enz_model_pfba_solution_select_id)))\n",
    "print (c13reaction_2_enz_model_diff)"
   ]
  },
  {
   "source": [
    "Select calibration reaction accrording biomass diff"
   ],
   "cell_type": "markdown",
   "metadata": {}
  },
  {
   "cell_type": "code",
   "execution_count": 26,
   "metadata": {},
   "outputs": [],
   "source": [
    "def select_calibration_reaction(reaction_kcat_mw_file, json_model_path, enzyme_amount, percentage, reaction_biomass_outfile, select_value):\n",
    "    reaction_kcat_mw = pd.read_csv(reaction_kcat_mw_file, index_col=0)\n",
    "    norm_model=cobra.io.json.load_json_model(json_model_path)\n",
    "    norm_biomass=norm_model.slim_optimize() \n",
    "    df_biomass = pd.DataFrame()\n",
    "    df_biomass_select = pd.DataFrame()\n",
    "    for r in norm_model.reactions:\n",
    "        with norm_model as model:\n",
    "            if r.id in list(reaction_kcat_mw.index):\n",
    "                r.bounds = (0, reaction_kcat_mw.loc[r.id,'kcat_MW']*enzyme_amount*percentage)\n",
    "                df_biomass.loc[r.id,'biomass'] = model.slim_optimize()\n",
    "                biomass_diff = norm_biomass-model.slim_optimize()\n",
    "                biomass_diff_ratio = (norm_biomass-model.slim_optimize())/norm_biomass\n",
    "                df_biomass.loc[r.id,'biomass_diff'] = biomass_diff\n",
    "                df_biomass.loc[r.id,'biomass_diff_ratio'] = biomass_diff_ratio\n",
    "                if biomass_diff_ratio > select_value: #select difference range\n",
    "                    df_biomass_select.loc[r.id,'biomass_diff'] = biomass_diff\n",
    "                    df_biomass_select.loc[r.id,'biomass_diff_ratio'] = biomass_diff_ratio\n",
    "\n",
    "    df_biomass = df_biomass.sort_values(by=\"biomass_diff_ratio\",axis = 0,ascending = False)\n",
    "    df_biomass.to_csv(reaction_biomass_outfile)\n",
    "\n",
    "    if df_biomass_select.empty:\n",
    "        pass\n",
    "    else:\n",
    "        df_reaction_select = df_biomass_select.sort_values(by=\"biomass_diff_ratio\",axis = 0,ascending = False)\n",
    "        return(df_reaction_select)\n"
   ]
  },
  {
   "cell_type": "code",
   "execution_count": 33,
   "metadata": {},
   "outputs": [
    {
     "output_type": "execute_result",
     "data": {
      "text/plain": [
       "                biomass_diff  biomass_diff_ratio\n",
       "RBFSa               0.404461            0.461189\n",
       "KARA2               0.389287            0.443887\n",
       "KARA1_reverse       0.380034            0.433336\n",
       "GAPD                0.038566            0.043975\n",
       "ENO                 0.018344            0.020917\n",
       "PDH                 0.017342            0.019774\n",
       "CS                  0.014488            0.016520\n",
       "AKGDH               0.011594            0.013221\n",
       "ACONTa              0.011310            0.012896\n",
       "MDH                 0.006972            0.007950\n",
       "ACONTb              0.003663            0.004177\n",
       "SUCOAS_reverse      0.002052            0.002340\n",
       "ICDHyr              0.001593            0.001816"
      ],
      "text/html": "<div>\n<style scoped>\n    .dataframe tbody tr th:only-of-type {\n        vertical-align: middle;\n    }\n\n    .dataframe tbody tr th {\n        vertical-align: top;\n    }\n\n    .dataframe thead th {\n        text-align: right;\n    }\n</style>\n<table border=\"1\" class=\"dataframe\">\n  <thead>\n    <tr style=\"text-align: right;\">\n      <th></th>\n      <th>biomass_diff</th>\n      <th>biomass_diff_ratio</th>\n    </tr>\n  </thead>\n  <tbody>\n    <tr>\n      <th>RBFSa</th>\n      <td>0.404461</td>\n      <td>0.461189</td>\n    </tr>\n    <tr>\n      <th>KARA2</th>\n      <td>0.389287</td>\n      <td>0.443887</td>\n    </tr>\n    <tr>\n      <th>KARA1_reverse</th>\n      <td>0.380034</td>\n      <td>0.433336</td>\n    </tr>\n    <tr>\n      <th>GAPD</th>\n      <td>0.038566</td>\n      <td>0.043975</td>\n    </tr>\n    <tr>\n      <th>ENO</th>\n      <td>0.018344</td>\n      <td>0.020917</td>\n    </tr>\n    <tr>\n      <th>PDH</th>\n      <td>0.017342</td>\n      <td>0.019774</td>\n    </tr>\n    <tr>\n      <th>CS</th>\n      <td>0.014488</td>\n      <td>0.016520</td>\n    </tr>\n    <tr>\n      <th>AKGDH</th>\n      <td>0.011594</td>\n      <td>0.013221</td>\n    </tr>\n    <tr>\n      <th>ACONTa</th>\n      <td>0.011310</td>\n      <td>0.012896</td>\n    </tr>\n    <tr>\n      <th>MDH</th>\n      <td>0.006972</td>\n      <td>0.007950</td>\n    </tr>\n    <tr>\n      <th>ACONTb</th>\n      <td>0.003663</td>\n      <td>0.004177</td>\n    </tr>\n    <tr>\n      <th>SUCOAS_reverse</th>\n      <td>0.002052</td>\n      <td>0.002340</td>\n    </tr>\n    <tr>\n      <th>ICDHyr</th>\n      <td>0.001593</td>\n      <td>0.001816</td>\n    </tr>\n  </tbody>\n</table>\n</div>"
     },
     "metadata": {},
     "execution_count": 33
    }
   ],
   "source": [
    "reaction_kcat_mw_file = \"./analysis/reaction_kcat_mw.csv\"\n",
    "json_model_path = \"./model/iML1515_irr_enz_constraint_kapp.json\"\n",
    "enzyme_amount = upperbound\n",
    "percentage = 0.1#10%\n",
    "reaction_biomass_outfile = './analysis/reaction_biomass.csv'\n",
    "select_value = 0.001\n",
    "df_reaction_select = select_calibration_reaction(reaction_kcat_mw_file, json_model_path, enzyme_amount, percentage, reaction_biomass_outfile, select_value)\n",
    "df_reaction_select"
   ]
  },
  {
   "cell_type": "code",
   "execution_count": 11,
   "metadata": {},
   "outputs": [],
   "source": [
    "reaction_kcat_mw_file = \"./analysis/reaction_kcat_mw.csv\"\n",
    "adj_kcat_title = 'smoment_adj_kcat'#'smoment_no_adj_kcat'#'kcat_GO'#'smoment_adj_kcat'#\n",
    "change_kapp_file = \"./analysis/reaction_kapp_change_round_1_cb.csv\"\n",
    "reaction_kapp_change_file = \"./analysis/reaction_kapp_change.csv\"\n",
    "\n",
    "calibration_kcat(c13reaction_2_enz_model_diff, reaction_kcat_mw_file, json_model_path, adj_kcat_title, change_kapp_file, reaction_kapp_change_file)\n"
   ]
  },
  {
   "cell_type": "code",
   "execution_count": null,
   "metadata": {},
   "outputs": [],
   "source": [
    "reaction_kcat_mw_file = \"./analysis/reaction_kcat_mw.csv\"\n",
    "adj_kcat_title = 'kcat_GO'#'smoment_no_adj_kcat'#'kcat_GO'#'smoment_adj_kcat'#\n",
    "change_kapp_file = \"./analysis/reaction_kapp_change_round_1_cb.csv\"\n",
    "reaction_kapp_change_file = \"./analysis/reaction_kapp_change.csv\"\n",
    "need_change_reaction=list(df_reaction_select.index)\n",
    "\n",
    "calibration_kcat(need_change_reaction, reaction_kcat_mw_file, json_model_path, adj_kcat_title, change_kapp_file, reaction_kapp_change_file)\n"
   ]
  },
  {
   "cell_type": "code",
   "execution_count": 12,
   "metadata": {},
   "outputs": [],
   "source": [
    "model_file = './data/iML1515.xml' \n",
    "reaction_kcat_mw_file=\"./analysis/reaction_kapp_change.csv\"\n",
    "json_output_file=\"./model/iML1515_irr_enz_constraint_adj_round1.json\"\n",
    "#The enzyme mass fraction \n",
    "f = 0.406\n",
    "# The total protein fraction in cell.\n",
    "ptot = 0.56 \n",
    "# The approximated average saturation of enzyme.\n",
    "#sigma = 0.5 \n",
    "sigma = 1#kcapp数据，饱和度为1\n",
    "# Lowerbound  of enzyme concentration constraint. \n",
    "lowerbound = 0   \n",
    "upperbound = round(ptot * f * sigma, 3)\n",
    "\n",
    "trans_model2enz_json_model(model_file, reaction_kcat_mw_file, f, ptot, sigma, lowerbound, upperbound, json_output_file)"
   ]
  },
  {
   "cell_type": "code",
   "execution_count": 13,
   "metadata": {},
   "outputs": [
    {
     "output_type": "stream",
     "name": "stdout",
     "text": [
      "0.4498039604370815\n"
     ]
    }
   ],
   "source": [
    "json_model_path = \"./model/iML1515_irr_enz_constraint_adj_round1.json\"\n",
    "enz_model = get_enzyme_constraint_model(json_model_path)\n",
    "enz_model_pfba_solution = cobra.flux_analysis.pfba(enz_model)\n",
    "enz_model_pfba_solution = enz_model_pfba_solution.to_frame()\n",
    "enz_model_pfba_solution.to_csv('./analysis/ECMpy_kapp_adj_round1_solution_df_pfba.csv')\n",
    "print(enz_model_pfba_solution.fluxes['BIOMASS_Ec_iML1515_core_75p37M'])"
   ]
  },
  {
   "cell_type": "code",
   "execution_count": 14,
   "metadata": {},
   "outputs": [
    {
     "output_type": "stream",
     "name": "stdout",
     "text": [
      "['AKGDH', 'PYK', 'MDH', 'ICL', 'ME2', 'MALS', 'SUCOAS_reverse']\n"
     ]
    }
   ],
   "source": [
    "c13reaction_file = './data/C13reaction.csv' \n",
    "c13reaction = pd.read_csv(c13reaction_file, index_col=0)\n",
    "c13reaction = list(c13reaction.index)\n",
    "\n",
    "enz_model_pfba_solution_select = enz_model_pfba_solution[enz_model_pfba_solution['fluxes']>0]\n",
    "enz_model_pfba_solution_select_id = list(enz_model_pfba_solution_select.index)\n",
    "c13reaction_2_enz_model_diff=list(set(c13reaction).difference(set(enz_model_pfba_solution_select_id)))\n",
    "print (c13reaction_2_enz_model_diff)"
   ]
  },
  {
   "source": [
    "Calibration kcat according c13 reaction list"
   ],
   "cell_type": "markdown",
   "metadata": {}
  },
  {
   "cell_type": "code",
   "execution_count": 21,
   "metadata": {},
   "outputs": [
    {
     "output_type": "stream",
     "name": "stdout",
     "text": [
      "['ICL', 'MALS', 'AKGDH', 'ME2', 'PDH', 'SUCDi', 'SUCOAS_reverse']\n"
     ]
    }
   ],
   "source": [
    "import numpy as np\n",
    "c13reaction_file = './data/C13reaction.csv' \n",
    "c13reaction = pd.read_csv(c13reaction_file, index_col=0)\n",
    "c13reaction = list(c13reaction.index)\n",
    "Orimodel_solution_df_pfba = pd.read_csv('./analysis/Orimodel_solution_df_pfba.csv', index_col=0)\n",
    "ECMpy_kapp_adj_round1_solution_df_pfba = pd.read_csv('./analysis/ECMpy_kappori_solution_df_pfba.csv', index_col=0)\n",
    "\n",
    "Orimodel_solution_df_pfba_c13_select = pd.DataFrame()\n",
    "for index,row in Orimodel_solution_df_pfba.iterrows():\n",
    "    if index in c13reaction:\n",
    "        Orimodel_solution_df_pfba_c13_select.loc[index,'fluxes'] = row['fluxes']\n",
    "\n",
    "c13reaction_selecet =[]\n",
    "ECMpy_kapp_adj_round1_solution_df_pfba_c13_select = pd.DataFrame()        \n",
    "for index,row in ECMpy_kapp_adj_round1_solution_df_pfba.iterrows():\n",
    "    if index in c13reaction:\n",
    "        if row['fluxes'] == 0:\n",
    "            c13reaction_selecet.append(index)\n",
    "        elif Orimodel_solution_df_pfba_c13_select.loc[index,'fluxes'] >0:\n",
    "            ECMpy_2_Orimodel_ratio = abs(Orimodel_solution_df_pfba_c13_select.loc[index,'fluxes']-row['fluxes'])/np.max([Orimodel_solution_df_pfba_c13_select.loc[index,'fluxes'],row['fluxes']])\n",
    "            if ECMpy_2_Orimodel_ratio>0.9:\n",
    "                #pass\n",
    "                #print(index,Orimodel_solution_df_pfba_c13_select.loc[index,'fluxes'],row['fluxes'])\n",
    "                #print(index,ECMpy_2_Orimodel_ratio)\n",
    "                c13reaction_selecet.append(index)\n",
    "\n",
    "print(c13reaction_selecet)"
   ]
  },
  {
   "cell_type": "code",
   "execution_count": 55,
   "metadata": {},
   "outputs": [
    {
     "output_type": "stream",
     "name": "stdout",
     "text": [
      "['ICL', 'MALS', 'AKGDH', 'ME2', 'PDH', 'SUCDi', 'SUCOAS_reverse']\n"
     ]
    }
   ],
   "source": [
    "reaction_kcat_mw_file = \"./analysis/reaction_kcat_mw.csv\"\n",
    "reaction_kapp_change_file = \"./analysis/reaction_kapp_change_c13.csv\"\n",
    "\n",
    "change_reaction_list_round1=change_reaction_kcat_by_autopacmen(c13reaction_selecet,reaction_kcat_mw_file,reaction_kapp_change_file)\n",
    "print(change_reaction_list_round1)"
   ]
  },
  {
   "cell_type": "code",
   "execution_count": 23,
   "metadata": {},
   "outputs": [],
   "source": [
    "model_file = './data/iML1515.xml' \n",
    "reaction_kcat_mw_file=\"./analysis/reaction_kapp_change_c13.csv\"\n",
    "json_output_file=\"./model/iML1515_irr_enz_constraint_adj_round1.json\"\n",
    "f = 0.406\n",
    "ptot = 0.56 \n",
    "sigma = 1\n",
    "lowerbound = 0   \n",
    "upperbound = round(ptot * f * sigma, 3)\n",
    "\n",
    "trans_model2enz_json_model(model_file, reaction_kcat_mw_file, f, ptot, sigma, lowerbound, upperbound, json_output_file)"
   ]
  },
  {
   "cell_type": "code",
   "execution_count": 24,
   "metadata": {},
   "outputs": [
    {
     "output_type": "stream",
     "name": "stdout",
     "text": [
      "0.4454926709312894\n"
     ]
    }
   ],
   "source": [
    "json_model_path = \"./model/iML1515_irr_enz_constraint_adj_round1.json\"\n",
    "fluxes_outfile = './analysis/ECMpy_kapp_adj_round1_solution_df_pfba.csv'\n",
    "enz_model=get_enzyme_constraint_model(json_model_path)\n",
    "enz_model_pfba_solution = get_fluxes_detail_in_model(enz_model,fluxes_outfile)\n",
    "print(enz_model_pfba_solution.fluxes['BIOMASS_Ec_iML1515_core_75p37M'])"
   ]
  },
  {
   "cell_type": "code",
   "execution_count": 25,
   "metadata": {},
   "outputs": [
    {
     "output_type": "stream",
     "name": "stdout",
     "text": [
      "['MDH', 'PYK', 'ICL', 'MALS', 'ME2', 'AKGDH', 'SUCOAS_reverse']\n"
     ]
    }
   ],
   "source": [
    "c13reaction_file = './data/C13reaction.csv' \n",
    "c13reaction = pd.read_csv(c13reaction_file, index_col=0)\n",
    "c13reaction = list(c13reaction.index)\n",
    "\n",
    "enz_model_pfba_solution_select = enz_model_pfba_solution[enz_model_pfba_solution['fluxes']>0]\n",
    "enz_model_pfba_solution_select_id = list(enz_model_pfba_solution_select.index)\n",
    "c13reaction_2_enz_model_diff=list(set(c13reaction).difference(set(enz_model_pfba_solution_select_id)))\n",
    "print (c13reaction_2_enz_model_diff)"
   ]
  },
  {
   "source": [
    "Calibration kcat according Enzyme usage "
   ],
   "cell_type": "markdown",
   "metadata": {}
  },
  {
   "cell_type": "code",
   "execution_count": 26,
   "metadata": {},
   "outputs": [
    {
     "output_type": "execute_result",
     "data": {
      "text/plain": [
       "                    kcat_mw       flux  enz useage  enz ratio\n",
       "PDH              297.911591   8.057090    0.027045   0.119142\n",
       "GAPD             734.538803  11.800003    0.016065   0.070769\n",
       "NADH16pp        1295.628496  18.969448    0.014641   0.064498\n",
       "ENO              946.228175  11.059068    0.011688   0.051487\n",
       "RBFSa              0.037137   0.000397    0.010700   0.047139\n",
       "KARA2             12.484042   0.129429    0.010368   0.045672\n",
       "KARA1_reverse     38.284397   0.389524    0.010174   0.044822\n",
       "FBA              478.270272   3.113278    0.006509   0.028676\n",
       "METS              13.180039   0.068766    0.005217   0.022984\n",
       "GHMT2r           127.105741   0.472613    0.003718   0.016380\n",
       "GLNS             192.219988   0.697845    0.003630   0.015993\n",
       "GND              769.211345   2.749187    0.003574   0.015745\n",
       "PGK_reverse     3677.203769  11.800003    0.003209   0.014136\n",
       "PGI             2077.044032   6.621837    0.003188   0.014045\n",
       "PPC              417.917559   1.318758    0.003156   0.013901\n",
       "METAT              0.128720   0.000400    0.003108   0.013691\n",
       "ATPS4rpp       12744.657385  33.257311    0.002610   0.011496\n",
       "ARGSS             50.502621   0.131773    0.002609   0.011494\n",
       "GTPCI              0.115986   0.000298    0.002570   0.011320\n",
       "PGM_reverse     4323.713432  11.059068    0.002558   0.011268\n",
       "MOHMT              0.127490   0.000300    0.002355   0.010375\n",
       "PSERT            375.534458   0.740935    0.001973   0.008692"
      ],
      "text/html": "<div>\n<style scoped>\n    .dataframe tbody tr th:only-of-type {\n        vertical-align: middle;\n    }\n\n    .dataframe tbody tr th {\n        vertical-align: top;\n    }\n\n    .dataframe thead th {\n        text-align: right;\n    }\n</style>\n<table border=\"1\" class=\"dataframe\">\n  <thead>\n    <tr style=\"text-align: right;\">\n      <th></th>\n      <th>kcat_mw</th>\n      <th>flux</th>\n      <th>enz useage</th>\n      <th>enz ratio</th>\n    </tr>\n  </thead>\n  <tbody>\n    <tr>\n      <th>PDH</th>\n      <td>297.911591</td>\n      <td>8.057090</td>\n      <td>0.027045</td>\n      <td>0.119142</td>\n    </tr>\n    <tr>\n      <th>GAPD</th>\n      <td>734.538803</td>\n      <td>11.800003</td>\n      <td>0.016065</td>\n      <td>0.070769</td>\n    </tr>\n    <tr>\n      <th>NADH16pp</th>\n      <td>1295.628496</td>\n      <td>18.969448</td>\n      <td>0.014641</td>\n      <td>0.064498</td>\n    </tr>\n    <tr>\n      <th>ENO</th>\n      <td>946.228175</td>\n      <td>11.059068</td>\n      <td>0.011688</td>\n      <td>0.051487</td>\n    </tr>\n    <tr>\n      <th>RBFSa</th>\n      <td>0.037137</td>\n      <td>0.000397</td>\n      <td>0.010700</td>\n      <td>0.047139</td>\n    </tr>\n    <tr>\n      <th>KARA2</th>\n      <td>12.484042</td>\n      <td>0.129429</td>\n      <td>0.010368</td>\n      <td>0.045672</td>\n    </tr>\n    <tr>\n      <th>KARA1_reverse</th>\n      <td>38.284397</td>\n      <td>0.389524</td>\n      <td>0.010174</td>\n      <td>0.044822</td>\n    </tr>\n    <tr>\n      <th>FBA</th>\n      <td>478.270272</td>\n      <td>3.113278</td>\n      <td>0.006509</td>\n      <td>0.028676</td>\n    </tr>\n    <tr>\n      <th>METS</th>\n      <td>13.180039</td>\n      <td>0.068766</td>\n      <td>0.005217</td>\n      <td>0.022984</td>\n    </tr>\n    <tr>\n      <th>GHMT2r</th>\n      <td>127.105741</td>\n      <td>0.472613</td>\n      <td>0.003718</td>\n      <td>0.016380</td>\n    </tr>\n    <tr>\n      <th>GLNS</th>\n      <td>192.219988</td>\n      <td>0.697845</td>\n      <td>0.003630</td>\n      <td>0.015993</td>\n    </tr>\n    <tr>\n      <th>GND</th>\n      <td>769.211345</td>\n      <td>2.749187</td>\n      <td>0.003574</td>\n      <td>0.015745</td>\n    </tr>\n    <tr>\n      <th>PGK_reverse</th>\n      <td>3677.203769</td>\n      <td>11.800003</td>\n      <td>0.003209</td>\n      <td>0.014136</td>\n    </tr>\n    <tr>\n      <th>PGI</th>\n      <td>2077.044032</td>\n      <td>6.621837</td>\n      <td>0.003188</td>\n      <td>0.014045</td>\n    </tr>\n    <tr>\n      <th>PPC</th>\n      <td>417.917559</td>\n      <td>1.318758</td>\n      <td>0.003156</td>\n      <td>0.013901</td>\n    </tr>\n    <tr>\n      <th>METAT</th>\n      <td>0.128720</td>\n      <td>0.000400</td>\n      <td>0.003108</td>\n      <td>0.013691</td>\n    </tr>\n    <tr>\n      <th>ATPS4rpp</th>\n      <td>12744.657385</td>\n      <td>33.257311</td>\n      <td>0.002610</td>\n      <td>0.011496</td>\n    </tr>\n    <tr>\n      <th>ARGSS</th>\n      <td>50.502621</td>\n      <td>0.131773</td>\n      <td>0.002609</td>\n      <td>0.011494</td>\n    </tr>\n    <tr>\n      <th>GTPCI</th>\n      <td>0.115986</td>\n      <td>0.000298</td>\n      <td>0.002570</td>\n      <td>0.011320</td>\n    </tr>\n    <tr>\n      <th>PGM_reverse</th>\n      <td>4323.713432</td>\n      <td>11.059068</td>\n      <td>0.002558</td>\n      <td>0.011268</td>\n    </tr>\n    <tr>\n      <th>MOHMT</th>\n      <td>0.127490</td>\n      <td>0.000300</td>\n      <td>0.002355</td>\n      <td>0.010375</td>\n    </tr>\n    <tr>\n      <th>PSERT</th>\n      <td>375.534458</td>\n      <td>0.740935</td>\n      <td>0.001973</td>\n      <td>0.008692</td>\n    </tr>\n  </tbody>\n</table>\n</div>"
     },
     "metadata": {},
     "execution_count": 26
    }
   ],
   "source": [
    "f = 0.406\n",
    "ptot = 0.56 \n",
    "sigma = 1\n",
    "enz_total = round(ptot * f * sigma, 3)\n",
    "reaction_flux_file = './analysis/ECMpy_kapp_adj_round1_solution_df_pfba.csv' \n",
    "reaction_kcat_mw_file = \"./analysis/reaction_kapp_change_c13.csv\"\n",
    "reaction_enz_usage_file = './analysis/ECMpy_kapp_adj_round1_reaction_enz_usage_df.csv'\n",
    "\n",
    "reaction_enz_usage_df = get_enzyme_usage(enz_total,reaction_flux_file,reaction_kcat_mw_file,reaction_enz_usage_file)\n",
    "reaction_enz_usage_df.head(22)"
   ]
  },
  {
   "cell_type": "code",
   "execution_count": 43,
   "metadata": {},
   "outputs": [
    {
     "output_type": "stream",
     "name": "stdout",
     "text": [
      "['PDH', 'GAPD', 'NADH16pp', 'ENO', 'RBFSa', 'KARA2', 'KARA1_reverse', 'FBA', 'METS', 'GHMT2r', 'GLNS', 'GND', 'PGK_reverse', 'PGI', 'PPC', 'METAT', 'ATPS4rpp', 'ARGSS', 'GTPCI', 'PGM_reverse', 'MOHMT']\n['PDH', 'GAPD', 'NADH16pp', 'ENO', 'RBFSa', 'KARA2', 'KARA1_reverse', 'FBA', 'METS', 'GHMT2r', 'GLNS', 'GND', 'PGK_reverse', 'PGI', 'PPC', 'METAT', 'GTPCI', 'PGM_reverse', 'MOHMT']\n"
     ]
    }
   ],
   "source": [
    "select_reaction = list(reaction_enz_usage_df[reaction_enz_usage_df['enz ratio']>0.01].index)#more than 1%\n",
    "print(select_reaction)\n",
    "reaction_kcat_mw_file = \"./analysis/reaction_kapp_change_c13.csv\"\n",
    "reaction_kapp_change_file = \"./analysis/reaction_kapp_change_c13_enzuse.csv\"\n",
    "\n",
    "change_reaction_list=change_reaction_kcat_by_autopacmen(select_reaction,reaction_kcat_mw_file,reaction_kapp_change_file)\n",
    "print(change_reaction_list)"
   ]
  },
  {
   "cell_type": "code",
   "execution_count": 44,
   "metadata": {},
   "outputs": [],
   "source": [
    "model_file = './data/iML1515.xml' \n",
    "reaction_kcat_mw_file=\"./analysis/reaction_kapp_change_c13_enzuse.csv\"\n",
    "json_output_file=\"./model/iML1515_irr_enz_constraint_adj_round2.json\"\n",
    "f = 0.406\n",
    "ptot = 0.56 \n",
    "sigma = 1\n",
    "lowerbound = 0   \n",
    "upperbound = round(ptot * f * sigma, 3)\n",
    "\n",
    "trans_model2enz_json_model(model_file, reaction_kcat_mw_file, f, ptot, sigma, lowerbound, upperbound, json_output_file)"
   ]
  },
  {
   "cell_type": "code",
   "execution_count": 45,
   "metadata": {},
   "outputs": [
    {
     "output_type": "stream",
     "name": "stdout",
     "text": [
      "0.7041020384688522\n"
     ]
    }
   ],
   "source": [
    "json_model_path = \"./model/iML1515_irr_enz_constraint_adj_round2.json\"\n",
    "fluxes_outfile = './analysis/ECMpy_kapp_adj_round2_solution_df_pfba.csv'\n",
    "enz_model=get_enzyme_constraint_model(json_model_path)\n",
    "enz_model_pfba_solution = get_fluxes_detail_in_model(enz_model,fluxes_outfile)\n",
    "print(enz_model_pfba_solution.fluxes['BIOMASS_Ec_iML1515_core_75p37M'])"
   ]
  },
  {
   "cell_type": "code",
   "execution_count": 46,
   "metadata": {},
   "outputs": [
    {
     "output_type": "stream",
     "name": "stdout",
     "text": [
      "['ME2', 'PFL', 'SUCOAS_reverse']\n"
     ]
    }
   ],
   "source": [
    "c13reaction_file = './data/C13reaction.csv' \n",
    "c13reaction = pd.read_csv(c13reaction_file, index_col=0)\n",
    "c13reaction = list(c13reaction.index)\n",
    "\n",
    "enz_model_pfba_solution_select = enz_model_pfba_solution[enz_model_pfba_solution['fluxes']>0]\n",
    "enz_model_pfba_solution_select_id = list(enz_model_pfba_solution_select.index)\n",
    "c13reaction_2_enz_model_diff=list(set(c13reaction).difference(set(enz_model_pfba_solution_select_id)))\n",
    "print (c13reaction_2_enz_model_diff)"
   ]
  },
  {
   "source": [
    "# Step4: Solveing enzyme concentration constraint by COBRApy."
   ],
   "cell_type": "markdown",
   "metadata": {}
  },
  {
   "cell_type": "code",
   "execution_count": 21,
   "metadata": {},
   "outputs": [
    {
     "output_type": "execute_result",
     "data": {
      "text/plain": [
       "0.7901116510198356"
      ]
     },
     "metadata": {},
     "execution_count": 21
    }
   ],
   "source": [
    "#run enzyme constraint metabolic model\n",
    "json_model_path=\"./model/iML1515_irr_enz_constraint_adj_round2.json\"\n",
    "enz_model=get_enzyme_constraint_model(json_model_path)\n",
    "pfba_solution = cobra.flux_analysis.pfba(enz_model)\n",
    "pfba_solution_df = pfba_solution.to_frame()\n",
    "#pfba_solution_df.to_csv('./analysis/ECMpy_solution_df_pfba.csv')\n",
    "pfba_solution.fluxes['BIOMASS_Ec_iML1515_core_75p37M']"
   ]
  },
  {
   "cell_type": "code",
   "execution_count": 22,
   "metadata": {},
   "outputs": [
    {
     "output_type": "execute_result",
     "data": {
      "text/plain": [
       "0.8769972144269698"
      ]
     },
     "metadata": {},
     "execution_count": 22
    }
   ],
   "source": [
    "#run genome-scale metabolic model\n",
    "norm_model=cobra.io.json.load_json_model(json_model_path)\n",
    "pfba_solution = cobra.flux_analysis.pfba(norm_model)\n",
    "pfba_solution_df = pfba_solution.to_frame()\n",
    "#pfba_solution_df.to_csv('./analysis/Orimodel_solution_df_pfba.csv')\n",
    "pfba_solution.fluxes['BIOMASS_Ec_iML1515_core_75p37M']\n"
   ]
  },
  {
   "cell_type": "code",
   "execution_count": null,
   "metadata": {},
   "outputs": [],
   "source": []
  }
 ],
 "metadata": {
  "kernelspec": {
   "name": "Python 3.6.9 64-bit ('enzyme_python': conda)",
   "display_name": "Python 3.6.9 64-bit ('enzyme_python': conda)",
   "metadata": {
    "interpreter": {
     "hash": "f09aca8c570770933bc8e36ab92e2e40def5319b75eec09cb13378d4d93d76ce"
    }
   }
  },
  "language_info": {
   "codemirror_mode": {
    "name": "ipython",
    "version": 3
   },
   "file_extension": ".py",
   "mimetype": "text/x-python",
   "name": "python",
   "nbconvert_exporter": "python",
   "pygments_lexer": "ipython3",
   "version": "3.6.9-final"
  }
 },
 "nbformat": 4,
 "nbformat_minor": 2
}