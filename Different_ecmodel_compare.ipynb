{
 "cells": [
  {
   "cell_type": "markdown",
   "metadata": {},
   "source": [
    "# Import related pacakages"
   ]
  },
  {
   "cell_type": "code",
   "execution_count": 1,
   "metadata": {},
   "outputs": [],
   "source": [
    "import sys\n",
    "sys.path.append(r'./code/')\n",
    "from cobrapy_ec_model_function import *"
   ]
  },
  {
   "source": [
    "调整过程通量比较"
   ],
   "cell_type": "markdown",
   "metadata": {}
  },
  {
   "cell_type": "code",
   "execution_count": 18,
   "metadata": {},
   "outputs": [],
   "source": [
    "ECMpy_solution_frame=pd.read_csv('./analysis/ECMpy_kappori_solution_df_pfba.csv',index_col=0)\n",
    "ECMpy_adj_solution_frame=pd.read_csv('./analysis/ECMpy_kapp_adj_round1_solution_df_pfba.csv',index_col=0)\n",
    "Orimodel_solution_frame=pd.read_csv('./analysis/Orimodel_solution_df_pfba.csv',index_col=0)\n",
    "insvg=\"./data/Central_metabolic_pathway.svg\"\n",
    "outsvg=\"./analysis/Central_metabolic_pathway_map_fluxes_1.svg\"\n",
    "draw_calibration_kcat_figure(Orimodel_solution_frame,ECMpy_solution_frame,ECMpy_adj_solution_frame,insvg,outsvg)"
   ]
  },
  {
   "cell_type": "code",
   "execution_count": 19,
   "metadata": {},
   "outputs": [],
   "source": [
    "ECMpy_solution_frame=pd.read_csv('./analysis/ECMpy_kappori_solution_df_pfba.csv',index_col=0)\n",
    "ECMpy_adj_solution_frame=pd.read_csv('./analysis/ECMpy_kapp_adj_round2_solution_df_pfba.csv',index_col=0)\n",
    "Orimodel_solution_frame=pd.read_csv('./analysis/Orimodel_solution_df_pfba.csv',index_col=0)\n",
    "insvg=\"./data/Central_metabolic_pathway.svg\"\n",
    "outsvg=\"./analysis/Central_metabolic_pathway_map_fluxes_2.svg\"\n",
    "draw_calibration_kcat_figure(Orimodel_solution_frame,ECMpy_solution_frame,ECMpy_adj_solution_frame,insvg,outsvg)"
   ]
  },
  {
   "cell_type": "code",
   "execution_count": 17,
   "metadata": {},
   "outputs": [],
   "source": [
    "ECMpy_solution_frame=pd.read_csv('./analysis/ECMpy_kappori_solution_df_pfba.csv',index_col=0)\n",
    "ECMpy_adj_solution_frame=pd.read_csv('./analysis/ECMpy_kapp_adj_round3_solution_df_pfba.csv',index_col=0)\n",
    "Orimodel_solution_frame=pd.read_csv('./analysis/Orimodel_solution_df_pfba.csv',index_col=0)\n",
    "insvg=\"./data/Central_metabolic_pathway.svg\"\n",
    "outsvg=\"./analysis/Central_metabolic_pathway_map_fluxes_3.svg\"\n",
    "draw_calibration_kcat_figure(Orimodel_solution_frame,ECMpy_solution_frame,ECMpy_adj_solution_frame,insvg,outsvg)"
   ]
  },
  {
   "cell_type": "code",
   "execution_count": null,
   "metadata": {},
   "outputs": [],
   "source": []
  },
  {
   "cell_type": "code",
   "execution_count": null,
   "metadata": {},
   "outputs": [],
   "source": [
    "与GECKO,smoment比较"
   ]
  },
  {
   "cell_type": "code",
   "execution_count": 20,
   "metadata": {},
   "outputs": [],
   "source": [
    "import cobra\n",
    "import pandas as pd\n",
    "model_gecko_adj_subunit=cobra.io.read_sbml_model( \"./data/iML1515_GECKO_adj_subunit.xml\")\n",
    "model_smoment_adj_subunit=cobra.io.read_sbml_model( \"./data/iML1515_smoment_adj_subunit.xml\")\n",
    "\n",
    "model_gecko_adj_subunit.reactions.get_by_id(\"ER_pool_TG_\").upper_bound=0.228#0.095\n",
    "model_smoment_adj_subunit.reactions.get_by_id(\"ER_pool_TG_\").upper_bound=0.228#0.095\n",
    "model_gecko_adj_subunit_solution = cobra.flux_analysis.pfba(model_gecko_adj_subunit)\n",
    "model_gecko_adj_subunit_solution_frame = model_gecko_adj_subunit_solution.to_frame()\n",
    "model_gecko_adj_subunit_solution_frame.to_csv('./analysis/model_gecko_adj_subunit_solution_pfba.csv')\n",
    "model_smoment_adj_subunit_solution = cobra.flux_analysis.pfba(model_smoment_adj_subunit)\n",
    "model_smoment_adj_subunit_solution_frame = model_smoment_adj_subunit_solution.to_frame()\n",
    "model_smoment_adj_subunit_solution_frame.to_csv('./analysis/model_smoment_adj_subunit_solution_pfba.csv')\n",
    "\n",
    "ECMpy_solution_frame=pd.read_csv('./analysis/ECMpy_kapp_adj_round3_solution_df_pfba.csv',index_col=0)\n",
    "Orimodel_solution_frame=pd.read_csv('./analysis/Orimodel_solution_df_pfba.csv',index_col=0)\n"
   ]
  },
  {
   "cell_type": "code",
   "execution_count": 21,
   "metadata": {},
   "outputs": [],
   "source": [
    "import pandas as pd\n",
    "import re\n",
    "import numpy as np\n",
    "total_solution_frame=pd.DataFrame()\n",
    "\n",
    "for eachreaction in ECMpy_solution_frame.index:\n",
    "    total_solution_frame.loc[eachreaction,'reaction']=eachreaction\n",
    "    total_solution_frame.loc[eachreaction,'model_ori_fluxes']=Orimodel_solution_frame.loc[eachreaction,'fluxes']\n",
    "    total_solution_frame.loc[eachreaction,'ECMpy_fluxes']=ECMpy_solution_frame.loc[eachreaction,'fluxes']\n",
    "    \n",
    "    gecko_list=[]\n",
    "    for reaction in model_gecko_adj_subunit_solution_frame.index:\n",
    "        search_reaction=eachreaction+'_'\n",
    "        if eachreaction==reaction:\n",
    "            gecko_list.append(model_gecko_adj_subunit_solution_frame.loc[reaction,'fluxes'])\n",
    "        elif re.search(search_reaction,reaction):\n",
    "            gecko_list.append(model_gecko_adj_subunit_solution_frame.loc[reaction,'fluxes'])   \n",
    "    #print(eachreaction,gecko_list)\n",
    "    if len(gecko_list)>0:\n",
    "        total_solution_frame.loc[eachreaction,'model_gecko_adj_subunit_fluxes']=np.max(gecko_list)\n",
    "\n",
    "    smoment_list=[]\n",
    "    for reaction in model_smoment_adj_subunit_solution_frame.index:\n",
    "        search_reaction=eachreaction+'_'\n",
    "        if eachreaction==reaction:\n",
    "            smoment_list.append(model_smoment_adj_subunit_solution_frame.loc[reaction,'fluxes'])\n",
    "        elif re.search(search_reaction,reaction):\n",
    "            smoment_list.append(model_smoment_adj_subunit_solution_frame.loc[reaction,'fluxes'])\n",
    "    if len(smoment_list)>0:        \n",
    "        total_solution_frame.loc[eachreaction,'model_smoment_adj_subunit_fluxes']=np.max(smoment_list)    \n",
    "    \n",
    "total_solution_frame.to_csv('./analysis/iML1515_different_model_cb.csv')"
   ]
  },
  {
   "cell_type": "code",
   "execution_count": 28,
   "metadata": {},
   "outputs": [],
   "source": [
    "infile='./analysis/iML1515_different_model_cb.csv'\n",
    "model_data=pd.read_csv(infile,index_col=0)\n",
    "insvg=\"./data/Central_metabolic_pathway.svg\"\n",
    "outsvg=\"./analysis/Central_metabolic_pathway_map_fluxes_diff_model.svg\"\n",
    "draw_different_model_cb_figure(model_data,insvg,outsvg)"
   ]
  }
 ],
 "metadata": {
  "kernelspec": {
   "name": "Python 3.6.9 64-bit ('enzyme_python': conda)",
   "display_name": "Python 3.6.9 64-bit ('enzyme_python': conda)",
   "metadata": {
    "interpreter": {
     "hash": "f09aca8c570770933bc8e36ab92e2e40def5319b75eec09cb13378d4d93d76ce"
    }
   }
  },
  "language_info": {
   "codemirror_mode": {
    "name": "ipython",
    "version": 3
   },
   "file_extension": ".py",
   "mimetype": "text/x-python",
   "name": "python",
   "nbconvert_exporter": "python",
   "pygments_lexer": "ipython3",
   "version": "3.6.9-final"
  }
 },
 "nbformat": 4,
 "nbformat_minor": 2
}