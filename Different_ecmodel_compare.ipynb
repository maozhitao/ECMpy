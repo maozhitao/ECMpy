{
 "cells": [
  {
   "cell_type": "markdown",
   "metadata": {},
   "source": [
    "# Import related pacakages"
   ]
  },
  {
   "cell_type": "code",
   "execution_count": 1,
   "metadata": {},
   "outputs": [],
   "source": [
    "import cobra\n",
    "import sys\n",
    "sys.path.append(r'./code/')\n",
    "from cobrapy_ec_model_function import *"
   ]
  },
  {
   "cell_type": "code",
   "execution_count": 2,
   "metadata": {},
   "outputs": [],
   "source": [
    "import pandas as pd\n",
    "\n",
    "infile='./analysis/Summary_of_different_model_results.csv'\n",
    "model_data=pd.read_csv(infile,index_col=0)\n",
    "\n",
    "svg_need_data_df=pd.DataFrame()\n",
    "\n",
    "for index, row in model_data.iterrows():\n",
    "    mw_cb=str(row['reaction_mw_not_condider_subunit'])+' # '+str(row['reaction_mw_condider_subunit'])\n",
    "    kcat_cb=str(round(row['smoment_no_adj_kcat'],2))+' # '+str(round(row['smoment_adj_kcat'],2))+' # '+\\\n",
    "        str(round(row['kcat_in_vitro'],2))+' # '+str(round(row['kapp'],2))+' # '+str(round(row['kcat_zhaoxin'],2))\\\n",
    "        +' # '+str(round(row['kcat_GO'],2))+' # '+str(round(row['kcat_ec_model'],2))\n",
    "    ori_gecko_smoment_flux_cb=str(round(row['model_ori_fluxes'],2))+' # '+str(round(row['model_gecko_adj_fluxes'],2))+\\\n",
    "        ' # '+str(round(row['model_smoment_adj_fluxes'],2))\n",
    "    ori_gecko_smoment_subunit_flux_cb=str(round(row['model_ori_fluxes'],2))+' # '+str(round(row['ECMpy_fluxes'],2))+\\\n",
    "        ' # '+str(round(row['model_gecko_adj_subunit_fluxes'],2))+' # '+str(round(row['model_smoment_adj_subunit_fluxes'],2))\n",
    "    svg_need_data_df.loc[index,'ori_gecko_smoment_flux_cb']=ori_gecko_smoment_flux_cb\n",
    "    svg_need_data_df.loc[index,'ori_gecko_smoment_subunit_flux_cb']=ori_gecko_smoment_subunit_flux_cb\n",
    "    svg_need_data_df.loc[index,'mw_cb']=mw_cb\n",
    "    svg_need_data_df.loc[index,'kcat_cb']=kcat_cb\n",
    "svg_need_data_df.to_csv('./analysis/svg_need_data_df.csv', header=True, index=True,mode='w')"
   ]
  },
  {
   "cell_type": "code",
   "execution_count": 7,
   "metadata": {},
   "outputs": [],
   "source": [
    "insvg=\"./data/Central_metabolic_pathway.svg\"\n",
    "outsvg=\"./analysis/Central_metabolic_pathway_map_mw.svg\"\n",
    "rclass=['st6','st15','st18'] #svg文件中反应名称的CSS类, 可能有多个对应上下调#此处可更换svg文件中反应ID的分类关系\n",
    "\n",
    "draw_svg(cvg_need_data_df,'mw_cb',insvg,outsvg,rclass)"
   ]
  },
  {
   "cell_type": "code",
   "execution_count": 8,
   "metadata": {},
   "outputs": [],
   "source": [
    "insvg=\"./data/Central_metabolic_pathway.svg\"\n",
    "outsvg=\"./analysis/Central_metabolic_pathway_map_kcat.svg\"\n",
    "rclass=['st6','st15','st18'] #svg文件中反应名称的CSS类, 可能有多个对应上下调#此处可更换svg文件中反应ID的分类关系\n",
    "\n",
    "draw_svg(cvg_need_data_df,'kcat_cb',insvg,outsvg,rclass)"
   ]
  },
  {
   "cell_type": "code",
   "execution_count": 9,
   "metadata": {},
   "outputs": [],
   "source": [
    "insvg=\"./data/Central_metabolic_pathway.svg\"\n",
    "outsvg=\"./analysis/Central_metabolic_pathway_map_ori_gecko_smoment_flux_cb.svg\"\n",
    "rclass=['st6','st15','st18'] #svg文件中反应名称的CSS类, 可能有多个对应上下调#此处可更换svg文件中反应ID的分类关系\n",
    "\n",
    "draw_svg(cvg_need_data_df,'ori_gecko_smoment_flux_cb',insvg,outsvg,rclass)"
   ]
  },
  {
   "cell_type": "code",
   "execution_count": 10,
   "metadata": {},
   "outputs": [],
   "source": [
    "insvg=\"./data/Central_metabolic_pathway.svg\"\n",
    "outsvg=\"./analysis/Central_metabolic_pathway_map_ori_gecko_smoment_subunit_flux_cb.svg\"\n",
    "rclass=['st6','st15','st18'] #svg文件中反应名称的CSS类, 可能有多个对应上下调#此处可更换svg文件中反应ID的分类关系\n",
    "\n",
    "draw_svg(cvg_need_data_df,'ori_gecko_smoment_subunit_flux_cb',insvg,outsvg,rclass)"
   ]
  },
  {
   "cell_type": "code",
   "execution_count": null,
   "metadata": {},
   "outputs": [],
   "source": []
  }
 ],
 "metadata": {
  "kernelspec": {
   "name": "Python 3.6.9 64-bit ('enzyme_python': conda)",
   "display_name": "Python 3.6.9 64-bit ('enzyme_python': conda)",
   "metadata": {
    "interpreter": {
     "hash": "f09aca8c570770933bc8e36ab92e2e40def5319b75eec09cb13378d4d93d76ce"
    }
   }
  },
  "language_info": {
   "codemirror_mode": {
    "name": "ipython",
    "version": 3
   },
   "file_extension": ".py",
   "mimetype": "text/x-python",
   "name": "python",
   "nbconvert_exporter": "python",
   "pygments_lexer": "ipython3",
   "version": "3.6.9-final"
  }
 },
 "nbformat": 4,
 "nbformat_minor": 2
}