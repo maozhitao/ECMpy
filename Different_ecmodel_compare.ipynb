{
 "cells": [
  {
   "cell_type": "markdown",
   "metadata": {},
   "source": [
    "# Import related pacakages"
   ]
  },
  {
   "cell_type": "code",
   "execution_count": 2,
   "metadata": {},
   "outputs": [],
   "source": [
    "import sys\n",
    "sys.path.append(r'./code/')\n",
    "from cobrapy_ec_model_function import *"
   ]
  },
  {
   "cell_type": "code",
   "execution_count": null,
   "metadata": {},
   "outputs": [],
   "source": []
  },
  {
   "cell_type": "code",
   "execution_count": 6,
   "metadata": {},
   "outputs": [],
   "source": [
    "import pandas as pd\n",
    "ECMpy_solution_frame=pd.read_csv('./analysis/ECMpy_kappori_solution_df_pfbaold.csv',index_col=0)\n",
    "#ECMpy_adj_solution_frame=pd.read_csv('./analysis/ECMpy_kapp_adj_round3_solution_df_pfba.csv',index_col=0)\n",
    "ECMpy_adj_solution_frame=pd.read_csv('./analysis/ECMpy_kapp_adj_manual_solution_df_pfba.csv',index_col=0)\n",
    "Orimodel_solution_frame=pd.read_csv('./data/C13reaction.csv' ,index_col=0)\n",
    "insvg=\"./data/Central_metabolic_pathway.svg\"\n",
    "outsvg=\"./analysis/Central_metabolic_pathway_map_fluxes_0.svg\"\n",
    "draw_calibration_kcat_figure_g3(Orimodel_solution_frame,ECMpy_solution_frame,ECMpy_adj_solution_frame,insvg,outsvg)"
   ]
  },
  {
   "cell_type": "code",
   "execution_count": 8,
   "metadata": {},
   "outputs": [],
   "source": [
    "import pandas as pd\n",
    "ECMpy_solution_frame=pd.read_csv('./analysis/ECMpy_kappori_solution_df_pfba.csv',index_col=0)\n",
    "ECMpy_adj_solution_frame=pd.read_csv('./analysis/ECMpy_kapp_adj_round1_solution_df_pfba.csv',index_col=0)\n",
    "Orimodel_solution_frame=pd.read_csv('./data/C13reaction.csv' ,index_col=0)\n",
    "insvg=\"./data/Central_metabolic_pathway.svg\"\n",
    "outsvg=\"./analysis/Central_metabolic_pathway_map_fluxes_1.svg\"\n",
    "draw_calibration_kcat_figure_g2(Orimodel_solution_frame,ECMpy_solution_frame,ECMpy_adj_solution_frame,insvg,outsvg)"
   ]
  },
  {
   "cell_type": "code",
   "execution_count": 11,
   "metadata": {},
   "outputs": [],
   "source": [
    "import pandas as pd\n",
    "ECMpy_solution_frame=pd.read_csv('./analysis/ECMpy_kappori_solution_df_pfba.csv',index_col=0)\n",
    "ECMpy_adj_solution_frame=pd.read_csv('./analysis/ECMpy_kapp_adj_round2_solution_df_pfba.csv',index_col=0)\n",
    "Orimodel_solution_frame=pd.read_csv('./data/C13reaction.csv' ,index_col=0)\n",
    "insvg=\"./data/Central_metabolic_pathway.svg\"\n",
    "outsvg=\"./analysis/Central_metabolic_pathway_map_fluxes_2.svg\"\n",
    "draw_calibration_kcat_figure_g2(Orimodel_solution_frame,ECMpy_solution_frame,ECMpy_adj_solution_frame,insvg,outsvg)"
   ]
  },
  {
   "cell_type": "code",
   "execution_count": 3,
   "metadata": {},
   "outputs": [],
   "source": [
    "import pandas as pd\n",
    "ECMpy_solution_frame=pd.read_csv('./analysis/ECMpy_kappori_solution_df_pfba.csv',index_col=0)\n",
    "ECMpy_adj_solution_frame=pd.read_csv('./analysis/ECMpy_kapp_adj_round3_solution_df_pfba.csv',index_col=0)\n",
    "Orimodel_solution_frame=pd.read_csv('./data/C13reaction.csv' ,index_col=0)\n",
    "insvg=\"./data/Central_metabolic_pathway.svg\"\n",
    "outsvg=\"./analysis/Central_metabolic_pathway_map_fluxes_3.svg\"\n",
    "draw_calibration_kcat_figure_g2(Orimodel_solution_frame,ECMpy_solution_frame,ECMpy_adj_solution_frame,insvg,outsvg)"
   ]
  },
  {
   "cell_type": "code",
   "execution_count": 6,
   "metadata": {},
   "outputs": [],
   "source": [
    "import pandas as pd\n",
    "ECMpy_solution_frame=pd.read_csv('./analysis/ECMpy_kappori_solution_df_pfba.csv',index_col=0)\n",
    "ECMpy_adj_solution_frame=pd.read_csv('./analysis/ECMpy_kapp_adj_manual_solution_df_pfba.csv',index_col=0)\n",
    "Orimodel_solution_frame=pd.read_csv('./data/C13reaction.csv' ,index_col=0)\n",
    "insvg=\"./data/Central_metabolic_pathway.svg\"\n",
    "outsvg=\"./analysis/Central_metabolic_pathway_map_fluxes_4.svg\"\n",
    "draw_calibration_kcat_figure_g2(Orimodel_solution_frame,ECMpy_solution_frame,ECMpy_adj_solution_frame,insvg,outsvg)"
   ]
  },
  {
   "cell_type": "code",
   "execution_count": null,
   "metadata": {},
   "outputs": [],
   "source": [
    "与GECKO,smoment比较"
   ]
  },
  {
   "cell_type": "code",
   "execution_count": 4,
   "metadata": {},
   "outputs": [],
   "source": [
    "import cobra\n",
    "import pandas as pd\n",
    "model_gecko_adj_subunit=cobra.io.read_sbml_model( \"./data/iML1515_GECKO_adj_subunit.xml\")\n",
    "model_smoment_adj_subunit=cobra.io.read_sbml_model( \"./data/iML1515_smoment_adj_subunit.xml\")\n",
    "\n",
    "model_gecko_adj_subunit.reactions.get_by_id(\"ER_pool_TG_\").upper_bound=0.228#0.095\n",
    "model_smoment_adj_subunit.reactions.get_by_id(\"ER_pool_TG_\").upper_bound=0.228#0.095\n",
    "model_gecko_adj_subunit_solution = cobra.flux_analysis.pfba(model_gecko_adj_subunit)\n",
    "model_gecko_adj_subunit_solution_frame = model_gecko_adj_subunit_solution.to_frame()\n",
    "model_gecko_adj_subunit_solution_frame.to_csv('./analysis/model_gecko_adj_subunit_solution_pfba.csv')\n",
    "model_smoment_adj_subunit_solution = cobra.flux_analysis.pfba(model_smoment_adj_subunit)\n",
    "model_smoment_adj_subunit_solution_frame = model_smoment_adj_subunit_solution.to_frame()\n",
    "model_smoment_adj_subunit_solution_frame.to_csv('./analysis/model_smoment_adj_subunit_solution_pfba.csv')\n",
    "\n",
    "ECMpy_solution_frame=pd.read_csv('./analysis/ECMpy_kapp_adj_round2_solution_df_pfba.csv',index_col=0)\n",
    "Orimodel_solution_frame=pd.read_csv('./analysis/Orimodel_solution_df_pfba.csv',index_col=0)\n"
   ]
  },
  {
   "cell_type": "code",
   "execution_count": 5,
   "metadata": {},
   "outputs": [],
   "source": [
    "import pandas as pd\n",
    "import re\n",
    "import numpy as np\n",
    "total_solution_frame=pd.DataFrame()\n",
    "\n",
    "for eachreaction in ECMpy_solution_frame.index:\n",
    "    total_solution_frame.loc[eachreaction,'reaction']=eachreaction\n",
    "    total_solution_frame.loc[eachreaction,'model_ori_fluxes']=Orimodel_solution_frame.loc[eachreaction,'fluxes']\n",
    "    total_solution_frame.loc[eachreaction,'ECMpy_fluxes']=ECMpy_solution_frame.loc[eachreaction,'fluxes']\n",
    "    \n",
    "    gecko_list=[]\n",
    "    for reaction in model_gecko_adj_subunit_solution_frame.index:\n",
    "        search_reaction=eachreaction+'_'\n",
    "        if eachreaction==reaction:\n",
    "            gecko_list.append(model_gecko_adj_subunit_solution_frame.loc[reaction,'fluxes'])\n",
    "        elif re.search(search_reaction,reaction):\n",
    "            gecko_list.append(model_gecko_adj_subunit_solution_frame.loc[reaction,'fluxes'])   \n",
    "    if len(gecko_list)>0:\n",
    "        total_solution_frame.loc[eachreaction,'model_gecko_adj_subunit_fluxes']=np.max(gecko_list)\n",
    "\n",
    "    smoment_list=[]\n",
    "    for reaction in model_smoment_adj_subunit_solution_frame.index:\n",
    "        search_reaction=eachreaction+'_'\n",
    "        if eachreaction==reaction:\n",
    "            smoment_list.append(model_smoment_adj_subunit_solution_frame.loc[reaction,'fluxes'])\n",
    "        elif re.search(search_reaction,reaction):\n",
    "            smoment_list.append(model_smoment_adj_subunit_solution_frame.loc[reaction,'fluxes'])\n",
    "    if len(smoment_list)>0:        \n",
    "        total_solution_frame.loc[eachreaction,'model_smoment_adj_subunit_fluxes']=np.max(smoment_list)    \n",
    "    \n",
    "total_solution_frame.to_csv('./analysis/iML1515_different_model_cb.csv')"
   ]
  },
  {
   "cell_type": "code",
   "execution_count": 6,
   "metadata": {},
   "outputs": [],
   "source": [
    "infile='./analysis/iML1515_different_model_cb.csv'\n",
    "model_data=pd.read_csv(infile,index_col=0)\n",
    "insvg=\"./data/Central_metabolic_pathway.svg\"\n",
    "outsvg=\"./analysis/Central_metabolic_pathway_map_fluxes_diff_model.svg\"\n",
    "draw_different_model_cb_figure(model_data,insvg,outsvg)"
   ]
  },
  {
   "cell_type": "code",
   "execution_count": null,
   "metadata": {},
   "outputs": [],
   "source": []
  },
  {
   "cell_type": "code",
   "execution_count": null,
   "metadata": {},
   "outputs": [],
   "source": []
  },
  {
   "cell_type": "code",
   "execution_count": 6,
   "metadata": {},
   "outputs": [],
   "source": [
    "import cobra\n",
    "import pandas as pd\n",
    "model_gecko_adj_subunit=cobra.io.read_sbml_model( \"./data/iML1515_GECKO_adj_subunit.xml\")\n",
    "model_smoment_adj_subunit=cobra.io.read_sbml_model( \"./data/iML1515_smoment_adj_subunit.xml\")\n",
    "\n",
    "model_gecko_adj_subunit.reactions.get_by_id(\"ER_pool_TG_\").upper_bound=0.228#0.095\n",
    "model_smoment_adj_subunit.reactions.get_by_id(\"ER_pool_TG_\").upper_bound=0.228#0.095\n",
    "model_gecko_adj_subunit_solution = cobra.flux_analysis.pfba(model_gecko_adj_subunit)\n",
    "model_gecko_adj_subunit_solution_frame = model_gecko_adj_subunit_solution.to_frame()\n",
    "model_gecko_adj_subunit_solution_frame.to_csv('./analysis/model_gecko_adj_subunit_solution_pfba.csv')\n",
    "model_smoment_adj_subunit_solution = cobra.flux_analysis.pfba(model_smoment_adj_subunit)\n",
    "model_smoment_adj_subunit_solution_frame = model_smoment_adj_subunit_solution.to_frame()\n",
    "model_smoment_adj_subunit_solution_frame.to_csv('./analysis/model_smoment_adj_subunit_solution_pfba.csv')\n",
    "\n",
    "ECMpy_solution_frame=pd.read_csv('./analysis/ECMpy_kapp_adj_manual_solution_df_pfba.csv',index_col=0)\n",
    "Orimodel_solution_frame=pd.read_csv('./data/C13reaction.csv' ,index_col=0)\n",
    "\n",
    "import re\n",
    "import numpy as np\n",
    "total_solution_frame=pd.DataFrame()\n",
    "\n",
    "for reaction in ECMpy_solution_frame.index:\n",
    "    if re.search('_num',reaction):\n",
    "        eachreaction = reaction.split('_num')[0]\n",
    "    else:\n",
    "        eachreaction = reaction\n",
    "    total_solution_frame.loc[eachreaction,'reaction']=eachreaction\n",
    "    if eachreaction in Orimodel_solution_frame.index:\n",
    "        total_solution_frame.loc[eachreaction,'model_ori_fluxes']=Orimodel_solution_frame.loc[eachreaction,'Flux norm']\n",
    "    else:\n",
    "        pass\n",
    "    total_solution_frame.loc[eachreaction,'ECMpy_fluxes']=ECMpy_solution_frame.loc[reaction,'fluxes']\n",
    "    \n",
    "    gecko_list=[]\n",
    "    for reaction in model_gecko_adj_subunit_solution_frame.index:\n",
    "        search_reaction=eachreaction+'_'\n",
    "        if eachreaction==reaction:\n",
    "            gecko_list.append(model_gecko_adj_subunit_solution_frame.loc[reaction,'fluxes'])\n",
    "        elif re.search(search_reaction,reaction):\n",
    "            gecko_list.append(model_gecko_adj_subunit_solution_frame.loc[reaction,'fluxes'])   \n",
    "    if len(gecko_list)>0:\n",
    "        total_solution_frame.loc[eachreaction,'model_gecko_adj_subunit_fluxes']=np.max(gecko_list)\n",
    "\n",
    "    smoment_list=[]\n",
    "    for reaction in model_smoment_adj_subunit_solution_frame.index:\n",
    "        search_reaction=eachreaction+'_'\n",
    "        if eachreaction==reaction:\n",
    "            smoment_list.append(model_smoment_adj_subunit_solution_frame.loc[reaction,'fluxes'])\n",
    "        elif re.search(search_reaction,reaction):\n",
    "            smoment_list.append(model_smoment_adj_subunit_solution_frame.loc[reaction,'fluxes'])\n",
    "    if len(smoment_list)>0:        \n",
    "        total_solution_frame.loc[eachreaction,'model_smoment_adj_subunit_fluxes']=np.max(smoment_list)    \n",
    "    \n",
    "total_solution_frame.to_csv('./analysis/iML1515_different_model_cb.csv')"
   ]
  },
  {
   "cell_type": "code",
   "execution_count": 3,
   "metadata": {},
   "outputs": [],
   "source": [
    "infile='./analysis/iML1515_different_model_cb.csv'\n",
    "model_data=pd.read_csv(infile,index_col=0)\n",
    "insvg=\"./data/Central_metabolic_pathway.svg\"\n",
    "outsvg=\"./analysis/Central_metabolic_pathway_map_fluxes_diff_model.svg\"\n",
    "draw_different_model_cb_figure_g(model_data,insvg,outsvg)"
   ]
  },
  {
   "cell_type": "code",
   "execution_count": 9,
   "metadata": {},
   "outputs": [
    {
     "output_type": "stream",
     "name": "stdout",
     "text": [
      "ECMpy reactions : 3375\nGECKO reactions : 8503\nsMOMENT reactions : 3341\niML1515 reactions : 2712\nECMpy metabolites : 1877\nGECKO metabolites : 4513\nsMOMENT metabolites : 1878\niML1515 metabolites : 1877\nECMpy genes : 1516\nGECKO genes : 1516\nsMOMENT genes : 1516\niML1515 genes : 1516\n"
     ]
    }
   ],
   "source": [
    "json_model_path=\"./model/iML1515_irr_enz_constraint_adj_manual.json\"\n",
    "enz_model=get_enzyme_constraint_model(json_model_path)\n",
    "iML1515=cobra.io.read_sbml_model( \"./data/iML1515.xml\")\n",
    "model_gecko_adj_subunit=cobra.io.read_sbml_model( \"./data/iML1515_GECKO_adj_subunit.xml\")\n",
    "model_smoment_adj_subunit=cobra.io.read_sbml_model( \"./data/iML1515_smoment_adj_subunit.xml\")\n",
    "\n",
    "print('ECMpy reactions : '+str(len(enz_model.reactions)))\n",
    "print('GECKO reactions : '+str(len(model_gecko_adj_subunit.reactions)))\n",
    "print('sMOMENT reactions : '+str(len(model_smoment_adj_subunit.reactions)))\n",
    "print('iML1515 reactions : '+str(len(iML1515.reactions)))\n",
    "\n",
    "print('ECMpy metabolites : '+str(len(enz_model.metabolites)))\n",
    "print('GECKO metabolites : '+str(len(model_gecko_adj_subunit.metabolites)))\n",
    "print('sMOMENT metabolites : '+str(len(model_smoment_adj_subunit.metabolites)))\n",
    "print('iML1515 metabolites : '+str(len(iML1515.metabolites)))\n",
    "\n",
    "print('ECMpy genes : '+str(len(enz_model.genes)))\n",
    "print('GECKO genes : '+str(len(model_gecko_adj_subunit.genes)))\n",
    "print('sMOMENT genes : '+str(len(model_smoment_adj_subunit.genes)))\n",
    "print('iML1515 genes : '+str(len(iML1515.genes)))"
   ]
  },
  {
   "cell_type": "code",
   "execution_count": null,
   "metadata": {},
   "outputs": [],
   "source": []
  }
 ],
 "metadata": {
  "kernelspec": {
   "name": "python3",
   "display_name": "Python 3.6.9 64-bit ('enzyme_python': conda)",
   "metadata": {
    "interpreter": {
     "hash": "f09aca8c570770933bc8e36ab92e2e40def5319b75eec09cb13378d4d93d76ce"
    }
   }
  },
  "language_info": {
   "codemirror_mode": {
    "name": "ipython",
    "version": 3
   },
   "file_extension": ".py",
   "mimetype": "text/x-python",
   "name": "python",
   "nbconvert_exporter": "python",
   "pygments_lexer": "ipython3",
   "version": "3.6.9-final"
  }
 },
 "nbformat": 4,
 "nbformat_minor": 2
}