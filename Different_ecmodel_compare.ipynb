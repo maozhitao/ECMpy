{
 "cells": [
  {
   "cell_type": "markdown",
   "metadata": {},
   "source": [
    "# Import related pacakages"
   ]
  },
  {
   "cell_type": "code",
   "execution_count": 4,
   "metadata": {},
   "outputs": [],
   "source": [
    "import sys\n",
    "sys.path.append(r'./code/')\n",
    "from cobrapy_ec_model_function import *"
   ]
  },
  {
   "source": [
    "调整过程通量比较"
   ],
   "cell_type": "markdown",
   "metadata": {}
  },
  {
   "cell_type": "code",
   "execution_count": 2,
   "metadata": {},
   "outputs": [],
   "source": [
    "ECMpy_solution_frame=pd.read_csv('./analysis/ECMpy_kappori_solution_df_pfba.csv',index_col=0)\n",
    "ECMpy_adj_solution_frame=pd.read_csv('./analysis/ECMpy_kapp_adj_round1_solution_df_pfba.csv',index_col=0)\n",
    "Orimodel_solution_frame=pd.read_csv('./analysis/Orimodel_solution_df_pfba.csv',index_col=0)\n",
    "insvg=\"./data/Central_metabolic_pathway.svg\"\n",
    "outsvg=\"./analysis/Central_metabolic_pathway_map_fluxes_1.svg\"\n",
    "draw_calibration_kcat_figure(Orimodel_solution_frame,ECMpy_solution_frame,ECMpy_adj_solution_frame,insvg,outsvg)"
   ]
  },
  {
   "cell_type": "code",
   "execution_count": 2,
   "metadata": {},
   "outputs": [],
   "source": [
    "ECMpy_solution_frame=pd.read_csv('./analysis/ECMpy_kappori_solution_df_pfba.csv',index_col=0)\n",
    "ECMpy_adj_solution_frame=pd.read_csv('./analysis/ECMpy_kapp_adj_round3_solution_df_pfba.csv',index_col=0)\n",
    "Orimodel_solution_frame=pd.read_csv('./analysis/Orimodel_solution_df_pfba.csv',index_col=0)\n",
    "insvg=\"./data/Central_metabolic_pathway.svg\"\n",
    "outsvg=\"./analysis/Central_metabolic_pathway_map_fluxes_3.svg\"\n",
    "draw_calibration_kcat_figure(Orimodel_solution_frame,ECMpy_solution_frame,ECMpy_adj_solution_frame,insvg,outsvg)"
   ]
  },
  {
   "cell_type": "code",
   "execution_count": null,
   "metadata": {},
   "outputs": [],
   "source": []
  },
  {
   "cell_type": "code",
   "execution_count": 10,
   "metadata": {},
   "outputs": [],
   "source": [
    "import pandas as pd\n",
    "ECMpy_solution_frame=pd.read_csv('./analysis/ECMpy_kappori_solution_df_pfba.csv',index_col=0)\n",
    "ECMpy_adj_solution_frame=pd.read_csv('./analysis/ECMpy_kapp_adj_round1_solution_df_pfba.csv',index_col=0)\n",
    "Orimodel_solution_frame=pd.read_csv('./data/C13reaction.csv' ,index_col=0)\n",
    "insvg=\"./data/Central_metabolic_pathway.svg\"\n",
    "outsvg=\"./analysis/Central_metabolic_pathway_map_fluxes_1.svg\"\n",
    "draw_calibration_kcat_figure_g(Orimodel_solution_frame,ECMpy_solution_frame,ECMpy_adj_solution_frame,insvg,outsvg)"
   ]
  },
  {
   "cell_type": "code",
   "execution_count": 11,
   "metadata": {},
   "outputs": [],
   "source": [
    "import pandas as pd\n",
    "ECMpy_solution_frame=pd.read_csv('./analysis/ECMpy_kappori_solution_df_pfba.csv',index_col=0)\n",
    "ECMpy_adj_solution_frame=pd.read_csv('./analysis/ECMpy_kapp_adj_round2_solution_df_pfba.csv',index_col=0)\n",
    "Orimodel_solution_frame=pd.read_csv('./data/C13reaction.csv' ,index_col=0)\n",
    "insvg=\"./data/Central_metabolic_pathway.svg\"\n",
    "outsvg=\"./analysis/Central_metabolic_pathway_map_fluxes_2.svg\"\n",
    "draw_calibration_kcat_figure_g(Orimodel_solution_frame,ECMpy_solution_frame,ECMpy_adj_solution_frame,insvg,outsvg)"
   ]
  },
  {
   "cell_type": "code",
   "execution_count": 12,
   "metadata": {},
   "outputs": [],
   "source": [
    "import pandas as pd\n",
    "ECMpy_solution_frame=pd.read_csv('./analysis/ECMpy_kappori_solution_df_pfba.csv',index_col=0)\n",
    "ECMpy_adj_solution_frame=pd.read_csv('./analysis/ECMpy_kapp_adj_round3_solution_df_pfba.csv',index_col=0)\n",
    "Orimodel_solution_frame=pd.read_csv('./data/C13reaction.csv' ,index_col=0)\n",
    "insvg=\"./data/Central_metabolic_pathway.svg\"\n",
    "outsvg=\"./analysis/Central_metabolic_pathway_map_fluxes_3.svg\"\n",
    "draw_calibration_kcat_figure_g(Orimodel_solution_frame,ECMpy_solution_frame,ECMpy_adj_solution_frame,insvg,outsvg)"
   ]
  },
  {
   "cell_type": "code",
   "execution_count": 14,
   "metadata": {},
   "outputs": [],
   "source": [
    "import pandas as pd\n",
    "ECMpy_solution_frame=pd.read_csv('./analysis/ECMpy_kappori_solution_df_pfba.csv',index_col=0)\n",
    "ECMpy_adj_solution_frame=pd.read_csv('./analysis/ECMpy_kapp_adj_manual_solution_df_pfba.csv',index_col=0)\n",
    "Orimodel_solution_frame=pd.read_csv('./data/C13reaction.csv' ,index_col=0)\n",
    "insvg=\"./data/Central_metabolic_pathway.svg\"\n",
    "outsvg=\"./analysis/Central_metabolic_pathway_map_fluxes_4.svg\"\n",
    "draw_calibration_kcat_figure_g(Orimodel_solution_frame,ECMpy_solution_frame,ECMpy_adj_solution_frame,insvg,outsvg)"
   ]
  },
  {
   "cell_type": "code",
   "execution_count": null,
   "metadata": {},
   "outputs": [],
   "source": [
    "与GECKO,smoment比较"
   ]
  },
  {
   "cell_type": "code",
   "execution_count": 4,
   "metadata": {},
   "outputs": [],
   "source": [
    "import cobra\n",
    "import pandas as pd\n",
    "model_gecko_adj_subunit=cobra.io.read_sbml_model( \"./data/iML1515_GECKO_adj_subunit.xml\")\n",
    "model_smoment_adj_subunit=cobra.io.read_sbml_model( \"./data/iML1515_smoment_adj_subunit.xml\")\n",
    "\n",
    "model_gecko_adj_subunit.reactions.get_by_id(\"ER_pool_TG_\").upper_bound=0.228#0.095\n",
    "model_smoment_adj_subunit.reactions.get_by_id(\"ER_pool_TG_\").upper_bound=0.228#0.095\n",
    "model_gecko_adj_subunit_solution = cobra.flux_analysis.pfba(model_gecko_adj_subunit)\n",
    "model_gecko_adj_subunit_solution_frame = model_gecko_adj_subunit_solution.to_frame()\n",
    "model_gecko_adj_subunit_solution_frame.to_csv('./analysis/model_gecko_adj_subunit_solution_pfba.csv')\n",
    "model_smoment_adj_subunit_solution = cobra.flux_analysis.pfba(model_smoment_adj_subunit)\n",
    "model_smoment_adj_subunit_solution_frame = model_smoment_adj_subunit_solution.to_frame()\n",
    "model_smoment_adj_subunit_solution_frame.to_csv('./analysis/model_smoment_adj_subunit_solution_pfba.csv')\n",
    "\n",
    "ECMpy_solution_frame=pd.read_csv('./analysis/ECMpy_kapp_adj_round2_solution_df_pfba.csv',index_col=0)\n",
    "Orimodel_solution_frame=pd.read_csv('./analysis/Orimodel_solution_df_pfba.csv',index_col=0)\n"
   ]
  },
  {
   "cell_type": "code",
   "execution_count": 5,
   "metadata": {},
   "outputs": [],
   "source": [
    "import pandas as pd\n",
    "import re\n",
    "import numpy as np\n",
    "total_solution_frame=pd.DataFrame()\n",
    "\n",
    "for eachreaction in ECMpy_solution_frame.index:\n",
    "    total_solution_frame.loc[eachreaction,'reaction']=eachreaction\n",
    "    total_solution_frame.loc[eachreaction,'model_ori_fluxes']=Orimodel_solution_frame.loc[eachreaction,'fluxes']\n",
    "    total_solution_frame.loc[eachreaction,'ECMpy_fluxes']=ECMpy_solution_frame.loc[eachreaction,'fluxes']\n",
    "    \n",
    "    gecko_list=[]\n",
    "    for reaction in model_gecko_adj_subunit_solution_frame.index:\n",
    "        search_reaction=eachreaction+'_'\n",
    "        if eachreaction==reaction:\n",
    "            gecko_list.append(model_gecko_adj_subunit_solution_frame.loc[reaction,'fluxes'])\n",
    "        elif re.search(search_reaction,reaction):\n",
    "            gecko_list.append(model_gecko_adj_subunit_solution_frame.loc[reaction,'fluxes'])   \n",
    "    if len(gecko_list)>0:\n",
    "        total_solution_frame.loc[eachreaction,'model_gecko_adj_subunit_fluxes']=np.max(gecko_list)\n",
    "\n",
    "    smoment_list=[]\n",
    "    for reaction in model_smoment_adj_subunit_solution_frame.index:\n",
    "        search_reaction=eachreaction+'_'\n",
    "        if eachreaction==reaction:\n",
    "            smoment_list.append(model_smoment_adj_subunit_solution_frame.loc[reaction,'fluxes'])\n",
    "        elif re.search(search_reaction,reaction):\n",
    "            smoment_list.append(model_smoment_adj_subunit_solution_frame.loc[reaction,'fluxes'])\n",
    "    if len(smoment_list)>0:        \n",
    "        total_solution_frame.loc[eachreaction,'model_smoment_adj_subunit_fluxes']=np.max(smoment_list)    \n",
    "    \n",
    "total_solution_frame.to_csv('./analysis/iML1515_different_model_cb.csv')"
   ]
  },
  {
   "cell_type": "code",
   "execution_count": 6,
   "metadata": {},
   "outputs": [],
   "source": [
    "infile='./analysis/iML1515_different_model_cb.csv'\n",
    "model_data=pd.read_csv(infile,index_col=0)\n",
    "insvg=\"./data/Central_metabolic_pathway.svg\"\n",
    "outsvg=\"./analysis/Central_metabolic_pathway_map_fluxes_diff_model.svg\"\n",
    "draw_different_model_cb_figure(model_data,insvg,outsvg)"
   ]
  },
  {
   "cell_type": "code",
   "execution_count": 3,
   "metadata": {},
   "outputs": [
    {
     "output_type": "execute_result",
     "data": {
      "text/plain": [
       "<Reaction SUCDi at 0x2412f5dfba8>"
      ],
      "text/html": "\n        <table>\n            <tr>\n                <td><strong>Reaction identifier</strong></td><td>SUCDi</td>\n            </tr><tr>\n                <td><strong>Name</strong></td><td>Succinate dehydrogenase (irreversible)</td>\n            </tr><tr>\n                <td><strong>Memory address</strong></td>\n                <td>0x02412f5dfba8</td>\n            </tr><tr>\n                <td><strong>Stoichiometry</strong></td>\n                <td>\n                    <p style='text-align:right'>q8_c + succ_c --> fum_c + q8h2_c</p>\n                    <p style='text-align:right'>Ubiquinone-8 + Succinate --> Fumarate + Ubiquinol-8</p>\n                </td>\n            </tr><tr>\n                <td><strong>GPR</strong></td><td>b0723 and b0721 and b0722 and b0724</td>\n            </tr><tr>\n                <td><strong>Lower bound</strong></td><td>0.0</td>\n            </tr><tr>\n                <td><strong>Upper bound</strong></td><td>1000.0</td>\n            </tr>\n        </table>\n        "
     },
     "metadata": {},
     "execution_count": 3
    }
   ],
   "source": [
    "json_model_path=\"./model/iML1515_irr_enz_constraint_adj_round2.json\"\n",
    "enz_model=get_enzyme_constraint_model(json_model_path)\n",
    "pgi = enz_model.reactions.get_by_id(\"SUCDi\")\n",
    "pgi"
   ]
  },
  {
   "cell_type": "code",
   "execution_count": 4,
   "metadata": {},
   "outputs": [
    {
     "output_type": "execute_result",
     "data": {
      "text/plain": [
       "{'bigg.reaction': 'SUCDi',\n",
       " 'metanetx.reaction': 'MNXR99641',\n",
       " 'rhea': ['29187', '29188', '29189', '29190'],\n",
       " 'sbo': 'SBO:0000375'}"
      ]
     },
     "metadata": {},
     "execution_count": 4
    }
   ],
   "source": [
    "pgi.annotation"
   ]
  },
  {
   "cell_type": "code",
   "execution_count": 8,
   "metadata": {},
   "outputs": [
    {
     "output_type": "execute_result",
     "data": {
      "text/plain": [
       "<Reaction ACKr at 0x1c031f50320>"
      ],
      "text/html": "\n        <table>\n            <tr>\n                <td><strong>Reaction identifier</strong></td><td>ACKr</td>\n            </tr><tr>\n                <td><strong>Name</strong></td><td>Acetate kinase</td>\n            </tr><tr>\n                <td><strong>Memory address</strong></td>\n                <td>0x01c031f50320</td>\n            </tr><tr>\n                <td><strong>Stoichiometry</strong></td>\n                <td>\n                    <p style='text-align:right'>ac_c + atp_c --> actp_c + adp_c</p>\n                    <p style='text-align:right'>Acetate + ATP C10H12N5O13P3 --> Acetyl phosphate + ADP C10H12N5O10P2</p>\n                </td>\n            </tr><tr>\n                <td><strong>GPR</strong></td><td>b1849 or b2296 or b3115</td>\n            </tr><tr>\n                <td><strong>Lower bound</strong></td><td>0</td>\n            </tr><tr>\n                <td><strong>Upper bound</strong></td><td>1000.0</td>\n            </tr>\n        </table>\n        "
     },
     "metadata": {},
     "execution_count": 8
    }
   ],
   "source": [
    "pgi = enz_model.reactions.get_by_id(\"ACKr\")\n",
    "pgi"
   ]
  },
  {
   "cell_type": "code",
   "execution_count": 9,
   "metadata": {},
   "outputs": [
    {
     "output_type": "execute_result",
     "data": {
      "text/plain": [
       "<Reaction PTAr_reverse at 0x1c0331c4a90>"
      ],
      "text/html": "\n        <table>\n            <tr>\n                <td><strong>Reaction identifier</strong></td><td>PTAr_reverse</td>\n            </tr><tr>\n                <td><strong>Name</strong></td><td></td>\n            </tr><tr>\n                <td><strong>Memory address</strong></td>\n                <td>0x01c0331c4a90</td>\n            </tr><tr>\n                <td><strong>Stoichiometry</strong></td>\n                <td>\n                    <p style='text-align:right'>actp_c + coa_c --> accoa_c + pi_c</p>\n                    <p style='text-align:right'>Acetyl phosphate + Coenzyme A --> Acetyl-CoA + Phosphate</p>\n                </td>\n            </tr><tr>\n                <td><strong>GPR</strong></td><td>b2297 or b2458</td>\n            </tr><tr>\n                <td><strong>Lower bound</strong></td><td>0</td>\n            </tr><tr>\n                <td><strong>Upper bound</strong></td><td>1000.0</td>\n            </tr>\n        </table>\n        "
     },
     "metadata": {},
     "execution_count": 9
    }
   ],
   "source": [
    "pgi = enz_model.reactions.get_by_id(\"PTAr_reverse\")\n",
    "pgi"
   ]
  },
  {
   "cell_type": "code",
   "execution_count": null,
   "metadata": {},
   "outputs": [],
   "source": []
  }
 ],
 "metadata": {
  "kernelspec": {
   "name": "Python 3.6.9 64-bit ('enzyme_python': conda)",
   "display_name": "Python 3.6.9 64-bit ('enzyme_python': conda)",
   "metadata": {
    "interpreter": {
     "hash": "f09aca8c570770933bc8e36ab92e2e40def5319b75eec09cb13378d4d93d76ce"
    }
   }
  },
  "language_info": {
   "codemirror_mode": {
    "name": "ipython",
    "version": 3
   },
   "file_extension": ".py",
   "mimetype": "text/x-python",
   "name": "python",
   "nbconvert_exporter": "python",
   "pygments_lexer": "ipython3",
   "version": "3.6.9-final"
  }
 },
 "nbformat": 4,
 "nbformat_minor": 2
}