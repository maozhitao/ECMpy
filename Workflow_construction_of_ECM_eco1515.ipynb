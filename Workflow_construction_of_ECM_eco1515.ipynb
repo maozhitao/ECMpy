{
 "cells": [
  {
   "cell_type": "markdown",
   "metadata": {},
   "source": [
    "# Import related pacakages"
   ]
  },
  {
   "cell_type": "code",
   "execution_count": 2,
   "metadata": {},
   "outputs": [],
   "source": [
    "import cobra\n",
    "import sys\n",
    "sys.path.append(r'./code/')\n",
    "from cobrapy_ec_model_function import *"
   ]
  },
  {
   "cell_type": "markdown",
   "metadata": {},
   "source": [
    "# Inputing files"
   ]
  },
  {
   "cell_type": "code",
   "execution_count": 1,
   "metadata": {},
   "outputs": [],
   "source": [
    "# The genome-scale metabolic model for constructing the enzyme-constrained model\n",
    "model_name = './data/iML1515.xml' \n",
    "\n",
    "# Reaction-kcat file.#数据转h-1,乘3600\n",
    "# eg. AADDGT,49389.2889\n",
    "#reaction_kcat_file = \"./data/reaction_kcat.csv\"\n",
    "#reaction_kcat_file = \"./data/reaction_kcat_smoment.csv\"\n",
    "reaction_kcat_file = \"./data/reaction_kappori.csv\"\n",
    "\n",
    "# Gene-abundance file. \n",
    "# eg. b0789,1.1\n",
    "gene_abundance_file = \"./data/gene_abundance.csv\"\n",
    "\n",
    "# Gene-molecular_weight file. \n",
    "# eg. b0001,thrL,2.13846\n",
    "gene_molecular_weight_file = \"./data/gene_molecular_weight.csv\"\n"
   ]
  },
  {
   "cell_type": "markdown",
   "metadata": {},
   "source": [
    "# Step1: Preprocessing of model"
   ]
  },
  {
   "cell_type": "markdown",
   "metadata": {},
   "source": [
    "The reversible reactions in the GEM model are divided into two irreversible reactions. The input is iML1515 with 2712 reactions. The output is a model with 3375 irreversible reactions."
   ]
  },
  {
   "cell_type": "code",
   "execution_count": 3,
   "metadata": {},
   "outputs": [
    {
     "output_type": "execute_result",
     "data": {
      "text/plain": [
       "<Model iML1515 at 0x1e87c18def0>"
      ],
      "text/html": "\n        <table>\n            <tr>\n                <td><strong>Name</strong></td>\n                <td>iML1515</td>\n            </tr><tr>\n                <td><strong>Memory address</strong></td>\n                <td>0x01e87c18def0</td>\n            </tr><tr>\n                <td><strong>Number of metabolites</strong></td>\n                <td>1877</td>\n            </tr><tr>\n                <td><strong>Number of reactions</strong></td>\n                <td>3375</td>\n            </tr><tr>\n                <td><strong>Number of groups</strong></td>\n                <td>38</td>\n            </tr><tr>\n                <td><strong>Objective expression</strong></td>\n                <td>1.0*BIOMASS_Ec_iML1515_core_75p37M - 1.0*BIOMASS_Ec_iML1515_core_75p37M_reverse_35685</td>\n            </tr><tr>\n                <td><strong>Compartments</strong></td>\n                <td>cytosol, extracellular space, periplasm</td>\n            </tr>\n          </table>"
     },
     "metadata": {},
     "execution_count": 3
    }
   ],
   "source": [
    "model = cobra.io.read_sbml_model(model_name)\n",
    "convert_to_irreversible(model)\n",
    "model"
   ]
  },
  {
   "cell_type": "markdown",
   "metadata": {},
   "source": [
    "# Step2: Retrieving enzyme kinetics and proteomics data"
   ]
  },
  {
   "cell_type": "markdown",
   "metadata": {},
   "source": [
    "The inputs are GEM model. The outputs are 'genes' and 'gpr_relationship' data in the iML1515."
   ]
  },
  {
   "cell_type": "code",
   "execution_count": 4,
   "metadata": {},
   "outputs": [],
   "source": [
    "[genes,gpr_relationship] = get_genes_and_gpr(model)"
   ]
  },
  {
   "cell_type": "markdown",
   "metadata": {},
   "source": [
    "Get the molecular weight of the enzyme (MW) according to the file of all_reaction_GPR.csv, which obtained from the previous step (gpr_relationship, ./analysis/all_reaction_GPR.csv). We need to manually correct the error of the gene_reaction_rule of a small amount of reactions in iML1515 (See Supplementary Table S1 for details), and also need to manually get the subunit of each protein from EcoCyc."
   ]
  },
  {
   "cell_type": "code",
   "execution_count": 5,
   "metadata": {},
   "outputs": [],
   "source": [
    "# reaction-gene-subunit-MW file. \n",
    "# eg. ALATA_D2,D-alanine transaminase,b2551 or b0870,45.31659 or 36.49471 ,2 or 4 \n",
    "reaction_gene_subunit_MW = \"./data/reaction_gene_subunit_MW.csv\"\n",
    "reaction_mw = calculate_reaction_mw(reaction_gene_subunit_MW)"
   ]
  },
  {
   "cell_type": "markdown",
   "metadata": {},
   "source": [
    "Calculate kcat/MW. The inputs are 'reaction_kcat' and 'reaction_MW' data for calculating the kcat/MW (When the reaction is catalyzed by several isozymes, the maximum is retained)."
   ]
  },
  {
   "cell_type": "code",
   "execution_count": 6,
   "metadata": {},
   "outputs": [],
   "source": [
    "save_file=\"./analysis/reaction_kcat_mw.csv\"\n",
    "reaction_kcat_mw = calculate_reaction_kcat_mw(reaction_kcat_file, reaction_mw, save_file)"
   ]
  },
  {
   "cell_type": "markdown",
   "metadata": {},
   "source": [
    "Calculate f. The input is 'genes' data, 'gene_abundance.csv' and 'gene_molecular_weight.csv'."
   ]
  },
  {
   "cell_type": "code",
   "execution_count": 7,
   "metadata": {
    "tags": []
   },
   "outputs": [
    {
     "output_type": "execute_result",
     "data": {
      "text/plain": [
       "0.4059986079578236"
      ]
     },
     "metadata": {},
     "execution_count": 7
    }
   ],
   "source": [
    "f = calculate_f(genes, gene_abundance_file, gene_molecular_weight_file)\n",
    "f"
   ]
  },
  {
   "cell_type": "markdown",
   "metadata": {},
   "source": [
    "# Step3: Save enzyme concentration constraint model as json file."
   ]
  },
  {
   "cell_type": "code",
   "execution_count": 8,
   "metadata": {},
   "outputs": [],
   "source": [
    "model_file = './data/iML1515.xml' \n",
    "reaction_kcat_mw_file=\"./analysis/reaction_kcat_mw.csv\"\n",
    "#The enzyme mass fraction \n",
    "f = 0.406\n",
    "# The total protein fraction in cell.\n",
    "ptot = 0.56 \n",
    "# The approximated average saturation of enzyme.\n",
    "#sigma = 0.5 \n",
    "sigma = 1#kcapp数据，饱和度为1\n",
    "# Lowerbound  of enzyme concentration constraint. \n",
    "lowerbound = 0   \n",
    "upperbound = round(ptot * f * sigma, 3)\n",
    "\n",
    "trans_model2enz_json_model(model_file, reaction_kcat_mw_file, f, ptot, sigma , lowerbound, upperbound)"
   ]
  },
  {
   "cell_type": "code",
   "execution_count": 59,
   "metadata": {},
   "outputs": [
    {
     "output_type": "execute_result",
     "data": {
      "text/plain": [
       "0.4191429334139575"
      ]
     },
     "metadata": {},
     "execution_count": 59
    }
   ],
   "source": [
    "json_model_path=\"./model/iML1515_irr_enz_constraint_app.json\"\n",
    "enz_model=get_enzyme_constraint_model(json_model_path)\n",
    "fba_solution = enz_model.optimize()\n",
    "fba_solution_df = fba_solution.to_frame()\n",
    "fba_solution.fluxes['BIOMASS_Ec_iML1515_core_75p37M']"
   ]
  },
  {
   "source": [
    "# Step4: Calibration parameters"
   ],
   "cell_type": "markdown",
   "metadata": {}
  },
  {
   "cell_type": "code",
   "execution_count": 18,
   "metadata": {
    "tags": []
   },
   "outputs": [
    {
     "output_type": "stream",
     "name": "stdout",
     "text": [
      "Wall time: 12.1 s\n"
     ]
    },
    {
     "output_type": "execute_result",
     "data": {
      "text/plain": [
       "       biomass_diff  biomass_diff_ratio\n",
       "PDH        0.015870            0.018096\n",
       "AKGDH      0.009544            0.010883\n",
       "GAPD       0.001297            0.001479"
      ],
      "text/html": "<div>\n<style scoped>\n    .dataframe tbody tr th:only-of-type {\n        vertical-align: middle;\n    }\n\n    .dataframe tbody tr th {\n        vertical-align: top;\n    }\n\n    .dataframe thead th {\n        text-align: right;\n    }\n</style>\n<table border=\"1\" class=\"dataframe\">\n  <thead>\n    <tr style=\"text-align: right;\">\n      <th></th>\n      <th>biomass_diff</th>\n      <th>biomass_diff_ratio</th>\n    </tr>\n  </thead>\n  <tbody>\n    <tr>\n      <th>PDH</th>\n      <td>0.015870</td>\n      <td>0.018096</td>\n    </tr>\n    <tr>\n      <th>AKGDH</th>\n      <td>0.009544</td>\n      <td>0.010883</td>\n    </tr>\n    <tr>\n      <th>GAPD</th>\n      <td>0.001297</td>\n      <td>0.001479</td>\n    </tr>\n  </tbody>\n</table>\n</div>"
     },
     "metadata": {},
     "execution_count": 18
    }
   ],
   "source": [
    "%%time\n",
    "# 10%酶量测试\n",
    "import pandas as pd\n",
    "import cobra\n",
    "\n",
    "reaction_kcat_mw_file=\"./analysis/reaction_kcat_mw.csv\"\n",
    "reaction_kcat_mw = pd.read_csv(reaction_kcat_mw_file, index_col=0)\n",
    "json_model_path=\"./model/iML1515_irr_enz_constraint_app.json\"\n",
    "norm_model=cobra.io.json.load_json_model(json_model_path)\n",
    "norm_biomass=norm_model.slim_optimize()\n",
    "\n",
    "df_biomass = pd.DataFrame()\n",
    "df_biomass_select = pd.DataFrame()\n",
    "for r in norm_model.reactions:\n",
    "    with norm_model as model:\n",
    "        if r.id in list(reaction_kcat_mw.index):\n",
    "            r.bounds = (0, reaction_kcat_mw.loc[r.id,'kcat_MW']*0.0228)\n",
    "            df_biomass.loc[r.id,'biomass'] = model.slim_optimize()\n",
    "            biomass_diff = norm_biomass-model.slim_optimize()\n",
    "            biomass_diff_ratio = (norm_biomass-model.slim_optimize())/norm_biomass\n",
    "            df_biomass.loc[r.id,'biomass_diff'] = biomass_diff\n",
    "            df_biomass.loc[r.id,'biomass_diff_ratio'] = biomass_diff_ratio\n",
    "            if biomass_diff > 0.001:\n",
    "                df_biomass_select.loc[r.id,'biomass_diff'] = biomass_diff\n",
    "                df_biomass_select.loc[r.id,'biomass_diff_ratio'] = biomass_diff_ratio\n",
    "\n",
    "df_biomass = df_biomass.sort_values(by=\"biomass_diff\",axis = 0,ascending = False)\n",
    "df_biomass.to_csv('./analysis/df_biomass.csv')\n",
    "\n",
    "df_biomass_select = df_biomass_select.sort_values(by=\"biomass_diff\",axis = 0,ascending = False)\n",
    "df_biomass_select"
   ]
  },
  {
   "cell_type": "code",
   "execution_count": 19,
   "metadata": {},
   "outputs": [
    {
     "output_type": "execute_result",
     "data": {
      "text/plain": [
       "             smoment_no_adj_kcat  smoment_adj_kcat  kcat_in_vitro  \\\n",
       "TPI                 12046.600000      12046.600000      61.647843   \n",
       "TPI_reverse         12046.600000      12046.600000      44.122226   \n",
       "HYD2pp                       NaN               NaN     112.694878   \n",
       "ATPS4rpp              107.387778        115.685193      20.000000   \n",
       "MDH                   518.347059        489.969840     931.000000   \n",
       "PPTHpp                       NaN               NaN     747.236867   \n",
       "GGGABAH                      NaN               NaN      27.764922   \n",
       "PSP_L                 166.807695        183.878381       1.430000   \n",
       "HYD1pp                       NaN               NaN     138.656986   \n",
       "PGK                   276.128238        272.921505    1480.000000   \n",
       "\n",
       "                    kapp       kcat_GO  \n",
       "TPI            72.000000     61.647843  \n",
       "TPI_reverse    36.794028     44.122226  \n",
       "HYD2pp       2002.949016    112.694878  \n",
       "ATPS4rpp     1876.341742  20000.000000  \n",
       "MDH             7.200000    931.000000  \n",
       "PPTHpp       1711.332852    747.236867  \n",
       "GGGABAH      1615.094328     27.764922  \n",
       "PSP_L        1481.000000      7.150000  \n",
       "HYD1pp       1464.427652    138.656986  \n",
       "PGK            22.670191   1480.000000  "
      ],
      "text/html": "<div>\n<style scoped>\n    .dataframe tbody tr th:only-of-type {\n        vertical-align: middle;\n    }\n\n    .dataframe tbody tr th {\n        vertical-align: top;\n    }\n\n    .dataframe thead th {\n        text-align: right;\n    }\n</style>\n<table border=\"1\" class=\"dataframe\">\n  <thead>\n    <tr style=\"text-align: right;\">\n      <th></th>\n      <th>smoment_no_adj_kcat</th>\n      <th>smoment_adj_kcat</th>\n      <th>kcat_in_vitro</th>\n      <th>kapp</th>\n      <th>kcat_GO</th>\n    </tr>\n  </thead>\n  <tbody>\n    <tr>\n      <th>TPI</th>\n      <td>12046.600000</td>\n      <td>12046.600000</td>\n      <td>61.647843</td>\n      <td>72.000000</td>\n      <td>61.647843</td>\n    </tr>\n    <tr>\n      <th>TPI_reverse</th>\n      <td>12046.600000</td>\n      <td>12046.600000</td>\n      <td>44.122226</td>\n      <td>36.794028</td>\n      <td>44.122226</td>\n    </tr>\n    <tr>\n      <th>HYD2pp</th>\n      <td>NaN</td>\n      <td>NaN</td>\n      <td>112.694878</td>\n      <td>2002.949016</td>\n      <td>112.694878</td>\n    </tr>\n    <tr>\n      <th>ATPS4rpp</th>\n      <td>107.387778</td>\n      <td>115.685193</td>\n      <td>20.000000</td>\n      <td>1876.341742</td>\n      <td>20000.000000</td>\n    </tr>\n    <tr>\n      <th>MDH</th>\n      <td>518.347059</td>\n      <td>489.969840</td>\n      <td>931.000000</td>\n      <td>7.200000</td>\n      <td>931.000000</td>\n    </tr>\n    <tr>\n      <th>PPTHpp</th>\n      <td>NaN</td>\n      <td>NaN</td>\n      <td>747.236867</td>\n      <td>1711.332852</td>\n      <td>747.236867</td>\n    </tr>\n    <tr>\n      <th>GGGABAH</th>\n      <td>NaN</td>\n      <td>NaN</td>\n      <td>27.764922</td>\n      <td>1615.094328</td>\n      <td>27.764922</td>\n    </tr>\n    <tr>\n      <th>PSP_L</th>\n      <td>166.807695</td>\n      <td>183.878381</td>\n      <td>1.430000</td>\n      <td>1481.000000</td>\n      <td>7.150000</td>\n    </tr>\n    <tr>\n      <th>HYD1pp</th>\n      <td>NaN</td>\n      <td>NaN</td>\n      <td>138.656986</td>\n      <td>1464.427652</td>\n      <td>138.656986</td>\n    </tr>\n    <tr>\n      <th>PGK</th>\n      <td>276.128238</td>\n      <td>272.921505</td>\n      <td>1480.000000</td>\n      <td>22.670191</td>\n      <td>1480.000000</td>\n    </tr>\n  </tbody>\n</table>\n</div>"
     },
     "metadata": {},
     "execution_count": 19
    }
   ],
   "source": [
    "kcat_data_colect_file=\"./data/kcat_data_colect.csv\"\n",
    "kcat_data_colect = pd.read_csv(kcat_data_colect_file, index_col=0)\n",
    "kcat_data_colect.head(10)"
   ]
  },
  {
   "cell_type": "code",
   "execution_count": 23,
   "metadata": {
    "tags": []
   },
   "outputs": [],
   "source": [
    "need_change_reaction=list(df_biomass_select.index)\n",
    "reaction_gene_subunit_MW = \"./data/reaction_gene_subunit_MW.csv\"\n",
    "reaction_mw = calculate_reaction_mw(reaction_gene_subunit_MW)\n",
    "reaction_kcat_file = \"./data/reaction_kappori.csv\"\n",
    "reaction_kappori = pd.read_csv(reaction_kcat_file, index_col=0)\n",
    "\n",
    "round_1_reaction_kapp_change = pd.DataFrame()\n",
    "round_1_reaction_kcatmw_change = pd.DataFrame()\n",
    "for eachreaction in need_change_reaction:\n",
    "    kcat_ori = reaction_kappori.loc[eachreaction,'kcat']\n",
    "    if kcat_ori < np.max(kcat_data_colect.loc[eachreaction,:]) * 3600:\n",
    "        reaction_kappori.loc[eachreaction,'kcat'] = np.max(kcat_data_colect.loc[eachreaction,:]) * 3600\n",
    "    reaction_kcat_mw = pd.DataFrame()\n",
    "    mw = reaction_mw.loc[eachreaction, 'MW'].split('or')\n",
    "    min_mw = min(map(float, mw))\n",
    "    kcat_mw = reaction_kappori.loc[eachreaction, 'kcat'] / min_mw\n",
    "    round_1_reaction_kcatmw_change.loc[eachreaction,'kcat'] = reaction_kappori.loc[eachreaction,'kcat']\n",
    "    round_1_reaction_kcatmw_change.loc[eachreaction,'MW'] = min_mw\n",
    "    round_1_reaction_kcatmw_change.loc[eachreaction,'kcat_MW'] = kcat_mw\n",
    "    for r in norm_model.reactions:\n",
    "        with norm_model as model:\n",
    "            if r.id == eachreaction:\n",
    "                r.bounds = (0, kcat_mw*0.0228)\n",
    "                round_1_reaction_kapp_change.loc[eachreaction,'kcat_ori'] = kcat_ori\n",
    "                round_1_reaction_kapp_change.loc[eachreaction,'kcat_change'] = reaction_kappori.loc[eachreaction,'kcat']\n",
    "                round_1_reaction_kapp_change.loc[eachreaction,'kcat_mw_new'] = kcat_mw\n",
    "                round_1_reaction_kapp_change.loc[eachreaction,'norm_biomass'] = norm_biomass\n",
    "                round_1_reaction_kapp_change.loc[eachreaction,'ori_biomass'] = df_biomass.loc[eachreaction,'biomass']\n",
    "                round_1_reaction_kapp_change.loc[eachreaction,'new_biomass'] = model.slim_optimize()\n",
    "\n",
    "save_file = \"./analysis/reaction_kcatmw_change_round_1.csv\"\n",
    "round_1_reaction_kcatmw_change.to_csv(save_file)\n",
    "save_file2 = \"./analysis/reaction_kapp_change_round_1_cb.csv\"\n",
    "round_1_reaction_kapp_change.to_csv(save_file2)"
   ]
  },
  {
   "cell_type": "code",
   "execution_count": 87,
   "metadata": {},
   "outputs": [],
   "source": [
    "need_change_reaction=list(df_biomass_select.index)\n",
    "reaction_gene_subunit_MW = \"./data/reaction_gene_subunit_MW.csv\"\n",
    "reaction_mw = calculate_reaction_mw(reaction_gene_subunit_MW)\n",
    "reaction_kcat_file = \"./data/reaction_kappori.csv\"\n",
    "reaction_kappori = pd.read_csv(reaction_kcat_file, index_col=0)\n",
    "\n",
    "round_1_reaction_kapp_change = pd.DataFrame()\n",
    "round_1_reaction_kcatmw_change = pd.DataFrame()\n",
    "for eachreaction in need_change_reaction:\n",
    "    kcat_ori = reaction_kappori.loc[eachreaction,'kcat']\n",
    "    kcat_go = kcat_data_colect.loc[eachreaction,'kcat_GO'] * 3600\n",
    "    if kcat_ori < kcat_go:\n",
    "        reaction_kappori.loc[eachreaction,'kcat'] = kcat_go\n",
    "    reaction_kcat_mw = pd.DataFrame()\n",
    "    mw = reaction_mw.loc[eachreaction, 'MW'].split('or')\n",
    "    min_mw = min(map(float, mw))\n",
    "    kcat_mw = reaction_kappori.loc[eachreaction, 'kcat'] / min_mw\n",
    "    round_1_reaction_kcatmw_change.loc[eachreaction,'kcat'] = reaction_kappori.loc[eachreaction,'kcat']\n",
    "    round_1_reaction_kcatmw_change.loc[eachreaction,'MW'] = min_mw\n",
    "    round_1_reaction_kcatmw_change.loc[eachreaction,'kcat_MW'] = kcat_mw\n",
    "    for r in norm_model.reactions:\n",
    "        with norm_model as model:\n",
    "            if r.id == eachreaction:\n",
    "                r.bounds = (0, kcat_mw*0.0228)\n",
    "                round_1_reaction_kapp_change.loc[eachreaction,'kcat_ori'] = kcat_ori\n",
    "                round_1_reaction_kapp_change.loc[eachreaction,'kcat_change'] = reaction_kappori.loc[eachreaction,'kcat']\n",
    "                round_1_reaction_kapp_change.loc[eachreaction,'kcat_mw_new'] = kcat_mw\n",
    "                round_1_reaction_kapp_change.loc[eachreaction,'norm_biomass'] = norm_biomass\n",
    "                round_1_reaction_kapp_change.loc[eachreaction,'ori_biomass'] = df_biomass.loc[eachreaction,'biomass']\n",
    "                round_1_reaction_kapp_change.loc[eachreaction,'new_biomass'] = model.slim_optimize()\n",
    "\n",
    "save_file = \"./analysis/reaction_kcatmw_change_round_2.csv\"\n",
    "round_1_reaction_kcatmw_change.to_csv(save_file)\n",
    "save_file2 = \"./analysis/reaction_kapp_change_round_2_cb.csv\"\n",
    "round_1_reaction_kapp_change.to_csv(save_file2)"
   ]
  },
  {
   "cell_type": "code",
   "execution_count": 94,
   "metadata": {},
   "outputs": [],
   "source": [
    "need_change_reaction=list(df_biomass_select.index)\n",
    "reaction_gene_subunit_MW = \"./data/reaction_gene_subunit_MW.csv\"\n",
    "reaction_mw = calculate_reaction_mw(reaction_gene_subunit_MW)\n",
    "reaction_kcat_file = \"./data/reaction_kappori.csv\"\n",
    "reaction_kappori = pd.read_csv(reaction_kcat_file, index_col=0)\n",
    "\n",
    "round_1_reaction_kapp_change = pd.DataFrame()\n",
    "round_1_reaction_kcatmw_change = pd.DataFrame()\n",
    "for eachreaction in need_change_reaction:\n",
    "    kcat_ori = reaction_kappori.loc[eachreaction,'kcat']\n",
    "    kcat_go = kcat_data_colect.loc[eachreaction,'smoment_adj_kcat'] * 3600\n",
    "    if kcat_ori < kcat_go:\n",
    "        reaction_kappori.loc[eachreaction,'kcat'] = kcat_go\n",
    "    reaction_kcat_mw = pd.DataFrame()\n",
    "    mw = reaction_mw.loc[eachreaction, 'MW'].split('or')\n",
    "    min_mw = min(map(float, mw))\n",
    "    kcat_mw = reaction_kappori.loc[eachreaction, 'kcat'] / min_mw\n",
    "    round_1_reaction_kcatmw_change.loc[eachreaction,'kcat'] = reaction_kappori.loc[eachreaction,'kcat']\n",
    "    round_1_reaction_kcatmw_change.loc[eachreaction,'MW'] = min_mw\n",
    "    round_1_reaction_kcatmw_change.loc[eachreaction,'kcat_MW'] = kcat_mw\n",
    "    for r in norm_model.reactions:\n",
    "        with norm_model as model:\n",
    "            if r.id == eachreaction:\n",
    "                r.bounds = (0, kcat_mw*0.0228)\n",
    "                round_1_reaction_kapp_change.loc[eachreaction,'kcat_ori'] = kcat_ori\n",
    "                round_1_reaction_kapp_change.loc[eachreaction,'kcat_change'] = reaction_kappori.loc[eachreaction,'kcat']\n",
    "                round_1_reaction_kapp_change.loc[eachreaction,'kcat_mw_new'] = kcat_mw\n",
    "                round_1_reaction_kapp_change.loc[eachreaction,'norm_biomass'] = norm_biomass\n",
    "                round_1_reaction_kapp_change.loc[eachreaction,'ori_biomass'] = df_biomass.loc[eachreaction,'biomass']\n",
    "                round_1_reaction_kapp_change.loc[eachreaction,'new_biomass'] = model.slim_optimize()\n",
    "\n",
    "save_file = \"./analysis/reaction_kcatmw_change_round_3.csv\"\n",
    "round_1_reaction_kcatmw_change.to_csv(save_file)\n",
    "save_file2 = \"./analysis/reaction_kapp_change_round_3_cb.csv\"\n",
    "round_1_reaction_kapp_change.to_csv(save_file2)"
   ]
  },
  {
   "cell_type": "code",
   "execution_count": 100,
   "metadata": {},
   "outputs": [],
   "source": [
    "model_file = './data/iML1515.xml' \n",
    "reaction_kcat_mw_file=\"./analysis/reaction_kcatmw_change_round_2.csv\"\n",
    "#The enzyme mass fraction \n",
    "f = 0.406\n",
    "# The total protein fraction in cell.\n",
    "ptot = 0.56 \n",
    "# The approximated average saturation of enzyme.\n",
    "#sigma = 0.5 \n",
    "sigma = 1#kcapp数据，饱和度为1\n",
    "# Lowerbound  of enzyme concentration constraint. \n",
    "lowerbound = 0   \n",
    "upperbound = round(ptot * f * sigma, 3)\n",
    "\n",
    "trans_model2enz_json_model(model_file, reaction_kcat_mw_file, f, ptot, sigma , lowerbound, upperbound)"
   ]
  },
  {
   "cell_type": "code",
   "execution_count": 96,
   "metadata": {},
   "outputs": [
    {
     "output_type": "stream",
     "name": "stdout",
     "text": [
      "0.8769972144269698\n0.8769972144269688\n"
     ]
    }
   ],
   "source": [
    "json_model_path=\"./model/iML1515_irr_enz_constraint.json\"\n",
    "enz_model=get_enzyme_constraint_model(json_model_path)\n",
    "norm_model=cobra.io.json.load_json_model(json_model_path)\n",
    "norm_model_fba_solution = norm_model.optimize()\n",
    "enz_model_fba_solution = enz_model.optimize()\n",
    "norm_model_fba_solution = norm_model_fba_solution.to_frame()\n",
    "print(norm_model_fba_solution.fluxes['BIOMASS_Ec_iML1515_core_75p37M'])\n",
    "enz_model_fba_solution = enz_model_fba_solution.to_frame()\n",
    "print(enz_model_fba_solution.fluxes['BIOMASS_Ec_iML1515_core_75p37M'])\n"
   ]
  },
  {
   "cell_type": "code",
   "execution_count": 90,
   "metadata": {},
   "outputs": [
    {
     "output_type": "stream",
     "name": "stdout",
     "text": [
      "(439, 2)\n(432, 2)\n"
     ]
    }
   ],
   "source": [
    "norm_model_fba_solution_select = norm_model_fba_solution[norm_model_fba_solution['fluxes']>0]\n",
    "print(norm_model_fba_solution_select.shape)\n",
    "enz_model_fba_solution_select = enz_model_fba_solution[enz_model_fba_solution['fluxes']>0]\n",
    "print(enz_model_fba_solution_select.shape)"
   ]
  },
  {
   "cell_type": "code",
   "execution_count": 97,
   "metadata": {},
   "outputs": [
    {
     "output_type": "stream",
     "name": "stdout",
     "text": [
      "['MALS', 'PTAr', 'ICL', 'PFL', 'FBA', 'ACKr_reverse', 'PFK']\n['MALS', 'PYK', 'ICL', 'PFL', 'ACKr_reverse', 'PTAr']\n"
     ]
    }
   ],
   "source": [
    "c13reaction_file = './data/C13reaction.csv' \n",
    "c13reaction = pd.read_csv(c13reaction_file, index_col=0)\n",
    "c13reaction = list(c13reaction.index)\n",
    "\n",
    "norm_model_fba_solution_select_id = list(norm_model_fba_solution_select.index)\n",
    "enz_model_fba_solution_select_id = list(enz_model_fba_solution_select.index)\n",
    "\n",
    "print (list(set(c13reaction).difference(set(norm_model_fba_solution_select_id))))\n",
    "print (list(set(c13reaction).difference(set(enz_model_fba_solution_select_id))))"
   ]
  },
  {
   "cell_type": "code",
   "execution_count": 98,
   "metadata": {},
   "outputs": [
    {
     "output_type": "execute_result",
     "data": {
      "text/plain": [
       "5.970062721906744"
      ]
     },
     "metadata": {},
     "execution_count": 98
    }
   ],
   "source": [
    "enz_model_fba_solution.fluxes['AKGDH']"
   ]
  },
  {
   "cell_type": "code",
   "execution_count": 99,
   "metadata": {},
   "outputs": [
    {
     "output_type": "execute_result",
     "data": {
      "text/plain": [
       "9.689686793405707"
      ]
     },
     "metadata": {},
     "execution_count": 99
    }
   ],
   "source": [
    "enz_model_fba_solution.fluxes['PDH']"
   ]
  },
  {
   "source": [
    "# Step4: Solveing enzyme concentration constraint by COBRApy."
   ],
   "cell_type": "markdown",
   "metadata": {}
  },
  {
   "cell_type": "code",
   "execution_count": 101,
   "metadata": {},
   "outputs": [
    {
     "output_type": "execute_result",
     "data": {
      "text/plain": [
       "0.8769972144269681"
      ]
     },
     "metadata": {},
     "execution_count": 101
    }
   ],
   "source": [
    "json_model_path=\"./model/iML1515_irr_enz_constraint.json\"\n",
    "enz_model=get_enzyme_constraint_model(json_model_path)\n",
    "fba_solution = enz_model.optimize()\n",
    "fba_solution_df = fba_solution.to_frame()\n",
    "fba_solution_df.to_csv('./analysis/ECMpy_solution_df_fba.csv')\n",
    "fba_solution.fluxes['BIOMASS_Ec_iML1515_core_75p37M']\n",
    "#pfba_solution = cobra.flux_analysis.pfba(enz_model)\n",
    "#pfba_solution_df = pfba_solution.to_frame()\n",
    "#pfba_solution_df.to_csv('./analysis/ECMpy_solution_df_pfba.csv')\n",
    "#pfba_solution.fluxes['BIOMASS_Ec_iML1515_core_75p37M']"
   ]
  },
  {
   "cell_type": "code",
   "execution_count": 3,
   "metadata": {},
   "outputs": [
    {
     "output_type": "execute_result",
     "data": {
      "text/plain": [
       "0.8769972144269681"
      ]
     },
     "metadata": {},
     "execution_count": 3
    }
   ],
   "source": [
    "json_model_path=\"./model/iML1515_irr_enz_constraint.json\"\n",
    "enz_model=get_enzyme_constraint_model(json_model_path)\n",
    "pfba_solution = cobra.flux_analysis.pfba(enz_model)\n",
    "pfba_solution_df = pfba_solution.to_frame()\n",
    "pfba_solution_df.to_csv('./analysis/ECMpy_solution_df_pfba.csv')\n",
    "pfba_solution.fluxes['BIOMASS_Ec_iML1515_core_75p37M']"
   ]
  },
  {
   "cell_type": "code",
   "execution_count": 11,
   "metadata": {},
   "outputs": [
    {
     "output_type": "execute_result",
     "data": {
      "text/plain": [
       "0.8769972144269698"
      ]
     },
     "metadata": {},
     "execution_count": 11
    }
   ],
   "source": [
    "norm_model=cobra.io.json.load_json_model(json_model_path)\n",
    "#fba_solution = norm_model.optimize()\n",
    "#fba_solution_df = fba_solution.to_frame()\n",
    "#fba_solution_df.to_csv('./analysis/Orimodel_solution_df_fba.csv')\n",
    "#fba_solution.fluxes['BIOMASS_Ec_iML1515_core_75p37M']\n",
    "pfba_solution = cobra.flux_analysis.pfba(norm_model)\n",
    "pfba_solution_df = pfba_solution.to_frame()\n",
    "pfba_solution_df.to_csv('./analysis/Orimodel_solution_df_pfba.csv')\n",
    "pfba_solution.fluxes['BIOMASS_Ec_iML1515_core_75p37M']\n"
   ]
  },
  {
   "cell_type": "code",
   "execution_count": null,
   "metadata": {},
   "outputs": [],
   "source": []
  },
  {
   "cell_type": "code",
   "execution_count": null,
   "metadata": {},
   "outputs": [],
   "source": []
  }
 ],
 "metadata": {
  "kernelspec": {
   "name": "Python 3.6.9 64-bit ('enzyme_python': conda)",
   "display_name": "Python 3.6.9 64-bit ('enzyme_python': conda)",
   "metadata": {
    "interpreter": {
     "hash": "f09aca8c570770933bc8e36ab92e2e40def5319b75eec09cb13378d4d93d76ce"
    }
   }
  },
  "language_info": {
   "codemirror_mode": {
    "name": "ipython",
    "version": 3
   },
   "file_extension": ".py",
   "mimetype": "text/x-python",
   "name": "python",
   "nbconvert_exporter": "python",
   "pygments_lexer": "ipython3",
   "version": "3.6.9-final"
  }
 },
 "nbformat": 4,
 "nbformat_minor": 2
}