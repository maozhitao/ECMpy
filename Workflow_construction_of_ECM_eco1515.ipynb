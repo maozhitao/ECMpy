{
 "cells": [
  {
   "cell_type": "markdown",
   "metadata": {},
   "source": [
    "# Import related pacakages"
   ]
  },
  {
   "cell_type": "code",
   "execution_count": 1,
   "metadata": {},
   "outputs": [],
   "source": [
    "import cobra\n",
    "import sys\n",
    "sys.path.append(r'./code/')\n",
    "from cobrapy_ec_model_function import *"
   ]
  },
  {
   "cell_type": "markdown",
   "metadata": {},
   "source": [
    "# Inputing files"
   ]
  },
  {
   "cell_type": "code",
   "execution_count": 2,
   "metadata": {},
   "outputs": [],
   "source": [
    "# The genome-scale metabolic model for constructing the enzyme-constrained model\n",
    "model_name = './data/iML1515.xml' \n",
    "\n",
    "# Reaction-kcat file.#s-1\n",
    "# eg. AADDGT,49389.2889\n",
    "reaction_kcat_file = \"./data/reaction_kappori.csv\"\n",
    "\n",
    "# Gene-abundance file. \n",
    "# eg. b0789,1.1\n",
    "gene_abundance_file = \"./data/gene_abundance.csv\"\n",
    "\n",
    "# Gene-molecular_weight file. \n",
    "# eg. b0001,thrL,2.13846\n",
    "gene_molecular_weight_file = \"./data/gene_molecular_weight.csv\"\n"
   ]
  },
  {
   "cell_type": "markdown",
   "metadata": {},
   "source": [
    "# Step1: Preprocessing of model"
   ]
  },
  {
   "cell_type": "markdown",
   "metadata": {},
   "source": [
    "The reversible reactions in the GEM model are divided into two irreversible reactions. The input is iML1515 with 2712 reactions. The output is a model with 3375 irreversible reactions."
   ]
  },
  {
   "cell_type": "code",
   "execution_count": 3,
   "metadata": {},
   "outputs": [
    {
     "output_type": "execute_result",
     "data": {
      "text/plain": [
       "<Model iML1515 at 0x1446276ef28>"
      ],
      "text/html": "\n        <table>\n            <tr>\n                <td><strong>Name</strong></td>\n                <td>iML1515</td>\n            </tr><tr>\n                <td><strong>Memory address</strong></td>\n                <td>0x01446276ef28</td>\n            </tr><tr>\n                <td><strong>Number of metabolites</strong></td>\n                <td>1877</td>\n            </tr><tr>\n                <td><strong>Number of reactions</strong></td>\n                <td>3375</td>\n            </tr><tr>\n                <td><strong>Number of groups</strong></td>\n                <td>38</td>\n            </tr><tr>\n                <td><strong>Objective expression</strong></td>\n                <td>1.0*BIOMASS_Ec_iML1515_core_75p37M - 1.0*BIOMASS_Ec_iML1515_core_75p37M_reverse_35685</td>\n            </tr><tr>\n                <td><strong>Compartments</strong></td>\n                <td>cytosol, extracellular space, periplasm</td>\n            </tr>\n          </table>"
     },
     "metadata": {},
     "execution_count": 3
    }
   ],
   "source": [
    "model = cobra.io.read_sbml_model(model_name)\n",
    "convert_to_irreversible(model)\n",
    "model"
   ]
  },
  {
   "cell_type": "markdown",
   "metadata": {},
   "source": [
    "# Step2: Retrieving enzyme kinetics and proteomics data"
   ]
  },
  {
   "cell_type": "markdown",
   "metadata": {},
   "source": [
    "The inputs are GEM model. The outputs are 'genes' and 'gpr_relationship' data in the iML1515."
   ]
  },
  {
   "cell_type": "code",
   "execution_count": 4,
   "metadata": {},
   "outputs": [],
   "source": [
    "[genes,gpr_relationship] = get_genes_and_gpr(model)"
   ]
  },
  {
   "cell_type": "markdown",
   "metadata": {},
   "source": [
    "Get the molecular weight of the enzyme (MW) according to the file of all_reaction_GPR.csv, which obtained from the previous step (gpr_relationship, ./analysis/all_reaction_GPR.csv). We need to manually correct the error of the gene_reaction_rule of a small amount of reactions in iML1515 (See Supplementary Table S1 for details), and also need to manually get the subunit of each protein from EcoCyc."
   ]
  },
  {
   "cell_type": "code",
   "execution_count": 5,
   "metadata": {},
   "outputs": [],
   "source": [
    "# reaction-gene-subunit-MW file. \n",
    "# eg. ALATA_D2,D-alanine transaminase,b2551 or b0870,45.31659 or 36.49471 ,2 or 4 \n",
    "reaction_gene_subunit_MW = \"./data/reaction_gene_subunit_MW.csv\"\n",
    "reaction_mw = calculate_reaction_mw(reaction_gene_subunit_MW)"
   ]
  },
  {
   "cell_type": "markdown",
   "metadata": {},
   "source": [
    "Calculate kcat/MW. The inputs are 'reaction_kcat' and 'reaction_MW' data for calculating the kcat/MW (When the reaction is catalyzed by several isozymes, the maximum is retained)."
   ]
  },
  {
   "cell_type": "code",
   "execution_count": 6,
   "metadata": {},
   "outputs": [],
   "source": [
    "save_file=\"./analysis/reaction_kcat_mw.csv\"\n",
    "reaction_kcat_mw = calculate_reaction_kcat_mw(reaction_kcat_file, reaction_mw, save_file)"
   ]
  },
  {
   "cell_type": "markdown",
   "metadata": {},
   "source": [
    "Calculate f. The input is 'genes' data, 'gene_abundance.csv' and 'gene_molecular_weight.csv'."
   ]
  },
  {
   "cell_type": "code",
   "execution_count": 7,
   "metadata": {
    "tags": []
   },
   "outputs": [
    {
     "output_type": "execute_result",
     "data": {
      "text/plain": [
       "0.4059986079578236"
      ]
     },
     "metadata": {},
     "execution_count": 7
    }
   ],
   "source": [
    "f = calculate_f(genes, gene_abundance_file, gene_molecular_weight_file)\n",
    "f"
   ]
  },
  {
   "cell_type": "markdown",
   "metadata": {},
   "source": [
    "# Step3: Save enzyme concentration constraint model as json file."
   ]
  },
  {
   "cell_type": "code",
   "execution_count": 8,
   "metadata": {},
   "outputs": [],
   "source": [
    "model_file = './data/iML1515.xml' \n",
    "reaction_kcat_mw_file=\"./analysis/reaction_kcat_mw.csv\"\n",
    "json_output_file=\"./model/iML1515_irr_enz_constraint_kapp.json\"\n",
    "#The enzyme mass fraction \n",
    "f = 0.406\n",
    "# The total protein fraction in cell.\n",
    "ptot = 0.56 \n",
    "# The approximated average saturation of enzyme.\n",
    "#sigma = 0.5 \n",
    "sigma = 1 #kapp data sigma is 1\n",
    "# Lowerbound  of enzyme concentration constraint. \n",
    "lowerbound = 0   \n",
    "upperbound = round(ptot * f * sigma, 3)\n",
    "\n",
    "trans_model2enz_json_model(model_file, reaction_kcat_mw_file, f, ptot, sigma, lowerbound, upperbound, json_output_file)"
   ]
  },
  {
   "cell_type": "code",
   "execution_count": 16,
   "metadata": {},
   "outputs": [
    {
     "output_type": "stream",
     "name": "stdout",
     "text": [
      "0.4191429334139575\n",
      "0.8769972144269698\n"
     ]
    }
   ],
   "source": [
    "json_model_path=\"./model/iML1515_irr_enz_constraint_kapp.json\"\n",
    "enz_model=get_enzyme_constraint_model(json_model_path)\n",
    "pfba_solution = cobra.flux_analysis.pfba(enz_model)\n",
    "pfba_solution_df = pfba_solution.to_frame()\n",
    "pfba_solution_df.to_csv('./analysis/ECMpy_kappori_solution_df_pfba.csv')\n",
    "print(pfba_solution.fluxes['BIOMASS_Ec_iML1515_core_75p37M'])\n",
    "\n",
    "norm_model = cobra.io.json.load_json_model(json_model_path)\n",
    "norm_model_pfba_solution = cobra.flux_analysis.pfba(norm_model)\n",
    "norm_model_pfba_solution_df = norm_model_pfba_solution.to_frame()\n",
    "norm_model_pfba_solution_df.to_csv('./analysis/Orimodel_solution_df_pfba.csv')\n",
    "print(norm_model_pfba_solution_df.fluxes['BIOMASS_Ec_iML1515_core_75p37M'])"
   ]
  },
  {
   "source": [
    "# Step4: Calibration parameters"
   ],
   "cell_type": "markdown",
   "metadata": {}
  },
  {
   "source": [
    "Select calibration reaction"
   ],
   "cell_type": "markdown",
   "metadata": {}
  },
  {
   "cell_type": "code",
   "execution_count": 10,
   "metadata": {},
   "outputs": [
    {
     "output_type": "execute_result",
     "data": {
      "text/plain": [
       "       biomass_diff  biomass_diff_ratio\n",
       "PDH        0.015883            0.018110\n",
       "AKGDH      0.009562            0.010903\n",
       "GAPD       0.001564            0.001783"
      ],
      "text/html": "<div>\n<style scoped>\n    .dataframe tbody tr th:only-of-type {\n        vertical-align: middle;\n    }\n\n    .dataframe tbody tr th {\n        vertical-align: top;\n    }\n\n    .dataframe thead th {\n        text-align: right;\n    }\n</style>\n<table border=\"1\" class=\"dataframe\">\n  <thead>\n    <tr style=\"text-align: right;\">\n      <th></th>\n      <th>biomass_diff</th>\n      <th>biomass_diff_ratio</th>\n    </tr>\n  </thead>\n  <tbody>\n    <tr>\n      <th>PDH</th>\n      <td>0.015883</td>\n      <td>0.018110</td>\n    </tr>\n    <tr>\n      <th>AKGDH</th>\n      <td>0.009562</td>\n      <td>0.010903</td>\n    </tr>\n    <tr>\n      <th>GAPD</th>\n      <td>0.001564</td>\n      <td>0.001783</td>\n    </tr>\n  </tbody>\n</table>\n</div>"
     },
     "metadata": {},
     "execution_count": 10
    }
   ],
   "source": [
    "reaction_kcat_mw_file = \"./analysis/reaction_kcat_mw.csv\"\n",
    "json_model_path = \"./model/iML1515_irr_enz_constraint_kapp.json\"\n",
    "enzyme_amount = upperbound\n",
    "percentage = 0.1 #10%\n",
    "reaction_biomass_outfile = './analysis/reaction_biomass.csv'\n",
    "select_value = 0.001\n",
    "df_reaction_select = select_calibration_reaction(reaction_kcat_mw_file, json_model_path, enzyme_amount, percentage, reaction_biomass_outfile, select_value)\n",
    "df_reaction_select"
   ]
  },
  {
   "source": [
    "Calibration kcat"
   ],
   "cell_type": "markdown",
   "metadata": {}
  },
  {
   "cell_type": "code",
   "execution_count": 12,
   "metadata": {},
   "outputs": [],
   "source": [
    "reaction_kcat_mw_file = \"./analysis/reaction_kcat_mw.csv\"\n",
    "adj_kcat_title = 'smoment_adj_kcat'\n",
    "change_kapp_file = \"./analysis/reaction_kapp_change_round_1_cb.csv\"\n",
    "reaction_kapp_change_file = \"./analysis/reaction_kapp_change20201103.csv\"\n",
    "need_change_reaction=list(df_reaction_select.index)\n",
    "\n",
    "calibration_kcat(need_change_reaction, reaction_kcat_mw_file, json_model_path, adj_kcat_title, change_kapp_file, reaction_kapp_change_file)\n"
   ]
  },
  {
   "cell_type": "code",
   "execution_count": 14,
   "metadata": {},
   "outputs": [],
   "source": [
    "model_file = './data/iML1515.xml' \n",
    "reaction_kcat_mw_file=\"./analysis/reaction_kapp_change20201103.csv\"\n",
    "json_output_file=\"./model/iML1515_irr_enz_constraint_adj_round1.json\"\n",
    "#The enzyme mass fraction \n",
    "f = 0.406\n",
    "# The total protein fraction in cell.\n",
    "ptot = 0.56 \n",
    "# The approximated average saturation of enzyme.\n",
    "#sigma = 0.5 \n",
    "sigma = 1#kcapp数据，饱和度为1\n",
    "# Lowerbound  of enzyme concentration constraint. \n",
    "lowerbound = 0   \n",
    "upperbound = round(ptot * f * sigma, 3)\n",
    "\n",
    "trans_model2enz_json_model(model_file, reaction_kcat_mw_file, f, ptot, sigma, lowerbound, upperbound, json_output_file)"
   ]
  },
  {
   "cell_type": "code",
   "execution_count": 38,
   "metadata": {},
   "outputs": [
    {
     "output_type": "stream",
     "name": "stdout",
     "text": [
      "0.47562259024946285\n"
     ]
    }
   ],
   "source": [
    "json_model_path = \"./model/iML1515_irr_enz_constraint_adj_round1.json\"\n",
    "enz_model = get_enzyme_constraint_model(json_model_path)\n",
    "enz_model_pfba_solution = cobra.flux_analysis.pfba(enz_model)\n",
    "enz_model_pfba_solution = enz_model_pfba_solution.to_frame()\n",
    "enz_model_pfba_solution.to_csv('./analysis/ECMpy_kapp_adj_round1_solution_df_pfba.csv')\n",
    "print(enz_model_pfba_solution.fluxes['BIOMASS_Ec_iML1515_core_75p37M'])"
   ]
  },
  {
   "source": [
    "Compare with C13 data"
   ],
   "cell_type": "markdown",
   "metadata": {}
  },
  {
   "cell_type": "code",
   "execution_count": 39,
   "metadata": {},
   "outputs": [
    {
     "output_type": "stream",
     "name": "stdout",
     "text": [
      "['ICL', 'PFL', 'PYK', 'ACKr_reverse', 'PTAr']\n['MALS', 'MDH', 'ICL', 'SUCOAS_reverse', 'SUCDi', 'AKGDH']\n"
     ]
    }
   ],
   "source": [
    "c13reaction_file = './data/C13reaction.csv' \n",
    "c13reaction = pd.read_csv(c13reaction_file, index_col=0)\n",
    "c13reaction = list(c13reaction.index)\n",
    "\n",
    "norm_model_pfba_solution_select = norm_model_pfba_solution_df[norm_model_pfba_solution_df['fluxes']>0]\n",
    "enz_model_pfba_solution_select = enz_model_pfba_solution[enz_model_pfba_solution['fluxes']>0]\n",
    "norm_model_pfba_solution_select_id = list(norm_model_pfba_solution_select.index)\n",
    "enz_model_pfba_solution_select_id = list(enz_model_pfba_solution_select.index)\n",
    "\n",
    "c13reaction_2_norm_model_diff=list(set(c13reaction).difference(set(norm_model_pfba_solution_select_id)))\n",
    "c13reaction_2_enz_model_diff=list(set(c13reaction).difference(set(enz_model_pfba_solution_select_id)))\n",
    "print (c13reaction_2_norm_model_diff)\n",
    "print (c13reaction_2_enz_model_diff)"
   ]
  },
  {
   "source": [
    "Calibration kcat according c13 reaction list"
   ],
   "cell_type": "markdown",
   "metadata": {}
  },
  {
   "cell_type": "code",
   "execution_count": 45,
   "metadata": {},
   "outputs": [],
   "source": [
    "reaction_kcat_mw_file = \"./analysis/reaction_kapp_change20201103.csv\"\n",
    "adj_kcat_title = 'smoment_adj_kcat'\n",
    "change_kapp_file = \"./analysis/reaction_kapp_change_round_2_cb.csv\"\n",
    "reaction_kapp_change_file = \"./analysis/reaction_kapp_change_c13_20201103.csv\"\n",
    "\n",
    "TCA_reactions=['CS','ACONTa','ACONTb','ICDHyr','MALS', 'MDH', 'ICL', 'SUCOAS_reverse', 'SUCDi', 'AKGDH']\n",
    "calibration_kcat(TCA_reactions, reaction_kcat_mw_file, json_model_path, adj_kcat_title, change_kapp_file, reaction_kapp_change_file)\n"
   ]
  },
  {
   "cell_type": "code",
   "execution_count": 46,
   "metadata": {},
   "outputs": [],
   "source": [
    "model_file = './data/iML1515.xml' \n",
    "reaction_kcat_mw_file=\"./analysis/reaction_kapp_change_c13_20201103.csv\"\n",
    "json_output_file=\"./model/iML1515_irr_enz_constraint_adj_round2.json\"\n",
    "#The enzyme mass fraction \n",
    "f = 0.406\n",
    "# The total protein fraction in cell.\n",
    "ptot = 0.56 \n",
    "# The approximated average saturation of enzyme.\n",
    "#sigma = 0.5 \n",
    "sigma = 1#kcapp数据，饱和度为1\n",
    "# Lowerbound  of enzyme concentration constraint. \n",
    "lowerbound = 0   \n",
    "upperbound = round(ptot * f * sigma, 3)\n",
    "\n",
    "trans_model2enz_json_model(model_file, reaction_kcat_mw_file, f, ptot, sigma, lowerbound, upperbound, json_output_file)"
   ]
  },
  {
   "cell_type": "code",
   "execution_count": 47,
   "metadata": {},
   "outputs": [
    {
     "output_type": "stream",
     "name": "stdout",
     "text": [
      "0.5098951540563751\n"
     ]
    }
   ],
   "source": [
    "json_model_path = \"./model/iML1515_irr_enz_constraint_adj_round2.json\"\n",
    "enz_model = get_enzyme_constraint_model(json_model_path)\n",
    "enz_model_pfba_solution = cobra.flux_analysis.pfba(enz_model)\n",
    "enz_model_pfba_solution = enz_model_pfba_solution.to_frame()\n",
    "enz_model_pfba_solution.to_csv('./analysis/ECMpy_kapp_adj_round2_solution_df_pfba.csv')\n",
    "print(enz_model_pfba_solution.fluxes['BIOMASS_Ec_iML1515_core_75p37M'])"
   ]
  },
  {
   "cell_type": "code",
   "execution_count": 48,
   "metadata": {},
   "outputs": [
    {
     "output_type": "stream",
     "name": "stdout",
     "text": [
      "['PYK', 'ACKr_reverse', 'PTAr']\n"
     ]
    }
   ],
   "source": [
    "c13reaction_file = './data/C13reaction.csv' \n",
    "c13reaction = pd.read_csv(c13reaction_file, index_col=0)\n",
    "c13reaction = list(c13reaction.index)\n",
    "\n",
    "enz_model_pfba_solution_select = enz_model_pfba_solution[enz_model_pfba_solution['fluxes']>0]\n",
    "enz_model_pfba_solution_select_id = list(enz_model_pfba_solution_select.index)\n",
    "c13reaction_2_enz_model_diff=list(set(c13reaction).difference(set(enz_model_pfba_solution_select_id)))\n",
    "print (c13reaction_2_enz_model_diff)"
   ]
  },
  {
   "source": [
    "# Step4: Solveing enzyme concentration constraint by COBRApy."
   ],
   "cell_type": "markdown",
   "metadata": {}
  },
  {
   "cell_type": "code",
   "execution_count": 26,
   "metadata": {},
   "outputs": [
    {
     "output_type": "execute_result",
     "data": {
      "text/plain": [
       "0.8769972144269673"
      ]
     },
     "metadata": {},
     "execution_count": 26
    }
   ],
   "source": [
    "#run enzyme constraint metabolic model\n",
    "json_model_path=\"./model/iML1515_irr_enz_constraint_adj.json\"\n",
    "enz_model=get_enzyme_constraint_model(json_model_path)\n",
    "pfba_solution = cobra.flux_analysis.pfba(enz_model)\n",
    "pfba_solution_df = pfba_solution.to_frame()\n",
    "pfba_solution_df.to_csv('./analysis/ECMpy_solution_df_pfba.csv')\n",
    "pfba_solution.fluxes['BIOMASS_Ec_iML1515_core_75p37M']"
   ]
  },
  {
   "cell_type": "code",
   "execution_count": 27,
   "metadata": {},
   "outputs": [
    {
     "output_type": "execute_result",
     "data": {
      "text/plain": [
       "0.8769972144269698"
      ]
     },
     "metadata": {},
     "execution_count": 27
    }
   ],
   "source": [
    "#run genome-scale metabolic model\n",
    "norm_model=cobra.io.json.load_json_model(json_model_path)\n",
    "pfba_solution = cobra.flux_analysis.pfba(norm_model)\n",
    "pfba_solution_df = pfba_solution.to_frame()\n",
    "pfba_solution_df.to_csv('./analysis/Orimodel_solution_df_pfba.csv')\n",
    "pfba_solution.fluxes['BIOMASS_Ec_iML1515_core_75p37M']\n"
   ]
  },
  {
   "cell_type": "code",
   "execution_count": null,
   "metadata": {},
   "outputs": [],
   "source": []
  }
 ],
 "metadata": {
  "kernelspec": {
   "name": "Python 3.6.9 64-bit ('enzyme_python': conda)",
   "display_name": "Python 3.6.9 64-bit ('enzyme_python': conda)",
   "metadata": {
    "interpreter": {
     "hash": "f09aca8c570770933bc8e36ab92e2e40def5319b75eec09cb13378d4d93d76ce"
    }
   }
  },
  "language_info": {
   "codemirror_mode": {
    "name": "ipython",
    "version": 3
   },
   "file_extension": ".py",
   "mimetype": "text/x-python",
   "name": "python",
   "nbconvert_exporter": "python",
   "pygments_lexer": "ipython3",
   "version": "3.6.9-final"
  }
 },
 "nbformat": 4,
 "nbformat_minor": 2
}