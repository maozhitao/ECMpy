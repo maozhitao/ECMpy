{
 "cells": [
  {
   "cell_type": "markdown",
   "metadata": {},
   "source": [
    "# Import related pacakages"
   ]
  },
  {
   "cell_type": "code",
   "execution_count": 24,
   "metadata": {},
   "outputs": [],
   "source": [
    "import cobra\n",
    "import sys\n",
    "sys.path.append(r'./code/')\n",
    "from cobrapy_ec_model_function import *"
   ]
  },
  {
   "cell_type": "markdown",
   "metadata": {},
   "source": [
    "# Inputing files"
   ]
  },
  {
   "cell_type": "code",
   "execution_count": 25,
   "metadata": {},
   "outputs": [],
   "source": [
    "# The genome-scale metabolic model for constructing the enzyme-constrained model\n",
    "model_name = './data/iML1515.xml' \n",
    "\n",
    "# Reaction-kcat file.#s-1\n",
    "# eg. AADDGT,49389.2889\n",
    "reaction_kcat_file = \"./data/reaction_kappori.csv\"\n",
    "\n",
    "# Gene-abundance file. \n",
    "# eg. b0789,1.1\n",
    "gene_abundance_file = \"./data/gene_abundance.csv\"\n",
    "\n",
    "# Gene-molecular_weight file. \n",
    "# eg. b0001,thrL,2.13846\n",
    "gene_molecular_weight_file = \"./data/gene_molecular_weight.csv\"\n"
   ]
  },
  {
   "cell_type": "markdown",
   "metadata": {},
   "source": [
    "# Step1: Preprocessing of model"
   ]
  },
  {
   "cell_type": "markdown",
   "metadata": {},
   "source": [
    "The reversible reactions in the GEM model are divided into two irreversible reactions. The input is iML1515 with 2712 reactions. The output is a model with 3375 irreversible reactions."
   ]
  },
  {
   "cell_type": "code",
   "execution_count": 26,
   "metadata": {},
   "outputs": [
    {
     "output_type": "execute_result",
     "data": {
      "text/plain": [
       "<Model iML1515 at 0x203c5be9c18>"
      ],
      "text/html": "\n        <table>\n            <tr>\n                <td><strong>Name</strong></td>\n                <td>iML1515</td>\n            </tr><tr>\n                <td><strong>Memory address</strong></td>\n                <td>0x0203c5be9c18</td>\n            </tr><tr>\n                <td><strong>Number of metabolites</strong></td>\n                <td>1877</td>\n            </tr><tr>\n                <td><strong>Number of reactions</strong></td>\n                <td>3375</td>\n            </tr><tr>\n                <td><strong>Number of groups</strong></td>\n                <td>38</td>\n            </tr><tr>\n                <td><strong>Objective expression</strong></td>\n                <td>1.0*BIOMASS_Ec_iML1515_core_75p37M - 1.0*BIOMASS_Ec_iML1515_core_75p37M_reverse_35685</td>\n            </tr><tr>\n                <td><strong>Compartments</strong></td>\n                <td>cytosol, extracellular space, periplasm</td>\n            </tr>\n          </table>"
     },
     "metadata": {},
     "execution_count": 26
    }
   ],
   "source": [
    "model = cobra.io.read_sbml_model(model_name)\n",
    "convert_to_irreversible(model)\n",
    "model"
   ]
  },
  {
   "cell_type": "markdown",
   "metadata": {},
   "source": [
    "# Step2: Retrieving enzyme kinetics and proteomics data"
   ]
  },
  {
   "cell_type": "markdown",
   "metadata": {},
   "source": [
    "The inputs are GEM model. The outputs are 'genes' and 'gpr_relationship' data in the iML1515."
   ]
  },
  {
   "cell_type": "code",
   "execution_count": 27,
   "metadata": {},
   "outputs": [],
   "source": [
    "[genes,gpr_relationship] = get_genes_and_gpr(model)"
   ]
  },
  {
   "cell_type": "markdown",
   "metadata": {},
   "source": [
    "Get the molecular weight of the enzyme (MW) according to the file of all_reaction_GPR.csv, which obtained from the previous step (gpr_relationship, ./analysis/all_reaction_GPR.csv). We need to manually correct the error of the gene_reaction_rule of a small amount of reactions in iML1515 (See Supplementary Table S1 for details), and also need to manually get the subunit of each protein from EcoCyc."
   ]
  },
  {
   "cell_type": "code",
   "execution_count": 28,
   "metadata": {},
   "outputs": [],
   "source": [
    "# reaction-gene-subunit-MW file. \n",
    "# eg. ALATA_D2,D-alanine transaminase,b2551 or b0870,45.31659 or 36.49471 ,2 or 4 \n",
    "reaction_gene_subunit_MW = \"./data/reaction_gene_subunit_MW.csv\"\n",
    "reaction_mw = calculate_reaction_mw(reaction_gene_subunit_MW)"
   ]
  },
  {
   "cell_type": "markdown",
   "metadata": {},
   "source": [
    "Calculate kcat/MW. The inputs are 'reaction_kcat' and 'reaction_MW' data for calculating the kcat/MW (When the reaction is catalyzed by several isozymes, the maximum is retained)."
   ]
  },
  {
   "cell_type": "code",
   "execution_count": 29,
   "metadata": {},
   "outputs": [],
   "source": [
    "save_file=\"./analysis/reaction_kcat_mw.csv\"\n",
    "reaction_kcat_mw = calculate_reaction_kcat_mw(reaction_kcat_file, reaction_mw, save_file)"
   ]
  },
  {
   "cell_type": "markdown",
   "metadata": {},
   "source": [
    "Calculate f. The input is 'genes' data, 'gene_abundance.csv' and 'gene_molecular_weight.csv'."
   ]
  },
  {
   "cell_type": "code",
   "execution_count": 30,
   "metadata": {
    "tags": []
   },
   "outputs": [
    {
     "output_type": "execute_result",
     "data": {
      "text/plain": [
       "0.4059986079578236"
      ]
     },
     "metadata": {},
     "execution_count": 30
    }
   ],
   "source": [
    "f = calculate_f(genes, gene_abundance_file, gene_molecular_weight_file)\n",
    "f"
   ]
  },
  {
   "cell_type": "markdown",
   "metadata": {},
   "source": [
    "# Step3: Save enzyme concentration constraint model as json file."
   ]
  },
  {
   "cell_type": "code",
   "execution_count": 31,
   "metadata": {},
   "outputs": [],
   "source": [
    "model_file = './data/iML1515.xml' \n",
    "reaction_kcat_mw_file=\"./analysis/reaction_kcat_mw.csv\"\n",
    "json_output_file=\"./model/iML1515_irr_enz_constraint_kapp.json\"\n",
    "#The enzyme mass fraction \n",
    "f = 0.406\n",
    "# The total protein fraction in cell.\n",
    "ptot = 0.56 \n",
    "# The approximated average saturation of enzyme.\n",
    "#sigma = 0.5 \n",
    "sigma = 1 #kapp data sigma is 1\n",
    "# Lowerbound  of enzyme concentration constraint. \n",
    "lowerbound = 0   \n",
    "upperbound = round(ptot * f * sigma, 3)\n",
    "\n",
    "trans_model2enz_json_model(model_file, reaction_kcat_mw_file, f, ptot, sigma, lowerbound, upperbound, json_output_file)"
   ]
  },
  {
   "cell_type": "code",
   "execution_count": 32,
   "metadata": {},
   "outputs": [
    {
     "output_type": "stream",
     "name": "stdout",
     "text": [
      "0.4191429334139575\n",
      "0.8769972144269698\n"
     ]
    }
   ],
   "source": [
    "json_model_path = \"./model/iML1515_irr_enz_constraint_kapp.json\"\n",
    "fluxes_outfile = './analysis/ECMpy_kappori_solution_df_pfba.csv'\n",
    "enz_model=get_enzyme_constraint_model(json_model_path)\n",
    "enz_model_pfba_solution = get_fluxes_detail_in_model(enz_model,fluxes_outfile)\n",
    "print(enz_model_pfba_solution.fluxes['BIOMASS_Ec_iML1515_core_75p37M'])\n",
    "\n",
    "norm_model = cobra.io.json.load_json_model(json_model_path)\n",
    "norm_model_pfba_solution = cobra.flux_analysis.pfba(norm_model)\n",
    "norm_model_pfba_solution_df = norm_model_pfba_solution.to_frame()\n",
    "norm_model_pfba_solution_df.to_csv('./analysis/Orimodel_solution_df_pfba.csv')\n",
    "print(norm_model_pfba_solution_df.fluxes['BIOMASS_Ec_iML1515_core_75p37M'])"
   ]
  },
  {
   "source": [
    "# Step4: Calibration parameters"
   ],
   "cell_type": "markdown",
   "metadata": {}
  },
  {
   "source": [
    "Compare with C13 data"
   ],
   "cell_type": "markdown",
   "metadata": {}
  },
  {
   "cell_type": "code",
   "execution_count": 33,
   "metadata": {},
   "outputs": [
    {
     "output_type": "stream",
     "name": "stdout",
     "text": [
      "['AKGDH', 'MALS', 'PDH', 'ME2', 'PTAr', 'SUCOAS_reverse', 'ICL', 'SUCDi', 'ACKr_reverse']\n"
     ]
    }
   ],
   "source": [
    "c13reaction_file = './data/C13reaction.csv' \n",
    "c13reaction = pd.read_csv(c13reaction_file, index_col=0)\n",
    "c13reaction = list(c13reaction.index)\n",
    "\n",
    "enz_model_pfba_solution_select = enz_model_pfba_solution[enz_model_pfba_solution['fluxes']>0]\n",
    "enz_model_pfba_solution_select_id = list(enz_model_pfba_solution_select.index)\n",
    "c13reaction_2_enz_model_diff=list(set(c13reaction).difference(set(enz_model_pfba_solution_select_id)))\n",
    "print (c13reaction_2_enz_model_diff)"
   ]
  },
  {
   "source": [
    "Select calibration reaction accrording biomass diff"
   ],
   "cell_type": "markdown",
   "metadata": {}
  },
  {
   "cell_type": "code",
   "execution_count": 72,
   "metadata": {},
   "outputs": [
    {
     "output_type": "execute_result",
     "data": {
      "text/plain": [
       "       biomass_diff  biomass_diff_ratio\n",
       "PDH        0.015883            0.018110\n",
       "AKGDH      0.009562            0.010903\n",
       "GAPD       0.001564            0.001783"
      ],
      "text/html": "<div>\n<style scoped>\n    .dataframe tbody tr th:only-of-type {\n        vertical-align: middle;\n    }\n\n    .dataframe tbody tr th {\n        vertical-align: top;\n    }\n\n    .dataframe thead th {\n        text-align: right;\n    }\n</style>\n<table border=\"1\" class=\"dataframe\">\n  <thead>\n    <tr style=\"text-align: right;\">\n      <th></th>\n      <th>biomass_diff</th>\n      <th>biomass_diff_ratio</th>\n    </tr>\n  </thead>\n  <tbody>\n    <tr>\n      <th>PDH</th>\n      <td>0.015883</td>\n      <td>0.018110</td>\n    </tr>\n    <tr>\n      <th>AKGDH</th>\n      <td>0.009562</td>\n      <td>0.010903</td>\n    </tr>\n    <tr>\n      <th>GAPD</th>\n      <td>0.001564</td>\n      <td>0.001783</td>\n    </tr>\n  </tbody>\n</table>\n</div>"
     },
     "metadata": {},
     "execution_count": 72
    }
   ],
   "source": [
    "reaction_kcat_mw_file = \"./analysis/reaction_kcat_mw.csv\"\n",
    "json_model_path = \"./model/iML1515_irr_enz_constraint_kapp.json\"\n",
    "enzyme_amount = upperbound\n",
    "percentage = 0.1#10%\n",
    "reaction_biomass_outfile = './analysis/reaction_biomass.csv'\n",
    "select_value = 0.001\n",
    "df_reaction_select = select_calibration_reaction(reaction_kcat_mw_file, json_model_path, enzyme_amount, percentage, reaction_biomass_outfile, select_value)\n",
    "df_reaction_select"
   ]
  },
  {
   "cell_type": "code",
   "execution_count": 73,
   "metadata": {},
   "outputs": [
    {
     "output_type": "stream",
     "name": "stdout",
     "text": [
      "['PDH', 'AKGDH', 'GAPD']\n"
     ]
    }
   ],
   "source": [
    "need_change_reaction=list(df_reaction_select.index)\n",
    "reaction_kcat_mw_file = \"./analysis/reaction_kcat_mw.csv\"\n",
    "reaction_kapp_change_file = \"./analysis/reaction_kapp_change.csv\"\n",
    "\n",
    "change_reaction_list_round1=change_reaction_kcat_by_autopacmen(need_change_reaction,reaction_kcat_mw_file,reaction_kapp_change_file)\n",
    "print(change_reaction_list_round1)"
   ]
  },
  {
   "cell_type": "code",
   "execution_count": 74,
   "metadata": {},
   "outputs": [],
   "source": [
    "model_file = './data/iML1515.xml' \n",
    "reaction_kcat_mw_file=\"./analysis/reaction_kapp_change.csv\"\n",
    "json_output_file=\"./model/iML1515_irr_enz_constraint_adj_round1.json\"\n",
    "#The enzyme mass fraction \n",
    "f = 0.406\n",
    "# The total protein fraction in cell.\n",
    "ptot = 0.56 \n",
    "# The approximated average saturation of enzyme.\n",
    "#sigma = 0.5 \n",
    "sigma = 1#kcapp数据，饱和度为1\n",
    "# Lowerbound  of enzyme concentration constraint. \n",
    "lowerbound = 0   \n",
    "upperbound = round(ptot * f * sigma, 3)\n",
    "\n",
    "trans_model2enz_json_model(model_file, reaction_kcat_mw_file, f, ptot, sigma, lowerbound, upperbound, json_output_file)"
   ]
  },
  {
   "cell_type": "code",
   "execution_count": 75,
   "metadata": {},
   "outputs": [
    {
     "output_type": "stream",
     "name": "stdout",
     "text": [
      "0.47562259024946285\n"
     ]
    }
   ],
   "source": [
    "json_model_path = \"./model/iML1515_irr_enz_constraint_adj_round1.json\"\n",
    "enz_model = get_enzyme_constraint_model(json_model_path)\n",
    "enz_model_pfba_solution = cobra.flux_analysis.pfba(enz_model)\n",
    "enz_model_pfba_solution = enz_model_pfba_solution.to_frame()\n",
    "enz_model_pfba_solution.to_csv('./analysis/ECMpy_kapp_adj_round1_solution_df_pfba.csv')\n",
    "print(enz_model_pfba_solution.fluxes['BIOMASS_Ec_iML1515_core_75p37M'])"
   ]
  },
  {
   "cell_type": "code",
   "execution_count": 76,
   "metadata": {},
   "outputs": [
    {
     "output_type": "stream",
     "name": "stdout",
     "text": [
      "['AKGDH', 'MALS', 'ME2', 'SUCOAS_reverse', 'ICL', 'SUCDi', 'MDH']\n"
     ]
    }
   ],
   "source": [
    "c13reaction_file = './data/C13reaction.csv' \n",
    "c13reaction = pd.read_csv(c13reaction_file, index_col=0)\n",
    "c13reaction = list(c13reaction.index)\n",
    "\n",
    "enz_model_pfba_solution_select = enz_model_pfba_solution[enz_model_pfba_solution['fluxes']>0]\n",
    "enz_model_pfba_solution_select_id = list(enz_model_pfba_solution_select.index)\n",
    "c13reaction_2_enz_model_diff=list(set(c13reaction).difference(set(enz_model_pfba_solution_select_id)))\n",
    "print (c13reaction_2_enz_model_diff)"
   ]
  },
  {
   "source": [
    "Calibration kcat according c13 reaction list"
   ],
   "cell_type": "markdown",
   "metadata": {}
  },
  {
   "cell_type": "code",
   "execution_count": 77,
   "metadata": {},
   "outputs": [
    {
     "output_type": "stream",
     "name": "stdout",
     "text": [
      "['CS', 'ICDHyr', 'MDH', 'FUM', 'ICL', 'MALS', 'AKGDH', 'ME2', 'SUCDi', 'ACONTb', 'ACONTa', 'SUCOAS_reverse']\n"
     ]
    }
   ],
   "source": [
    "import numpy as np\n",
    "c13reaction_file = './data/C13reaction.csv' \n",
    "c13reaction = pd.read_csv(c13reaction_file, index_col=0)\n",
    "c13reaction = list(c13reaction.index)\n",
    "Orimodel_solution_df_pfba = pd.read_csv('./analysis/Orimodel_solution_df_pfba.csv', index_col=0)\n",
    "ECMpy_kapp_adj_round1_solution_df_pfba = pd.read_csv('./analysis/ECMpy_kapp_adj_round1_solution_df_pfba.csv', index_col=0)\n",
    "\n",
    "Orimodel_solution_df_pfba_c13_select = pd.DataFrame()\n",
    "for index,row in Orimodel_solution_df_pfba.iterrows():\n",
    "    if index in c13reaction:\n",
    "        Orimodel_solution_df_pfba_c13_select.loc[index,'fluxes'] = row['fluxes']\n",
    "\n",
    "c13reaction_selecet =[]\n",
    "ECMpy_kapp_adj_round1_solution_df_pfba_c13_select = pd.DataFrame()        \n",
    "for index,row in ECMpy_kapp_adj_round1_solution_df_pfba.iterrows():\n",
    "    if index in c13reaction:\n",
    "        if row['fluxes'] == 0:\n",
    "            c13reaction_selecet.append(index)\n",
    "        elif Orimodel_solution_df_pfba_c13_select.loc[index,'fluxes'] >0:\n",
    "            ECMpy_2_Orimodel_ratio = abs(Orimodel_solution_df_pfba_c13_select.loc[index,'fluxes']-row['fluxes'])/np.max([Orimodel_solution_df_pfba_c13_select.loc[index,'fluxes'],row['fluxes']])\n",
    "            if ECMpy_2_Orimodel_ratio>0.8:\n",
    "                #pass\n",
    "                #print(index,Orimodel_solution_df_pfba_c13_select.loc[index,'fluxes'],row['fluxes'])\n",
    "                #print(index,ECMpy_2_Orimodel_ratio)\n",
    "                c13reaction_selecet.append(index)\n",
    "\n",
    "print(c13reaction_selecet)"
   ]
  },
  {
   "cell_type": "code",
   "execution_count": 78,
   "metadata": {},
   "outputs": [
    {
     "output_type": "stream",
     "name": "stdout",
     "text": [
      "['CS', 'ICDHyr', 'MDH', 'FUM', 'ICL', 'MALS', 'ME2', 'SUCDi', 'ACONTb', 'ACONTa', 'SUCOAS_reverse']\n"
     ]
    }
   ],
   "source": [
    "reaction_kcat_mw_file = \"./analysis/reaction_kapp_change.csv\"\n",
    "reaction_kapp_change_file = \"./analysis/reaction_kapp_change_c13.csv\"\n",
    "#TCA_reactions=['CS','ACONTa','ACONTb','ICDHyr','MALS', 'MDH', 'ICL', 'SUCOAS_reverse', 'SUCDi', 'AKGDH']\n",
    "\n",
    "change_reaction_list_round1=change_reaction_kcat_by_autopacmen(c13reaction_selecet,reaction_kcat_mw_file,reaction_kapp_change_file)\n",
    "print(change_reaction_list_round1)"
   ]
  },
  {
   "cell_type": "code",
   "execution_count": 79,
   "metadata": {},
   "outputs": [],
   "source": [
    "model_file = './data/iML1515.xml' \n",
    "reaction_kcat_mw_file=\"./analysis/reaction_kapp_change_c13.csv\"\n",
    "json_output_file=\"./model/iML1515_irr_enz_constraint_adj_round2.json\"\n",
    "f = 0.406\n",
    "ptot = 0.56 \n",
    "sigma = 1\n",
    "lowerbound = 0   \n",
    "upperbound = round(ptot * f * sigma, 3)\n",
    "\n",
    "trans_model2enz_json_model(model_file, reaction_kcat_mw_file, f, ptot, sigma, lowerbound, upperbound, json_output_file)"
   ]
  },
  {
   "cell_type": "code",
   "execution_count": 80,
   "metadata": {},
   "outputs": [
    {
     "output_type": "stream",
     "name": "stdout",
     "text": [
      "0.5218184616037337\n"
     ]
    }
   ],
   "source": [
    "json_model_path = \"./model/iML1515_irr_enz_constraint_adj_round2.json\"\n",
    "fluxes_outfile = './analysis/ECMpy_kapp_adj_round2_solution_df_pfba.csv'\n",
    "enz_model=get_enzyme_constraint_model(json_model_path)\n",
    "enz_model_pfba_solution = get_fluxes_detail_in_model(enz_model,fluxes_outfile)\n",
    "print(enz_model_pfba_solution.fluxes['BIOMASS_Ec_iML1515_core_75p37M'])"
   ]
  },
  {
   "cell_type": "code",
   "execution_count": 81,
   "metadata": {},
   "outputs": [
    {
     "output_type": "stream",
     "name": "stdout",
     "text": [
      "['PYK', 'ME2', 'PTAr', 'PPC', 'ACKr_reverse']\n"
     ]
    }
   ],
   "source": [
    "c13reaction_file = './data/C13reaction.csv' \n",
    "c13reaction = pd.read_csv(c13reaction_file, index_col=0)\n",
    "c13reaction = list(c13reaction.index)\n",
    "\n",
    "enz_model_pfba_solution_select = enz_model_pfba_solution[enz_model_pfba_solution['fluxes']>0]\n",
    "enz_model_pfba_solution_select_id = list(enz_model_pfba_solution_select.index)\n",
    "c13reaction_2_enz_model_diff=list(set(c13reaction).difference(set(enz_model_pfba_solution_select_id)))\n",
    "print (c13reaction_2_enz_model_diff)"
   ]
  },
  {
   "source": [
    "Calibration kcat according Enzyme usage "
   ],
   "cell_type": "markdown",
   "metadata": {}
  },
  {
   "cell_type": "code",
   "execution_count": 82,
   "metadata": {},
   "outputs": [
    {
     "output_type": "execute_result",
     "data": {
      "text/plain": [
       "                    kcat_mw       flux  enz useage  enz ratio\n",
       "NADH16pp        1295.628496  23.248043    0.017943   0.079046\n",
       "RBFSa              0.037137   0.000465    0.012534   0.055215\n",
       "KARA2             12.484042   0.151603    0.012144   0.053497\n",
       "KARA1_reverse     38.284397   0.456261    0.011918   0.052501\n",
       "ENO              946.228175  10.432555    0.011025   0.048570\n",
       "PDH              297.911591   3.038282    0.010199   0.044928\n",
       "PFL              580.563567   5.479474    0.009438   0.041578\n",
       "METS              13.180039   0.080547    0.006111   0.026922\n",
       "CS              1181.101327   5.263931    0.004457   0.019633\n",
       "FBA              478.270272   2.101974    0.004395   0.019361\n",
       "GHMT2r           127.105741   0.553586    0.004355   0.019186\n",
       "GLNS             192.219988   0.817406    0.004252   0.018733\n",
       "PGI             2077.044032   8.358886    0.004024   0.017729\n",
       "AKGDH            823.344236   3.158177    0.003836   0.016898\n",
       "METAT              0.128720   0.000469    0.003640   0.016037\n",
       "ATPS4rpp       12744.657385  42.822438    0.003360   0.014802\n",
       "PGK_reverse     3677.203769  11.300433    0.003073   0.013538\n",
       "ARGSS             50.502621   0.154350    0.003056   0.013464\n",
       "GTPCI              0.115986   0.000349    0.003010   0.013259\n",
       "MOHMT              0.127490   0.000352    0.002759   0.012153\n",
       "F6PA            2852.623424   6.896853    0.002418   0.010651\n",
       "PGM_reverse     4323.713432  10.432555    0.002413   0.010629"
      ],
      "text/html": "<div>\n<style scoped>\n    .dataframe tbody tr th:only-of-type {\n        vertical-align: middle;\n    }\n\n    .dataframe tbody tr th {\n        vertical-align: top;\n    }\n\n    .dataframe thead th {\n        text-align: right;\n    }\n</style>\n<table border=\"1\" class=\"dataframe\">\n  <thead>\n    <tr style=\"text-align: right;\">\n      <th></th>\n      <th>kcat_mw</th>\n      <th>flux</th>\n      <th>enz useage</th>\n      <th>enz ratio</th>\n    </tr>\n  </thead>\n  <tbody>\n    <tr>\n      <th>NADH16pp</th>\n      <td>1295.628496</td>\n      <td>23.248043</td>\n      <td>0.017943</td>\n      <td>0.079046</td>\n    </tr>\n    <tr>\n      <th>RBFSa</th>\n      <td>0.037137</td>\n      <td>0.000465</td>\n      <td>0.012534</td>\n      <td>0.055215</td>\n    </tr>\n    <tr>\n      <th>KARA2</th>\n      <td>12.484042</td>\n      <td>0.151603</td>\n      <td>0.012144</td>\n      <td>0.053497</td>\n    </tr>\n    <tr>\n      <th>KARA1_reverse</th>\n      <td>38.284397</td>\n      <td>0.456261</td>\n      <td>0.011918</td>\n      <td>0.052501</td>\n    </tr>\n    <tr>\n      <th>ENO</th>\n      <td>946.228175</td>\n      <td>10.432555</td>\n      <td>0.011025</td>\n      <td>0.048570</td>\n    </tr>\n    <tr>\n      <th>PDH</th>\n      <td>297.911591</td>\n      <td>3.038282</td>\n      <td>0.010199</td>\n      <td>0.044928</td>\n    </tr>\n    <tr>\n      <th>PFL</th>\n      <td>580.563567</td>\n      <td>5.479474</td>\n      <td>0.009438</td>\n      <td>0.041578</td>\n    </tr>\n    <tr>\n      <th>METS</th>\n      <td>13.180039</td>\n      <td>0.080547</td>\n      <td>0.006111</td>\n      <td>0.026922</td>\n    </tr>\n    <tr>\n      <th>CS</th>\n      <td>1181.101327</td>\n      <td>5.263931</td>\n      <td>0.004457</td>\n      <td>0.019633</td>\n    </tr>\n    <tr>\n      <th>FBA</th>\n      <td>478.270272</td>\n      <td>2.101974</td>\n      <td>0.004395</td>\n      <td>0.019361</td>\n    </tr>\n    <tr>\n      <th>GHMT2r</th>\n      <td>127.105741</td>\n      <td>0.553586</td>\n      <td>0.004355</td>\n      <td>0.019186</td>\n    </tr>\n    <tr>\n      <th>GLNS</th>\n      <td>192.219988</td>\n      <td>0.817406</td>\n      <td>0.004252</td>\n      <td>0.018733</td>\n    </tr>\n    <tr>\n      <th>PGI</th>\n      <td>2077.044032</td>\n      <td>8.358886</td>\n      <td>0.004024</td>\n      <td>0.017729</td>\n    </tr>\n    <tr>\n      <th>AKGDH</th>\n      <td>823.344236</td>\n      <td>3.158177</td>\n      <td>0.003836</td>\n      <td>0.016898</td>\n    </tr>\n    <tr>\n      <th>METAT</th>\n      <td>0.128720</td>\n      <td>0.000469</td>\n      <td>0.003640</td>\n      <td>0.016037</td>\n    </tr>\n    <tr>\n      <th>ATPS4rpp</th>\n      <td>12744.657385</td>\n      <td>42.822438</td>\n      <td>0.003360</td>\n      <td>0.014802</td>\n    </tr>\n    <tr>\n      <th>PGK_reverse</th>\n      <td>3677.203769</td>\n      <td>11.300433</td>\n      <td>0.003073</td>\n      <td>0.013538</td>\n    </tr>\n    <tr>\n      <th>ARGSS</th>\n      <td>50.502621</td>\n      <td>0.154350</td>\n      <td>0.003056</td>\n      <td>0.013464</td>\n    </tr>\n    <tr>\n      <th>GTPCI</th>\n      <td>0.115986</td>\n      <td>0.000349</td>\n      <td>0.003010</td>\n      <td>0.013259</td>\n    </tr>\n    <tr>\n      <th>MOHMT</th>\n      <td>0.127490</td>\n      <td>0.000352</td>\n      <td>0.002759</td>\n      <td>0.012153</td>\n    </tr>\n    <tr>\n      <th>F6PA</th>\n      <td>2852.623424</td>\n      <td>6.896853</td>\n      <td>0.002418</td>\n      <td>0.010651</td>\n    </tr>\n    <tr>\n      <th>PGM_reverse</th>\n      <td>4323.713432</td>\n      <td>10.432555</td>\n      <td>0.002413</td>\n      <td>0.010629</td>\n    </tr>\n  </tbody>\n</table>\n</div>"
     },
     "metadata": {},
     "execution_count": 82
    }
   ],
   "source": [
    "f = 0.406\n",
    "ptot = 0.56 \n",
    "sigma = 1\n",
    "enz_total = round(ptot * f * sigma, 3)\n",
    "reaction_flux_file = './analysis/ECMpy_kapp_adj_round2_solution_df_pfba.csv' \n",
    "reaction_kcat_mw_file = \"./analysis/reaction_kapp_change_c13.csv\"\n",
    "reaction_enz_usage_file = './analysis/ECMpy_kapp_adj_round2_reaction_enz_usage_df.csv'\n",
    "\n",
    "reaction_enz_usage_df = get_enzyme_usage(enz_total,reaction_flux_file,reaction_kcat_mw_file,reaction_enz_usage_file)\n",
    "reaction_enz_usage_df.head(22)"
   ]
  },
  {
   "cell_type": "code",
   "execution_count": 92,
   "metadata": {},
   "outputs": [
    {
     "output_type": "stream",
     "name": "stdout",
     "text": [
      "['NADH16pp', 'RBFSa', 'KARA2', 'KARA1_reverse']\n['NADH16pp', 'RBFSa', 'KARA2', 'KARA1_reverse']\n"
     ]
    }
   ],
   "source": [
    "select_reaction = list(reaction_enz_usage_df[reaction_enz_usage_df['enz ratio']>0.01].index)#more than 1%\n",
    "print(select_reaction)\n",
    "reaction_kcat_mw_file = \"./analysis/reaction_kapp_change_c13.csv\"\n",
    "reaction_kapp_change_file = \"./analysis/reaction_kapp_change_c13_enzuse.csv\"\n",
    "\n",
    "change_reaction_list=change_reaction_kcat_by_autopacmen(select_reaction,reaction_kcat_mw_file,reaction_kapp_change_file)\n",
    "print(change_reaction_list)"
   ]
  },
  {
   "cell_type": "code",
   "execution_count": 93,
   "metadata": {},
   "outputs": [],
   "source": [
    "model_file = './data/iML1515.xml' \n",
    "reaction_kcat_mw_file=\"./analysis/reaction_kapp_change_c13_enzuse.csv\"\n",
    "json_output_file=\"./model/iML1515_irr_enz_constraint_adj_round3.json\"\n",
    "f = 0.406\n",
    "ptot = 0.56 \n",
    "sigma = 1\n",
    "lowerbound = 0   \n",
    "upperbound = round(ptot * f * sigma, 3)\n",
    "\n",
    "trans_model2enz_json_model(model_file, reaction_kcat_mw_file, f, ptot, sigma, lowerbound, upperbound, json_output_file)"
   ]
  },
  {
   "cell_type": "code",
   "execution_count": 94,
   "metadata": {},
   "outputs": [
    {
     "output_type": "stream",
     "name": "stdout",
     "text": [
      "0.6166064886734433\n"
     ]
    }
   ],
   "source": [
    "json_model_path = \"./model/iML1515_irr_enz_constraint_adj_round3.json\"\n",
    "fluxes_outfile = './analysis/ECMpy_kapp_adj_round3_solution_df_pfba.csv'\n",
    "enz_model=get_enzyme_constraint_model(json_model_path)\n",
    "enz_model_pfba_solution = get_fluxes_detail_in_model(enz_model,fluxes_outfile)\n",
    "print(enz_model_pfba_solution.fluxes['BIOMASS_Ec_iML1515_core_75p37M'])"
   ]
  },
  {
   "cell_type": "code",
   "execution_count": 95,
   "metadata": {},
   "outputs": [
    {
     "output_type": "stream",
     "name": "stdout",
     "text": [
      "['ACKr_reverse', 'ME2', 'PTAr', 'PPC']\n"
     ]
    }
   ],
   "source": [
    "c13reaction_file = './data/C13reaction.csv' \n",
    "c13reaction = pd.read_csv(c13reaction_file, index_col=0)\n",
    "c13reaction = list(c13reaction.index)\n",
    "\n",
    "enz_model_pfba_solution_select = enz_model_pfba_solution[enz_model_pfba_solution['fluxes']>0]\n",
    "enz_model_pfba_solution_select_id = list(enz_model_pfba_solution_select.index)\n",
    "c13reaction_2_enz_model_diff=list(set(c13reaction).difference(set(enz_model_pfba_solution_select_id)))\n",
    "print (c13reaction_2_enz_model_diff)"
   ]
  },
  {
   "cell_type": "code",
   "execution_count": null,
   "metadata": {},
   "outputs": [],
   "source": []
  },
  {
   "cell_type": "code",
   "execution_count": 91,
   "metadata": {},
   "outputs": [
    {
     "output_type": "stream",
     "name": "stdout",
     "text": [
      "['PDH']\n",
      "0.7411490664825975\n",
      "['ME2', 'PTAr', 'PPC', 'ACKr_reverse', 'TKT2']\n"
     ]
    }
   ],
   "source": [
    "reaction_kcat_mw_file = \"./analysis/reaction_kapp_change_c13_enzuse.csv\"\n",
    "reaction_kapp_change_file = \"./analysis/reaction_kapp_change_c13_enzuse_manual.csv\"\n",
    "select_reaction=['PDH']\n",
    "\n",
    "change_reaction_list_round1=change_reaction_kcat_by_fold(select_reaction,5,reaction_kcat_mw_file,reaction_kapp_change_file)\n",
    "print(change_reaction_list_round1)\n",
    "\n",
    "model_file = './data/iML1515.xml' \n",
    "reaction_kcat_mw_file=\"./analysis/reaction_kapp_change_c13_enzuse_manual.csv\"\n",
    "json_output_file=\"./model/iML1515_irr_enz_constraint_adj_manual.json\"\n",
    "#The enzyme mass fraction \n",
    "f = 0.406\n",
    "# The total protein fraction in cell.\n",
    "ptot = 0.56 \n",
    "# The approximated average saturation of enzyme.\n",
    "#sigma = 0.5 \n",
    "sigma = 1#kcapp数据，饱和度为1\n",
    "# Lowerbound  of enzyme concentration constraint. \n",
    "lowerbound = 0   \n",
    "upperbound = round(ptot * f * sigma, 3)\n",
    "\n",
    "trans_model2enz_json_model(model_file, reaction_kcat_mw_file, f, ptot, sigma, lowerbound, upperbound, json_output_file)\n",
    "\n",
    "json_model_path = \"./model/iML1515_irr_enz_constraint_adj_manual.json\"\n",
    "fluxes_outfile = './analysis/ECMpy_kapp_adj_manual_solution_df_pfba.csv'\n",
    "enz_model=get_enzyme_constraint_model(json_model_path)\n",
    "enz_model_pfba_solution = get_fluxes_detail_in_model(enz_model,fluxes_outfile)\n",
    "print(enz_model_pfba_solution.fluxes['BIOMASS_Ec_iML1515_core_75p37M'])\n",
    "\n",
    "c13reaction_file = './data/C13reaction.csv' \n",
    "c13reaction = pd.read_csv(c13reaction_file, index_col=0)\n",
    "c13reaction = list(c13reaction.index)\n",
    "\n",
    "enz_model_pfba_solution_select = enz_model_pfba_solution[enz_model_pfba_solution['fluxes']>0]\n",
    "enz_model_pfba_solution_select_id = list(enz_model_pfba_solution_select.index)\n",
    "c13reaction_2_enz_model_diff=list(set(c13reaction).difference(set(enz_model_pfba_solution_select_id)))\n",
    "print (c13reaction_2_enz_model_diff)"
   ]
  },
  {
   "source": [
    "# Step4: Solveing enzyme concentration constraint by COBRApy."
   ],
   "cell_type": "markdown",
   "metadata": {}
  },
  {
   "cell_type": "code",
   "execution_count": 21,
   "metadata": {},
   "outputs": [
    {
     "output_type": "execute_result",
     "data": {
      "text/plain": [
       "0.7901116510198356"
      ]
     },
     "metadata": {},
     "execution_count": 21
    }
   ],
   "source": [
    "#run enzyme constraint metabolic model\n",
    "json_model_path=\"./model/iML1515_irr_enz_constraint_adj_round2.json\"\n",
    "enz_model=get_enzyme_constraint_model(json_model_path)\n",
    "pfba_solution = cobra.flux_analysis.pfba(enz_model)\n",
    "pfba_solution_df = pfba_solution.to_frame()\n",
    "#pfba_solution_df.to_csv('./analysis/ECMpy_solution_df_pfba.csv')\n",
    "pfba_solution.fluxes['BIOMASS_Ec_iML1515_core_75p37M']"
   ]
  },
  {
   "cell_type": "code",
   "execution_count": 22,
   "metadata": {},
   "outputs": [
    {
     "output_type": "execute_result",
     "data": {
      "text/plain": [
       "0.8769972144269698"
      ]
     },
     "metadata": {},
     "execution_count": 22
    }
   ],
   "source": [
    "#run genome-scale metabolic model\n",
    "norm_model=cobra.io.json.load_json_model(json_model_path)\n",
    "pfba_solution = cobra.flux_analysis.pfba(norm_model)\n",
    "pfba_solution_df = pfba_solution.to_frame()\n",
    "#pfba_solution_df.to_csv('./analysis/Orimodel_solution_df_pfba.csv')\n",
    "pfba_solution.fluxes['BIOMASS_Ec_iML1515_core_75p37M']\n"
   ]
  },
  {
   "cell_type": "code",
   "execution_count": null,
   "metadata": {},
   "outputs": [],
   "source": []
  }
 ],
 "metadata": {
  "kernelspec": {
   "name": "Python 3.6.9 64-bit ('enzyme_python': conda)",
   "display_name": "Python 3.6.9 64-bit ('enzyme_python': conda)",
   "metadata": {
    "interpreter": {
     "hash": "f09aca8c570770933bc8e36ab92e2e40def5319b75eec09cb13378d4d93d76ce"
    }
   }
  },
  "language_info": {
   "codemirror_mode": {
    "name": "ipython",
    "version": 3
   },
   "file_extension": ".py",
   "mimetype": "text/x-python",
   "name": "python",
   "nbconvert_exporter": "python",
   "pygments_lexer": "ipython3",
   "version": "3.6.9-final"
  }
 },
 "nbformat": 4,
 "nbformat_minor": 2
}