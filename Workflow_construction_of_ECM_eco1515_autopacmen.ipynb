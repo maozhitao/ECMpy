{
 "cells": [
  {
   "cell_type": "markdown",
   "metadata": {},
   "source": [
    "# Import related pacakages"
   ]
  },
  {
   "cell_type": "code",
   "execution_count": 1,
   "metadata": {},
   "outputs": [],
   "source": [
    "import cobra\n",
    "import sys\n",
    "sys.path.append(r'./code/')\n",
    "from cobrapy_ec_model_function import *"
   ]
  },
  {
   "cell_type": "markdown",
   "metadata": {},
   "source": [
    "# Inputing files"
   ]
  },
  {
   "cell_type": "code",
   "execution_count": 2,
   "metadata": {},
   "outputs": [],
   "source": [
    "# The genome-scale metabolic model for constructing the enzyme-constrained model\n",
    "model_name = './data/iML1515.xml' \n",
    "\n",
    "# Reaction-kcat file.#s-1\n",
    "# eg. AADDGT,49389.2889\n",
    "reaction_kcat_file = \"./data/reaction_autopacmenori.csv\"\n",
    "\n",
    "# Gene-abundance file. \n",
    "# eg. b0789,1.1\n",
    "gene_abundance_file = \"./data/gene_abundance.csv\"\n",
    "\n",
    "# Gene-molecular_weight file. \n",
    "# eg. b0001,thrL,2.13846\n",
    "gene_molecular_weight_file = \"./data/gene_molecular_weight.csv\"\n"
   ]
  },
  {
   "cell_type": "markdown",
   "metadata": {},
   "source": [
    "# Step1: Preprocessing of model"
   ]
  },
  {
   "cell_type": "markdown",
   "metadata": {},
   "source": [
    "The reversible reactions in the GEM model are divided into two irreversible reactions. The input is iML1515 with 2712 reactions. The output is a model with 3375 irreversible reactions."
   ]
  },
  {
   "cell_type": "code",
   "execution_count": 3,
   "metadata": {},
   "outputs": [
    {
     "output_type": "execute_result",
     "data": {
      "text/plain": [
       "<Model iML1515 at 0x281f41d70b8>"
      ],
      "text/html": "\n        <table>\n            <tr>\n                <td><strong>Name</strong></td>\n                <td>iML1515</td>\n            </tr><tr>\n                <td><strong>Memory address</strong></td>\n                <td>0x0281f41d70b8</td>\n            </tr><tr>\n                <td><strong>Number of metabolites</strong></td>\n                <td>1877</td>\n            </tr><tr>\n                <td><strong>Number of reactions</strong></td>\n                <td>3375</td>\n            </tr><tr>\n                <td><strong>Number of groups</strong></td>\n                <td>38</td>\n            </tr><tr>\n                <td><strong>Objective expression</strong></td>\n                <td>1.0*BIOMASS_Ec_iML1515_core_75p37M - 1.0*BIOMASS_Ec_iML1515_core_75p37M_reverse_35685</td>\n            </tr><tr>\n                <td><strong>Compartments</strong></td>\n                <td>cytosol, extracellular space, periplasm</td>\n            </tr>\n          </table>"
     },
     "metadata": {},
     "execution_count": 3
    }
   ],
   "source": [
    "model = cobra.io.read_sbml_model(model_name)\n",
    "convert_to_irreversible(model)\n",
    "model"
   ]
  },
  {
   "cell_type": "markdown",
   "metadata": {},
   "source": [
    "# Step2: Retrieving enzyme kinetics and proteomics data"
   ]
  },
  {
   "cell_type": "markdown",
   "metadata": {},
   "source": [
    "The inputs are GEM model. The outputs are 'genes' and 'gpr_relationship' data in the iML1515."
   ]
  },
  {
   "cell_type": "code",
   "execution_count": 4,
   "metadata": {},
   "outputs": [],
   "source": [
    "[genes,gpr_relationship] = get_genes_and_gpr(model)"
   ]
  },
  {
   "cell_type": "markdown",
   "metadata": {},
   "source": [
    "Get the molecular weight of the enzyme (MW) according to the file of all_reaction_GPR.csv, which obtained from the previous step (gpr_relationship, ./analysis/all_reaction_GPR.csv). We need to manually correct the error of the gene_reaction_rule of a small amount of reactions in iML1515 (See Supplementary Table S1 for details), and also need to manually get the subunit of each protein from EcoCyc."
   ]
  },
  {
   "cell_type": "code",
   "execution_count": 5,
   "metadata": {},
   "outputs": [],
   "source": [
    "# reaction-gene-subunit-MW file. \n",
    "# eg. ALATA_D2,D-alanine transaminase,b2551 or b0870,45.31659 or 36.49471 ,2 or 4 \n",
    "reaction_gene_subunit_MW = \"./data/reaction_gene_subunit_MW.csv\"\n",
    "reaction_mw = calculate_reaction_mw(reaction_gene_subunit_MW)"
   ]
  },
  {
   "cell_type": "markdown",
   "metadata": {},
   "source": [
    "Calculate kcat/MW. The inputs are 'reaction_kcat' and 'reaction_MW' data for calculating the kcat/MW (When the reaction is catalyzed by several isozymes, the maximum is retained)."
   ]
  },
  {
   "cell_type": "code",
   "execution_count": 6,
   "metadata": {},
   "outputs": [],
   "source": [
    "save_file=\"./analysis/reaction_kcat_mw.csv\"\n",
    "reaction_kcat_mw = calculate_reaction_kcat_mw(reaction_kcat_file, reaction_mw, save_file)"
   ]
  },
  {
   "cell_type": "markdown",
   "metadata": {},
   "source": [
    "Calculate f. The input is 'genes' data, 'gene_abundance.csv' and 'gene_molecular_weight.csv'."
   ]
  },
  {
   "cell_type": "code",
   "execution_count": 7,
   "metadata": {
    "tags": []
   },
   "outputs": [
    {
     "output_type": "execute_result",
     "data": {
      "text/plain": [
       "0.4059986079578236"
      ]
     },
     "metadata": {},
     "execution_count": 7
    }
   ],
   "source": [
    "f = calculate_f(genes, gene_abundance_file, gene_molecular_weight_file)\n",
    "f"
   ]
  },
  {
   "cell_type": "markdown",
   "metadata": {},
   "source": [
    "# Step3: Save enzyme concentration constraint model as json file."
   ]
  },
  {
   "cell_type": "code",
   "execution_count": 32,
   "metadata": {},
   "outputs": [],
   "source": [
    "model_file = './data/iML1515.xml' \n",
    "reaction_kcat_mw_file=\"./analysis/reaction_kcat_mw.csv\"\n",
    "json_output_file=\"./model/iML1515_irr_enz_constraint_autopacmen.json\"\n",
    "#The enzyme mass fraction \n",
    "f = 0.406\n",
    "# The total protein fraction in cell.\n",
    "ptot = 0.56 \n",
    "# The approximated average saturation of enzyme.\n",
    "sigma = 0.5 \n",
    "#sigma = 1 #kapp data sigma is 1\n",
    "# Lowerbound  of enzyme concentration constraint. \n",
    "lowerbound = 0   \n",
    "upperbound = round(ptot * f * sigma, 3)\n",
    "\n",
    "trans_model2enz_json_model(model_file, reaction_kcat_mw_file, f, ptot, sigma, lowerbound, upperbound, json_output_file)"
   ]
  },
  {
   "cell_type": "code",
   "execution_count": 34,
   "metadata": {},
   "outputs": [
    {
     "output_type": "stream",
     "name": "stdout",
     "text": [
      "0.3438611093118405\n",
      "0.8769972144269698\n"
     ]
    }
   ],
   "source": [
    "json_model_path=\"./model/iML1515_irr_enz_constraint_autopacmen.json\"\n",
    "enz_model=get_enzyme_constraint_model(json_model_path)\n",
    "pfba_solution = cobra.flux_analysis.pfba(enz_model)\n",
    "pfba_solution_df = pfba_solution.to_frame()\n",
    "pfba_solution_df.to_csv('./analysis/ECMpy_autopacmenori_solution_df_pfba.csv')\n",
    "print(pfba_solution.fluxes['BIOMASS_Ec_iML1515_core_75p37M'])\n",
    "\n",
    "norm_model = cobra.io.json.load_json_model(json_model_path)\n",
    "norm_model_pfba_solution = cobra.flux_analysis.pfba(norm_model)\n",
    "norm_model_pfba_solution_df = norm_model_pfba_solution.to_frame()\n",
    "norm_model_pfba_solution_df.to_csv('./analysis/Orimodel_solution_df_pfba.csv')\n",
    "print(norm_model_pfba_solution_df.fluxes['BIOMASS_Ec_iML1515_core_75p37M'])"
   ]
  },
  {
   "source": [
    "# Step4: Calibration parameters"
   ],
   "cell_type": "markdown",
   "metadata": {}
  },
  {
   "source": [
    "Select calibration reaction"
   ],
   "cell_type": "markdown",
   "metadata": {}
  },
  {
   "cell_type": "code",
   "execution_count": 35,
   "metadata": {},
   "outputs": [
    {
     "output_type": "execute_result",
     "data": {
      "text/plain": [
       "               biomass_diff  biomass_diff_ratio\n",
       "KARA1_reverse      0.566050            0.645441\n",
       "ATPS4rpp           0.515047            0.587284\n",
       "PDH                0.015506            0.017681\n",
       "PSERT              0.008481            0.009670\n",
       "AKGDH              0.001017            0.001160"
      ],
      "text/html": "<div>\n<style scoped>\n    .dataframe tbody tr th:only-of-type {\n        vertical-align: middle;\n    }\n\n    .dataframe tbody tr th {\n        vertical-align: top;\n    }\n\n    .dataframe thead th {\n        text-align: right;\n    }\n</style>\n<table border=\"1\" class=\"dataframe\">\n  <thead>\n    <tr style=\"text-align: right;\">\n      <th></th>\n      <th>biomass_diff</th>\n      <th>biomass_diff_ratio</th>\n    </tr>\n  </thead>\n  <tbody>\n    <tr>\n      <th>KARA1_reverse</th>\n      <td>0.566050</td>\n      <td>0.645441</td>\n    </tr>\n    <tr>\n      <th>ATPS4rpp</th>\n      <td>0.515047</td>\n      <td>0.587284</td>\n    </tr>\n    <tr>\n      <th>PDH</th>\n      <td>0.015506</td>\n      <td>0.017681</td>\n    </tr>\n    <tr>\n      <th>PSERT</th>\n      <td>0.008481</td>\n      <td>0.009670</td>\n    </tr>\n    <tr>\n      <th>AKGDH</th>\n      <td>0.001017</td>\n      <td>0.001160</td>\n    </tr>\n  </tbody>\n</table>\n</div>"
     },
     "metadata": {},
     "execution_count": 35
    }
   ],
   "source": [
    "reaction_kcat_mw_file = \"./analysis/reaction_kcat_mw.csv\"\n",
    "json_model_path = \"./model/iML1515_irr_enz_constraint_autopacmen.json\"\n",
    "enzyme_amount = upperbound\n",
    "percentage = 0.1 #10%\n",
    "reaction_biomass_outfile = './analysis/reaction_biomass_autopacmen.csv'\n",
    "select_value = 0.001\n",
    "df_reaction_select = select_calibration_reaction(reaction_kcat_mw_file, json_model_path, enzyme_amount, percentage, reaction_biomass_outfile, select_value)\n",
    "df_reaction_select"
   ]
  },
  {
   "source": [
    "Calibration kcat"
   ],
   "cell_type": "markdown",
   "metadata": {}
  },
  {
   "cell_type": "code",
   "execution_count": 37,
   "metadata": {},
   "outputs": [],
   "source": [
    "def calibration_kcat_kapp(need_change_reaction, reaction_kcat_mw_file, json_model_path, change_kapp_file, reaction_kapp_change_file):\n",
    "    reaction_kappori = pd.read_csv(reaction_kcat_mw_file, index_col=0)\n",
    "    kcat_data_colect_file=\"./data/kcat_data_colect.csv\"\n",
    "    kcat_data_colect = pd.read_csv(kcat_data_colect_file, index_col=0)\n",
    "    norm_model=cobra.io.json.load_json_model(json_model_path)\n",
    "    norm_biomass=norm_model.slim_optimize() \n",
    "    round_1_reaction_kapp_change = pd.DataFrame()\n",
    "    for eachreaction in need_change_reaction:\n",
    "        kcat_ori = reaction_kappori.loc[eachreaction,'kcat']\n",
    "        kcat_smoment_adj = kcat_data_colect.loc[eachreaction, 'kapp'] * 3600\n",
    "        if kcat_ori < kcat_smoment_adj:\n",
    "            reaction_kappori.loc[eachreaction,'kcat'] = kcat_smoment_adj\n",
    "        reaction_kappori.loc[eachreaction, 'kcat_MW'] = reaction_kappori.loc[eachreaction, 'kcat'] / reaction_kappori.loc[eachreaction,'MW']\n",
    "        for r in norm_model.reactions:\n",
    "            with norm_model as model:\n",
    "                if r.id == eachreaction:\n",
    "                    r.bounds = (0, reaction_kappori.loc[eachreaction, 'kcat_MW']*0.0228)\n",
    "                    round_1_reaction_kapp_change.loc[eachreaction,'kcat_ori'] = kcat_ori\n",
    "                    round_1_reaction_kapp_change.loc[eachreaction,'kcat_change'] = reaction_kappori.loc[eachreaction,'kcat']\n",
    "                    round_1_reaction_kapp_change.loc[eachreaction,'MW'] = reaction_kappori.loc[eachreaction,'MW']\n",
    "                    round_1_reaction_kapp_change.loc[eachreaction,'kcat_mw_new'] = reaction_kappori.loc[eachreaction, 'kcat_MW']\n",
    "                    round_1_reaction_kapp_change.loc[eachreaction,'norm_biomass'] = norm_biomass\n",
    "                    round_1_reaction_kapp_change.loc[eachreaction,'new_biomass'] = model.slim_optimize()\n",
    "\n",
    "\n",
    "    round_1_reaction_kapp_change.to_csv(change_kapp_file)\n",
    "    reaction_kappori.to_csv(reaction_kapp_change_file)\n"
   ]
  },
  {
   "cell_type": "code",
   "execution_count": 38,
   "metadata": {},
   "outputs": [],
   "source": [
    "reaction_kcat_mw_file = \"./analysis/reaction_kcat_mw.csv\"\n",
    "adj_kcat_title = 'kapp'#'smoment_no_adj_kcat'#'kcat_GO'#'smoment_adj_kcat'#\n",
    "change_kapp_file = \"./analysis/reaction_autopacmen_change_round_1_cb.csv\"\n",
    "reaction_kapp_change_file = \"./analysis/reaction_autopacmen_change.csv\"\n",
    "need_change_reaction=list(df_reaction_select.index)\n",
    "\n",
    "calibration_kcat_kapp(need_change_reaction, reaction_kcat_mw_file, json_model_path, change_kapp_file, reaction_kapp_change_file)\n"
   ]
  },
  {
   "cell_type": "code",
   "execution_count": 39,
   "metadata": {},
   "outputs": [],
   "source": [
    "model_file = './data/iML1515.xml' \n",
    "reaction_kcat_mw_file=\"./analysis/reaction_autopacmen_change.csv\"\n",
    "json_output_file=\"./model/iML1515_irr_enz_constraint_autopacmen_adj_round1.json\"\n",
    "#The enzyme mass fraction \n",
    "f = 0.406\n",
    "# The total protein fraction in cell.\n",
    "ptot = 0.56 \n",
    "# The approximated average saturation of enzyme.\n",
    "sigma = 0.5 \n",
    "#sigma = 1#kcapp数据，饱和度为1\n",
    "# Lowerbound  of enzyme concentration constraint. \n",
    "lowerbound = 0   \n",
    "upperbound = round(ptot * f * sigma, 3)\n",
    "\n",
    "trans_model2enz_json_model(model_file, reaction_kcat_mw_file, f, ptot, sigma, lowerbound, upperbound, json_output_file)"
   ]
  },
  {
   "cell_type": "code",
   "execution_count": 40,
   "metadata": {},
   "outputs": [
    {
     "output_type": "stream",
     "name": "stdout",
     "text": [
      "0.5915085370429086\n"
     ]
    }
   ],
   "source": [
    "json_model_path = \"./model/iML1515_irr_enz_constraint_autopacmen_adj_round1.json\"\n",
    "enz_model = get_enzyme_constraint_model(json_model_path)\n",
    "enz_model_pfba_solution = cobra.flux_analysis.pfba(enz_model)\n",
    "enz_model_pfba_solution = enz_model_pfba_solution.to_frame()\n",
    "enz_model_pfba_solution.to_csv('./analysis/ECMpy_autopacmen_adj_round1_solution_df_pfba.csv')\n",
    "print(enz_model_pfba_solution.fluxes['BIOMASS_Ec_iML1515_core_75p37M'])"
   ]
  },
  {
   "source": [
    "Compare with C13 data"
   ],
   "cell_type": "markdown",
   "metadata": {}
  },
  {
   "cell_type": "code",
   "execution_count": 41,
   "metadata": {},
   "outputs": [
    {
     "output_type": "stream",
     "name": "stdout",
     "text": [
      "['MDH', 'ICL', 'PGI', 'SUCDi', 'PFK', 'PFL', 'TPI', 'AKGDH', 'PTAr', 'ACKr_reverse', 'PDH', 'SUCOAS_reverse', 'FBA']\n"
     ]
    }
   ],
   "source": [
    "c13reaction_file = './data/C13reaction.csv' \n",
    "c13reaction = pd.read_csv(c13reaction_file, index_col=0)\n",
    "c13reaction = list(c13reaction.index)\n",
    "\n",
    "enz_model_pfba_solution_select = enz_model_pfba_solution[enz_model_pfba_solution['fluxes']>0]\n",
    "enz_model_pfba_solution_select_id = list(enz_model_pfba_solution_select.index)\n",
    "c13reaction_2_enz_model_diff=list(set(c13reaction).difference(set(enz_model_pfba_solution_select_id)))\n",
    "print (c13reaction_2_enz_model_diff)"
   ]
  },
  {
   "source": [
    "Calibration kcat according c13 reaction list"
   ],
   "cell_type": "markdown",
   "metadata": {}
  },
  {
   "cell_type": "code",
   "execution_count": 42,
   "metadata": {},
   "outputs": [],
   "source": [
    "reaction_kcat_mw_file = \"./analysis/reaction_autopacmen_change.csv\"\n",
    "adj_kcat_title = 'kapp'#'smoment_no_adj_kcat'#'kcat_GO'#'smoment_adj_kcat'\n",
    "change_kapp_file = \"./analysis/reaction_autopacmen_change_round_2_cb.csv\"\n",
    "reaction_kapp_change_file = \"./analysis/reaction_autopacmen_change_c13.csv\"\n",
    "\n",
    "TCA_reactions=['CS','ACONTa','ACONTb','ICDHyr','MALS', 'MDH', 'ICL', 'SUCOAS_reverse', 'SUCDi', 'AKGDH']\n",
    "calibration_kcat(TCA_reactions, reaction_kcat_mw_file, json_model_path, adj_kcat_title, change_kapp_file, reaction_kapp_change_file)\n"
   ]
  },
  {
   "cell_type": "code",
   "execution_count": 43,
   "metadata": {},
   "outputs": [],
   "source": [
    "model_file = './data/iML1515.xml' \n",
    "reaction_kcat_mw_file=\"./analysis/reaction_autopacmen_change_c13.csv\"\n",
    "json_output_file=\"./model/iML1515_irr_enz_constraint_autopacmen_adj_round2.json\"\n",
    "#The enzyme mass fraction \n",
    "f = 0.406\n",
    "# The total protein fraction in cell.\n",
    "ptot = 0.56 \n",
    "# The approximated average saturation of enzyme.\n",
    "sigma = 0.5 \n",
    "#sigma = 1#kcapp数据，饱和度为1\n",
    "# Lowerbound  of enzyme concentration constraint. \n",
    "lowerbound = 0   \n",
    "upperbound = round(ptot * f * sigma, 3)\n",
    "\n",
    "trans_model2enz_json_model(model_file, reaction_kcat_mw_file, f, ptot, sigma, lowerbound, upperbound, json_output_file)"
   ]
  },
  {
   "cell_type": "code",
   "execution_count": 44,
   "metadata": {},
   "outputs": [
    {
     "output_type": "stream",
     "name": "stdout",
     "text": [
      "0.5924444376126025\n"
     ]
    }
   ],
   "source": [
    "json_model_path = \"./model/iML1515_irr_enz_constraint_autopacmen_adj_round2.json\"\n",
    "enz_model = get_enzyme_constraint_model(json_model_path)\n",
    "enz_model_pfba_solution = cobra.flux_analysis.pfba(enz_model)\n",
    "enz_model_pfba_solution = enz_model_pfba_solution.to_frame()\n",
    "enz_model_pfba_solution.to_csv('./analysis/ECMpy_autopacmen_adj_round2_solution_df_pfba.csv')\n",
    "print(enz_model_pfba_solution.fluxes['BIOMASS_Ec_iML1515_core_75p37M'])"
   ]
  },
  {
   "cell_type": "code",
   "execution_count": 45,
   "metadata": {},
   "outputs": [
    {
     "output_type": "stream",
     "name": "stdout",
     "text": [
      "['MDH', 'ICL', 'PGI', 'PFL', 'PFK', 'TPI', 'AKGDH', 'PTAr', 'ACKr_reverse', 'PDH', 'SUCOAS_reverse', 'FBA']\n"
     ]
    }
   ],
   "source": [
    "c13reaction_file = './data/C13reaction.csv' \n",
    "c13reaction = pd.read_csv(c13reaction_file, index_col=0)\n",
    "c13reaction = list(c13reaction.index)\n",
    "\n",
    "enz_model_pfba_solution_select = enz_model_pfba_solution[enz_model_pfba_solution['fluxes']>0]\n",
    "enz_model_pfba_solution_select_id = list(enz_model_pfba_solution_select.index)\n",
    "c13reaction_2_enz_model_diff=list(set(c13reaction).difference(set(enz_model_pfba_solution_select_id)))\n",
    "print (c13reaction_2_enz_model_diff)"
   ]
  },
  {
   "source": [
    "Calibration kcat according Enzyme usage "
   ],
   "cell_type": "markdown",
   "metadata": {}
  },
  {
   "cell_type": "code",
   "execution_count": 46,
   "metadata": {},
   "outputs": [
    {
     "output_type": "execute_result",
     "data": {
      "text/plain": [
       "                    kcat_mw       flux  enz useage  enz ratio\n",
       "KARA1_reverse     38.284397   0.518014    0.013531   0.118690\n",
       "GND             2633.457211  28.453199    0.010805   0.094776\n",
       "TKT2            1156.921394   9.141693    0.007902   0.069314\n",
       "PGL             5091.247502  28.453199    0.005589   0.049023\n",
       "ATPS4rpp       12744.657385  59.553465    0.004673   0.040990\n",
       "PAPSR2            33.787531   0.146619    0.004339   0.038065\n",
       "KARA2             42.209426   0.172122    0.004078   0.035770\n",
       "ENO             2525.688868   8.038974    0.003183   0.027920\n",
       "CYTBO3_4pp     20262.035207  62.559977    0.003088   0.027084\n",
       "GAPD            2950.918009   9.090239    0.003080   0.027022"
      ],
      "text/html": "<div>\n<style scoped>\n    .dataframe tbody tr th:only-of-type {\n        vertical-align: middle;\n    }\n\n    .dataframe tbody tr th {\n        vertical-align: top;\n    }\n\n    .dataframe thead th {\n        text-align: right;\n    }\n</style>\n<table border=\"1\" class=\"dataframe\">\n  <thead>\n    <tr style=\"text-align: right;\">\n      <th></th>\n      <th>kcat_mw</th>\n      <th>flux</th>\n      <th>enz useage</th>\n      <th>enz ratio</th>\n    </tr>\n  </thead>\n  <tbody>\n    <tr>\n      <th>KARA1_reverse</th>\n      <td>38.284397</td>\n      <td>0.518014</td>\n      <td>0.013531</td>\n      <td>0.118690</td>\n    </tr>\n    <tr>\n      <th>GND</th>\n      <td>2633.457211</td>\n      <td>28.453199</td>\n      <td>0.010805</td>\n      <td>0.094776</td>\n    </tr>\n    <tr>\n      <th>TKT2</th>\n      <td>1156.921394</td>\n      <td>9.141693</td>\n      <td>0.007902</td>\n      <td>0.069314</td>\n    </tr>\n    <tr>\n      <th>PGL</th>\n      <td>5091.247502</td>\n      <td>28.453199</td>\n      <td>0.005589</td>\n      <td>0.049023</td>\n    </tr>\n    <tr>\n      <th>ATPS4rpp</th>\n      <td>12744.657385</td>\n      <td>59.553465</td>\n      <td>0.004673</td>\n      <td>0.040990</td>\n    </tr>\n    <tr>\n      <th>PAPSR2</th>\n      <td>33.787531</td>\n      <td>0.146619</td>\n      <td>0.004339</td>\n      <td>0.038065</td>\n    </tr>\n    <tr>\n      <th>KARA2</th>\n      <td>42.209426</td>\n      <td>0.172122</td>\n      <td>0.004078</td>\n      <td>0.035770</td>\n    </tr>\n    <tr>\n      <th>ENO</th>\n      <td>2525.688868</td>\n      <td>8.038974</td>\n      <td>0.003183</td>\n      <td>0.027920</td>\n    </tr>\n    <tr>\n      <th>CYTBO3_4pp</th>\n      <td>20262.035207</td>\n      <td>62.559977</td>\n      <td>0.003088</td>\n      <td>0.027084</td>\n    </tr>\n    <tr>\n      <th>GAPD</th>\n      <td>2950.918009</td>\n      <td>9.090239</td>\n      <td>0.003080</td>\n      <td>0.027022</td>\n    </tr>\n  </tbody>\n</table>\n</div>"
     },
     "metadata": {},
     "execution_count": 46
    }
   ],
   "source": [
    "f = 0.406\n",
    "# The total protein fraction in cell.\n",
    "ptot = 0.56 \n",
    "# The approximated average saturation of enzyme.\n",
    "sigma = 0.5 \n",
    "#sigma = 1 #kapp data sigma is 1\n",
    "enz_total = round(ptot * f * sigma, 3)\n",
    "reaction_flux_file = './analysis/ECMpy_autopacmen_adj_round2_solution_df_pfba.csv' \n",
    "reaction_kcat_mw_file = \"./analysis/reaction_autopacmen_change_c13.csv\"\n",
    "reaction_enz_usage_file = './analysis/ECMpy_autopacmen_adj_round2_reaction_enz_usage_df.csv'\n",
    "\n",
    "reaction_enz_usage_df = get_enzyme_usage(enz_total,reaction_flux_file,reaction_kcat_mw_file,reaction_enz_usage_file)\n",
    "reaction_enz_usage_df.head(10)"
   ]
  },
  {
   "cell_type": "code",
   "execution_count": 47,
   "metadata": {},
   "outputs": [],
   "source": [
    "def change_reaction_kcat_by_kapp(select_reaction,reaction_kcat_mw_file,reaction_kapp_change_file):\n",
    "    reaction_kcat_mw = pd.read_csv(reaction_kcat_mw_file, index_col=0)\n",
    "    kcat_data_colect_file=\"./data/kcat_data_colect.csv\"\n",
    "    kcat_data_colect = pd.read_csv(kcat_data_colect_file, index_col=0)\n",
    "\n",
    "    reaction_change_accord_fold=[]\n",
    "    for eachreaction in select_reaction:\n",
    "        if reaction_kcat_mw.loc[eachreaction,'kcat'] < kcat_data_colect.loc[eachreaction, 'kapp']  * 3600:\n",
    "            print(reaction_kcat_mw.loc[eachreaction,'kcat'] ,kcat_data_colect.loc[eachreaction, 'kapp']  * 3600)\n",
    "            reaction_kcat_mw.loc[eachreaction,'kcat'] = kcat_data_colect.loc[eachreaction, 'kapp']  * 3600\n",
    "            reaction_kcat_mw.loc[eachreaction,'kcat_MW'] = kcat_data_colect.loc[eachreaction, 'kapp']  * 3600/reaction_kcat_mw.loc[eachreaction,'MW']\n",
    "            reaction_change_accord_fold.append(eachreaction)\n",
    "        else:\n",
    "            pass\n",
    "    reaction_kcat_mw.to_csv(reaction_kapp_change_file)\n",
    "    return(reaction_change_accord_fold)"
   ]
  },
  {
   "cell_type": "code",
   "execution_count": 48,
   "metadata": {},
   "outputs": [
    {
     "output_type": "stream",
     "name": "stdout",
     "text": [
      "['KARA1_reverse', 'GND', 'TKT2', 'PGL', 'ATPS4rpp', 'PAPSR2', 'KARA2', 'ENO', 'CYTBO3_4pp', 'GAPD', 'PSERT', 'ACGS', 'PPC', 'SADT2', 'ADSS', 'IPPMIa_reverse', 'IPPMIb_reverse', 'ACCOAC', 'ASNS2', 'ACOTA_reverse', 'IPPS', 'CTPS2', 'GLNS']\n84504.66232 324065.525472\n184850.9778 662400.0\n2199.2 25460.248013999997\n18918.68531 820800.0\n20816.8666 102441.80628000002\n7565.532908 11880.0\n9598.568465 106566.407064\n9598.568465 123242.323212\n7282.8 68400.0\n5653.495904 32625.378558\n11161.0094 36000.0\n16891.99541 39600.0\n['TKT2', 'PGL', 'PAPSR2', 'ACGS', 'SADT2', 'ADSS', 'IPPMIa_reverse', 'IPPMIb_reverse', 'ASNS2', 'ACOTA_reverse', 'IPPS', 'CTPS2']\n"
     ]
    }
   ],
   "source": [
    "select_reaction = list(reaction_enz_usage_df[reaction_enz_usage_df['enz ratio']>0.01].index)#more than 2%\n",
    "print(select_reaction)\n",
    "reaction_kcat_mw_file = \"./analysis/reaction_autopacmen_change_c13.csv\"\n",
    "reaction_kapp_change_file = \"./analysis/reaction_autopacmen_change_c13_enzuse.csv\"\n",
    "\n",
    "change_reaction_list=change_reaction_kcat_by_kapp(select_reaction,reaction_kcat_mw_file,reaction_kapp_change_file)\n",
    "print(change_reaction_list)"
   ]
  },
  {
   "cell_type": "code",
   "execution_count": 49,
   "metadata": {},
   "outputs": [],
   "source": [
    "model_file = './data/iML1515.xml' \n",
    "reaction_kcat_mw_file=\"./analysis/reaction_autopacmen_change_c13_enzuse.csv\"\n",
    "json_output_file=\"./model/iML1515_irr_enz_constraint_autopacmen_adj_round3.json\"\n",
    "f = 0.406\n",
    "ptot = 0.56 \n",
    "sigma = 0.5#kcapp数据，饱和度为1\n",
    "lowerbound = 0   \n",
    "upperbound = round(ptot * f * sigma, 3)\n",
    "\n",
    "trans_model2enz_json_model(model_file, reaction_kcat_mw_file, f, ptot, sigma, lowerbound, upperbound, json_output_file)"
   ]
  },
  {
   "cell_type": "code",
   "execution_count": 50,
   "metadata": {},
   "outputs": [
    {
     "output_type": "stream",
     "name": "stdout",
     "text": [
      "0.714282760292871\n"
     ]
    }
   ],
   "source": [
    "json_model_path = \"./model/iML1515_irr_enz_constraint_autopacmen_adj_round3.json\"\n",
    "enz_model = get_enzyme_constraint_model(json_model_path)\n",
    "enz_model_pfba_solution = cobra.flux_analysis.pfba(enz_model)\n",
    "enz_model_pfba_solution = enz_model_pfba_solution.to_frame()\n",
    "enz_model_pfba_solution.to_csv('./analysis/ECMpy_autopacmen_adj_round3_solution_df_pfba.csv')\n",
    "print(enz_model_pfba_solution.fluxes['BIOMASS_Ec_iML1515_core_75p37M'])"
   ]
  },
  {
   "cell_type": "code",
   "execution_count": 51,
   "metadata": {},
   "outputs": [
    {
     "output_type": "stream",
     "name": "stdout",
     "text": [
      "['MDH', 'ICL', 'PGI', 'PFL', 'PFK', 'TPI', 'AKGDH', 'PYK', 'PTAr', 'ACKr_reverse', 'PDH', 'SUCOAS_reverse', 'FBA']\n"
     ]
    }
   ],
   "source": [
    "c13reaction_file = './data/C13reaction.csv' \n",
    "c13reaction = pd.read_csv(c13reaction_file, index_col=0)\n",
    "c13reaction = list(c13reaction.index)\n",
    "\n",
    "enz_model_pfba_solution_select = enz_model_pfba_solution[enz_model_pfba_solution['fluxes']>0]\n",
    "enz_model_pfba_solution_select_id = list(enz_model_pfba_solution_select.index)\n",
    "c13reaction_2_enz_model_diff=list(set(c13reaction).difference(set(enz_model_pfba_solution_select_id)))\n",
    "print (c13reaction_2_enz_model_diff)#酶模型的ID ['PTAr_reverse', 'ACKr']"
   ]
  },
  {
   "source": [
    "# Step4: Solveing enzyme concentration constraint by COBRApy."
   ],
   "cell_type": "markdown",
   "metadata": {}
  },
  {
   "cell_type": "code",
   "execution_count": 24,
   "metadata": {},
   "outputs": [
    {
     "output_type": "execute_result",
     "data": {
      "text/plain": [
       "0.7894976064941117"
      ]
     },
     "metadata": {},
     "execution_count": 24
    }
   ],
   "source": [
    "#run enzyme constraint metabolic model\n",
    "json_model_path=\"./model/iML1515_irr_enz_constraint_adj_round3.json\"\n",
    "enz_model=get_enzyme_constraint_model(json_model_path)\n",
    "pfba_solution = cobra.flux_analysis.pfba(enz_model)\n",
    "pfba_solution_df = pfba_solution.to_frame()\n",
    "#pfba_solution_df.to_csv('./analysis/ECMpy_solution_df_pfba.csv')\n",
    "pfba_solution.fluxes['BIOMASS_Ec_iML1515_core_75p37M']"
   ]
  },
  {
   "cell_type": "code",
   "execution_count": 25,
   "metadata": {},
   "outputs": [
    {
     "output_type": "execute_result",
     "data": {
      "text/plain": [
       "0.8769972144269698"
      ]
     },
     "metadata": {},
     "execution_count": 25
    }
   ],
   "source": [
    "#run genome-scale metabolic model\n",
    "norm_model=cobra.io.json.load_json_model(json_model_path)\n",
    "pfba_solution = cobra.flux_analysis.pfba(norm_model)\n",
    "pfba_solution_df = pfba_solution.to_frame()\n",
    "#pfba_solution_df.to_csv('./analysis/Orimodel_solution_df_pfba.csv')\n",
    "pfba_solution.fluxes['BIOMASS_Ec_iML1515_core_75p37M']\n"
   ]
  },
  {
   "cell_type": "code",
   "execution_count": null,
   "metadata": {},
   "outputs": [],
   "source": []
  }
 ],
 "metadata": {
  "kernelspec": {
   "name": "Python 3.6.9 64-bit ('enzyme_python': conda)",
   "display_name": "Python 3.6.9 64-bit ('enzyme_python': conda)",
   "metadata": {
    "interpreter": {
     "hash": "f09aca8c570770933bc8e36ab92e2e40def5319b75eec09cb13378d4d93d76ce"
    }
   }
  },
  "language_info": {
   "codemirror_mode": {
    "name": "ipython",
    "version": 3
   },
   "file_extension": ".py",
   "mimetype": "text/x-python",
   "name": "python",
   "nbconvert_exporter": "python",
   "pygments_lexer": "ipython3",
   "version": "3.6.9-final"
  }
 },
 "nbformat": 4,
 "nbformat_minor": 2
}